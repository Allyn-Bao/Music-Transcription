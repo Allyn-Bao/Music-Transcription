{
 "cells": [
  {
   "metadata": {
    "ExecuteTime": {
     "end_time": "2024-11-18T05:55:44.851408Z",
     "start_time": "2024-11-18T05:55:44.848229Z"
    }
   },
   "cell_type": "code",
   "source": [
    "import torch\n",
    "import torch.nn as nn\n",
    "from torch.utils.data import Dataset, DataLoader\n",
    "from torchvision import models, transforms\n",
    "\n",
    "import json\n",
    "import numpy as np\n",
    "import pandas as pd\n",
    "from tqdm import tqdm\n",
    "\n",
    "import os\n",
    "import matplotlib.pyplot as plt"
   ],
   "id": "f6c1cfa4fb718d48",
   "outputs": [],
   "execution_count": 106
  },
  {
   "metadata": {
    "ExecuteTime": {
     "end_time": "2024-11-18T05:55:44.883462Z",
     "start_time": "2024-11-18T05:55:44.881090Z"
    }
   },
   "cell_type": "code",
   "source": [
    "# Metal GPU support\n",
    "if torch.backends.mps.is_available():\n",
    "    device = torch.device(\"mps\")  # \"mps\" stands for Metal Performance Shaders (Apple's Metal API)\n",
    "    print(\"Using Apple Metal GPU.\")\n",
    "else:\n",
    "    device = torch.device(\"cpu\")  # Fallback to CPU\n",
    "    print(\"Using CPU.\")"
   ],
   "id": "ff3cff7dedf42463",
   "outputs": [
    {
     "name": "stdout",
     "output_type": "stream",
     "text": [
      "Using Apple Metal GPU.\n"
     ]
    }
   ],
   "execution_count": 107
  },
  {
   "metadata": {},
   "cell_type": "markdown",
   "source": "Dataset",
   "id": "b5f182d331c9a21b"
  },
  {
   "metadata": {
    "ExecuteTime": {
     "end_time": "2024-11-18T05:55:45.135791Z",
     "start_time": "2024-11-18T05:55:45.132064Z"
    }
   },
   "cell_type": "code",
   "source": [
    "# chord name to index mapping\n",
    "chord_to_int = {'A#:maj': 0, 'A:maj': 1, 'A:min': 2, 'Ab:maj': 3, 'Ab:min': 4, 'B:maj': 5, 'B:min': 6, 'Bb:maj': 7, 'Bb:min': 8, 'C#:maj': 9, 'C#:min': 10, 'C:maj': 11, 'C:min': 12, 'Cb:maj': 13, 'D#:maj': 14, 'D#:min': 15, 'D:maj': 16, 'D:min': 17, 'Db:maj': 18, 'Db:min': 19, 'E:maj': 20, 'E:min': 21, 'Eb:maj': 22, 'Eb:min': 23, 'F#:maj': 24, 'F#:min': 25, 'F:maj': 26, 'F:min': 27, 'Fb:maj': 28, 'G#:maj': 29, 'G#:min': 30, 'G:maj': 31, 'G:min': 32, 'Gb:maj': 33, 'Gb:min': 34, 'N': 35, 'X': 36}\n",
    "\n",
    "int_to_chord = {0: 'A#:maj', 1: 'A:maj', 2: 'A:min', 3: 'Ab:maj', 4: 'Ab:min', 5: 'B:maj', 6: 'B:min', 7: 'Bb:maj', 8: 'Bb:min', 9: 'C#:maj', 10: 'C#:min', 11: 'C:maj', 12: 'C:min', 13: 'Cb:maj', 14: 'D#:maj', 15: 'D#:min', 16: 'D:maj', 17: 'D:min', 18: 'Db:maj', 19: 'Db:min', 20: 'E:maj', 21: 'E:min', 22: 'Eb:maj', 23: 'Eb:min', 24: 'F#:maj', 25: 'F#:min', 26: 'F:maj', 27: 'F:min', 28: 'Fb:maj', 29: 'G#:maj', 30: 'G#:min', 31: 'G:maj', 32: 'G:min', 33: 'Gb:maj', 34: 'Gb:min', 35: 'N', 36: 'X'}"
   ],
   "id": "70d4c8dca439b6ef",
   "outputs": [],
   "execution_count": 108
  },
  {
   "metadata": {
    "ExecuteTime": {
     "end_time": "2024-11-18T05:55:45.345316Z",
     "start_time": "2024-11-18T05:55:45.342641Z"
    }
   },
   "cell_type": "code",
   "source": [
    "import os\n",
    "\n",
    "def get_csv_file_paths(directory_path):\n",
    "    \"\"\"\n",
    "    Given a directory path, go through each CSV file in the directory,\n",
    "    append their paths into a list, and return the list.\n",
    "\n",
    "    Args:\n",
    "        directory_path (str): Path to the directory containing CSV files.\n",
    "\n",
    "    Returns:\n",
    "        list: List of file paths to all CSV files in the directory.\n",
    "    \"\"\"\n",
    "    csv_file_paths = []\n",
    "    \n",
    "    # Check if the provided path is valid\n",
    "    if not os.path.isdir(directory_path):\n",
    "        raise ValueError(f\"The provided path '{directory_path}' is not a valid directory.\")\n",
    "    \n",
    "    # Iterate over all files in the directory\n",
    "    for filename in os.listdir(directory_path):\n",
    "        # Check if the file has a .csv extension\n",
    "        if filename.endswith(\".csv\"):\n",
    "            # Append the full path to the list\n",
    "            full_path = os.path.join(directory_path, filename)\n",
    "            csv_file_paths.append(full_path)\n",
    "    \n",
    "    return csv_file_paths"
   ],
   "id": "b568e798eca86165",
   "outputs": [],
   "execution_count": 109
  },
  {
   "metadata": {
    "ExecuteTime": {
     "end_time": "2024-11-18T05:55:45.608938Z",
     "start_time": "2024-11-18T05:55:45.604543Z"
    }
   },
   "cell_type": "code",
   "source": [
    "import torch\n",
    "from torch.utils.data import Dataset, DataLoader\n",
    "import pandas as pd\n",
    "import numpy as np\n",
    "from collections import Counter\n",
    "\n",
    "class AudioChordDataset(Dataset):\n",
    "    def __init__(self, csv_dir, csv_file_names, N, chord_to_int):\n",
    "        \"\"\"\n",
    "        Args:\n",
    "            csv_file_paths (list of str): List of paths to CSV files.\n",
    "            N (int): Number of timestamps in each block (sliding window size).\n",
    "        \"\"\"\n",
    "        self.csv_file_names = csv_file_names\n",
    "        self.N = N\n",
    "        self.data = []\n",
    "        self.labels = []\n",
    "        self.chord_to_int = chord_to_int\n",
    "\n",
    "        # Load and process each CSV file\n",
    "        for file_name in self.csv_file_names:\n",
    "            file_path = os.path.join(csv_dir, file_name)\n",
    "            df = pd.read_csv(file_path)\n",
    "            # Get frequency domain values and labels as numpy arrays\n",
    "            freq_data = df.iloc[:, 1:25].values  # Select the 25 frequency columns\n",
    "            labels = df.iloc[:, 25].values  # Select the label column\n",
    "            \n",
    "            # Append data blocks and labels using a sliding window approach\n",
    "            for i in range(len(freq_data) - N + 1):\n",
    "                block = freq_data[i:i + N]  # N x 26\n",
    "                block_labels = labels[i:i + N]  # Labels in the block\n",
    "\n",
    "                # Find the most common label in the block\n",
    "                most_common_label = Counter(block_labels).most_common(1)[0][0]\n",
    "                \n",
    "                # Map chord name to integer\n",
    "                numeric_label = self.chord_to_int.get(most_common_label, self.chord_to_int[\"X\"]) # Default to \"X\" if unknown\n",
    "                \n",
    "                self.data.append(block)\n",
    "                self.labels.append(numeric_label)\n",
    "\n",
    "    def __len__(self):\n",
    "        return len(self.data)\n",
    "\n",
    "    def __getitem__(self, idx):\n",
    "        block = torch.tensor(self.data[idx], dtype=torch.float32).unsqueeze(0)  # Shape: N x 26\n",
    "        label = torch.tensor(self.labels[idx])  # This is still a string (chord name)\n",
    "        return block, label"
   ],
   "id": "c34e3516c5d52311",
   "outputs": [],
   "execution_count": 110
  },
  {
   "metadata": {
    "ExecuteTime": {
     "end_time": "2024-11-18T05:55:45.868648Z",
     "start_time": "2024-11-18T05:55:45.865939Z"
    }
   },
   "cell_type": "code",
   "source": [
    "def read_list_from_json(file_path):\n",
    "    \"\"\"\n",
    "    Reads a JSON file and returns the original Python list.\n",
    "\n",
    "    Args:\n",
    "        file_path (str): Path to the JSON file.\n",
    "\n",
    "    Returns:\n",
    "        list: List read from the JSON file.\n",
    "\n",
    "    Raises:\n",
    "        ValueError: If the JSON file content is not a list.\n",
    "    \"\"\"\n",
    "    with open(file_path, 'r') as json_file:\n",
    "        data = json.load(json_file)\n",
    "    \n",
    "    if not isinstance(data, list):\n",
    "        raise ValueError(\"The content of the JSON file is not a list.\")\n",
    "    \n",
    "    return data"
   ],
   "id": "ae627cdd03503a8b",
   "outputs": [],
   "execution_count": 111
  },
  {
   "metadata": {
    "ExecuteTime": {
     "end_time": "2024-11-18T05:55:46.109246Z",
     "start_time": "2024-11-18T05:55:46.104789Z"
    }
   },
   "cell_type": "code",
   "source": [
    "train_csv_file_names = read_list_from_json(os.path.join(\"train_test_split\", \"train_csv_paths.json\"))\n",
    "val_csv_file_names = read_list_from_json(os.path.join(\"train_test_split\", \"val_csv_paths.json\"))\n",
    "test_csv_file_names = read_list_from_json(os.path.join(\"train_test_split\", \"test_csv_paths.json\"))\n",
    "\n",
    "csv_dir = \"processed_data\""
   ],
   "id": "68800fd26471c91c",
   "outputs": [],
   "execution_count": 112
  },
  {
   "metadata": {},
   "cell_type": "markdown",
   "source": "Model",
   "id": "ba6d486222e2267"
  },
  {
   "metadata": {
    "ExecuteTime": {
     "end_time": "2024-11-18T06:07:02.520657Z",
     "start_time": "2024-11-18T06:07:02.514902Z"
    }
   },
   "cell_type": "code",
   "source": [
    "class CNN_Model(nn.Module):\n",
    "    def __init__(self, window_size, num_classes):\n",
    "        super(CNN_Model, self).__init__()\n",
    "        self.layer1 = torch.nn.Sequential(\n",
    "            torch.nn.Conv2d(in_channels=1, out_channels=64, kernel_size=(3, 3), stride=1, padding=(1, 1)),\n",
    "            torch.nn.ReLU(),\n",
    "            torch.nn.MaxPool2d(kernel_size=(2, 2), stride=2, ceil_mode=True)\n",
    "        )\n",
    "        self.layer2 = torch.nn.Sequential(\n",
    "            torch.nn.Conv2d(in_channels=64, out_channels=128, kernel_size=(3, 3), stride=1, padding=(1, 1)),\n",
    "            torch.nn.ReLU(),\n",
    "            torch.nn.MaxPool2d(kernel_size=(2, 2), stride=2,  ceil_mode=True)\n",
    "        )\n",
    "        # Dynamically compute the flattened size\n",
    "        with torch.no_grad():\n",
    "            dummy_input = torch.zeros(1, 1, window_size, 24)  # Example input size (batch_size=1, channels=1, window_size, num_features)\n",
    "            output = self.layer2(self.layer1(dummy_input))\n",
    "            self.flattened_size = output.numel()\n",
    "            \n",
    "        self.fc1 = nn.Linear(self.flattened_size, 128)\n",
    "        self.fc2 = nn.Linear(128, num_classes)\n",
    "\n",
    "    def forward(self, x):\n",
    "        out = self.layer1(x)\n",
    "        out = self.layer2(out)\n",
    "        out = out.view(out.size(0), -1) # out.size(0) gives the batch size. output will become (batch_size, flattened_size)\n",
    "        out = self.fc1(out)\n",
    "        out = self.fc2(out)\n",
    "        return out"
   ],
   "id": "c8edfbc3b428b57c",
   "outputs": [],
   "execution_count": 120
  },
  {
   "metadata": {},
   "cell_type": "markdown",
   "source": "Learning rate finder",
   "id": "fb7405594f3681aa"
  },
  {
   "metadata": {
    "ExecuteTime": {
     "end_time": "2024-11-18T06:08:21.555455Z",
     "start_time": "2024-11-18T06:07:04.827676Z"
    }
   },
   "cell_type": "code",
   "source": [
    "import matplotlib.pyplot as plt\n",
    "\n",
    "# Store the data for plotting\n",
    "lr_curves = {}\n",
    "\n",
    "window_sizes = [10, 16, 32, 48, 64, 72]\n",
    "batch_size = 128\n",
    "num_classes = 36\n",
    "\n",
    "for win_size in window_sizes:\n",
    "    step_size = win_size // 2  # Half overlapping windows\n",
    "\n",
    "    # Load datasets\n",
    "    train_dataset = AudioChordDataset(csv_dir, train_csv_file_names, win_size, chord_to_int)\n",
    "    train_dataloader = DataLoader(train_dataset, batch_size=batch_size, shuffle=False)\n",
    "\n",
    "    # Initialize model, optimizer, and criterion\n",
    "    model = CNN_Model(window_size=win_size, num_classes=num_classes)\n",
    "    optimizer = torch.optim.Adam(model.parameters(), lr=1e-7)\n",
    "    criterion = torch.nn.CrossEntropyLoss()\n",
    "\n",
    "    # Perform learning rate range test\n",
    "    lr_finder = LRFinder(model, optimizer, criterion, device=\"mps\")\n",
    "    lr_finder.range_test(train_dataloader, end_lr=1, num_iter=100)\n",
    "    \n",
    "    # Store learning rate and loss data\n",
    "    lr_curves[win_size] = (lr_finder.history[\"lr\"], lr_finder.history[\"loss\"])\n",
    "\n",
    "# Plot all curves\n",
    "plt.figure(figsize=(10, 6))\n",
    "for win_size, (lrs, losses) in lr_curves.items():\n",
    "    plt.plot(lrs, losses, label=f\"Window size = {win_size}\")\n",
    "\n",
    "plt.xscale(\"log\")\n",
    "plt.xlabel(\"Learning Rate (log scale)\")\n",
    "plt.ylabel(\"Loss\")\n",
    "plt.title(\"Learning Rate vs. Loss for Different Window Sizes\")\n",
    "plt.legend()\n",
    "plt.grid(True)\n",
    "plt.show()"
   ],
   "id": "3d4cc876acd7d6f8",
   "outputs": [
    {
     "data": {
      "text/plain": [
       "  0%|          | 0/100 [00:00<?, ?it/s]"
      ],
      "application/vnd.jupyter.widget-view+json": {
       "version_major": 2,
       "version_minor": 0,
       "model_id": "659105eb0d5449258d6076c5d6770db3"
      }
     },
     "metadata": {},
     "output_type": "display_data"
    },
    {
     "name": "stdout",
     "output_type": "stream",
     "text": [
      "Stopping early, the loss has diverged\n",
      "Learning rate search finished. See the graph with {finder_name}.plot()\n"
     ]
    },
    {
     "data": {
      "text/plain": [
       "  0%|          | 0/100 [00:00<?, ?it/s]"
      ],
      "application/vnd.jupyter.widget-view+json": {
       "version_major": 2,
       "version_minor": 0,
       "model_id": "cc424b37e3ac4d458b09ae8afa82397c"
      }
     },
     "metadata": {},
     "output_type": "display_data"
    },
    {
     "name": "stdout",
     "output_type": "stream",
     "text": [
      "Stopping early, the loss has diverged\n",
      "Learning rate search finished. See the graph with {finder_name}.plot()\n"
     ]
    },
    {
     "data": {
      "text/plain": [
       "  0%|          | 0/100 [00:00<?, ?it/s]"
      ],
      "application/vnd.jupyter.widget-view+json": {
       "version_major": 2,
       "version_minor": 0,
       "model_id": "50c2d50ae34d4573ad16c7d9a34a9412"
      }
     },
     "metadata": {},
     "output_type": "display_data"
    },
    {
     "name": "stdout",
     "output_type": "stream",
     "text": [
      "Learning rate search finished. See the graph with {finder_name}.plot()\n"
     ]
    },
    {
     "data": {
      "text/plain": [
       "  0%|          | 0/100 [00:00<?, ?it/s]"
      ],
      "application/vnd.jupyter.widget-view+json": {
       "version_major": 2,
       "version_minor": 0,
       "model_id": "26ba133c1f004e2081bd56422d7f60c1"
      }
     },
     "metadata": {},
     "output_type": "display_data"
    },
    {
     "name": "stdout",
     "output_type": "stream",
     "text": [
      "Stopping early, the loss has diverged\n",
      "Learning rate search finished. See the graph with {finder_name}.plot()\n"
     ]
    },
    {
     "data": {
      "text/plain": [
       "  0%|          | 0/100 [00:00<?, ?it/s]"
      ],
      "application/vnd.jupyter.widget-view+json": {
       "version_major": 2,
       "version_minor": 0,
       "model_id": "59813ab802e140b0bc8eaf0aff60acef"
      }
     },
     "metadata": {},
     "output_type": "display_data"
    },
    {
     "name": "stdout",
     "output_type": "stream",
     "text": [
      "Stopping early, the loss has diverged\n",
      "Learning rate search finished. See the graph with {finder_name}.plot()\n"
     ]
    },
    {
     "data": {
      "text/plain": [
       "  0%|          | 0/100 [00:00<?, ?it/s]"
      ],
      "application/vnd.jupyter.widget-view+json": {
       "version_major": 2,
       "version_minor": 0,
       "model_id": "5bf0b0403cb14edaa58effeeb20be417"
      }
     },
     "metadata": {},
     "output_type": "display_data"
    },
    {
     "name": "stdout",
     "output_type": "stream",
     "text": [
      "Learning rate search finished. See the graph with {finder_name}.plot()\n"
     ]
    },
    {
     "data": {
      "text/plain": [
       "<Figure size 1000x600 with 1 Axes>"
      ],
      "image/png": "[encoded data removed]"
     },
     "metadata": {},
     "output_type": "display_data"
    }
   ],
   "execution_count": 121
  },
  {
   "metadata": {},
   "cell_type": "markdown",
   "source": [
    "Conclusion: Learning rate range 10e-3, 10e-1, region of decreasing loss, the loss rapidly increases beyond 10e-1, indicating divergence. \n",
    "\n",
    "From this graph, the best performing window size seems to be 48, 64, 72, although all window_size output similar loss. "
   ],
   "id": "b8c2496078148982"
  },
  {
   "metadata": {
    "ExecuteTime": {
     "end_time": "2024-11-18T06:09:48.501099Z",
     "start_time": "2024-11-18T06:08:36.775231Z"
    }
   },
   "cell_type": "code",
   "source": [
    "import matplotlib.pyplot as plt\n",
    "\n",
    "# Store the data for plotting\n",
    "lr_curves = {}\n",
    "\n",
    "window_sizes = [1, 4, 8, 100, 200]\n",
    "batch_size = 128\n",
    "num_classes = 36\n",
    "\n",
    "for win_size in window_sizes:\n",
    "    step_size = win_size // 2  # Half overlapping windows\n",
    "\n",
    "    # Load datasets\n",
    "    train_dataset = AudioChordDataset(csv_dir, train_csv_file_names, win_size, chord_to_int)\n",
    "    train_dataloader = DataLoader(train_dataset, batch_size=batch_size, shuffle=False)\n",
    "\n",
    "    # Initialize model, optimizer, and criterion\n",
    "    model = CNN_Model(window_size=win_size, num_classes=num_classes)\n",
    "    optimizer = torch.optim.Adam(model.parameters(), lr=1e-7)\n",
    "    criterion = torch.nn.CrossEntropyLoss()\n",
    "\n",
    "    # Perform learning rate range test\n",
    "    lr_finder = LRFinder(model, optimizer, criterion, device=\"mps\")\n",
    "    lr_finder.range_test(train_dataloader, end_lr=1, num_iter=100)\n",
    "    \n",
    "    # Store learning rate and loss data\n",
    "    lr_curves[win_size] = (lr_finder.history[\"lr\"], lr_finder.history[\"loss\"])\n",
    "\n",
    "# Plot all curves\n",
    "plt.figure(figsize=(10, 6))\n",
    "for win_size, (lrs, losses) in lr_curves.items():\n",
    "    plt.plot(lrs, losses, label=f\"Window size = {win_size}\")\n",
    "\n",
    "plt.xscale(\"log\")\n",
    "plt.xlabel(\"Learning Rate (log scale)\")\n",
    "plt.ylabel(\"Loss\")\n",
    "plt.title(\"Learning Rate vs. Loss for Different Window Sizes\")\n",
    "plt.legend()\n",
    "plt.grid(True)\n",
    "plt.show()"
   ],
   "id": "b4e904418c00587b",
   "outputs": [
    {
     "data": {
      "text/plain": [
       "  0%|          | 0/100 [00:00<?, ?it/s]"
      ],
      "application/vnd.jupyter.widget-view+json": {
       "version_major": 2,
       "version_minor": 0,
       "model_id": "6e8e70c8585b4bb2915f574b086a07f9"
      }
     },
     "metadata": {},
     "output_type": "display_data"
    },
    {
     "name": "stdout",
     "output_type": "stream",
     "text": [
      "Stopping early, the loss has diverged\n",
      "Learning rate search finished. See the graph with {finder_name}.plot()\n"
     ]
    },
    {
     "data": {
      "text/plain": [
       "  0%|          | 0/100 [00:00<?, ?it/s]"
      ],
      "application/vnd.jupyter.widget-view+json": {
       "version_major": 2,
       "version_minor": 0,
       "model_id": "9b730ad5f087496e8c48a610f6957b7f"
      }
     },
     "metadata": {},
     "output_type": "display_data"
    },
    {
     "name": "stdout",
     "output_type": "stream",
     "text": [
      "Learning rate search finished. See the graph with {finder_name}.plot()\n"
     ]
    },
    {
     "data": {
      "text/plain": [
       "  0%|          | 0/100 [00:00<?, ?it/s]"
      ],
      "application/vnd.jupyter.widget-view+json": {
       "version_major": 2,
       "version_minor": 0,
       "model_id": "0dc8d336f17b47dab154ef73f7b7f8e7"
      }
     },
     "metadata": {},
     "output_type": "display_data"
    },
    {
     "name": "stdout",
     "output_type": "stream",
     "text": [
      "Stopping early, the loss has diverged\n",
      "Learning rate search finished. See the graph with {finder_name}.plot()\n"
     ]
    },
    {
     "data": {
      "text/plain": [
       "  0%|          | 0/100 [00:00<?, ?it/s]"
      ],
      "application/vnd.jupyter.widget-view+json": {
       "version_major": 2,
       "version_minor": 0,
       "model_id": "7beeb2653517444381b6acc5dff15d58"
      }
     },
     "metadata": {},
     "output_type": "display_data"
    },
    {
     "name": "stdout",
     "output_type": "stream",
     "text": [
      "Learning rate search finished. See the graph with {finder_name}.plot()\n"
     ]
    },
    {
     "data": {
      "text/plain": [
       "  0%|          | 0/100 [00:00<?, ?it/s]"
      ],
      "application/vnd.jupyter.widget-view+json": {
       "version_major": 2,
       "version_minor": 0,
       "model_id": "b37a570e54f64805b37264d57e16809a"
      }
     },
     "metadata": {},
     "output_type": "display_data"
    },
    {
     "name": "stdout",
     "output_type": "stream",
     "text": [
      "Stopping early, the loss has diverged\n",
      "Learning rate search finished. See the graph with {finder_name}.plot()\n"
     ]
    },
    {
     "data": {
      "text/plain": [
       "<Figure size 1000x600 with 1 Axes>"
      ],
      "image/png": "[encoded data removed]"
     },
     "metadata": {},
     "output_type": "display_data"
    }
   ],
   "execution_count": 122
  },
  {
   "metadata": {},
   "cell_type": "markdown",
   "source": "Training Loop",
   "id": "7d7f151f07c422d4"
  },
  {
   "metadata": {
    "ExecuteTime": {
     "end_time": "2024-11-18T11:55:27.820102Z",
     "start_time": "2024-11-18T06:51:13.118997Z"
    }
   },
   "cell_type": "code",
   "source": [
    "from torch.utils.data import WeightedRandomSampler\n",
    "\n",
    "# Hyperparameters\n",
    "window_sizes = [24, 48, 72]\n",
    "batch_size = 128\n",
    "num_epochs = 20\n",
    "learning_rates = [0.01]\n",
    "num_classes = 36\n",
    "\n",
    "results = {}\n",
    "\n",
    "for win_size in window_sizes:\n",
    "    for learning_rate in learning_rates:\n",
    "        step_size = win_size // 2   # half overlapping windows\n",
    "    \n",
    "        # load datasets\n",
    "        train_dataset = AudioChordDataset(csv_dir, train_csv_file_names, win_size, chord_to_int)\n",
    "    \n",
    "        # Random weight sampling to make up for uneven dataset labels\n",
    "        all_labels = [train_dataset[idx][1].item() for idx in range(len(train_dataset))]\n",
    "        labels_counts = np.bincount(all_labels)     # the value represents the number of occurrence for label=idx\n",
    "        class_weights = 1.0 / (labels_counts + 1e-6)\n",
    "        sample_weights = [class_weights[label] for label in all_labels]    # assign weights to all labels in the training data\n",
    "        sampler = WeightedRandomSampler(\n",
    "            sample_weights, num_samples=len(sample_weights), replacement=True\n",
    "        )\n",
    "        # training dataloader with sampler applied\n",
    "        train_dataloader = DataLoader(train_dataset, batch_size=batch_size, sampler=sampler, shuffle=False)\n",
    "    \n",
    "        val_dataset = AudioChordDataset(csv_dir, val_csv_file_names, win_size, chord_to_int)\n",
    "        val_dataloader = DataLoader(val_dataset, batch_size=batch_size, shuffle=False)\n",
    "    \n",
    "        test_dataset = AudioChordDataset(csv_dir, test_csv_file_names, win_size, chord_to_int)\n",
    "        test_dataloader = DataLoader(test_dataset, batch_size=batch_size, shuffle=False)\n",
    "    \n",
    "        # initialize model, loss function, optimizer\n",
    "        model = CNN_Model(window_size=win_size, num_classes=num_classes).to(device)\n",
    "        criterion = torch.nn.CrossEntropyLoss().to(device)\n",
    "        optimizer = torch.optim.Adam(model.parameters(), lr=learning_rate, weight_decay=1e-5)\n",
    "    \n",
    "        # record losses\n",
    "        train_losses_cross_epoch = []\n",
    "        val_losses_cross_epoch = []\n",
    "        val_accuracy_cross_epoch = []\n",
    "    \n",
    "        # train loop\n",
    "        for epoch in range(num_epochs):\n",
    "            train_loss_per_epoch = []\n",
    "            with tqdm(total=len(train_dataloader), desc=f\"Epoch {epoch+1}/{num_epochs}\", unit=\"batch\") as pbar:\n",
    "                for i, (win_chroma, win_label) in enumerate(train_dataloader):\n",
    "                    X = win_chroma.to(device)\n",
    "                    Y = win_label.to(device)\n",
    "    \n",
    "                    optimizer.zero_grad()\n",
    "                    prediction = model(X)\n",
    "                    loss = criterion(prediction, Y)\n",
    "                    loss.backward()\n",
    "                    optimizer.step()\n",
    "    \n",
    "                    # update progress bar\n",
    "                    pbar.set_postfix({\"loss\": loss.item()})     # display current loss\n",
    "                    pbar.update(1)      # advance progress bar by 1 batch\n",
    "    \n",
    "                    # train loss per batch\n",
    "                    train_loss_per_epoch.append(loss.item())\n",
    "            # calculate train loss for each epoch\n",
    "            mean_train_loss_per_epoch = np.mean(train_loss_per_epoch)\n",
    "            train_losses_cross_epoch.append(mean_train_loss_per_epoch)\n",
    "    \n",
    "            # evaluation\n",
    "            model.eval()\n",
    "            val_losses = []\n",
    "            num_correct_per_epoch = 0\n",
    "            num_total_per_epoch = 0\n",
    "            with torch.no_grad():\n",
    "                for i, (val_win_chroma, val_win_label) in enumerate(val_dataloader):\n",
    "                    val_X = val_win_chroma.to(device)\n",
    "                    val_Y = val_win_label.to(device)\n",
    "    \n",
    "                    val_predictions = model(val_X)\n",
    "                    val_loss = criterion(val_predictions, val_Y).to('cpu')\n",
    "    \n",
    "                    # val loss per batch\n",
    "                    val_losses.append(val_loss.item())\n",
    "    \n",
    "                    # val accuracy per batch\n",
    "                    _, predicted_class = torch.max(val_predictions, 1)\n",
    "                    num_correct = (predicted_class == val_Y).sum().item()\n",
    "                    num_total_per_batch = val_Y.size(0)\n",
    "                    batch_accuracy = num_correct / num_total_per_batch\n",
    "    \n",
    "                    # accumulate correct and total predictions from each batch\n",
    "                    num_correct_per_epoch += num_correct\n",
    "                    num_total_per_epoch += num_total_per_batch\n",
    "    \n",
    "            # calculate evaluation loss for each epoch\n",
    "            mean_val_loss_per_epoch = np.mean(val_losses)\n",
    "            val_losses_cross_epoch.append(mean_val_loss_per_epoch)\n",
    "    \n",
    "            # calculate accuracy per eepoch\n",
    "            val_accuracy = 100 * num_correct_per_epoch / num_total_per_epoch\n",
    "            val_accuracy_cross_epoch.append(val_accuracy)\n",
    "    \n",
    "            # display loss & accuracy in progress bar\n",
    "            print(f\"val loss={mean_val_loss_per_epoch}; val accuracy={val_accuracy}%\")\n",
    "            model.train()\n",
    "    \n",
    "        # save loss and accuracy\n",
    "        results[win_size] = {\n",
    "            \"train_losses\": train_losses_cross_epoch,\n",
    "            \"val_losses\": val_losses_cross_epoch,\n",
    "            \"val_accuracies\": val_accuracy_cross_epoch\n",
    "        }\n",
    "\n",
    "# Get all window sizes\n",
    "window_sizes = list(results.keys())\n",
    "\n",
    "# 1. Plot for Training Loss\n",
    "plt.figure(figsize=(10, 6))\n",
    "for win_size in window_sizes:\n",
    "    plt.plot(results[win_size][\"train_losses\"], label=f\"Win Size {win_size}\")\n",
    "plt.xlabel(\"Epoch\")\n",
    "plt.ylabel(\"Training Loss\")\n",
    "plt.title(\"Training Loss per Epoch for Different Window Sizes\")\n",
    "plt.legend()\n",
    "plt.show()\n",
    "\n",
    "# 2. Plot for Validation Loss\n",
    "plt.figure(figsize=(10, 6))\n",
    "for win_size in window_sizes:\n",
    "    plt.plot(results[win_size][\"val_losses\"], label=f\"Win Size {win_size}\")\n",
    "plt.xlabel(\"Epoch\")\n",
    "plt.ylabel(\"Validation Loss\")\n",
    "plt.title(\"Validation Loss per Epoch for Different Window Sizes\")\n",
    "plt.legend()\n",
    "plt.show()\n",
    "\n",
    "# 3. Plot for Validation Accuracy\n",
    "plt.figure(figsize=(10, 6))\n",
    "for win_size in window_sizes:\n",
    "    plt.plot(results[win_size][\"val_accuracies\"], label=f\"Win Size {win_size}\")\n",
    "plt.xlabel(\"Epoch\")\n",
    "plt.ylabel(\"Validation Accuracy (%)\")\n",
    "plt.title(\"Validation Accuracy per Epoch for Different Window Sizes\")\n",
    "plt.legend()\n",
    "plt.show()"
   ],
   "id": "c0ab2f67d302491d",
   "outputs": [
    {
     "name": "stderr",
     "output_type": "stream",
     "text": [
      "Epoch 1/20: 100%|██████████| 22601/22601 [04:16<00:00, 88.26batch/s, loss=1.23]\n"
     ]
    },
    {
     "name": "stdout",
     "output_type": "stream",
     "text": [
      "val loss=1.6939200473234797; val accuracy=50.816459830176356%\n"
     ]
    },
    {
     "name": "stderr",
     "output_type": "stream",
     "text": [
      "Epoch 2/20: 100%|██████████| 22601/22601 [04:18<00:00, 87.26batch/s, loss=1.6] \n"
     ]
    },
    {
     "name": "stdout",
     "output_type": "stream",
     "text": [
      "val loss=1.752971323853008; val accuracy=46.81315761588985%\n"
     ]
    },
    {
     "name": "stderr",
     "output_type": "stream",
     "text": [
      "Epoch 3/20: 100%|██████████| 22601/22601 [04:20<00:00, 86.82batch/s, loss=1.16]  \n"
     ]
    },
    {
     "name": "stdout",
     "output_type": "stream",
     "text": [
      "val loss=1.5248804974641184; val accuracy=54.50567212238436%\n"
     ]
    },
    {
     "name": "stderr",
     "output_type": "stream",
     "text": [
      "Epoch 4/20: 100%|██████████| 22601/22601 [04:18<00:00, 87.32batch/s, loss=1.14] \n"
     ]
    },
    {
     "name": "stdout",
     "output_type": "stream",
     "text": [
      "val loss=1.4683750372452602; val accuracy=55.60467054560867%\n"
     ]
    },
    {
     "name": "stderr",
     "output_type": "stream",
     "text": [
      "Epoch 5/20: 100%|██████████| 22601/22601 [04:19<00:00, 87.08batch/s, loss=1.09] \n"
     ]
    },
    {
     "name": "stdout",
     "output_type": "stream",
     "text": [
      "val loss=1.4709577837939136; val accuracy=55.71063240250323%\n"
     ]
    },
    {
     "name": "stderr",
     "output_type": "stream",
     "text": [
      "Epoch 6/20: 100%|██████████| 22601/22601 [04:19<00:00, 87.12batch/s, loss=1.27] \n"
     ]
    },
    {
     "name": "stdout",
     "output_type": "stream",
     "text": [
      "val loss=1.418622034981419; val accuracy=57.84030757405864%\n"
     ]
    },
    {
     "name": "stderr",
     "output_type": "stream",
     "text": [
      "Epoch 7/20: 100%|██████████| 22601/22601 [04:19<00:00, 86.93batch/s, loss=0.92] \n"
     ]
    },
    {
     "name": "stdout",
     "output_type": "stream",
     "text": [
      "val loss=1.4455543874556045; val accuracy=56.97015513132153%\n"
     ]
    },
    {
     "name": "stderr",
     "output_type": "stream",
     "text": [
      "Epoch 8/20: 100%|██████████| 22601/22601 [04:18<00:00, 87.55batch/s, loss=0.954]\n"
     ]
    },
    {
     "name": "stdout",
     "output_type": "stream",
     "text": [
      "val loss=1.425547101000948; val accuracy=57.29373417491298%\n"
     ]
    },
    {
     "name": "stderr",
     "output_type": "stream",
     "text": [
      "Epoch 9/20: 100%|██████████| 22601/22601 [04:09<00:00, 90.62batch/s, loss=0.843] \n"
     ]
    },
    {
     "name": "stdout",
     "output_type": "stream",
     "text": [
      "val loss=1.4221647112306042; val accuracy=57.29262711073647%\n"
     ]
    },
    {
     "name": "stderr",
     "output_type": "stream",
     "text": [
      "Epoch 10/20: 100%|██████████| 22601/22601 [04:09<00:00, 90.69batch/s, loss=1.05] \n"
     ]
    },
    {
     "name": "stdout",
     "output_type": "stream",
     "text": [
      "val loss=1.3940968795764583; val accuracy=58.00399492015695%\n"
     ]
    },
    {
     "name": "stderr",
     "output_type": "stream",
     "text": [
      "Epoch 11/20: 100%|██████████| 22601/22601 [04:09<00:00, 90.56batch/s, loss=0.926]\n"
     ]
    },
    {
     "name": "stdout",
     "output_type": "stream",
     "text": [
      "val loss=1.44370353731783; val accuracy=56.42880074900799%\n"
     ]
    },
    {
     "name": "stderr",
     "output_type": "stream",
     "text": [
      "Epoch 12/20: 100%|██████████| 22601/22601 [04:09<00:00, 90.50batch/s, loss=0.72] \n"
     ]
    },
    {
     "name": "stdout",
     "output_type": "stream",
     "text": [
      "val loss=1.3784190490254604; val accuracy=58.52257541083942%\n"
     ]
    },
    {
     "name": "stderr",
     "output_type": "stream",
     "text": [
      "Epoch 13/20: 100%|██████████| 22601/22601 [04:09<00:00, 90.41batch/s, loss=0.811]\n"
     ]
    },
    {
     "name": "stdout",
     "output_type": "stream",
     "text": [
      "val loss=1.4273319042265145; val accuracy=58.108217104774134%\n"
     ]
    },
    {
     "name": "stderr",
     "output_type": "stream",
     "text": [
      "Epoch 14/20: 100%|██████████| 22601/22601 [04:09<00:00, 90.57batch/s, loss=0.888]\n"
     ]
    },
    {
     "name": "stdout",
     "output_type": "stream",
     "text": [
      "val loss=1.4942410855300476; val accuracy=57.575402931822246%\n"
     ]
    },
    {
     "name": "stderr",
     "output_type": "stream",
     "text": [
      "Epoch 15/20: 100%|██████████| 22601/22601 [04:09<00:00, 90.42batch/s, loss=0.977]\n"
     ]
    },
    {
     "name": "stdout",
     "output_type": "stream",
     "text": [
      "val loss=1.4117804751354637; val accuracy=57.24960975987778%\n"
     ]
    },
    {
     "name": "stderr",
     "output_type": "stream",
     "text": [
      "Epoch 16/20: 100%|██████████| 22601/22601 [04:09<00:00, 90.48batch/s, loss=1.01] \n"
     ]
    },
    {
     "name": "stdout",
     "output_type": "stream",
     "text": [
      "val loss=1.3506980142310103; val accuracy=58.923332642736156%\n"
     ]
    },
    {
     "name": "stderr",
     "output_type": "stream",
     "text": [
      "Epoch 17/20: 100%|██████████| 22601/22601 [04:09<00:00, 90.44batch/s, loss=0.86] \n"
     ]
    },
    {
     "name": "stdout",
     "output_type": "stream",
     "text": [
      "val loss=1.5076137790808017; val accuracy=57.794285334720854%\n"
     ]
    },
    {
     "name": "stderr",
     "output_type": "stream",
     "text": [
      "Epoch 18/20: 100%|██████████| 22601/22601 [04:10<00:00, 90.36batch/s, loss=0.864]\n"
     ]
    },
    {
     "name": "stdout",
     "output_type": "stream",
     "text": [
      "val loss=1.4030014854162056; val accuracy=57.5499404557625%\n"
     ]
    },
    {
     "name": "stderr",
     "output_type": "stream",
     "text": [
      "Epoch 19/20: 100%|██████████| 22601/22601 [04:09<00:00, 90.45batch/s, loss=0.886] \n"
     ]
    },
    {
     "name": "stdout",
     "output_type": "stream",
     "text": [
      "val loss=1.4527870050077194; val accuracy=57.96951777865991%\n"
     ]
    },
    {
     "name": "stderr",
     "output_type": "stream",
     "text": [
      "Epoch 20/20: 100%|██████████| 22601/22601 [04:09<00:00, 90.50batch/s, loss=0.875]\n"
     ]
    },
    {
     "name": "stdout",
     "output_type": "stream",
     "text": [
      "val loss=1.3985164300882662; val accuracy=58.59184599788393%\n"
     ]
    },
    {
     "name": "stderr",
     "output_type": "stream",
     "text": [
      "Epoch 1/20: 100%|██████████| 22484/22484 [04:19<00:00, 86.80batch/s, loss=1.53]\n"
     ]
    },
    {
     "name": "stdout",
     "output_type": "stream",
     "text": [
      "val loss=1.83240004320916; val accuracy=44.98347668376487%\n"
     ]
    },
    {
     "name": "stderr",
     "output_type": "stream",
     "text": [
      "Epoch 2/20: 100%|██████████| 22484/22484 [04:18<00:00, 87.11batch/s, loss=1.18] \n"
     ]
    },
    {
     "name": "stdout",
     "output_type": "stream",
     "text": [
      "val loss=1.5463235806146047; val accuracy=53.72422354719596%\n"
     ]
    },
    {
     "name": "stderr",
     "output_type": "stream",
     "text": [
      "Epoch 3/20: 100%|██████████| 22484/22484 [04:18<00:00, 86.85batch/s, loss=1.05] \n"
     ]
    },
    {
     "name": "stdout",
     "output_type": "stream",
     "text": [
      "val loss=1.4892726815849475; val accuracy=54.89667165253827%\n"
     ]
    },
    {
     "name": "stderr",
     "output_type": "stream",
     "text": [
      "Epoch 4/20: 100%|██████████| 22484/22484 [04:18<00:00, 86.91batch/s, loss=1.04] \n"
     ]
    },
    {
     "name": "stdout",
     "output_type": "stream",
     "text": [
      "val loss=1.400054396656915; val accuracy=58.467901530890416%\n"
     ]
    },
    {
     "name": "stderr",
     "output_type": "stream",
     "text": [
      "Epoch 5/20: 100%|██████████| 22484/22484 [04:18<00:00, 86.86batch/s, loss=0.749]\n"
     ]
    },
    {
     "name": "stdout",
     "output_type": "stream",
     "text": [
      "val loss=1.4679033350590276; val accuracy=57.00281826259595%\n"
     ]
    },
    {
     "name": "stderr",
     "output_type": "stream",
     "text": [
      "Epoch 6/20: 100%|██████████| 22484/22484 [04:18<00:00, 86.95batch/s, loss=1.15] \n"
     ]
    },
    {
     "name": "stdout",
     "output_type": "stream",
     "text": [
      "val loss=1.4075814002078635; val accuracy=58.10866444872209%\n"
     ]
    },
    {
     "name": "stderr",
     "output_type": "stream",
     "text": [
      "Epoch 7/20: 100%|██████████| 22484/22484 [04:18<00:00, 86.82batch/s, loss=0.715]\n"
     ]
    },
    {
     "name": "stdout",
     "output_type": "stream",
     "text": [
      "val loss=1.4143758748194473; val accuracy=59.02758018855178%\n"
     ]
    },
    {
     "name": "stderr",
     "output_type": "stream",
     "text": [
      "Epoch 8/20: 100%|██████████| 22484/22484 [04:19<00:00, 86.72batch/s, loss=0.668]\n"
     ]
    },
    {
     "name": "stdout",
     "output_type": "stream",
     "text": [
      "val loss=1.3933719920635823; val accuracy=58.28748821750057%\n"
     ]
    },
    {
     "name": "stderr",
     "output_type": "stream",
     "text": [
      "Epoch 9/20: 100%|██████████| 22484/22484 [04:18<00:00, 86.96batch/s, loss=0.768]\n"
     ]
    },
    {
     "name": "stdout",
     "output_type": "stream",
     "text": [
      "val loss=1.43149509799346; val accuracy=57.9520943045027%\n"
     ]
    },
    {
     "name": "stderr",
     "output_type": "stream",
     "text": [
      "Epoch 10/20: 100%|██████████| 22484/22484 [04:18<00:00, 87.05batch/s, loss=1.02] \n"
     ]
    },
    {
     "name": "stdout",
     "output_type": "stream",
     "text": [
      "val loss=1.571177227041018; val accuracy=56.95179388057115%\n"
     ]
    },
    {
     "name": "stderr",
     "output_type": "stream",
     "text": [
      "Epoch 11/20: 100%|██████████| 22484/22484 [04:18<00:00, 86.89batch/s, loss=0.682]\n"
     ]
    },
    {
     "name": "stdout",
     "output_type": "stream",
     "text": [
      "val loss=1.4477394275854594; val accuracy=58.66389238147163%\n"
     ]
    },
    {
     "name": "stderr",
     "output_type": "stream",
     "text": [
      "Epoch 12/20: 100%|██████████| 22484/22484 [04:18<00:00, 86.89batch/s, loss=1.02] \n"
     ]
    },
    {
     "name": "stdout",
     "output_type": "stream",
     "text": [
      "val loss=1.4557156719423456; val accuracy=58.496831242817244%\n"
     ]
    },
    {
     "name": "stderr",
     "output_type": "stream",
     "text": [
      "Epoch 13/20: 100%|██████████| 22484/22484 [04:19<00:00, 86.69batch/s, loss=0.719]\n"
     ]
    },
    {
     "name": "stdout",
     "output_type": "stream",
     "text": [
      "val loss=1.4605891249213319; val accuracy=59.83999643942007%\n"
     ]
    },
    {
     "name": "stderr",
     "output_type": "stream",
     "text": [
      "Epoch 14/20: 100%|██████████| 22484/22484 [04:18<00:00, 86.90batch/s, loss=1.02] \n"
     ]
    },
    {
     "name": "stdout",
     "output_type": "stream",
     "text": [
      "val loss=1.4327869911007949; val accuracy=58.22358852412373%\n"
     ]
    },
    {
     "name": "stderr",
     "output_type": "stream",
     "text": [
      "Epoch 15/20: 100%|██████████| 22484/22484 [04:18<00:00, 86.90batch/s, loss=0.833]\n"
     ]
    },
    {
     "name": "stdout",
     "output_type": "stream",
     "text": [
      "val loss=1.3716222770718645; val accuracy=59.71235600712752%\n"
     ]
    },
    {
     "name": "stderr",
     "output_type": "stream",
     "text": [
      "Epoch 16/20: 100%|██████████| 22484/22484 [04:18<00:00, 86.99batch/s, loss=0.739]\n"
     ]
    },
    {
     "name": "stdout",
     "output_type": "stream",
     "text": [
      "val loss=1.464758059303044; val accuracy=57.08801785376507%\n"
     ]
    },
    {
     "name": "stderr",
     "output_type": "stream",
     "text": [
      "Epoch 17/20: 100%|██████████| 22484/22484 [04:18<00:00, 86.94batch/s, loss=0.648]\n"
     ]
    },
    {
     "name": "stdout",
     "output_type": "stream",
     "text": [
      "val loss=1.3917177927514512; val accuracy=57.825089690054696%\n"
     ]
    },
    {
     "name": "stderr",
     "output_type": "stream",
     "text": [
      "Epoch 18/20: 100%|██████████| 22484/22484 [04:18<00:00, 86.86batch/s, loss=0.523]\n"
     ]
    },
    {
     "name": "stdout",
     "output_type": "stream",
     "text": [
      "val loss=1.413995340207034; val accuracy=59.883708916232585%\n"
     ]
    },
    {
     "name": "stderr",
     "output_type": "stream",
     "text": [
      "Epoch 19/20: 100%|██████████| 22484/22484 [04:18<00:00, 86.88batch/s, loss=0.669]\n"
     ]
    },
    {
     "name": "stdout",
     "output_type": "stream",
     "text": [
      "val loss=1.3812579637346694; val accuracy=59.90484985956373%\n"
     ]
    },
    {
     "name": "stderr",
     "output_type": "stream",
     "text": [
      "Epoch 20/20: 100%|██████████| 22484/22484 [04:18<00:00, 86.87batch/s, loss=0.539]\n"
     ]
    },
    {
     "name": "stdout",
     "output_type": "stream",
     "text": [
      "val loss=1.4928709207798483; val accuracy=59.79850932506346%\n"
     ]
    },
    {
     "name": "stderr",
     "output_type": "stream",
     "text": [
      "Epoch 1/20: 100%|██████████| 22368/22368 [05:22<00:00, 69.43batch/s, loss=3.56]\n"
     ]
    },
    {
     "name": "stdout",
     "output_type": "stream",
     "text": [
      "val loss=3.28096041909299; val accuracy=0.0%\n"
     ]
    },
    {
     "name": "stderr",
     "output_type": "stream",
     "text": [
      "Epoch 2/20: 100%|██████████| 22368/22368 [05:22<00:00, 69.45batch/s, loss=3.62]\n"
     ]
    },
    {
     "name": "stdout",
     "output_type": "stream",
     "text": [
      "val loss=3.304211620766296; val accuracy=0.0%\n"
     ]
    },
    {
     "name": "stderr",
     "output_type": "stream",
     "text": [
      "Epoch 3/20: 100%|██████████| 22368/22368 [05:22<00:00, 69.44batch/s, loss=3.55]\n"
     ]
    },
    {
     "name": "stdout",
     "output_type": "stream",
     "text": [
      "val loss=3.3058803033735034; val accuracy=0.5350532576898928%\n"
     ]
    },
    {
     "name": "stderr",
     "output_type": "stream",
     "text": [
      "Epoch 4/20: 100%|██████████| 22368/22368 [05:22<00:00, 69.45batch/s, loss=2.86]\n"
     ]
    },
    {
     "name": "stdout",
     "output_type": "stream",
     "text": [
      "val loss=3.303852980927867; val accuracy=1.234345019083939%\n"
     ]
    },
    {
     "name": "stderr",
     "output_type": "stream",
     "text": [
      "Epoch 5/20: 100%|██████████| 22368/22368 [05:21<00:00, 69.51batch/s, loss=3.66]\n"
     ]
    },
    {
     "name": "stdout",
     "output_type": "stream",
     "text": [
      "val loss=3.2948498333211997; val accuracy=0.11103673158987025%\n"
     ]
    },
    {
     "name": "stderr",
     "output_type": "stream",
     "text": [
      "Epoch 6/20: 100%|██████████| 22368/22368 [05:21<00:00, 69.47batch/s, loss=3.58]\n"
     ]
    },
    {
     "name": "stdout",
     "output_type": "stream",
     "text": [
      "val loss=3.298144249648526; val accuracy=0.5138045018604643%\n"
     ]
    },
    {
     "name": "stderr",
     "output_type": "stream",
     "text": [
      "Epoch 7/20: 100%|██████████| 22368/22368 [05:22<00:00, 69.45batch/s, loss=3.6] \n"
     ]
    },
    {
     "name": "stdout",
     "output_type": "stream",
     "text": [
      "val loss=3.2838349176525066; val accuracy=6.8893898411775325%\n"
     ]
    },
    {
     "name": "stderr",
     "output_type": "stream",
     "text": [
      "Epoch 8/20: 100%|██████████| 22368/22368 [05:22<00:00, 69.44batch/s, loss=3.61]\n"
     ]
    },
    {
     "name": "stdout",
     "output_type": "stream",
     "text": [
      "val loss=3.2767796648662455; val accuracy=3.271829102487702%\n"
     ]
    },
    {
     "name": "stderr",
     "output_type": "stream",
     "text": [
      "Epoch 9/20: 100%|██████████| 22368/22368 [05:21<00:00, 69.47batch/s, loss=2.8] \n"
     ]
    },
    {
     "name": "stdout",
     "output_type": "stream",
     "text": [
      "val loss=3.3066049669589277; val accuracy=7.545704795668449%\n"
     ]
    },
    {
     "name": "stderr",
     "output_type": "stream",
     "text": [
      "Epoch 10/20: 100%|██████████| 22368/22368 [05:22<00:00, 69.45batch/s, loss=2.84]\n"
     ]
    },
    {
     "name": "stdout",
     "output_type": "stream",
     "text": [
      "val loss=3.2884555286177433; val accuracy=2.3209073378504246%\n"
     ]
    },
    {
     "name": "stderr",
     "output_type": "stream",
     "text": [
      "Epoch 11/20: 100%|██████████| 22368/22368 [05:21<00:00, 69.48batch/s, loss=3.65]\n"
     ]
    },
    {
     "name": "stdout",
     "output_type": "stream",
     "text": [
      "val loss=3.2768081091180568; val accuracy=10.060247412205094%\n"
     ]
    },
    {
     "name": "stderr",
     "output_type": "stream",
     "text": [
      "Epoch 12/20: 100%|██████████| 22368/22368 [05:22<00:00, 69.46batch/s, loss=3.55]\n"
     ]
    },
    {
     "name": "stdout",
     "output_type": "stream",
     "text": [
      "val loss=3.2823680192902533; val accuracy=2.178237120138548%\n"
     ]
    },
    {
     "name": "stderr",
     "output_type": "stream",
     "text": [
      "Epoch 13/20: 100%|██████████| 22368/22368 [05:21<00:00, 69.48batch/s, loss=2.9] \n"
     ]
    },
    {
     "name": "stdout",
     "output_type": "stream",
     "text": [
      "val loss=3.320486603001921; val accuracy=0.5138045018604643%\n"
     ]
    },
    {
     "name": "stderr",
     "output_type": "stream",
     "text": [
      "Epoch 14/20: 100%|██████████| 22368/22368 [05:22<00:00, 69.45batch/s, loss=3.56]\n"
     ]
    },
    {
     "name": "stdout",
     "output_type": "stream",
     "text": [
      "val loss=3.2820035305997863; val accuracy=4.417184971218321%\n"
     ]
    },
    {
     "name": "stderr",
     "output_type": "stream",
     "text": [
      "Epoch 15/20: 100%|██████████| 22368/22368 [05:22<00:00, 69.45batch/s, loss=3.64]\n"
     ]
    },
    {
     "name": "stdout",
     "output_type": "stream",
     "text": [
      "val loss=3.3063592536915816; val accuracy=1.234345019083939%\n"
     ]
    },
    {
     "name": "stderr",
     "output_type": "stream",
     "text": [
      "Epoch 16/20: 100%|██████████| 22368/22368 [05:21<00:00, 69.47batch/s, loss=3.63]\n"
     ]
    },
    {
     "name": "stdout",
     "output_type": "stream",
     "text": [
      "val loss=3.3018520678151666; val accuracy=0.0%\n"
     ]
    },
    {
     "name": "stderr",
     "output_type": "stream",
     "text": [
      "Epoch 17/20: 100%|██████████| 22368/22368 [05:22<00:00, 69.42batch/s, loss=3.52]\n"
     ]
    },
    {
     "name": "stdout",
     "output_type": "stream",
     "text": [
      "val loss=3.2932363775084537; val accuracy=3.117655798913278%\n"
     ]
    },
    {
     "name": "stderr",
     "output_type": "stream",
     "text": [
      "Epoch 18/20: 100%|██████████| 22368/22368 [05:22<00:00, 69.42batch/s, loss=3.59]\n"
     ]
    },
    {
     "name": "stdout",
     "output_type": "stream",
     "text": [
      "val loss=3.2965673650574923; val accuracy=0.5138045018604643%\n"
     ]
    },
    {
     "name": "stderr",
     "output_type": "stream",
     "text": [
      "Epoch 19/20: 100%|██████████| 22368/22368 [05:22<00:00, 69.45batch/s, loss=3.62]\n"
     ]
    },
    {
     "name": "stdout",
     "output_type": "stream",
     "text": [
      "val loss=3.287545087750323; val accuracy=0.5138045018604643%\n"
     ]
    },
    {
     "name": "stderr",
     "output_type": "stream",
     "text": [
      "Epoch 20/20: 100%|██████████| 22368/22368 [05:21<00:00, 69.57batch/s, loss=3.59]\n"
     ]
    },
    {
     "name": "stdout",
     "output_type": "stream",
     "text": [
      "val loss=3.2864494013621; val accuracy=2.392801624491348%\n"
     ]
    },
    {
     "data": {
      "text/plain": [
       "<Figure size 1000x600 with 1 Axes>"
      ],
      "image/png": "[encoded data removed]"
     },
     "metadata": {},
     "output_type": "display_data"
    },
    {
     "data": {
      "text/plain": [
       "<Figure size 1000x600 with 1 Axes>"
      ],
      "image/png": "[encoded data removed]"
     },
     "metadata": {},
     "output_type": "display_data"
    },
    {
     "data": {
      "text/plain": [
       "<Figure size 1000x600 with 1 Axes>"
      ],
      "image/png": "[encoded data removed]"
     },
     "metadata": {},
     "output_type": "display_data"
    }
   ],
   "execution_count": 125
  }
 ],
 "metadata": {
  "kernelspec": {
   "display_name": "Python 3",
   "language": "python",
   "name": "python3"
  },
  "language_info": {
   "codemirror_mode": {
    "name": "ipython",
    "version": 2
   },
   "file_extension": ".py",
   "mimetype": "text/x-python",
   "name": "python",
   "nbconvert_exporter": "python",
   "pygments_lexer": "ipython2",
   "version": "2.7.6"
  }
 },
 "nbformat": 4,
 "nbformat_minor": 5
}
