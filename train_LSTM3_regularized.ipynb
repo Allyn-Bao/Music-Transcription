{
 "cells": [
  {
   "cell_type": "code",
   "id": "initial_id",
   "metadata": {
    "collapsed": true,
    "ExecuteTime": {
     "end_time": "2024-11-24T23:04:23.820282Z",
     "start_time": "2024-11-24T23:04:23.817282Z"
    }
   },
   "source": [
    "import torch\n",
    "import torch.nn as nn\n",
    "from torch.utils.data import Dataset, DataLoader\n",
    "from torchvision import models, transforms\n",
    "\n",
    "import json\n",
    "import numpy as np\n",
    "import pandas as pd\n",
    "from tqdm import tqdm\n",
    "from tqdm.autonotebook import tqdm\n",
    "\n",
    "import os\n",
    "import matplotlib.pyplot as plt"
   ],
   "outputs": [],
   "execution_count": 10
  },
  {
   "metadata": {
    "ExecuteTime": {
     "end_time": "2024-11-24T23:04:23.837651Z",
     "start_time": "2024-11-24T23:04:23.835195Z"
    }
   },
   "cell_type": "code",
   "source": [
    "# Metal GPU support\n",
    "if torch.backends.mps.is_available():\n",
    "    device = torch.device(\"mps\")  # \"mps\" stands for Metal Performance Shaders (Apple's Metal API)\n",
    "    print(\"Using Apple Metal GPU.\")\n",
    "else:\n",
    "    device = torch.device(\"cpu\")  # Fallback to CPU\n",
    "    print(\"Using CPU.\")"
   ],
   "id": "e95cda82a2d2da4a",
   "outputs": [
    {
     "name": "stdout",
     "output_type": "stream",
     "text": [
      "Using Apple Metal GPU.\n"
     ]
    }
   ],
   "execution_count": 11
  },
  {
   "metadata": {
    "ExecuteTime": {
     "end_time": "2024-11-24T23:04:23.981818Z",
     "start_time": "2024-11-24T23:04:23.978107Z"
    }
   },
   "cell_type": "code",
   "source": [
    "# chord name to index mapping\n",
    "chord_to_int = {'A#:maj': 0, 'A:maj': 1, 'A:min': 2, 'Ab:maj': 3, 'Ab:min': 4, 'B:maj': 5, 'B:min': 6, 'Bb:maj': 7, 'Bb:min': 8, 'C#:maj': 9, 'C#:min': 10, 'C:maj': 11, 'C:min': 12, 'Cb:maj': 13, 'D#:maj': 14, 'D#:min': 15, 'D:maj': 16, 'D:min': 17, 'Db:maj': 18, 'Db:min': 19, 'E:maj': 20, 'E:min': 21, 'Eb:maj': 22, 'Eb:min': 23, 'F#:maj': 24, 'F#:min': 25, 'F:maj': 26, 'F:min': 27, 'Fb:maj': 28, 'G#:maj': 29, 'G#:min': 30, 'G:maj': 31, 'G:min': 32, 'Gb:maj': 33, 'Gb:min': 34, 'N': 35, 'X': 36}\n",
    "\n",
    "int_to_chord = {0: 'A#:maj', 1: 'A:maj', 2: 'A:min', 3: 'Ab:maj', 4: 'Ab:min', 5: 'B:maj', 6: 'B:min', 7: 'Bb:maj', 8: 'Bb:min', 9: 'C#:maj', 10: 'C#:min', 11: 'C:maj', 12: 'C:min', 13: 'Cb:maj', 14: 'D#:maj', 15: 'D#:min', 16: 'D:maj', 17: 'D:min', 18: 'Db:maj', 19: 'Db:min', 20: 'E:maj', 21: 'E:min', 22: 'Eb:maj', 23: 'Eb:min', 24: 'F#:maj', 25: 'F#:min', 26: 'F:maj', 27: 'F:min', 28: 'Fb:maj', 29: 'G#:maj', 30: 'G#:min', 31: 'G:maj', 32: 'G:min', 33: 'Gb:maj', 34: 'Gb:min', 35: 'N', 36: 'X'}"
   ],
   "id": "b9dabc2da22cdf39",
   "outputs": [],
   "execution_count": 12
  },
  {
   "metadata": {
    "ExecuteTime": {
     "end_time": "2024-11-24T23:04:23.988613Z",
     "start_time": "2024-11-24T23:04:23.986323Z"
    }
   },
   "cell_type": "code",
   "source": [
    "import os\n",
    "\n",
    "def get_csv_file_paths(directory_path):\n",
    "    \"\"\"\n",
    "    Given a directory path, go through each CSV file in the directory,\n",
    "    append their paths into a list, and return the list.\n",
    "\n",
    "    Args:\n",
    "        directory_path (str): Path to the directory containing CSV files.\n",
    "\n",
    "    Returns:\n",
    "        list: List of file paths to all CSV files in the directory.\n",
    "    \"\"\"\n",
    "    csv_file_paths = []\n",
    "    \n",
    "    # Check if the provided path is valid\n",
    "    if not os.path.isdir(directory_path):\n",
    "        raise ValueError(f\"The provided path '{directory_path}' is not a valid directory.\")\n",
    "    \n",
    "    # Iterate over all files in the directory\n",
    "    for filename in os.listdir(directory_path):\n",
    "        # Check if the file has a .csv extension\n",
    "        if filename.endswith(\".csv\"):\n",
    "            # Append the full path to the list\n",
    "            full_path = os.path.join(directory_path, filename)\n",
    "            csv_file_paths.append(full_path)\n",
    "    \n",
    "    return csv_file_paths"
   ],
   "id": "3f39fa5c1d0f7863",
   "outputs": [],
   "execution_count": 13
  },
  {
   "metadata": {
    "ExecuteTime": {
     "end_time": "2024-11-24T23:04:24.056036Z",
     "start_time": "2024-11-24T23:04:24.052077Z"
    }
   },
   "cell_type": "code",
   "source": [
    "import torch\n",
    "from torch.utils.data import Dataset\n",
    "import pandas as pd\n",
    "import numpy as np\n",
    "import os\n",
    "\n",
    "class AudioChordDataset(Dataset):\n",
    "    def __init__(self, csv_dir, csv_file_names, N, chord_to_int):\n",
    "        \"\"\"\n",
    "        Args:\n",
    "            csv_dir (str): Directory containing the CSV files.\n",
    "            csv_file_names (list of str): List of CSV file names.\n",
    "            N (int): Number of timestamps in each block (sliding window size).\n",
    "            chord_to_int (dict): Mapping of chord names to integers.\n",
    "        \"\"\"\n",
    "        self.csv_file_names = csv_file_names\n",
    "        self.N = N\n",
    "        self.data = []\n",
    "        self.labels = []\n",
    "        self.chord_to_int = chord_to_int\n",
    "\n",
    "        # Load and process each CSV file\n",
    "        for file_name in self.csv_file_names:\n",
    "            file_path = os.path.join(csv_dir, file_name)\n",
    "            df = pd.read_csv(file_path)\n",
    "            \n",
    "            # Get frequency domain values and labels as numpy arrays\n",
    "            freq_data = df.iloc[:, 1:25].values  # Select the 25 frequency columns\n",
    "            chord_labels = df.iloc[:, 25].values  # Select the label column\n",
    "            \n",
    "            # Append data blocks and labels using a sliding window approach\n",
    "            for i in range(len(freq_data) - N + 1):\n",
    "                block = freq_data[i:i + N]  # N x 26\n",
    "                block_labels = chord_labels[i:i + N]  # Labels in the block\n",
    "                \n",
    "                # Map all chord labels in the block to integers\n",
    "                numeric_labels = [\n",
    "                    self.chord_to_int.get(label, self.chord_to_int[\"X\"])  # Default to \"X\" if unknown\n",
    "                    for label in block_labels\n",
    "                ]\n",
    "                \n",
    "                self.data.append(block)\n",
    "                self.labels.append(numeric_labels)\n",
    "\n",
    "    def __len__(self):\n",
    "        return len(self.data)\n",
    "\n",
    "    def __getitem__(self, idx):\n",
    "        block = torch.tensor(self.data[idx], dtype=torch.float32)  # Shape: 1 x N x 25\n",
    "        label = torch.tensor(self.labels[idx], dtype=torch.long)  # Shape: N\n",
    "        return block, label"
   ],
   "id": "31406612bc1ed076",
   "outputs": [],
   "execution_count": 14
  },
  {
   "metadata": {
    "ExecuteTime": {
     "end_time": "2024-11-24T23:04:24.126403Z",
     "start_time": "2024-11-24T23:04:24.123566Z"
    }
   },
   "cell_type": "code",
   "source": [
    "import torch.nn as nn\n",
    " \n",
    "class LSTM_Model(nn.Module):\n",
    "    def __init__(self, input_size=24, hidden_size=50, output_size=37):  # Assuming 10 possible chords\n",
    "        super().__init__()\n",
    "        self.lstm = nn.LSTM(input_size=input_size, hidden_size=hidden_size, bidirectional=True, num_layers=3, batch_first=True, dropout=0.5)\n",
    "        self.linear = nn.Linear(hidden_size*2, output_size)\n",
    "\n",
    "    def forward(self, x):\n",
    "        x, _ = self.lstm(x)  # LSTM output shape: (batch_size, seq_len, hidden_size)\n",
    "        x = self.linear(x)  # Linear output shape: (batch_size, seq_len, output_size)\n",
    "        return x"
   ],
   "id": "746ffaf3856175b3",
   "outputs": [],
   "execution_count": 15
  },
  {
   "metadata": {
    "ExecuteTime": {
     "end_time": "2024-11-24T23:04:24.196276Z",
     "start_time": "2024-11-24T23:04:24.193863Z"
    }
   },
   "cell_type": "code",
   "source": [
    "def read_list_from_json(file_path):\n",
    "    \"\"\"\n",
    "    Reads a JSON file and returns the original Python list.\n",
    "\n",
    "    Args:\n",
    "        file_path (str): Path to the JSON file.\n",
    "\n",
    "    Returns:\n",
    "        list: List read from the JSON file.\n",
    "\n",
    "    Raises:\n",
    "        ValueError: If the JSON file content is not a list.\n",
    "    \"\"\"\n",
    "    with open(file_path, 'r') as json_file:\n",
    "        data = json.load(json_file)\n",
    "    \n",
    "    if not isinstance(data, list):\n",
    "        raise ValueError(\"The content of the JSON file is not a list.\")\n",
    "    \n",
    "    return data"
   ],
   "id": "4fd67417d2858819",
   "outputs": [],
   "execution_count": 16
  },
  {
   "metadata": {
    "ExecuteTime": {
     "end_time": "2024-11-24T23:04:24.279985Z",
     "start_time": "2024-11-24T23:04:24.276732Z"
    }
   },
   "cell_type": "code",
   "source": [
    "train_csv_file_names = read_list_from_json(os.path.join(\"train_test_split\", \"train_csv_paths.json\"))\n",
    "val_csv_file_names = read_list_from_json(os.path.join(\"train_test_split\", \"val_csv_paths.json\"))\n",
    "test_csv_file_names = read_list_from_json(os.path.join(\"train_test_split\", \"test_csv_paths.json\"))\n",
    "\n",
    "csv_dir = \"processed_data\""
   ],
   "id": "f0750afe9602d3b3",
   "outputs": [],
   "execution_count": 17
  },
  {
   "metadata": {
    "ExecuteTime": {
     "end_time": "2024-11-26T02:00:35.193295Z",
     "start_time": "2024-11-24T23:04:24.420540Z"
    }
   },
   "cell_type": "code",
   "source": [
    "from torch.utils.data import Subset\n",
    "\n",
    "# Hyperparameters\n",
    "win_size = 32\n",
    "num_models = 5\n",
    "batch_size = 32\n",
    "num_epochs = 20\n",
    "learning_rate = 0.001\n",
    "num_classes = 37\n",
    "\n",
    "hidden_size = 128\n",
    "\n",
    "# fraction training set\n",
    "fraction = 0.1\n",
    "\n",
    "results = {}\n",
    "\n",
    "for i in range(num_models):\n",
    "    step_size = win_size // 2   # half overlapping windows\n",
    "\n",
    "    # load datasets\n",
    "    # Load full training dataset\n",
    "    full_train_dataset = AudioChordDataset(csv_dir, train_csv_file_names, win_size, chord_to_int)\n",
    "    # Get subset indices\n",
    "    subset_size = int(fraction * len(full_train_dataset))\n",
    "    subset_indices = np.random.choice(len(full_train_dataset), subset_size, replace=False)\n",
    "    # Create subset dataset\n",
    "    train_dataset = Subset(full_train_dataset, subset_indices)\n",
    "    \n",
    "    # class weight to make up for uneven dataset labels\n",
    "    # Step 1: Compute class weights\n",
    "    # Flatten all labels across the dataset\n",
    "    all_labels = [label for idx in range(len(train_dataset)) for label in train_dataset[idx][1].tolist()]\n",
    "    labels_counts = np.bincount(all_labels)  # Count occurrences for each label\n",
    "    class_weights = 1.0 / (labels_counts + 1e-6)  # Avoid division by zero\n",
    "    class_weights = torch.tensor(class_weights, dtype=torch.float32)  # Convert to tensor\n",
    "\n",
    "    # # training dataloader with sampler applied\n",
    "    train_dataloader = DataLoader(train_dataset, batch_size=batch_size, shuffle=False)\n",
    "\n",
    "    val_dataset = AudioChordDataset(csv_dir, val_csv_file_names, win_size, chord_to_int)\n",
    "    val_dataloader = DataLoader(val_dataset, batch_size=batch_size, shuffle=False)\n",
    "\n",
    "    test_dataset = AudioChordDataset(csv_dir, test_csv_file_names, win_size, chord_to_int)\n",
    "    test_dataloader = DataLoader(test_dataset, batch_size=batch_size, shuffle=False)\n",
    "\n",
    "    # initialize model, loss function, optimizer\n",
    "    model = LSTM_Model(hidden_size=hidden_size).to(device)\n",
    "    criterion = torch.nn.CrossEntropyLoss(weight=class_weights).to(device)\n",
    "    optimizer = torch.optim.Adam(model.parameters(), lr=learning_rate)\n",
    "    # Learning rate scheduler\n",
    "    # scheduler = torch.optim.lr_scheduler.ReduceLROnPlateau(optimizer, mode='min', factor=0.1, patience=5)\n",
    "\n",
    "    # record losses\n",
    "    train_losses_cross_epoch = []\n",
    "    val_losses_cross_epoch = []\n",
    "    val_accuracy_cross_epoch = []\n",
    "\n",
    "    # train loop\n",
    "    for epoch in range(num_epochs):\n",
    "        train_loss_per_epoch = []\n",
    "        with tqdm(total=len(train_dataloader), desc=f\"Epoch {epoch+1}/{num_epochs}\", unit=\"batch\") as pbar:\n",
    "            for _, (win_chroma, win_label) in enumerate(train_dataloader):\n",
    "                X = win_chroma.to(device)\n",
    "                Y = win_label.to(device)\n",
    "                \n",
    "                # train\n",
    "                optimizer.zero_grad()\n",
    "                prediction = model(X)\n",
    "                prediction = prediction.view(-1, prediction.shape[-1])  # Shape: (batch_size * seq_len, num_classes)\n",
    "                Y = Y.view(-1)  # Shape: (batch_size * seq_len)\n",
    "\n",
    "                loss = criterion(prediction, Y)\n",
    "                loss.backward()\n",
    "                optimizer.step()\n",
    "\n",
    "                # update progress bar\n",
    "                pbar.set_postfix({\"loss\": loss.item()})     # display current loss\n",
    "                pbar.update(1)      # advance progress bar by 1 batch\n",
    "\n",
    "                # train loss per batch\n",
    "                train_loss_per_epoch.append(loss.item())\n",
    "            \n",
    "        # calculate train loss for each epoch\n",
    "        mean_train_loss_per_epoch = np.mean(train_loss_per_epoch)\n",
    "        train_losses_cross_epoch.append(mean_train_loss_per_epoch)\n",
    "\n",
    "        # evaluation\n",
    "        model.eval()\n",
    "        val_losses = []\n",
    "        num_correct_per_epoch = 0\n",
    "        num_total_per_epoch = 0\n",
    "        with torch.no_grad():\n",
    "            for _, (val_win_chroma, val_win_label) in enumerate(val_dataloader):\n",
    "                val_X = val_win_chroma.to(device)\n",
    "                val_Y = val_win_label.to(device)\n",
    "\n",
    "                val_predictions = model(val_X)\n",
    "                val_predictions = val_predictions.view(-1, val_predictions.shape[-1])  # Shape: (batch_size * seq_len, num_classes)\n",
    "                val_Y = val_Y.view(-1)  # Shape: (batch_size * seq_len)\n",
    "                val_loss = criterion(val_predictions, val_Y).to('cpu')\n",
    "\n",
    "                # val loss per batch\n",
    "                val_losses.append(val_loss.item())\n",
    "\n",
    "                # val accuracy per batch\n",
    "                _, predicted_class = torch.max(val_predictions, 1)\n",
    "                num_correct = (predicted_class == val_Y).sum().item()\n",
    "                num_total_per_batch = val_Y.size(0)\n",
    "                batch_accuracy = num_correct / num_total_per_batch\n",
    "\n",
    "                # accumulate correct and total predictions from each batch\n",
    "                num_correct_per_epoch += num_correct\n",
    "                num_total_per_epoch += num_total_per_batch\n",
    "\n",
    "        # calculate evaluation loss for each epoch\n",
    "        mean_val_loss_per_epoch = np.mean(val_losses)\n",
    "        mean_val_loss = np.mean(val_losses)\n",
    "        val_losses_cross_epoch.append(mean_val_loss_per_epoch)\n",
    "\n",
    "        # calculate accuracy per epoch\n",
    "        val_accuracy = 100 * num_correct_per_epoch / num_total_per_epoch\n",
    "        val_accuracy_cross_epoch.append(val_accuracy)\n",
    "\n",
    "        # display loss & accuracy in progress bar\n",
    "        print(f\"val loss={mean_val_loss_per_epoch}; val accuracy={val_accuracy}%\")\n",
    "        \n",
    "        # switch back to train mode\n",
    "        model.train()\n",
    "        \n",
    "        # learning rate scheduler\n",
    "        # scheduler.step(mean_val_loss)\n",
    "    \n",
    "    print(i)\n",
    "    # save loss and accuracy\n",
    "    results[i] = {\n",
    "        \"train_losses\": train_losses_cross_epoch,\n",
    "        \"val_losses\": val_losses_cross_epoch,\n",
    "        \"val_accuracies\": val_accuracy_cross_epoch\n",
    "    }\n",
    "    \n",
    "print(results)\n",
    "\n",
    "# 1. Training Loss\n",
    "plt.figure(figsize=(10, 6))\n",
    "for i in range(num_models):\n",
    "    plt.plot(results[i][\"train_losses\"], label=f\"Model {i}\")\n",
    "plt.xlabel(\"Epoch\")\n",
    "plt.ylabel(\"Training Loss\")\n",
    "plt.title(f\"Training Loss per Epoch\")\n",
    "plt.legend()\n",
    "plt.show()\n",
    "\n",
    "# 2. Validation Loss\n",
    "plt.figure(figsize=(10, 6))\n",
    "for i in range(num_models):\n",
    "    plt.plot(results[i][\"val_losses\"], label=f\"Model {i}\")\n",
    "plt.xlabel(\"Epoch\")\n",
    "plt.ylabel(\"Validation Loss\")\n",
    "plt.title(f\"Validation Loss per Epoch\")\n",
    "plt.legend()\n",
    "plt.show()\n",
    "\n",
    "# 3. Validation Accuracy\n",
    "plt.figure(figsize=(10, 6))\n",
    "for i in range(num_models):\n",
    "    plt.plot(results[i][\"val_accuracies\"], label=f\"Model {i}\")\n",
    "plt.xlabel(\"Epoch\")\n",
    "plt.ylabel(\"Validation Accuracy (%)\")\n",
    "plt.title(f\"Validation Accuracy per Epoch\")\n",
    "plt.legend()\n",
    "plt.show()\n",
    "plt.show()"
   ],
   "id": "74738d88b4d8d9aa",
   "outputs": [
    {
     "data": {
      "text/plain": [
       "Epoch 1/20:   0%|          | 0/9025 [00:00<?, ?batch/s]"
      ],
      "application/vnd.jupyter.widget-view+json": {
       "version_major": 2,
       "version_minor": 0,
       "model_id": "cc76f34b91404aa18615e2647e18f1e5"
      }
     },
     "metadata": {},
     "output_type": "display_data"
    },
    {
     "name": "stdout",
     "output_type": "stream",
     "text": [
      "val loss=1.5130562479890788; val accuracy=60.54509959777517%\n"
     ]
    },
    {
     "data": {
      "text/plain": [
       "Epoch 2/20:   0%|          | 0/9025 [00:00<?, ?batch/s]"
      ],
      "application/vnd.jupyter.widget-view+json": {
       "version_major": 2,
       "version_minor": 0,
       "model_id": "bcefcbda84ea4e88bc9f4f885812c8a4"
      }
     },
     "metadata": {},
     "output_type": "display_data"
    },
    {
     "name": "stdout",
     "output_type": "stream",
     "text": [
      "val loss=1.4933293464901827; val accuracy=61.22018066849482%\n"
     ]
    },
    {
     "data": {
      "text/plain": [
       "Epoch 3/20:   0%|          | 0/9025 [00:00<?, ?batch/s]"
      ],
      "application/vnd.jupyter.widget-view+json": {
       "version_major": 2,
       "version_minor": 0,
       "model_id": "27a9733cf338418b98662a2d0164cd74"
      }
     },
     "metadata": {},
     "output_type": "display_data"
    },
    {
     "name": "stdout",
     "output_type": "stream",
     "text": [
      "val loss=1.4600323483177415; val accuracy=63.11455031295595%\n"
     ]
    },
    {
     "data": {
      "text/plain": [
       "Epoch 4/20:   0%|          | 0/9025 [00:00<?, ?batch/s]"
      ],
      "application/vnd.jupyter.widget-view+json": {
       "version_major": 2,
       "version_minor": 0,
       "model_id": "976f009d68a845a6b33224d1af82cdae"
      }
     },
     "metadata": {},
     "output_type": "display_data"
    },
    {
     "name": "stdout",
     "output_type": "stream",
     "text": [
      "val loss=1.477980241525189; val accuracy=63.15311534141585%\n"
     ]
    },
    {
     "data": {
      "text/plain": [
       "Epoch 5/20:   0%|          | 0/9025 [00:00<?, ?batch/s]"
      ],
      "application/vnd.jupyter.widget-view+json": {
       "version_major": 2,
       "version_minor": 0,
       "model_id": "2f802692cd9e4966bab46a5a3cbedc2e"
      }
     },
     "metadata": {},
     "output_type": "display_data"
    },
    {
     "name": "stdout",
     "output_type": "stream",
     "text": [
      "val loss=1.4845101146185649; val accuracy=63.42933797658256%\n"
     ]
    },
    {
     "data": {
      "text/plain": [
       "Epoch 6/20:   0%|          | 0/9025 [00:00<?, ?batch/s]"
      ],
      "application/vnd.jupyter.widget-view+json": {
       "version_major": 2,
       "version_minor": 0,
       "model_id": "a006fa6ebc0a4b798f53ac17a12102a9"
      }
     },
     "metadata": {},
     "output_type": "display_data"
    },
    {
     "name": "stdout",
     "output_type": "stream",
     "text": [
      "val loss=1.5139087903139463; val accuracy=63.5271367105011%\n"
     ]
    },
    {
     "data": {
      "text/plain": [
       "Epoch 7/20:   0%|          | 0/9025 [00:00<?, ?batch/s]"
      ],
      "application/vnd.jupyter.widget-view+json": {
       "version_major": 2,
       "version_minor": 0,
       "model_id": "0fcbad9049b945bb86b5152d913c937b"
      }
     },
     "metadata": {},
     "output_type": "display_data"
    },
    {
     "name": "stdout",
     "output_type": "stream",
     "text": [
      "val loss=1.5299201632415582; val accuracy=63.44554617981462%\n"
     ]
    },
    {
     "data": {
      "text/plain": [
       "Epoch 8/20:   0%|          | 0/9025 [00:00<?, ?batch/s]"
      ],
      "application/vnd.jupyter.widget-view+json": {
       "version_major": 2,
       "version_minor": 0,
       "model_id": "838b511e9825463e87a5c4a0e3d6c125"
      }
     },
     "metadata": {},
     "output_type": "display_data"
    },
    {
     "name": "stdout",
     "output_type": "stream",
     "text": [
      "val loss=1.5357999992075322; val accuracy=63.24710707830156%\n"
     ]
    },
    {
     "data": {
      "text/plain": [
       "Epoch 9/20:   0%|          | 0/9025 [00:00<?, ?batch/s]"
      ],
      "application/vnd.jupyter.widget-view+json": {
       "version_major": 2,
       "version_minor": 0,
       "model_id": "9df201ab53064817afd61164d3be9910"
      }
     },
     "metadata": {},
     "output_type": "display_data"
    },
    {
     "name": "stdout",
     "output_type": "stream",
     "text": [
      "val loss=1.5392919821750992; val accuracy=63.70264471935352%\n"
     ]
    },
    {
     "data": {
      "text/plain": [
       "Epoch 10/20:   0%|          | 0/9025 [00:00<?, ?batch/s]"
      ],
      "application/vnd.jupyter.widget-view+json": {
       "version_major": 2,
       "version_minor": 0,
       "model_id": "c5df62d3babd4d23a3ea8ef8557af6d7"
      }
     },
     "metadata": {},
     "output_type": "display_data"
    },
    {
     "name": "stdout",
     "output_type": "stream",
     "text": [
      "val loss=1.5556649702622192; val accuracy=63.46782874632271%\n"
     ]
    },
    {
     "data": {
      "text/plain": [
       "Epoch 11/20:   0%|          | 0/9025 [00:00<?, ?batch/s]"
      ],
      "application/vnd.jupyter.widget-view+json": {
       "version_major": 2,
       "version_minor": 0,
       "model_id": "0a7da8cd2dee41a79f03e3e74874e3a4"
      }
     },
     "metadata": {},
     "output_type": "display_data"
    },
    {
     "name": "stdout",
     "output_type": "stream",
     "text": [
      "val loss=1.559423695179177; val accuracy=63.57023152086611%\n"
     ]
    },
    {
     "data": {
      "text/plain": [
       "Epoch 12/20:   0%|          | 0/9025 [00:00<?, ?batch/s]"
      ],
      "application/vnd.jupyter.widget-view+json": {
       "version_major": 2,
       "version_minor": 0,
       "model_id": "5df943ffdca8489189bba3a9fb32d82e"
      }
     },
     "metadata": {},
     "output_type": "display_data"
    },
    {
     "name": "stdout",
     "output_type": "stream",
     "text": [
      "val loss=1.5771216085591513; val accuracy=63.31088541740925%\n"
     ]
    },
    {
     "data": {
      "text/plain": [
       "Epoch 13/20:   0%|          | 0/9025 [00:00<?, ?batch/s]"
      ],
      "application/vnd.jupyter.widget-view+json": {
       "version_major": 2,
       "version_minor": 0,
       "model_id": "34d5fd9726b14e9eb2547ad0ee5aa539"
      }
     },
     "metadata": {},
     "output_type": "display_data"
    },
    {
     "name": "stdout",
     "output_type": "stream",
     "text": [
      "val loss=1.570314757157773; val accuracy=63.49404702497786%\n"
     ]
    },
    {
     "data": {
      "text/plain": [
       "Epoch 14/20:   0%|          | 0/9025 [00:00<?, ?batch/s]"
      ],
      "application/vnd.jupyter.widget-view+json": {
       "version_major": 2,
       "version_minor": 0,
       "model_id": "540ae719d1314fca9d6c38295b2e6998"
      }
     },
     "metadata": {},
     "output_type": "display_data"
    },
    {
     "name": "stdout",
     "output_type": "stream",
     "text": [
      "val loss=1.588652771714083; val accuracy=63.36410416656766%\n"
     ]
    },
    {
     "data": {
      "text/plain": [
       "Epoch 15/20:   0%|          | 0/9025 [00:00<?, ?batch/s]"
      ],
      "application/vnd.jupyter.widget-view+json": {
       "version_major": 2,
       "version_minor": 0,
       "model_id": "a7f95aff401f4791a1c8817825c19df7"
      }
     },
     "metadata": {},
     "output_type": "display_data"
    },
    {
     "name": "stdout",
     "output_type": "stream",
     "text": [
      "val loss=1.5920464537308894; val accuracy=63.265998496607466%\n"
     ]
    },
    {
     "data": {
      "text/plain": [
       "Epoch 16/20:   0%|          | 0/9025 [00:00<?, ?batch/s]"
      ],
      "application/vnd.jupyter.widget-view+json": {
       "version_major": 2,
       "version_minor": 0,
       "model_id": "24520ea141734cb9b60155af83764cf5"
      }
     },
     "metadata": {},
     "output_type": "display_data"
    },
    {
     "name": "stdout",
     "output_type": "stream",
     "text": [
      "val loss=1.578179018936698; val accuracy=63.69302573985448%\n"
     ]
    },
    {
     "data": {
      "text/plain": [
       "Epoch 17/20:   0%|          | 0/9025 [00:00<?, ?batch/s]"
      ],
      "application/vnd.jupyter.widget-view+json": {
       "version_major": 2,
       "version_minor": 0,
       "model_id": "c5e66d2b659f42d7b58cf69a77664b40"
      }
     },
     "metadata": {},
     "output_type": "display_data"
    },
    {
     "name": "stdout",
     "output_type": "stream",
     "text": [
      "val loss=1.5816920527086642; val accuracy=63.57592468938073%\n"
     ]
    },
    {
     "data": {
      "text/plain": [
       "Epoch 18/20:   0%|          | 0/9025 [00:00<?, ?batch/s]"
      ],
      "application/vnd.jupyter.widget-view+json": {
       "version_major": 2,
       "version_minor": 0,
       "model_id": "9a76408c21bd413bbf6a3d972b979ab2"
      }
     },
     "metadata": {},
     "output_type": "display_data"
    },
    {
     "name": "stdout",
     "output_type": "stream",
     "text": [
      "val loss=1.5763496890539324; val accuracy=63.59707852334853%\n"
     ]
    },
    {
     "data": {
      "text/plain": [
       "Epoch 19/20:   0%|          | 0/9025 [00:00<?, ?batch/s]"
      ],
      "application/vnd.jupyter.widget-view+json": {
       "version_major": 2,
       "version_minor": 0,
       "model_id": "d1fc7c6bce2c4400b5088467e9b96d19"
      }
     },
     "metadata": {},
     "output_type": "display_data"
    },
    {
     "name": "stdout",
     "output_type": "stream",
     "text": [
      "val loss=1.5661569464085063; val accuracy=63.643762505168404%\n"
     ]
    },
    {
     "data": {
      "text/plain": [
       "Epoch 20/20:   0%|          | 0/9025 [00:00<?, ?batch/s]"
      ],
      "application/vnd.jupyter.widget-view+json": {
       "version_major": 2,
       "version_minor": 0,
       "model_id": "61f7fb8c1adc4f2e9190e9d496280c69"
      }
     },
     "metadata": {},
     "output_type": "display_data"
    },
    {
     "name": "stdout",
     "output_type": "stream",
     "text": [
      "val loss=1.5774008716433128; val accuracy=63.63739110701335%\n",
      "0\n"
     ]
    },
    {
     "data": {
      "text/plain": [
       "Epoch 1/20:   0%|          | 0/9025 [00:00<?, ?batch/s]"
      ],
      "application/vnd.jupyter.widget-view+json": {
       "version_major": 2,
       "version_minor": 0,
       "model_id": "29595fb4a01b49aeb38531a74d21c8fc"
      }
     },
     "metadata": {},
     "output_type": "display_data"
    },
    {
     "name": "stdout",
     "output_type": "stream",
     "text": [
      "val loss=1.483627241082369; val accuracy=60.87813510413647%\n"
     ]
    },
    {
     "data": {
      "text/plain": [
       "Epoch 2/20:   0%|          | 0/9025 [00:00<?, ?batch/s]"
      ],
      "application/vnd.jupyter.widget-view+json": {
       "version_major": 2,
       "version_minor": 0,
       "model_id": "2b12953e2f884d728824ee38a8b05e2b"
      }
     },
     "metadata": {},
     "output_type": "display_data"
    },
    {
     "name": "stdout",
     "output_type": "stream",
     "text": [
      "val loss=1.4610897089022474; val accuracy=62.286912128369764%\n"
     ]
    },
    {
     "data": {
      "text/plain": [
       "Epoch 3/20:   0%|          | 0/9025 [00:00<?, ?batch/s]"
      ],
      "application/vnd.jupyter.widget-view+json": {
       "version_major": 2,
       "version_minor": 0,
       "model_id": "d8c7d01181df45368088d31e5c0c1c4b"
      }
     },
     "metadata": {},
     "output_type": "display_data"
    },
    {
     "name": "stdout",
     "output_type": "stream",
     "text": [
      "val loss=1.4534903145432752; val accuracy=63.02849435792148%\n"
     ]
    },
    {
     "data": {
      "text/plain": [
       "Epoch 4/20:   0%|          | 0/9025 [00:00<?, ?batch/s]"
      ],
      "application/vnd.jupyter.widget-view+json": {
       "version_major": 2,
       "version_minor": 0,
       "model_id": "5dc86376a24a461481b0439a6b2486db"
      }
     },
     "metadata": {},
     "output_type": "display_data"
    },
    {
     "name": "stdout",
     "output_type": "stream",
     "text": [
      "val loss=1.4940448554131025; val accuracy=62.77879198687027%\n"
     ]
    },
    {
     "data": {
      "text/plain": [
       "Epoch 5/20:   0%|          | 0/9025 [00:00<?, ?batch/s]"
      ],
      "application/vnd.jupyter.widget-view+json": {
       "version_major": 2,
       "version_minor": 0,
       "model_id": "ffe06a237fad4aceb8966221755fe8a6"
      }
     },
     "metadata": {},
     "output_type": "display_data"
    },
    {
     "name": "stdout",
     "output_type": "stream",
     "text": [
      "val loss=1.4910365229069293; val accuracy=63.513042405491426%\n"
     ]
    },
    {
     "data": {
      "text/plain": [
       "Epoch 6/20:   0%|          | 0/9025 [00:00<?, ?batch/s]"
      ],
      "application/vnd.jupyter.widget-view+json": {
       "version_major": 2,
       "version_minor": 0,
       "model_id": "79ef7781e90246acbde036b4f34a6bf2"
      }
     },
     "metadata": {},
     "output_type": "display_data"
    },
    {
     "name": "stdout",
     "output_type": "stream",
     "text": [
      "val loss=1.500245948958799; val accuracy=63.67831756276149%\n"
     ]
    },
    {
     "data": {
      "text/plain": [
       "Epoch 7/20:   0%|          | 0/9025 [00:00<?, ?batch/s]"
      ],
      "application/vnd.jupyter.widget-view+json": {
       "version_major": 2,
       "version_minor": 0,
       "model_id": "7bd2c3b65834445fa454acec117d02e6"
      }
     },
     "metadata": {},
     "output_type": "display_data"
    },
    {
     "name": "stdout",
     "output_type": "stream",
     "text": [
      "val loss=1.524126213570845; val accuracy=63.77586381703285%\n"
     ]
    },
    {
     "data": {
      "text/plain": [
       "Epoch 8/20:   0%|          | 0/9025 [00:00<?, ?batch/s]"
      ],
      "application/vnd.jupyter.widget-view+json": {
       "version_major": 2,
       "version_minor": 0,
       "model_id": "15952fb6b9494438bff04874fb487d2f"
      }
     },
     "metadata": {},
     "output_type": "display_data"
    },
    {
     "name": "stdout",
     "output_type": "stream",
     "text": [
      "val loss=1.5451606626476686; val accuracy=63.72075889639265%\n"
     ]
    },
    {
     "data": {
      "text/plain": [
       "Epoch 9/20:   0%|          | 0/9025 [00:00<?, ?batch/s]"
      ],
      "application/vnd.jupyter.widget-view+json": {
       "version_major": 2,
       "version_minor": 0,
       "model_id": "36c263224090487fbecfdaff2fcb12d5"
      }
     },
     "metadata": {},
     "output_type": "display_data"
    },
    {
     "name": "stdout",
     "output_type": "stream",
     "text": [
      "val loss=1.5496484956011454; val accuracy=63.836706461419524%\n"
     ]
    },
    {
     "data": {
      "text/plain": [
       "Epoch 10/20:   0%|          | 0/9025 [00:00<?, ?batch/s]"
      ],
      "application/vnd.jupyter.widget-view+json": {
       "version_major": 2,
       "version_minor": 0,
       "model_id": "35bed0895de040f6b6779f3c19b91e76"
      }
     },
     "metadata": {},
     "output_type": "display_data"
    },
    {
     "name": "stdout",
     "output_type": "stream",
     "text": [
      "val loss=1.5594510178453191; val accuracy=63.79001752901833%\n"
     ]
    },
    {
     "data": {
      "text/plain": [
       "Epoch 11/20:   0%|          | 0/9025 [00:00<?, ?batch/s]"
      ],
      "application/vnd.jupyter.widget-view+json": {
       "version_major": 2,
       "version_minor": 0,
       "model_id": "bac4588d66f844649c9ace6819ff0c2f"
      }
     },
     "metadata": {},
     "output_type": "display_data"
    },
    {
     "name": "stdout",
     "output_type": "stream",
     "text": [
      "val loss=1.5605576349936081; val accuracy=63.7873392645258%\n"
     ]
    },
    {
     "data": {
      "text/plain": [
       "Epoch 12/20:   0%|          | 0/9025 [00:00<?, ?batch/s]"
      ],
      "application/vnd.jupyter.widget-view+json": {
       "version_major": 2,
       "version_minor": 0,
       "model_id": "29b7f630ac174bd494ef018485ee6e22"
      }
     },
     "metadata": {},
     "output_type": "display_data"
    },
    {
     "name": "stdout",
     "output_type": "stream",
     "text": [
      "val loss=1.5740346735744013; val accuracy=63.575533593456676%\n"
     ]
    },
    {
     "data": {
      "text/plain": [
       "Epoch 13/20:   0%|          | 0/9025 [00:00<?, ?batch/s]"
      ],
      "application/vnd.jupyter.widget-view+json": {
       "version_major": 2,
       "version_minor": 0,
       "model_id": "bb0b029242014920afee7b15f1be9bba"
      }
     },
     "metadata": {},
     "output_type": "display_data"
    },
    {
     "name": "stdout",
     "output_type": "stream",
     "text": [
      "val loss=1.572011660597175; val accuracy=63.66925304836995%\n"
     ]
    },
    {
     "data": {
      "text/plain": [
       "Epoch 14/20:   0%|          | 0/9025 [00:00<?, ?batch/s]"
      ],
      "application/vnd.jupyter.widget-view+json": {
       "version_major": 2,
       "version_minor": 0,
       "model_id": "6bf68628059643c49359d15c4c4dd52f"
      }
     },
     "metadata": {},
     "output_type": "display_data"
    },
    {
     "name": "stdout",
     "output_type": "stream",
     "text": [
      "val loss=1.5719653617962874; val accuracy=63.8062306828317%\n"
     ]
    },
    {
     "data": {
      "text/plain": [
       "Epoch 15/20:   0%|          | 0/9025 [00:00<?, ?batch/s]"
      ],
      "application/vnd.jupyter.widget-view+json": {
       "version_major": 2,
       "version_minor": 0,
       "model_id": "b1ba507a7bb6497abf98d4d67465cc13"
      }
     },
     "metadata": {},
     "output_type": "display_data"
    },
    {
     "name": "stdout",
     "output_type": "stream",
     "text": [
      "val loss=1.5748699063788048; val accuracy=63.448655144881734%\n"
     ]
    },
    {
     "data": {
      "text/plain": [
       "Epoch 16/20:   0%|          | 0/9025 [00:00<?, ?batch/s]"
      ],
      "application/vnd.jupyter.widget-view+json": {
       "version_major": 2,
       "version_minor": 0,
       "model_id": "ddefcfdbfdfd413a84e0cbe1a203bcf9"
      }
     },
     "metadata": {},
     "output_type": "display_data"
    },
    {
     "name": "stdout",
     "output_type": "stream",
     "text": [
      "val loss=1.574878379198855; val accuracy=63.92989125355056%\n"
     ]
    },
    {
     "data": {
      "text/plain": [
       "Epoch 17/20:   0%|          | 0/9025 [00:00<?, ?batch/s]"
      ],
      "application/vnd.jupyter.widget-view+json": {
       "version_major": 2,
       "version_minor": 0,
       "model_id": "c1b3db217e464769a3c24b9aa75b85b8"
      }
     },
     "metadata": {},
     "output_type": "display_data"
    },
    {
     "name": "stdout",
     "output_type": "stream",
     "text": [
      "val loss=1.5834625504721678; val accuracy=63.362069477646344%\n"
     ]
    },
    {
     "data": {
      "text/plain": [
       "Epoch 18/20:   0%|          | 0/9025 [00:00<?, ?batch/s]"
      ],
      "application/vnd.jupyter.widget-view+json": {
       "version_major": 2,
       "version_minor": 0,
       "model_id": "457465145482478db4d43e78a4c8630c"
      }
     },
     "metadata": {},
     "output_type": "display_data"
    },
    {
     "name": "stdout",
     "output_type": "stream",
     "text": [
      "val loss=1.5722737927120094; val accuracy=63.60306377616085%\n"
     ]
    },
    {
     "data": {
      "text/plain": [
       "Epoch 19/20:   0%|          | 0/9025 [00:00<?, ?batch/s]"
      ],
      "application/vnd.jupyter.widget-view+json": {
       "version_major": 2,
       "version_minor": 0,
       "model_id": "0c5e775732d7475ea37c8470d335bfaa"
      }
     },
     "metadata": {},
     "output_type": "display_data"
    },
    {
     "name": "stdout",
     "output_type": "stream",
     "text": [
      "val loss=1.567677115443161; val accuracy=63.703728896661964%\n"
     ]
    },
    {
     "data": {
      "text/plain": [
       "Epoch 20/20:   0%|          | 0/9025 [00:00<?, ?batch/s]"
      ],
      "application/vnd.jupyter.widget-view+json": {
       "version_major": 2,
       "version_minor": 0,
       "model_id": "05a0cdfeedf241729f1d78c6bfb8ded9"
      }
     },
     "metadata": {},
     "output_type": "display_data"
    },
    {
     "name": "stdout",
     "output_type": "stream",
     "text": [
      "val loss=1.5753369307574006; val accuracy=63.441862947314725%\n",
      "1\n"
     ]
    },
    {
     "data": {
      "text/plain": [
       "Epoch 1/20:   0%|          | 0/9025 [00:00<?, ?batch/s]"
      ],
      "application/vnd.jupyter.widget-view+json": {
       "version_major": 2,
       "version_minor": 0,
       "model_id": "fe4fef3229d44bfc84317f274b2f914d"
      }
     },
     "metadata": {},
     "output_type": "display_data"
    },
    {
     "name": "stdout",
     "output_type": "stream",
     "text": [
      "val loss=1.4944178992518378; val accuracy=61.113386728323185%\n"
     ]
    },
    {
     "data": {
      "text/plain": [
       "Epoch 2/20:   0%|          | 0/9025 [00:00<?, ?batch/s]"
      ],
      "application/vnd.jupyter.widget-view+json": {
       "version_major": 2,
       "version_minor": 0,
       "model_id": "d675ca077f1c490ea29cacb0e31523c4"
      }
     },
     "metadata": {},
     "output_type": "display_data"
    },
    {
     "name": "stdout",
     "output_type": "stream",
     "text": [
      "val loss=1.477157013470165; val accuracy=61.79363125535653%\n"
     ]
    },
    {
     "data": {
      "text/plain": [
       "Epoch 3/20:   0%|          | 0/9025 [00:00<?, ?batch/s]"
      ],
      "application/vnd.jupyter.widget-view+json": {
       "version_major": 2,
       "version_minor": 0,
       "model_id": "3640d3ca5aed4c5493947b4a3b1c842d"
      }
     },
     "metadata": {},
     "output_type": "display_data"
    },
    {
     "name": "stdout",
     "output_type": "stream",
     "text": [
      "val loss=1.4595210629421826; val accuracy=63.06184642425452%\n"
     ]
    },
    {
     "data": {
      "text/plain": [
       "Epoch 4/20:   0%|          | 0/9025 [00:00<?, ?batch/s]"
      ],
      "application/vnd.jupyter.widget-view+json": {
       "version_major": 2,
       "version_minor": 0,
       "model_id": "b0c585c3bd1846b4ac6183128a0822c6"
      }
     },
     "metadata": {},
     "output_type": "display_data"
    },
    {
     "name": "stdout",
     "output_type": "stream",
     "text": [
      "val loss=1.4620204748101062; val accuracy=63.7727449508031%\n"
     ]
    },
    {
     "data": {
      "text/plain": [
       "Epoch 5/20:   0%|          | 0/9025 [00:00<?, ?batch/s]"
      ],
      "application/vnd.jupyter.widget-view+json": {
       "version_major": 2,
       "version_minor": 0,
       "model_id": "8904749aa3bd48a4898a9136f7948648"
      }
     },
     "metadata": {},
     "output_type": "display_data"
    },
    {
     "name": "stdout",
     "output_type": "stream",
     "text": [
      "val loss=1.478570537677666; val accuracy=63.73396704734657%\n"
     ]
    },
    {
     "data": {
      "text/plain": [
       "Epoch 6/20:   0%|          | 0/9025 [00:00<?, ?batch/s]"
      ],
      "application/vnd.jupyter.widget-view+json": {
       "version_major": 2,
       "version_minor": 0,
       "model_id": "c92e5ce1c43248e6995f49317f92a8c1"
      }
     },
     "metadata": {},
     "output_type": "display_data"
    },
    {
     "name": "stdout",
     "output_type": "stream",
     "text": [
      "val loss=1.5087977828523196; val accuracy=63.60788564236367%\n"
     ]
    },
    {
     "data": {
      "text/plain": [
       "Epoch 7/20:   0%|          | 0/9025 [00:00<?, ?batch/s]"
      ],
      "application/vnd.jupyter.widget-view+json": {
       "version_major": 2,
       "version_minor": 0,
       "model_id": "58332cbc0f1742288bba222f5a885d60"
      }
     },
     "metadata": {},
     "output_type": "display_data"
    },
    {
     "name": "stdout",
     "output_type": "stream",
     "text": [
      "val loss=1.5151979749781377; val accuracy=63.41952097383083%\n"
     ]
    },
    {
     "data": {
      "text/plain": [
       "Epoch 8/20:   0%|          | 0/9025 [00:00<?, ?batch/s]"
      ],
      "application/vnd.jupyter.widget-view+json": {
       "version_major": 2,
       "version_minor": 0,
       "model_id": "23fb90717d444881b3c16cb2ff255c00"
      }
     },
     "metadata": {},
     "output_type": "display_data"
    },
    {
     "name": "stdout",
     "output_type": "stream",
     "text": [
      "val loss=1.5199292580891082; val accuracy=64.02871970838304%\n"
     ]
    },
    {
     "data": {
      "text/plain": [
       "Epoch 9/20:   0%|          | 0/9025 [00:00<?, ?batch/s]"
      ],
      "application/vnd.jupyter.widget-view+json": {
       "version_major": 2,
       "version_minor": 0,
       "model_id": "ff3acb095cad45dbbe73207afe926fe8"
      }
     },
     "metadata": {},
     "output_type": "display_data"
    },
    {
     "name": "stdout",
     "output_type": "stream",
     "text": [
      "val loss=1.521729367773967; val accuracy=64.11510240178443%\n"
     ]
    },
    {
     "data": {
      "text/plain": [
       "Epoch 10/20:   0%|          | 0/9025 [00:00<?, ?batch/s]"
      ],
      "application/vnd.jupyter.widget-view+json": {
       "version_major": 2,
       "version_minor": 0,
       "model_id": "1c845d99de0643d2a54bdb23ec6c8de6"
      }
     },
     "metadata": {},
     "output_type": "display_data"
    },
    {
     "name": "stdout",
     "output_type": "stream",
     "text": [
      "val loss=1.533992690178321; val accuracy=64.09904271599189%\n"
     ]
    },
    {
     "data": {
      "text/plain": [
       "Epoch 11/20:   0%|          | 0/9025 [00:00<?, ?batch/s]"
      ],
      "application/vnd.jupyter.widget-view+json": {
       "version_major": 2,
       "version_minor": 0,
       "model_id": "cde9362fa52445b99968101ab0c9471f"
      }
     },
     "metadata": {},
     "output_type": "display_data"
    },
    {
     "name": "stdout",
     "output_type": "stream",
     "text": [
      "val loss=1.5428078331684651; val accuracy=64.18430657801562%\n"
     ]
    },
    {
     "data": {
      "text/plain": [
       "Epoch 12/20:   0%|          | 0/9025 [00:00<?, ?batch/s]"
      ],
      "application/vnd.jupyter.widget-view+json": {
       "version_major": 2,
       "version_minor": 0,
       "model_id": "89ab29a94eb2462faa5fe7d32b443cee"
      }
     },
     "metadata": {},
     "output_type": "display_data"
    },
    {
     "name": "stdout",
     "output_type": "stream",
     "text": [
      "val loss=1.5587761131097884; val accuracy=63.65736670262769%\n"
     ]
    },
    {
     "data": {
      "text/plain": [
       "Epoch 13/20:   0%|          | 0/9025 [00:00<?, ?batch/s]"
      ],
      "application/vnd.jupyter.widget-view+json": {
       "version_major": 2,
       "version_minor": 0,
       "model_id": "7fda531cdec14143b612e37f9d6f4d38"
      }
     },
     "metadata": {},
     "output_type": "display_data"
    },
    {
     "name": "stdout",
     "output_type": "stream",
     "text": [
      "val loss=1.5684385834509016; val accuracy=63.79918600561752%\n"
     ]
    },
    {
     "data": {
      "text/plain": [
       "Epoch 14/20:   0%|          | 0/9025 [00:00<?, ?batch/s]"
      ],
      "application/vnd.jupyter.widget-view+json": {
       "version_major": 2,
       "version_minor": 0,
       "model_id": "2c700eaba0194cec84ab6e9548f25d39"
      }
     },
     "metadata": {},
     "output_type": "display_data"
    },
    {
     "name": "stdout",
     "output_type": "stream",
     "text": [
      "val loss=1.569831804178264; val accuracy=63.749531675007404%\n"
     ]
    },
    {
     "data": {
      "text/plain": [
       "Epoch 15/20:   0%|          | 0/9025 [00:00<?, ?batch/s]"
      ],
      "application/vnd.jupyter.widget-view+json": {
       "version_major": 2,
       "version_minor": 0,
       "model_id": "33947294432144c4855d7141f28dc59e"
      }
     },
     "metadata": {},
     "output_type": "display_data"
    },
    {
     "name": "stdout",
     "output_type": "stream",
     "text": [
      "val loss=1.579547144492876; val accuracy=63.56733543079562%\n"
     ]
    },
    {
     "data": {
      "text/plain": [
       "Epoch 16/20:   0%|          | 0/9025 [00:00<?, ?batch/s]"
      ],
      "application/vnd.jupyter.widget-view+json": {
       "version_major": 2,
       "version_minor": 0,
       "model_id": "348b4cf9dce74afbb47af145e64e189c"
      }
     },
     "metadata": {},
     "output_type": "display_data"
    },
    {
     "name": "stdout",
     "output_type": "stream",
     "text": [
      "val loss=1.5652103892561464; val accuracy=63.66885700186459%\n"
     ]
    },
    {
     "data": {
      "text/plain": [
       "Epoch 17/20:   0%|          | 0/9025 [00:00<?, ?batch/s]"
      ],
      "application/vnd.jupyter.widget-view+json": {
       "version_major": 2,
       "version_minor": 0,
       "model_id": "5464e37d4fab41e09de0f6579d5a39f9"
      }
     },
     "metadata": {},
     "output_type": "display_data"
    },
    {
     "name": "stdout",
     "output_type": "stream",
     "text": [
      "val loss=1.5685418219104552; val accuracy=63.772972677543684%\n"
     ]
    },
    {
     "data": {
      "text/plain": [
       "Epoch 18/20:   0%|          | 0/9025 [00:00<?, ?batch/s]"
      ],
      "application/vnd.jupyter.widget-view+json": {
       "version_major": 2,
       "version_minor": 0,
       "model_id": "41f6fb4641a741019d0fc8bce2441872"
      }
     },
     "metadata": {},
     "output_type": "display_data"
    },
    {
     "name": "stdout",
     "output_type": "stream",
     "text": [
      "val loss=1.5617084681047375; val accuracy=63.71207062618121%\n"
     ]
    },
    {
     "data": {
      "text/plain": [
       "Epoch 19/20:   0%|          | 0/9025 [00:00<?, ?batch/s]"
      ],
      "application/vnd.jupyter.widget-view+json": {
       "version_major": 2,
       "version_minor": 0,
       "model_id": "107d883f7f134b8a844a8d9f9adf81ad"
      }
     },
     "metadata": {},
     "output_type": "display_data"
    },
    {
     "name": "stdout",
     "output_type": "stream",
     "text": [
      "val loss=1.5580678207050278; val accuracy=63.87640517300103%\n"
     ]
    },
    {
     "data": {
      "text/plain": [
       "Epoch 20/20:   0%|          | 0/9025 [00:00<?, ?batch/s]"
      ],
      "application/vnd.jupyter.widget-view+json": {
       "version_major": 2,
       "version_minor": 0,
       "model_id": "94bade596cf742f08bcc4210b58703ea"
      }
     },
     "metadata": {},
     "output_type": "display_data"
    },
    {
     "name": "stdout",
     "output_type": "stream",
     "text": [
      "val loss=1.5577978055853408; val accuracy=63.972708831361814%\n",
      "2\n"
     ]
    },
    {
     "data": {
      "text/plain": [
       "Epoch 1/20:   0%|          | 0/9025 [00:00<?, ?batch/s]"
      ],
      "application/vnd.jupyter.widget-view+json": {
       "version_major": 2,
       "version_minor": 0,
       "model_id": "4a6d96e7b639463680e12847d55288d2"
      }
     },
     "metadata": {},
     "output_type": "display_data"
    },
    {
     "name": "stdout",
     "output_type": "stream",
     "text": [
      "val loss=1.5013603624629428; val accuracy=60.32159075247252%\n"
     ]
    },
    {
     "data": {
      "text/plain": [
       "Epoch 2/20:   0%|          | 0/9025 [00:00<?, ?batch/s]"
      ],
      "application/vnd.jupyter.widget-view+json": {
       "version_major": 2,
       "version_minor": 0,
       "model_id": "f9aa193edea04755902fe13f6a15e384"
      }
     },
     "metadata": {},
     "output_type": "display_data"
    },
    {
     "name": "stdout",
     "output_type": "stream",
     "text": [
      "val loss=1.4771737329535888; val accuracy=61.64267812983672%\n"
     ]
    },
    {
     "data": {
      "text/plain": [
       "Epoch 3/20:   0%|          | 0/9025 [00:00<?, ?batch/s]"
      ],
      "application/vnd.jupyter.widget-view+json": {
       "version_major": 2,
       "version_minor": 0,
       "model_id": "e0fa82208c714c20b5b462065c7c3404"
      }
     },
     "metadata": {},
     "output_type": "display_data"
    },
    {
     "name": "stdout",
     "output_type": "stream",
     "text": [
      "val loss=1.4505927340132627; val accuracy=63.316142934767974%\n"
     ]
    },
    {
     "data": {
      "text/plain": [
       "Epoch 4/20:   0%|          | 0/9025 [00:00<?, ?batch/s]"
      ],
      "application/vnd.jupyter.widget-view+json": {
       "version_major": 2,
       "version_minor": 0,
       "model_id": "9f715efc82cc418cbab44f94e7495ce0"
      }
     },
     "metadata": {},
     "output_type": "display_data"
    },
    {
     "name": "stdout",
     "output_type": "stream",
     "text": [
      "val loss=1.4845318941005199; val accuracy=62.973656768672406%\n"
     ]
    },
    {
     "data": {
      "text/plain": [
       "Epoch 5/20:   0%|          | 0/9025 [00:00<?, ?batch/s]"
      ],
      "application/vnd.jupyter.widget-view+json": {
       "version_major": 2,
       "version_minor": 0,
       "model_id": "ed1660eeb02a4198a7e18a348d8c7a54"
      }
     },
     "metadata": {},
     "output_type": "display_data"
    },
    {
     "name": "stdout",
     "output_type": "stream",
     "text": [
      "val loss=1.4766014797039229; val accuracy=63.665644074589814%\n"
     ]
    },
    {
     "data": {
      "text/plain": [
       "Epoch 6/20:   0%|          | 0/9025 [00:00<?, ?batch/s]"
      ],
      "application/vnd.jupyter.widget-view+json": {
       "version_major": 2,
       "version_minor": 0,
       "model_id": "3f22f522d6c6458f84d98df306c8b39b"
      }
     },
     "metadata": {},
     "output_type": "display_data"
    },
    {
     "name": "stdout",
     "output_type": "stream",
     "text": [
      "val loss=1.5022418860977; val accuracy=63.64582689757762%\n"
     ]
    },
    {
     "data": {
      "text/plain": [
       "Epoch 7/20:   0%|          | 0/9025 [00:00<?, ?batch/s]"
      ],
      "application/vnd.jupyter.widget-view+json": {
       "version_major": 2,
       "version_minor": 0,
       "model_id": "e47a6e87a053420ab6f7c2340a38957e"
      }
     },
     "metadata": {},
     "output_type": "display_data"
    },
    {
     "name": "stdout",
     "output_type": "stream",
     "text": [
      "val loss=1.5077331630142847; val accuracy=63.757546666159726%\n"
     ]
    },
    {
     "data": {
      "text/plain": [
       "Epoch 8/20:   0%|          | 0/9025 [00:00<?, ?batch/s]"
      ],
      "application/vnd.jupyter.widget-view+json": {
       "version_major": 2,
       "version_minor": 0,
       "model_id": "f956009ce70e488cbac2da7eed8502e2"
      }
     },
     "metadata": {},
     "output_type": "display_data"
    },
    {
     "name": "stdout",
     "output_type": "stream",
     "text": [
      "val loss=1.5648265949810602; val accuracy=63.480616097864676%\n"
     ]
    },
    {
     "data": {
      "text/plain": [
       "Epoch 9/20:   0%|          | 0/9025 [00:00<?, ?batch/s]"
      ],
      "application/vnd.jupyter.widget-view+json": {
       "version_major": 2,
       "version_minor": 0,
       "model_id": "62e3ed6ab1a64e13b70c75dc6d5b0edf"
      }
     },
     "metadata": {},
     "output_type": "display_data"
    },
    {
     "name": "stdout",
     "output_type": "stream",
     "text": [
      "val loss=1.5403032266543741; val accuracy=63.82366663023039%\n"
     ]
    },
    {
     "data": {
      "text/plain": [
       "Epoch 10/20:   0%|          | 0/9025 [00:00<?, ?batch/s]"
      ],
      "application/vnd.jupyter.widget-view+json": {
       "version_major": 2,
       "version_minor": 0,
       "model_id": "e0ecbceaeb9c4e308604629de4317219"
      }
     },
     "metadata": {},
     "output_type": "display_data"
    },
    {
     "name": "stdout",
     "output_type": "stream",
     "text": [
      "val loss=1.5362910002375547; val accuracy=64.06505697525026%\n"
     ]
    },
    {
     "data": {
      "text/plain": [
       "Epoch 11/20:   0%|          | 0/9025 [00:00<?, ?batch/s]"
      ],
      "application/vnd.jupyter.widget-view+json": {
       "version_major": 2,
       "version_minor": 0,
       "model_id": "aa70efdee69d4547b0eb52ab764bb64b"
      }
     },
     "metadata": {},
     "output_type": "display_data"
    },
    {
     "name": "stdout",
     "output_type": "stream",
     "text": [
      "val loss=1.5437187745683227; val accuracy=64.00910055462353%\n"
     ]
    },
    {
     "data": {
      "text/plain": [
       "Epoch 12/20:   0%|          | 0/9025 [00:00<?, ?batch/s]"
      ],
      "application/vnd.jupyter.widget-view+json": {
       "version_major": 2,
       "version_minor": 0,
       "model_id": "c40a92af44da4a67b86fe9708e213d0d"
      }
     },
     "metadata": {},
     "output_type": "display_data"
    },
    {
     "name": "stdout",
     "output_type": "stream",
     "text": [
      "val loss=1.5520160163350454; val accuracy=64.16620725272044%\n"
     ]
    },
    {
     "data": {
      "text/plain": [
       "Epoch 13/20:   0%|          | 0/9025 [00:00<?, ?batch/s]"
      ],
      "application/vnd.jupyter.widget-view+json": {
       "version_major": 2,
       "version_minor": 0,
       "model_id": "783aa000ce2141969bc021480ad70464"
      }
     },
     "metadata": {},
     "output_type": "display_data"
    },
    {
     "name": "stdout",
     "output_type": "stream",
     "text": [
      "val loss=1.575907992012794; val accuracy=63.61975218578066%\n"
     ]
    },
    {
     "data": {
      "text/plain": [
       "Epoch 14/20:   0%|          | 0/9025 [00:00<?, ?batch/s]"
      ],
      "application/vnd.jupyter.widget-view+json": {
       "version_major": 2,
       "version_minor": 0,
       "model_id": "2ed4ac899c4a4c9da1da8634d097156b"
      }
     },
     "metadata": {},
     "output_type": "display_data"
    },
    {
     "name": "stdout",
     "output_type": "stream",
     "text": [
      "val loss=1.559079288347854; val accuracy=63.92380698911189%\n"
     ]
    },
    {
     "data": {
      "text/plain": [
       "Epoch 15/20:   0%|          | 0/9025 [00:00<?, ?batch/s]"
      ],
      "application/vnd.jupyter.widget-view+json": {
       "version_major": 2,
       "version_minor": 0,
       "model_id": "298bc24125c440c28603253fa6df26d1"
      }
     },
     "metadata": {},
     "output_type": "display_data"
    },
    {
     "name": "stdout",
     "output_type": "stream",
     "text": [
      "val loss=1.554605042364525; val accuracy=63.9908131072383%\n"
     ]
    },
    {
     "data": {
      "text/plain": [
       "Epoch 16/20:   0%|          | 0/9025 [00:00<?, ?batch/s]"
      ],
      "application/vnd.jupyter.widget-view+json": {
       "version_major": 2,
       "version_minor": 0,
       "model_id": "db66ccf692234d6392383890afbc065c"
      }
     },
     "metadata": {},
     "output_type": "display_data"
    },
    {
     "name": "stdout",
     "output_type": "stream",
     "text": [
      "val loss=1.5711531655937; val accuracy=63.796542395194216%\n"
     ]
    },
    {
     "data": {
      "text/plain": [
       "Epoch 17/20:   0%|          | 0/9025 [00:00<?, ?batch/s]"
      ],
      "application/vnd.jupyter.widget-view+json": {
       "version_major": 2,
       "version_minor": 0,
       "model_id": "f905785d60a04aa0b863ad1dd359f052"
      }
     },
     "metadata": {},
     "output_type": "display_data"
    },
    {
     "name": "stdout",
     "output_type": "stream",
     "text": [
      "val loss=1.569292358050416; val accuracy=63.94876782011251%\n"
     ]
    },
    {
     "data": {
      "text/plain": [
       "Epoch 18/20:   0%|          | 0/9025 [00:00<?, ?batch/s]"
      ],
      "application/vnd.jupyter.widget-view+json": {
       "version_major": 2,
       "version_minor": 0,
       "model_id": "b5b13a8c30f64ae093023c193b281679"
      }
     },
     "metadata": {},
     "output_type": "display_data"
    },
    {
     "name": "stdout",
     "output_type": "stream",
     "text": [
      "val loss=1.5696923870233281; val accuracy=64.00942729299045%\n"
     ]
    },
    {
     "data": {
      "text/plain": [
       "Epoch 19/20:   0%|          | 0/9025 [00:00<?, ?batch/s]"
      ],
      "application/vnd.jupyter.widget-view+json": {
       "version_major": 2,
       "version_minor": 0,
       "model_id": "1cb0e526dc47437eab39b761f8ec67e4"
      }
     },
     "metadata": {},
     "output_type": "display_data"
    },
    {
     "name": "stdout",
     "output_type": "stream",
     "text": [
      "val loss=1.5823822083388268; val accuracy=63.64267832785997%\n"
     ]
    },
    {
     "data": {
      "text/plain": [
       "Epoch 20/20:   0%|          | 0/9025 [00:00<?, ?batch/s]"
      ],
      "application/vnd.jupyter.widget-view+json": {
       "version_major": 2,
       "version_minor": 0,
       "model_id": "31880146a128419c9297f419501d7ce0"
      }
     },
     "metadata": {},
     "output_type": "display_data"
    },
    {
     "name": "stdout",
     "output_type": "stream",
     "text": [
      "val loss=1.5587454170613748; val accuracy=63.68816426900112%\n",
      "3\n"
     ]
    },
    {
     "data": {
      "text/plain": [
       "Epoch 1/20:   0%|          | 0/9025 [00:00<?, ?batch/s]"
      ],
      "application/vnd.jupyter.widget-view+json": {
       "version_major": 2,
       "version_minor": 0,
       "model_id": "0f0846bcb98246698b3c1bcd2e16a642"
      }
     },
     "metadata": {},
     "output_type": "display_data"
    },
    {
     "name": "stdout",
     "output_type": "stream",
     "text": [
      "val loss=1.4599730292148765; val accuracy=61.826592225765516%\n"
     ]
    },
    {
     "data": {
      "text/plain": [
       "Epoch 2/20:   0%|          | 0/9025 [00:00<?, ?batch/s]"
      ],
      "application/vnd.jupyter.widget-view+json": {
       "version_major": 2,
       "version_minor": 0,
       "model_id": "4e46bb4e3840418b9afa8e04da6d8d9b"
      }
     },
     "metadata": {},
     "output_type": "display_data"
    },
    {
     "name": "stdout",
     "output_type": "stream",
     "text": [
      "val loss=1.4375053128830613; val accuracy=62.80259933242401%\n"
     ]
    },
    {
     "data": {
      "text/plain": [
       "Epoch 3/20:   0%|          | 0/9025 [00:00<?, ?batch/s]"
      ],
      "application/vnd.jupyter.widget-view+json": {
       "version_major": 2,
       "version_minor": 0,
       "model_id": "90cb49ee69ab4461b65ca9e55844ab12"
      }
     },
     "metadata": {},
     "output_type": "display_data"
    },
    {
     "name": "stdout",
     "output_type": "stream",
     "text": [
      "val loss=1.4373231831694044; val accuracy=63.248824930018586%\n"
     ]
    },
    {
     "data": {
      "text/plain": [
       "Epoch 4/20:   0%|          | 0/9025 [00:00<?, ?batch/s]"
      ],
      "application/vnd.jupyter.widget-view+json": {
       "version_major": 2,
       "version_minor": 0,
       "model_id": "a8400a0ca05b4d1f9e85a7cd8189b04e"
      }
     },
     "metadata": {},
     "output_type": "display_data"
    },
    {
     "name": "stdout",
     "output_type": "stream",
     "text": [
      "val loss=1.4737239157659532; val accuracy=62.994038311954746%\n"
     ]
    },
    {
     "data": {
      "text/plain": [
       "Epoch 5/20:   0%|          | 0/9025 [00:00<?, ?batch/s]"
      ],
      "application/vnd.jupyter.widget-view+json": {
       "version_major": 2,
       "version_minor": 0,
       "model_id": "ab9754cce36f4c029658afbca671eded"
      }
     },
     "metadata": {},
     "output_type": "display_data"
    },
    {
     "name": "stdout",
     "output_type": "stream",
     "text": [
      "val loss=1.4731759725850198; val accuracy=63.74202659373074%\n"
     ]
    },
    {
     "data": {
      "text/plain": [
       "Epoch 6/20:   0%|          | 0/9025 [00:00<?, ?batch/s]"
      ],
      "application/vnd.jupyter.widget-view+json": {
       "version_major": 2,
       "version_minor": 0,
       "model_id": "dfdd740f4d6840079f5cb6485d2b5465"
      }
     },
     "metadata": {},
     "output_type": "display_data"
    },
    {
     "name": "stdout",
     "output_type": "stream",
     "text": [
      "val loss=1.4962387880173835; val accuracy=63.48567559197071%\n"
     ]
    },
    {
     "data": {
      "text/plain": [
       "Epoch 7/20:   0%|          | 0/9025 [00:00<?, ?batch/s]"
      ],
      "application/vnd.jupyter.widget-view+json": {
       "version_major": 2,
       "version_minor": 0,
       "model_id": "0c743474fba54441ad4793d4255f82e1"
      }
     },
     "metadata": {},
     "output_type": "display_data"
    },
    {
     "name": "stdout",
     "output_type": "stream",
     "text": [
      "val loss=1.505607779408059; val accuracy=63.980253517289015%\n"
     ]
    },
    {
     "data": {
      "text/plain": [
       "Epoch 8/20:   0%|          | 0/9025 [00:00<?, ?batch/s]"
      ],
      "application/vnd.jupyter.widget-view+json": {
       "version_major": 2,
       "version_minor": 0,
       "model_id": "12b1ccd88b464075ae048a7deb78ee57"
      }
     },
     "metadata": {},
     "output_type": "display_data"
    },
    {
     "name": "stdout",
     "output_type": "stream",
     "text": [
      "val loss=1.5253409391871542; val accuracy=63.84714228683589%\n"
     ]
    },
    {
     "data": {
      "text/plain": [
       "Epoch 9/20:   0%|          | 0/9025 [00:00<?, ?batch/s]"
      ],
      "application/vnd.jupyter.widget-view+json": {
       "version_major": 2,
       "version_minor": 0,
       "model_id": "3da38b3a9c0b4e8a933a0333c7e9f34d"
      }
     },
     "metadata": {},
     "output_type": "display_data"
    },
    {
     "name": "stdout",
     "output_type": "stream",
     "text": [
      "val loss=1.5301355774387948; val accuracy=63.895638181417816%\n"
     ]
    },
    {
     "data": {
      "text/plain": [
       "Epoch 10/20:   0%|          | 0/9025 [00:00<?, ?batch/s]"
      ],
      "application/vnd.jupyter.widget-view+json": {
       "version_major": 2,
       "version_minor": 0,
       "model_id": "b2ec007170f3454ebcd668bd1fbffc42"
      }
     },
     "metadata": {},
     "output_type": "display_data"
    },
    {
     "name": "stdout",
     "output_type": "stream",
     "text": [
      "val loss=1.5357364667004272; val accuracy=63.94135679988087%\n"
     ]
    },
    {
     "data": {
      "text/plain": [
       "Epoch 11/20:   0%|          | 0/9025 [00:00<?, ?batch/s]"
      ],
      "application/vnd.jupyter.widget-view+json": {
       "version_major": 2,
       "version_minor": 0,
       "model_id": "cdafa4567e82402ba098b201e5df20ea"
      }
     },
     "metadata": {},
     "output_type": "display_data"
    },
    {
     "name": "stdout",
     "output_type": "stream",
     "text": [
      "val loss=1.5270358691581516; val accuracy=64.01666999345731%\n"
     ]
    },
    {
     "data": {
      "text/plain": [
       "Epoch 12/20:   0%|          | 0/9025 [00:00<?, ?batch/s]"
      ],
      "application/vnd.jupyter.widget-view+json": {
       "version_major": 2,
       "version_minor": 0,
       "model_id": "56d6fc94ffb542afa9f24514ad48f17e"
      }
     },
     "metadata": {},
     "output_type": "display_data"
    },
    {
     "name": "stdout",
     "output_type": "stream",
     "text": [
      "val loss=1.5381824866395364; val accuracy=64.07174026002829%\n"
     ]
    },
    {
     "data": {
      "text/plain": [
       "Epoch 13/20:   0%|          | 0/9025 [00:00<?, ?batch/s]"
      ],
      "application/vnd.jupyter.widget-view+json": {
       "version_major": 2,
       "version_minor": 0,
       "model_id": "689ae4c335564cf6bcc1ff2a7a0d4c9a"
      }
     },
     "metadata": {},
     "output_type": "display_data"
    },
    {
     "name": "stdout",
     "output_type": "stream",
     "text": [
      "val loss=1.5617412218340876; val accuracy=63.91038596316134%\n"
     ]
    },
    {
     "data": {
      "text/plain": [
       "Epoch 14/20:   0%|          | 0/9025 [00:00<?, ?batch/s]"
      ],
      "application/vnd.jupyter.widget-view+json": {
       "version_major": 2,
       "version_minor": 0,
       "model_id": "40be0be8ac0246bd82a394e0ff06c739"
      }
     },
     "metadata": {},
     "output_type": "display_data"
    },
    {
     "name": "stdout",
     "output_type": "stream",
     "text": [
      "val loss=1.5637891339285448; val accuracy=63.712060725018574%\n"
     ]
    },
    {
     "data": {
      "text/plain": [
       "Epoch 15/20:   0%|          | 0/9025 [00:00<?, ?batch/s]"
      ],
      "application/vnd.jupyter.widget-view+json": {
       "version_major": 2,
       "version_minor": 0,
       "model_id": "508a497517b74522b88a7f4d4022ac87"
      }
     },
     "metadata": {},
     "output_type": "display_data"
    },
    {
     "name": "stdout",
     "output_type": "stream",
     "text": [
      "val loss=1.5626261124164598; val accuracy=63.655693406142525%\n"
     ]
    },
    {
     "data": {
      "text/plain": [
       "Epoch 16/20:   0%|          | 0/9025 [00:00<?, ?batch/s]"
      ],
      "application/vnd.jupyter.widget-view+json": {
       "version_major": 2,
       "version_minor": 0,
       "model_id": "7c6f348bad0d4bf981aca68d8e6ff41e"
      }
     },
     "metadata": {},
     "output_type": "display_data"
    },
    {
     "name": "stdout",
     "output_type": "stream",
     "text": [
      "val loss=1.5668961744293881; val accuracy=63.73968991934909%\n"
     ]
    },
    {
     "data": {
      "text/plain": [
       "Epoch 17/20:   0%|          | 0/9025 [00:00<?, ?batch/s]"
      ],
      "application/vnd.jupyter.widget-view+json": {
       "version_major": 2,
       "version_minor": 0,
       "model_id": "03e2de034b474feabac85896afed78b7"
      }
     },
     "metadata": {},
     "output_type": "display_data"
    },
    {
     "name": "stdout",
     "output_type": "stream",
     "text": [
      "val loss=1.5673949856223341; val accuracy=63.6160194474676%\n"
     ]
    },
    {
     "data": {
      "text/plain": [
       "Epoch 18/20:   0%|          | 0/9025 [00:00<?, ?batch/s]"
      ],
      "application/vnd.jupyter.widget-view+json": {
       "version_major": 2,
       "version_minor": 0,
       "model_id": "0b241951c3e14a2d89e1d48f3247df6c"
      }
     },
     "metadata": {},
     "output_type": "display_data"
    },
    {
     "name": "stdout",
     "output_type": "stream",
     "text": [
      "val loss=1.5625026837747764; val accuracy=63.44021935431746%\n"
     ]
    },
    {
     "data": {
      "text/plain": [
       "Epoch 19/20:   0%|          | 0/9025 [00:00<?, ?batch/s]"
      ],
      "application/vnd.jupyter.widget-view+json": {
       "version_major": 2,
       "version_minor": 0,
       "model_id": "ee11db2196e645948f58cbf136ddbc5c"
      }
     },
     "metadata": {},
     "output_type": "display_data"
    },
    {
     "name": "stdout",
     "output_type": "stream",
     "text": [
      "val loss=1.56560928396182; val accuracy=63.58452879970978%\n"
     ]
    },
    {
     "data": {
      "text/plain": [
       "Epoch 20/20:   0%|          | 0/9025 [00:00<?, ?batch/s]"
      ],
      "application/vnd.jupyter.widget-view+json": {
       "version_major": 2,
       "version_minor": 0,
       "model_id": "472fe81cb8b941e2becf83d5c5bbd3a3"
      }
     },
     "metadata": {},
     "output_type": "display_data"
    },
    {
     "name": "stdout",
     "output_type": "stream",
     "text": [
      "val loss=1.5662779534175781; val accuracy=63.291969246196764%\n",
      "4\n",
      "{0: {'train_losses': [1.313841894189737, 1.001328408601294, 0.8559503234972419, 0.7627044149337548, 0.6995774029731916, 0.656037625028775, 0.6270200224921437, 0.6125241780174777, 0.5988482458408602, 0.5849455250170175, 0.5728142647952914, 0.5676445867005643, 0.5681118128617962, 0.5628032867957186, 0.5625915805802493, 0.5629723667817763, 0.5638334520454222, 0.571210003047356, 0.5790689915649778, 0.5763798349036983], 'val_losses': [1.5130562479890788, 1.4933293464901827, 1.4600323483177415, 1.477980241525189, 1.4845101146185649, 1.5139087903139463, 1.5299201632415582, 1.5357999992075322, 1.5392919821750992, 1.5556649702622192, 1.559423695179177, 1.5771216085591513, 1.570314757157773, 1.588652771714083, 1.5920464537308894, 1.578179018936698, 1.5816920527086642, 1.5763496890539324, 1.5661569464085063, 1.5774008716433128], 'val_accuracies': [60.54509959777517, 61.22018066849482, 63.11455031295595, 63.15311534141585, 63.42933797658256, 63.5271367105011, 63.44554617981462, 63.24710707830156, 63.70264471935352, 63.46782874632271, 63.57023152086611, 63.31088541740925, 63.49404702497786, 63.36410416656766, 63.265998496607466, 63.69302573985448, 63.57592468938073, 63.59707852334853, 63.643762505168404, 63.63739110701335]}, 1: {'train_losses': [1.3206736782993966, 0.9972331580734319, 0.8557695845625986, 0.7639769184688452, 0.703282730802068, 0.6618555890760511, 0.6259178322367887, 0.6073376842213594, 0.5920749771817899, 0.579945891446065, 0.5694133899537356, 0.5619203059946979, 0.563471619017381, 0.5675452670544757, 0.5646826486421589, 0.5659462936160637, 0.5679502845690727, 0.567201288330299, 0.5715436758328013, 0.5736520636626558], 'val_losses': [1.483627241082369, 1.4610897089022474, 1.4534903145432752, 1.4940448554131025, 1.4910365229069293, 1.500245948958799, 1.524126213570845, 1.5451606626476686, 1.5496484956011454, 1.5594510178453191, 1.5605576349936081, 1.5740346735744013, 1.572011660597175, 1.5719653617962874, 1.5748699063788048, 1.574878379198855, 1.5834625504721678, 1.5722737927120094, 1.567677115443161, 1.5753369307574006], 'val_accuracies': [60.87813510413647, 62.286912128369764, 63.02849435792148, 62.77879198687027, 63.513042405491426, 63.67831756276149, 63.77586381703285, 63.72075889639265, 63.836706461419524, 63.79001752901833, 63.7873392645258, 63.575533593456676, 63.66925304836995, 63.8062306828317, 63.448655144881734, 63.92989125355056, 63.362069477646344, 63.60306377616085, 63.703728896661964, 63.441862947314725]}, 2: {'train_losses': [1.319120701056108, 1.0045706229337035, 0.8610493918572272, 0.7770064596266297, 0.7134106600453815, 0.6744432267878937, 0.6421999584650234, 0.6181073483304634, 0.6024570039057088, 0.5877705347552441, 0.5798519337561157, 0.5743003272595415, 0.5711349578424669, 0.5679795670209045, 0.5688579049834419, 0.5791556464238841, 0.581646189789734, 0.57986733168539, 0.5786531336915129, 0.5808806991976507], 'val_losses': [1.4944178992518378, 1.477157013470165, 1.4595210629421826, 1.4620204748101062, 1.478570537677666, 1.5087977828523196, 1.5151979749781377, 1.5199292580891082, 1.521729367773967, 1.533992690178321, 1.5428078331684651, 1.5587761131097884, 1.5684385834509016, 1.569831804178264, 1.579547144492876, 1.5652103892561464, 1.5685418219104552, 1.5617084681047375, 1.5580678207050278, 1.5577978055853408], 'val_accuracies': [61.113386728323185, 61.79363125535653, 63.06184642425452, 63.7727449508031, 63.73396704734657, 63.60788564236367, 63.41952097383083, 64.02871970838304, 64.11510240178443, 64.09904271599189, 64.18430657801562, 63.65736670262769, 63.79918600561752, 63.749531675007404, 63.56733543079562, 63.66885700186459, 63.772972677543684, 63.71207062618121, 63.87640517300103, 63.972708831361814]}, 3: {'train_losses': [1.3113539903084657, 0.9959131284568903, 0.8544158890422361, 0.7611930689483963, 0.7045919950472042, 0.6621702210213009, 0.6251482914778251, 0.6055304649301451, 0.5969312421887741, 0.5876337485781605, 0.5755632651096773, 0.5695683109826328, 0.5669272856558789, 0.5631321275994243, 0.5642556703728404, 0.5645529981583377, 0.5648645912610263, 0.5695066808112523, 0.574303312975645, 0.5758332113117248], 'val_losses': [1.5013603624629428, 1.4771737329535888, 1.4505927340132627, 1.4845318941005199, 1.4766014797039229, 1.5022418860977, 1.5077331630142847, 1.5648265949810602, 1.5403032266543741, 1.5362910002375547, 1.5437187745683227, 1.5520160163350454, 1.575907992012794, 1.559079288347854, 1.554605042364525, 1.5711531655937, 1.569292358050416, 1.5696923870233281, 1.5823822083388268, 1.5587454170613748], 'val_accuracies': [60.32159075247252, 61.64267812983672, 63.316142934767974, 62.973656768672406, 63.665644074589814, 63.64582689757762, 63.757546666159726, 63.480616097864676, 63.82366663023039, 64.06505697525026, 64.00910055462353, 64.16620725272044, 63.61975218578066, 63.92380698911189, 63.9908131072383, 63.796542395194216, 63.94876782011251, 64.00942729299045, 63.64267832785997, 63.68816426900112]}, 4: {'train_losses': [1.313251015144372, 0.9889473697914641, 0.8471022674466104, 0.7608269006100553, 0.699113788775625, 0.6566866746483954, 0.6250224977213673, 0.6025661790020083, 0.5904660574260098, 0.5856269853430028, 0.5754200389673753, 0.5664537392653669, 0.5712059715966026, 0.5681130613322651, 0.5713127152254377, 0.5687769404250788, 0.5746017104015786, 0.5772920579903881, 0.580711373130164, 0.585968924839968], 'val_losses': [1.4599730292148765, 1.4375053128830613, 1.4373231831694044, 1.4737239157659532, 1.4731759725850198, 1.4962387880173835, 1.505607779408059, 1.5253409391871542, 1.5301355774387948, 1.5357364667004272, 1.5270358691581516, 1.5381824866395364, 1.5617412218340876, 1.5637891339285448, 1.5626261124164598, 1.5668961744293881, 1.5673949856223341, 1.5625026837747764, 1.56560928396182, 1.5662779534175781], 'val_accuracies': [61.826592225765516, 62.80259933242401, 63.248824930018586, 62.994038311954746, 63.74202659373074, 63.48567559197071, 63.980253517289015, 63.84714228683589, 63.895638181417816, 63.94135679988087, 64.01666999345731, 64.07174026002829, 63.91038596316134, 63.712060725018574, 63.655693406142525, 63.73968991934909, 63.6160194474676, 63.44021935431746, 63.58452879970978, 63.291969246196764]}}\n"
     ]
    },
    {
     "data": {
      "text/plain": [
       "<Figure size 1000x600 with 1 Axes>"
      ],
      "image/png": "[encoded data removed]"
     },
     "metadata": {},
     "output_type": "display_data"
    },
    {
     "data": {
      "text/plain": [
       "<Figure size 1000x600 with 1 Axes>"
      ],
      "image/png": "[encoded data removed]"
     },
     "metadata": {},
     "output_type": "display_data"
    },
    {
     "data": {
      "text/plain": [
       "<Figure size 1000x600 with 1 Axes>"
      ],
      "image/png": "[encoded data removed]"
     },
     "metadata": {},
     "output_type": "display_data"
    }
   ],
   "execution_count": 18
  },
  {
   "metadata": {
    "ExecuteTime": {
     "end_time": "2024-11-26T16:50:57.399312Z",
     "start_time": "2024-11-26T04:21:07.765759Z"
    }
   },
   "cell_type": "code",
   "source": [
    "from torch.utils.data import Subset\n",
    "\n",
    "# Hyperparameters\n",
    "win_size = 32\n",
    "num_models = 5\n",
    "batch_size = 32\n",
    "num_epochs = 20\n",
    "learning_rate = 0.001\n",
    "num_classes = 37\n",
    "\n",
    "hidden_size = 128\n",
    "\n",
    "# fraction training set\n",
    "fraction = 1\n",
    "\n",
    "results = {}\n",
    "\n",
    "for i in range(num_models):\n",
    "    step_size = win_size // 2   # half overlapping windows\n",
    "\n",
    "    # load datasets\n",
    "    # Load full training dataset\n",
    "    full_train_dataset = AudioChordDataset(csv_dir, train_csv_file_names, win_size, chord_to_int)\n",
    "    # Get subset indices\n",
    "    subset_size = int(fraction * len(full_train_dataset))\n",
    "    subset_indices = np.random.choice(len(full_train_dataset), subset_size, replace=False)\n",
    "    # Create subset dataset\n",
    "    train_dataset = Subset(full_train_dataset, subset_indices)\n",
    "    \n",
    "    # class weight to make up for uneven dataset labels\n",
    "    # Step 1: Compute class weights\n",
    "    # Flatten all labels across the dataset\n",
    "    all_labels = [label for idx in range(len(train_dataset)) for label in train_dataset[idx][1].tolist()]\n",
    "    labels_counts = np.bincount(all_labels)  # Count occurrences for each label\n",
    "    class_weights = 1.0 / (labels_counts + 1e-6)  # Avoid division by zero\n",
    "    class_weights = torch.tensor(class_weights, dtype=torch.float32)  # Convert to tensor\n",
    "\n",
    "    # # training dataloader with sampler applied\n",
    "    train_dataloader = DataLoader(train_dataset, batch_size=batch_size, shuffle=False)\n",
    "\n",
    "    val_dataset = AudioChordDataset(csv_dir, val_csv_file_names, win_size, chord_to_int)\n",
    "    val_dataloader = DataLoader(val_dataset, batch_size=batch_size, shuffle=False)\n",
    "\n",
    "    test_dataset = AudioChordDataset(csv_dir, test_csv_file_names, win_size, chord_to_int)\n",
    "    test_dataloader = DataLoader(test_dataset, batch_size=batch_size, shuffle=False)\n",
    "\n",
    "    # initialize model, loss function, optimizer\n",
    "    model = LSTM_Model(hidden_size=hidden_size).to(device)\n",
    "    criterion = torch.nn.CrossEntropyLoss(weight=class_weights).to(device)\n",
    "    optimizer = torch.optim.Adam(model.parameters(), lr=learning_rate)\n",
    "    # Learning rate scheduler\n",
    "    # scheduler = torch.optim.lr_scheduler.ReduceLROnPlateau(optimizer, mode='min', factor=0.1, patience=5)\n",
    "\n",
    "    # record losses\n",
    "    train_losses_cross_epoch = []\n",
    "    val_losses_cross_epoch = []\n",
    "    val_accuracy_cross_epoch = []\n",
    "\n",
    "    # train loop\n",
    "    for epoch in range(num_epochs):\n",
    "        train_loss_per_epoch = []\n",
    "        with tqdm(total=len(train_dataloader), desc=f\"Epoch {epoch+1}/{num_epochs}\", unit=\"batch\") as pbar:\n",
    "            for _, (win_chroma, win_label) in enumerate(train_dataloader):\n",
    "                X = win_chroma.to(device)\n",
    "                Y = win_label.to(device)\n",
    "                \n",
    "                # train\n",
    "                optimizer.zero_grad()\n",
    "                prediction = model(X)\n",
    "                prediction = prediction.view(-1, prediction.shape[-1])  # Shape: (batch_size * seq_len, num_classes)\n",
    "                Y = Y.view(-1)  # Shape: (batch_size * seq_len)\n",
    "\n",
    "                loss = criterion(prediction, Y)\n",
    "                loss.backward()\n",
    "                optimizer.step()\n",
    "\n",
    "                # update progress bar\n",
    "                pbar.set_postfix({\"loss\": loss.item()})     # display current loss\n",
    "                pbar.update(1)      # advance progress bar by 1 batch\n",
    "\n",
    "                # train loss per batch\n",
    "                train_loss_per_epoch.append(loss.item())\n",
    "            \n",
    "        # calculate train loss for each epoch\n",
    "        mean_train_loss_per_epoch = np.mean(train_loss_per_epoch)\n",
    "        train_losses_cross_epoch.append(mean_train_loss_per_epoch)\n",
    "\n",
    "        # evaluation\n",
    "        model.eval()\n",
    "        val_losses = []\n",
    "        num_correct_per_epoch = 0\n",
    "        num_total_per_epoch = 0\n",
    "        with torch.no_grad():\n",
    "            for _, (val_win_chroma, val_win_label) in enumerate(val_dataloader):\n",
    "                val_X = val_win_chroma.to(device)\n",
    "                val_Y = val_win_label.to(device)\n",
    "\n",
    "                val_predictions = model(val_X)\n",
    "                val_predictions = val_predictions.view(-1, val_predictions.shape[-1])  # Shape: (batch_size * seq_len, num_classes)\n",
    "                val_Y = val_Y.view(-1)  # Shape: (batch_size * seq_len)\n",
    "                val_loss = criterion(val_predictions, val_Y).to('cpu')\n",
    "\n",
    "                # val loss per batch\n",
    "                val_losses.append(val_loss.item())\n",
    "\n",
    "                # val accuracy per batch\n",
    "                _, predicted_class = torch.max(val_predictions, 1)\n",
    "                num_correct = (predicted_class == val_Y).sum().item()\n",
    "                num_total_per_batch = val_Y.size(0)\n",
    "                batch_accuracy = num_correct / num_total_per_batch\n",
    "\n",
    "                # accumulate correct and total predictions from each batch\n",
    "                num_correct_per_epoch += num_correct\n",
    "                num_total_per_epoch += num_total_per_batch\n",
    "\n",
    "        # calculate evaluation loss for each epoch\n",
    "        mean_val_loss_per_epoch = np.mean(val_losses)\n",
    "        mean_val_loss = np.mean(val_losses)\n",
    "        val_losses_cross_epoch.append(mean_val_loss_per_epoch)\n",
    "\n",
    "        # calculate accuracy per epoch\n",
    "        val_accuracy = 100 * num_correct_per_epoch / num_total_per_epoch\n",
    "        val_accuracy_cross_epoch.append(val_accuracy)\n",
    "\n",
    "        # display loss & accuracy in progress bar\n",
    "        print(f\"val loss={mean_val_loss_per_epoch}; val accuracy={val_accuracy}%\")\n",
    "        \n",
    "        # switch back to train mode\n",
    "        model.train()\n",
    "        \n",
    "        # learning rate scheduler\n",
    "        # scheduler.step(mean_val_loss)\n",
    "    \n",
    "    print(i)\n",
    "    # save loss and accuracy\n",
    "    results[i] = {\n",
    "        \"train_losses\": train_losses_cross_epoch,\n",
    "        \"val_losses\": val_losses_cross_epoch,\n",
    "        \"val_accuracies\": val_accuracy_cross_epoch\n",
    "    }\n",
    "    \n",
    "print(results)\n",
    "\n",
    "# 1. Training Loss\n",
    "plt.figure(figsize=(10, 6))\n",
    "for i in range(num_models):\n",
    "    plt.plot(results[i][\"train_losses\"], label=f\"Model {i}\")\n",
    "plt.xlabel(\"Epoch\")\n",
    "plt.ylabel(\"Training Loss\")\n",
    "plt.title(f\"Training Loss per Epoch\")\n",
    "plt.legend()\n",
    "plt.show()\n",
    "\n",
    "# 2. Validation Loss\n",
    "plt.figure(figsize=(10, 6))\n",
    "for i in range(num_models):\n",
    "    plt.plot(results[i][\"val_losses\"], label=f\"Model {i}\")\n",
    "plt.xlabel(\"Epoch\")\n",
    "plt.ylabel(\"Validation Loss\")\n",
    "plt.title(f\"Validation Loss per Epoch\")\n",
    "plt.legend()\n",
    "plt.show()\n",
    "\n",
    "# 3. Validation Accuracy\n",
    "plt.figure(figsize=(10, 6))\n",
    "for i in range(num_models):\n",
    "    plt.plot(results[i][\"val_accuracies\"], label=f\"Model {i}\")\n",
    "plt.xlabel(\"Epoch\") \n",
    "plt.ylabel(\"Validation Accuracy (%)\")\n",
    "plt.title(f\"Validation Accuracy per Epoch\")\n",
    "plt.legend()\n",
    "plt.show()\n",
    "plt.show()"
   ],
   "id": "d97f5387c020c075",
   "outputs": [
    {
     "data": {
      "text/plain": [
       "Epoch 1/20:   0%|          | 0/90247 [00:00<?, ?batch/s]"
      ],
      "application/vnd.jupyter.widget-view+json": {
       "version_major": 2,
       "version_minor": 0,
       "model_id": "507a47dc4e6849fc970442163bf9747b"
      }
     },
     "metadata": {},
     "output_type": "display_data"
    },
    {
     "name": "stdout",
     "output_type": "stream",
     "text": [
      "val loss=1.4927620373625403; val accuracy=63.66482227809118%\n"
     ]
    },
    {
     "data": {
      "text/plain": [
       "Epoch 2/20:   0%|          | 0/90247 [00:00<?, ?batch/s]"
      ],
      "application/vnd.jupyter.widget-view+json": {
       "version_major": 2,
       "version_minor": 0,
       "model_id": "8066d0d73c124d7893e1426757b9d743"
      }
     },
     "metadata": {},
     "output_type": "display_data"
    },
    {
     "name": "stdout",
     "output_type": "stream",
     "text": [
      "val loss=1.4946878692306353; val accuracy=63.697362449088224%\n"
     ]
    },
    {
     "data": {
      "text/plain": [
       "Epoch 3/20:   0%|          | 0/90247 [00:00<?, ?batch/s]"
      ],
      "application/vnd.jupyter.widget-view+json": {
       "version_major": 2,
       "version_minor": 0,
       "model_id": "24ed35b73884457b8e0140127bb9a0a3"
      }
     },
     "metadata": {},
     "output_type": "display_data"
    },
    {
     "name": "stdout",
     "output_type": "stream",
     "text": [
      "val loss=1.5164291769968243; val accuracy=62.47418271843153%\n"
     ]
    },
    {
     "data": {
      "text/plain": [
       "Epoch 4/20:   0%|          | 0/90247 [00:00<?, ?batch/s]"
      ],
      "application/vnd.jupyter.widget-view+json": {
       "version_major": 2,
       "version_minor": 0,
       "model_id": "2ca1b2e05b334aa2b2ae4d43d0956b79"
      }
     },
     "metadata": {},
     "output_type": "display_data"
    },
    {
     "name": "stdout",
     "output_type": "stream",
     "text": [
      "val loss=1.519609605376962; val accuracy=61.07470783649299%\n"
     ]
    },
    {
     "data": {
      "text/plain": [
       "Epoch 5/20:   0%|          | 0/90247 [00:00<?, ?batch/s]"
      ],
      "application/vnd.jupyter.widget-view+json": {
       "version_major": 2,
       "version_minor": 0,
       "model_id": "7faf73598a6e409cb88acaa28b916b1b"
      }
     },
     "metadata": {},
     "output_type": "display_data"
    },
    {
     "name": "stdout",
     "output_type": "stream",
     "text": [
      "val loss=1.5796373014283502; val accuracy=58.68603254868599%\n"
     ]
    },
    {
     "data": {
      "text/plain": [
       "Epoch 6/20:   0%|          | 0/90247 [00:00<?, ?batch/s]"
      ],
      "application/vnd.jupyter.widget-view+json": {
       "version_major": 2,
       "version_minor": 0,
       "model_id": "bb9e33241a864499b849b4ed7bb152f2"
      }
     },
     "metadata": {},
     "output_type": "display_data"
    },
    {
     "name": "stdout",
     "output_type": "stream",
     "text": [
      "val loss=1.6001291936446147; val accuracy=57.53603726163941%\n"
     ]
    },
    {
     "data": {
      "text/plain": [
       "Epoch 7/20:   0%|          | 0/90247 [00:00<?, ?batch/s]"
      ],
      "application/vnd.jupyter.widget-view+json": {
       "version_major": 2,
       "version_minor": 0,
       "model_id": "48987a4e65594518a33cfae9678ca956"
      }
     },
     "metadata": {},
     "output_type": "display_data"
    },
    {
     "name": "stdout",
     "output_type": "stream",
     "text": [
      "val loss=1.623349252719427; val accuracy=57.028528417920946%\n"
     ]
    },
    {
     "data": {
      "text/plain": [
       "Epoch 8/20:   0%|          | 0/90247 [00:00<?, ?batch/s]"
      ],
      "application/vnd.jupyter.widget-view+json": {
       "version_major": 2,
       "version_minor": 0,
       "model_id": "f3a8e965c9014a8bbe2ea959ff3faec0"
      }
     },
     "metadata": {},
     "output_type": "display_data"
    },
    {
     "name": "stdout",
     "output_type": "stream",
     "text": [
      "val loss=1.6605296684525832; val accuracy=55.680534631098524%\n"
     ]
    },
    {
     "data": {
      "text/plain": [
       "Epoch 9/20:   0%|          | 0/90247 [00:00<?, ?batch/s]"
      ],
      "application/vnd.jupyter.widget-view+json": {
       "version_major": 2,
       "version_minor": 0,
       "model_id": "6bb025d2c3f5417695d16cf1eab3f739"
      }
     },
     "metadata": {},
     "output_type": "display_data"
    },
    {
     "name": "stdout",
     "output_type": "stream",
     "text": [
      "val loss=1.737688886229922; val accuracy=52.90308524188144%\n"
     ]
    },
    {
     "data": {
      "text/plain": [
       "Epoch 10/20:   0%|          | 0/90247 [00:00<?, ?batch/s]"
      ],
      "application/vnd.jupyter.widget-view+json": {
       "version_major": 2,
       "version_minor": 0,
       "model_id": "bb8cbb0f68284f08b9924791de75f721"
      }
     },
     "metadata": {},
     "output_type": "display_data"
    },
    {
     "name": "stdout",
     "output_type": "stream",
     "text": [
      "val loss=1.7838693651626916; val accuracy=51.58478009121743%\n"
     ]
    },
    {
     "data": {
      "text/plain": [
       "Epoch 11/20:   0%|          | 0/90247 [00:00<?, ?batch/s]"
      ],
      "application/vnd.jupyter.widget-view+json": {
       "version_major": 2,
       "version_minor": 0,
       "model_id": "5848e7f8b1134cb18fe6fcee872086b2"
      }
     },
     "metadata": {},
     "output_type": "display_data"
    },
    {
     "name": "stdout",
     "output_type": "stream",
     "text": [
      "val loss=1.8054162293831943; val accuracy=51.31658729894699%\n"
     ]
    },
    {
     "data": {
      "text/plain": [
       "Epoch 12/20:   0%|          | 0/90247 [00:00<?, ?batch/s]"
      ],
      "application/vnd.jupyter.widget-view+json": {
       "version_major": 2,
       "version_minor": 0,
       "model_id": "9dc430243ea84df39d52d2d0911f37d2"
      }
     },
     "metadata": {},
     "output_type": "display_data"
    },
    {
     "name": "stdout",
     "output_type": "stream",
     "text": [
      "val loss=1.7613545021201515; val accuracy=52.87662438474175%\n"
     ]
    },
    {
     "data": {
      "text/plain": [
       "Epoch 13/20:   0%|          | 0/90247 [00:00<?, ?batch/s]"
      ],
      "application/vnd.jupyter.widget-view+json": {
       "version_major": 2,
       "version_minor": 0,
       "model_id": "9a3f93ee142545abad24a4c4deb488b6"
      }
     },
     "metadata": {},
     "output_type": "display_data"
    },
    {
     "name": "stdout",
     "output_type": "stream",
     "text": [
      "val loss=1.846435337525658; val accuracy=49.975291648646554%\n"
     ]
    },
    {
     "data": {
      "text/plain": [
       "Epoch 14/20:   0%|          | 0/90247 [00:00<?, ?batch/s]"
      ],
      "application/vnd.jupyter.widget-view+json": {
       "version_major": 2,
       "version_minor": 0,
       "model_id": "0a46e8b4b0af4d19980e5c8f05f28857"
      }
     },
     "metadata": {},
     "output_type": "display_data"
    },
    {
     "name": "stdout",
     "output_type": "stream",
     "text": [
      "val loss=1.7511193039809816; val accuracy=52.77005322072939%\n"
     ]
    },
    {
     "data": {
      "text/plain": [
       "Epoch 15/20:   0%|          | 0/90247 [00:00<?, ?batch/s]"
      ],
      "application/vnd.jupyter.widget-view+json": {
       "version_major": 2,
       "version_minor": 0,
       "model_id": "1f3e5bc671f244d0bb43224daa2c4de3"
      }
     },
     "metadata": {},
     "output_type": "display_data"
    },
    {
     "name": "stdout",
     "output_type": "stream",
     "text": [
      "val loss=1.768823756245609; val accuracy=52.29679744914367%\n"
     ]
    },
    {
     "data": {
      "text/plain": [
       "Epoch 16/20:   0%|          | 0/90247 [00:00<?, ?batch/s]"
      ],
      "application/vnd.jupyter.widget-view+json": {
       "version_major": 2,
       "version_minor": 0,
       "model_id": "941619402949400cb67c205ddca615de"
      }
     },
     "metadata": {},
     "output_type": "display_data"
    },
    {
     "name": "stdout",
     "output_type": "stream",
     "text": [
      "val loss=1.802466714164663; val accuracy=51.56002223405081%\n"
     ]
    },
    {
     "data": {
      "text/plain": [
       "Epoch 17/20:   0%|          | 0/90247 [00:00<?, ?batch/s]"
      ],
      "application/vnd.jupyter.widget-view+json": {
       "version_major": 2,
       "version_minor": 0,
       "model_id": "96aad7cae9a248078e3cc589beda0084"
      }
     },
     "metadata": {},
     "output_type": "display_data"
    },
    {
     "name": "stdout",
     "output_type": "stream",
     "text": [
      "val loss=1.8755164498070198; val accuracy=49.155450629634736%\n"
     ]
    },
    {
     "data": {
      "text/plain": [
       "Epoch 18/20:   0%|          | 0/90247 [00:00<?, ?batch/s]"
      ],
      "application/vnd.jupyter.widget-view+json": {
       "version_major": 2,
       "version_minor": 0,
       "model_id": "b888e349bd4643c0877aad159676d17c"
      }
     },
     "metadata": {},
     "output_type": "display_data"
    },
    {
     "name": "stdout",
     "output_type": "stream",
     "text": [
      "val loss=1.863894161688047; val accuracy=49.693534263567365%\n"
     ]
    },
    {
     "data": {
      "text/plain": [
       "Epoch 19/20:   0%|          | 0/90247 [00:00<?, ?batch/s]"
      ],
      "application/vnd.jupyter.widget-view+json": {
       "version_major": 2,
       "version_minor": 0,
       "model_id": "6a94b5777b80402688a7c68bafed2cf4"
      }
     },
     "metadata": {},
     "output_type": "display_data"
    },
    {
     "name": "stdout",
     "output_type": "stream",
     "text": [
      "val loss=1.8471182871439213; val accuracy=50.03780263893707%\n"
     ]
    },
    {
     "data": {
      "text/plain": [
       "Epoch 20/20:   0%|          | 0/90247 [00:00<?, ?batch/s]"
      ],
      "application/vnd.jupyter.widget-view+json": {
       "version_major": 2,
       "version_minor": 0,
       "model_id": "6b90eb4551cf481aab924a0f9072586c"
      }
     },
     "metadata": {},
     "output_type": "display_data"
    },
    {
     "name": "stdout",
     "output_type": "stream",
     "text": [
      "val loss=1.8601370727837028; val accuracy=49.37301877735691%\n",
      "0\n"
     ]
    },
    {
     "data": {
      "text/plain": [
       "Epoch 1/20:   0%|          | 0/90247 [00:00<?, ?batch/s]"
      ],
      "application/vnd.jupyter.widget-view+json": {
       "version_major": 2,
       "version_minor": 0,
       "model_id": "535e063e30f544ef861f2982ea73f9d1"
      }
     },
     "metadata": {},
     "output_type": "display_data"
    },
    {
     "name": "stdout",
     "output_type": "stream",
     "text": [
      "val loss=1.481663431480048; val accuracy=63.96681763959451%\n"
     ]
    },
    {
     "data": {
      "text/plain": [
       "Epoch 2/20:   0%|          | 0/90247 [00:00<?, ?batch/s]"
      ],
      "application/vnd.jupyter.widget-view+json": {
       "version_major": 2,
       "version_minor": 0,
       "model_id": "e73aeac4a0194ff097ccd35fcc102155"
      }
     },
     "metadata": {},
     "output_type": "display_data"
    },
    {
     "name": "stdout",
     "output_type": "stream",
     "text": [
      "val loss=1.5097658887892704; val accuracy=63.2274730727981%\n"
     ]
    },
    {
     "data": {
      "text/plain": [
       "Epoch 3/20:   0%|          | 0/90247 [00:00<?, ?batch/s]"
      ],
      "application/vnd.jupyter.widget-view+json": {
       "version_major": 2,
       "version_minor": 0,
       "model_id": "ab21671b41744d4b91c4e00466210d9f"
      }
     },
     "metadata": {},
     "output_type": "display_data"
    },
    {
     "name": "stdout",
     "output_type": "stream",
     "text": [
      "val loss=1.504738990957284; val accuracy=63.092445967375276%\n"
     ]
    },
    {
     "data": {
      "text/plain": [
       "Epoch 4/20:   0%|          | 0/90247 [00:00<?, ?batch/s]"
      ],
      "application/vnd.jupyter.widget-view+json": {
       "version_major": 2,
       "version_minor": 0,
       "model_id": "2aac16771388499c9e1bb674d8363cf4"
      }
     },
     "metadata": {},
     "output_type": "display_data"
    },
    {
     "name": "stdout",
     "output_type": "stream",
     "text": [
      "val loss=1.5487119293084157; val accuracy=60.55626315864514%\n"
     ]
    },
    {
     "data": {
      "text/plain": [
       "Epoch 5/20:   0%|          | 0/90247 [00:00<?, ?batch/s]"
      ],
      "application/vnd.jupyter.widget-view+json": {
       "version_major": 2,
       "version_minor": 0,
       "model_id": "6de475da11974f8b98980089931a943b"
      }
     },
     "metadata": {},
     "output_type": "display_data"
    },
    {
     "name": "stdout",
     "output_type": "stream",
     "text": [
      "val loss=1.5754034851360508; val accuracy=58.58581298050342%\n"
     ]
    },
    {
     "data": {
      "text/plain": [
       "Epoch 6/20:   0%|          | 0/90247 [00:00<?, ?batch/s]"
      ],
      "application/vnd.jupyter.widget-view+json": {
       "version_major": 2,
       "version_minor": 0,
       "model_id": "6a64d69475ec49aeb11c4ba16d1231ed"
      }
     },
     "metadata": {},
     "output_type": "display_data"
    },
    {
     "ename": "KeyboardInterrupt",
     "evalue": "",
     "output_type": "error",
     "traceback": [
      "\u001B[0;31m---------------------------------------------------------------------------\u001B[0m",
      "\u001B[0;31mKeyboardInterrupt\u001B[0m                         Traceback (most recent call last)",
      "Cell \u001B[0;32mIn[19], line 75\u001B[0m\n\u001B[1;32m     73\u001B[0m loss \u001B[38;5;241m=\u001B[39m criterion(prediction, Y)\n\u001B[1;32m     74\u001B[0m loss\u001B[38;5;241m.\u001B[39mbackward()\n\u001B[0;32m---> 75\u001B[0m \u001B[43moptimizer\u001B[49m\u001B[38;5;241;43m.\u001B[39;49m\u001B[43mstep\u001B[49m\u001B[43m(\u001B[49m\u001B[43m)\u001B[49m\n\u001B[1;32m     77\u001B[0m \u001B[38;5;66;03m# update progress bar\u001B[39;00m\n\u001B[1;32m     78\u001B[0m pbar\u001B[38;5;241m.\u001B[39mset_postfix({\u001B[38;5;124m\"\u001B[39m\u001B[38;5;124mloss\u001B[39m\u001B[38;5;124m\"\u001B[39m: loss\u001B[38;5;241m.\u001B[39mitem()})     \u001B[38;5;66;03m# display current loss\u001B[39;00m\n",
      "File \u001B[0;32m~/miniconda3/envs/music_transcription/lib/python3.10/site-packages/torch/optim/optimizer.py:487\u001B[0m, in \u001B[0;36mOptimizer.profile_hook_step.<locals>.wrapper\u001B[0;34m(*args, **kwargs)\u001B[0m\n\u001B[1;32m    482\u001B[0m         \u001B[38;5;28;01melse\u001B[39;00m:\n\u001B[1;32m    483\u001B[0m             \u001B[38;5;28;01mraise\u001B[39;00m \u001B[38;5;167;01mRuntimeError\u001B[39;00m(\n\u001B[1;32m    484\u001B[0m                 \u001B[38;5;124mf\u001B[39m\u001B[38;5;124m\"\u001B[39m\u001B[38;5;132;01m{\u001B[39;00mfunc\u001B[38;5;132;01m}\u001B[39;00m\u001B[38;5;124m must return None or a tuple of (new_args, new_kwargs), but got \u001B[39m\u001B[38;5;132;01m{\u001B[39;00mresult\u001B[38;5;132;01m}\u001B[39;00m\u001B[38;5;124m.\u001B[39m\u001B[38;5;124m\"\u001B[39m\n\u001B[1;32m    485\u001B[0m             )\n\u001B[0;32m--> 487\u001B[0m out \u001B[38;5;241m=\u001B[39m \u001B[43mfunc\u001B[49m\u001B[43m(\u001B[49m\u001B[38;5;241;43m*\u001B[39;49m\u001B[43margs\u001B[49m\u001B[43m,\u001B[49m\u001B[43m \u001B[49m\u001B[38;5;241;43m*\u001B[39;49m\u001B[38;5;241;43m*\u001B[39;49m\u001B[43mkwargs\u001B[49m\u001B[43m)\u001B[49m\n\u001B[1;32m    488\u001B[0m \u001B[38;5;28mself\u001B[39m\u001B[38;5;241m.\u001B[39m_optimizer_step_code()\n\u001B[1;32m    490\u001B[0m \u001B[38;5;66;03m# call optimizer step post hooks\u001B[39;00m\n",
      "File \u001B[0;32m~/miniconda3/envs/music_transcription/lib/python3.10/site-packages/torch/optim/optimizer.py:91\u001B[0m, in \u001B[0;36m_use_grad_for_differentiable.<locals>._use_grad\u001B[0;34m(self, *args, **kwargs)\u001B[0m\n\u001B[1;32m     89\u001B[0m     torch\u001B[38;5;241m.\u001B[39mset_grad_enabled(\u001B[38;5;28mself\u001B[39m\u001B[38;5;241m.\u001B[39mdefaults[\u001B[38;5;124m\"\u001B[39m\u001B[38;5;124mdifferentiable\u001B[39m\u001B[38;5;124m\"\u001B[39m])\n\u001B[1;32m     90\u001B[0m     torch\u001B[38;5;241m.\u001B[39m_dynamo\u001B[38;5;241m.\u001B[39mgraph_break()\n\u001B[0;32m---> 91\u001B[0m     ret \u001B[38;5;241m=\u001B[39m \u001B[43mfunc\u001B[49m\u001B[43m(\u001B[49m\u001B[38;5;28;43mself\u001B[39;49m\u001B[43m,\u001B[49m\u001B[43m \u001B[49m\u001B[38;5;241;43m*\u001B[39;49m\u001B[43margs\u001B[49m\u001B[43m,\u001B[49m\u001B[43m \u001B[49m\u001B[38;5;241;43m*\u001B[39;49m\u001B[38;5;241;43m*\u001B[39;49m\u001B[43mkwargs\u001B[49m\u001B[43m)\u001B[49m\n\u001B[1;32m     92\u001B[0m \u001B[38;5;28;01mfinally\u001B[39;00m:\n\u001B[1;32m     93\u001B[0m     torch\u001B[38;5;241m.\u001B[39m_dynamo\u001B[38;5;241m.\u001B[39mgraph_break()\n",
      "File \u001B[0;32m~/miniconda3/envs/music_transcription/lib/python3.10/site-packages/torch/optim/adam.py:223\u001B[0m, in \u001B[0;36mAdam.step\u001B[0;34m(self, closure)\u001B[0m\n\u001B[1;32m    211\u001B[0m     beta1, beta2 \u001B[38;5;241m=\u001B[39m group[\u001B[38;5;124m\"\u001B[39m\u001B[38;5;124mbetas\u001B[39m\u001B[38;5;124m\"\u001B[39m]\n\u001B[1;32m    213\u001B[0m     has_complex \u001B[38;5;241m=\u001B[39m \u001B[38;5;28mself\u001B[39m\u001B[38;5;241m.\u001B[39m_init_group(\n\u001B[1;32m    214\u001B[0m         group,\n\u001B[1;32m    215\u001B[0m         params_with_grad,\n\u001B[0;32m   (...)\u001B[0m\n\u001B[1;32m    220\u001B[0m         state_steps,\n\u001B[1;32m    221\u001B[0m     )\n\u001B[0;32m--> 223\u001B[0m     \u001B[43madam\u001B[49m\u001B[43m(\u001B[49m\n\u001B[1;32m    224\u001B[0m \u001B[43m        \u001B[49m\u001B[43mparams_with_grad\u001B[49m\u001B[43m,\u001B[49m\n\u001B[1;32m    225\u001B[0m \u001B[43m        \u001B[49m\u001B[43mgrads\u001B[49m\u001B[43m,\u001B[49m\n\u001B[1;32m    226\u001B[0m \u001B[43m        \u001B[49m\u001B[43mexp_avgs\u001B[49m\u001B[43m,\u001B[49m\n\u001B[1;32m    227\u001B[0m \u001B[43m        \u001B[49m\u001B[43mexp_avg_sqs\u001B[49m\u001B[43m,\u001B[49m\n\u001B[1;32m    228\u001B[0m \u001B[43m        \u001B[49m\u001B[43mmax_exp_avg_sqs\u001B[49m\u001B[43m,\u001B[49m\n\u001B[1;32m    229\u001B[0m \u001B[43m        \u001B[49m\u001B[43mstate_steps\u001B[49m\u001B[43m,\u001B[49m\n\u001B[1;32m    230\u001B[0m \u001B[43m        \u001B[49m\u001B[43mamsgrad\u001B[49m\u001B[38;5;241;43m=\u001B[39;49m\u001B[43mgroup\u001B[49m\u001B[43m[\u001B[49m\u001B[38;5;124;43m\"\u001B[39;49m\u001B[38;5;124;43mamsgrad\u001B[39;49m\u001B[38;5;124;43m\"\u001B[39;49m\u001B[43m]\u001B[49m\u001B[43m,\u001B[49m\n\u001B[1;32m    231\u001B[0m \u001B[43m        \u001B[49m\u001B[43mhas_complex\u001B[49m\u001B[38;5;241;43m=\u001B[39;49m\u001B[43mhas_complex\u001B[49m\u001B[43m,\u001B[49m\n\u001B[1;32m    232\u001B[0m \u001B[43m        \u001B[49m\u001B[43mbeta1\u001B[49m\u001B[38;5;241;43m=\u001B[39;49m\u001B[43mbeta1\u001B[49m\u001B[43m,\u001B[49m\n\u001B[1;32m    233\u001B[0m \u001B[43m        \u001B[49m\u001B[43mbeta2\u001B[49m\u001B[38;5;241;43m=\u001B[39;49m\u001B[43mbeta2\u001B[49m\u001B[43m,\u001B[49m\n\u001B[1;32m    234\u001B[0m \u001B[43m        \u001B[49m\u001B[43mlr\u001B[49m\u001B[38;5;241;43m=\u001B[39;49m\u001B[43mgroup\u001B[49m\u001B[43m[\u001B[49m\u001B[38;5;124;43m\"\u001B[39;49m\u001B[38;5;124;43mlr\u001B[39;49m\u001B[38;5;124;43m\"\u001B[39;49m\u001B[43m]\u001B[49m\u001B[43m,\u001B[49m\n\u001B[1;32m    235\u001B[0m \u001B[43m        \u001B[49m\u001B[43mweight_decay\u001B[49m\u001B[38;5;241;43m=\u001B[39;49m\u001B[43mgroup\u001B[49m\u001B[43m[\u001B[49m\u001B[38;5;124;43m\"\u001B[39;49m\u001B[38;5;124;43mweight_decay\u001B[39;49m\u001B[38;5;124;43m\"\u001B[39;49m\u001B[43m]\u001B[49m\u001B[43m,\u001B[49m\n\u001B[1;32m    236\u001B[0m \u001B[43m        \u001B[49m\u001B[43meps\u001B[49m\u001B[38;5;241;43m=\u001B[39;49m\u001B[43mgroup\u001B[49m\u001B[43m[\u001B[49m\u001B[38;5;124;43m\"\u001B[39;49m\u001B[38;5;124;43meps\u001B[39;49m\u001B[38;5;124;43m\"\u001B[39;49m\u001B[43m]\u001B[49m\u001B[43m,\u001B[49m\n\u001B[1;32m    237\u001B[0m \u001B[43m        \u001B[49m\u001B[43mmaximize\u001B[49m\u001B[38;5;241;43m=\u001B[39;49m\u001B[43mgroup\u001B[49m\u001B[43m[\u001B[49m\u001B[38;5;124;43m\"\u001B[39;49m\u001B[38;5;124;43mmaximize\u001B[39;49m\u001B[38;5;124;43m\"\u001B[39;49m\u001B[43m]\u001B[49m\u001B[43m,\u001B[49m\n\u001B[1;32m    238\u001B[0m \u001B[43m        \u001B[49m\u001B[43mforeach\u001B[49m\u001B[38;5;241;43m=\u001B[39;49m\u001B[43mgroup\u001B[49m\u001B[43m[\u001B[49m\u001B[38;5;124;43m\"\u001B[39;49m\u001B[38;5;124;43mforeach\u001B[39;49m\u001B[38;5;124;43m\"\u001B[39;49m\u001B[43m]\u001B[49m\u001B[43m,\u001B[49m\n\u001B[1;32m    239\u001B[0m \u001B[43m        \u001B[49m\u001B[43mcapturable\u001B[49m\u001B[38;5;241;43m=\u001B[39;49m\u001B[43mgroup\u001B[49m\u001B[43m[\u001B[49m\u001B[38;5;124;43m\"\u001B[39;49m\u001B[38;5;124;43mcapturable\u001B[39;49m\u001B[38;5;124;43m\"\u001B[39;49m\u001B[43m]\u001B[49m\u001B[43m,\u001B[49m\n\u001B[1;32m    240\u001B[0m \u001B[43m        \u001B[49m\u001B[43mdifferentiable\u001B[49m\u001B[38;5;241;43m=\u001B[39;49m\u001B[43mgroup\u001B[49m\u001B[43m[\u001B[49m\u001B[38;5;124;43m\"\u001B[39;49m\u001B[38;5;124;43mdifferentiable\u001B[39;49m\u001B[38;5;124;43m\"\u001B[39;49m\u001B[43m]\u001B[49m\u001B[43m,\u001B[49m\n\u001B[1;32m    241\u001B[0m \u001B[43m        \u001B[49m\u001B[43mfused\u001B[49m\u001B[38;5;241;43m=\u001B[39;49m\u001B[43mgroup\u001B[49m\u001B[43m[\u001B[49m\u001B[38;5;124;43m\"\u001B[39;49m\u001B[38;5;124;43mfused\u001B[39;49m\u001B[38;5;124;43m\"\u001B[39;49m\u001B[43m]\u001B[49m\u001B[43m,\u001B[49m\n\u001B[1;32m    242\u001B[0m \u001B[43m        \u001B[49m\u001B[43mgrad_scale\u001B[49m\u001B[38;5;241;43m=\u001B[39;49m\u001B[38;5;28;43mgetattr\u001B[39;49m\u001B[43m(\u001B[49m\u001B[38;5;28;43mself\u001B[39;49m\u001B[43m,\u001B[49m\u001B[43m \u001B[49m\u001B[38;5;124;43m\"\u001B[39;49m\u001B[38;5;124;43mgrad_scale\u001B[39;49m\u001B[38;5;124;43m\"\u001B[39;49m\u001B[43m,\u001B[49m\u001B[43m \u001B[49m\u001B[38;5;28;43;01mNone\u001B[39;49;00m\u001B[43m)\u001B[49m\u001B[43m,\u001B[49m\n\u001B[1;32m    243\u001B[0m \u001B[43m        \u001B[49m\u001B[43mfound_inf\u001B[49m\u001B[38;5;241;43m=\u001B[39;49m\u001B[38;5;28;43mgetattr\u001B[39;49m\u001B[43m(\u001B[49m\u001B[38;5;28;43mself\u001B[39;49m\u001B[43m,\u001B[49m\u001B[43m \u001B[49m\u001B[38;5;124;43m\"\u001B[39;49m\u001B[38;5;124;43mfound_inf\u001B[39;49m\u001B[38;5;124;43m\"\u001B[39;49m\u001B[43m,\u001B[49m\u001B[43m \u001B[49m\u001B[38;5;28;43;01mNone\u001B[39;49;00m\u001B[43m)\u001B[49m\u001B[43m,\u001B[49m\n\u001B[1;32m    244\u001B[0m \u001B[43m    \u001B[49m\u001B[43m)\u001B[49m\n\u001B[1;32m    246\u001B[0m \u001B[38;5;28;01mreturn\u001B[39;00m loss\n",
      "File \u001B[0;32m~/miniconda3/envs/music_transcription/lib/python3.10/site-packages/torch/optim/optimizer.py:154\u001B[0m, in \u001B[0;36m_disable_dynamo_if_unsupported.<locals>.wrapper.<locals>.maybe_fallback\u001B[0;34m(*args, **kwargs)\u001B[0m\n\u001B[1;32m    152\u001B[0m     \u001B[38;5;28;01mreturn\u001B[39;00m disabled_func(\u001B[38;5;241m*\u001B[39margs, \u001B[38;5;241m*\u001B[39m\u001B[38;5;241m*\u001B[39mkwargs)\n\u001B[1;32m    153\u001B[0m \u001B[38;5;28;01melse\u001B[39;00m:\n\u001B[0;32m--> 154\u001B[0m     \u001B[38;5;28;01mreturn\u001B[39;00m \u001B[43mfunc\u001B[49m\u001B[43m(\u001B[49m\u001B[38;5;241;43m*\u001B[39;49m\u001B[43margs\u001B[49m\u001B[43m,\u001B[49m\u001B[43m \u001B[49m\u001B[38;5;241;43m*\u001B[39;49m\u001B[38;5;241;43m*\u001B[39;49m\u001B[43mkwargs\u001B[49m\u001B[43m)\u001B[49m\n",
      "File \u001B[0;32m~/miniconda3/envs/music_transcription/lib/python3.10/site-packages/torch/optim/adam.py:784\u001B[0m, in \u001B[0;36madam\u001B[0;34m(params, grads, exp_avgs, exp_avg_sqs, max_exp_avg_sqs, state_steps, foreach, capturable, differentiable, fused, grad_scale, found_inf, has_complex, amsgrad, beta1, beta2, lr, weight_decay, eps, maximize)\u001B[0m\n\u001B[1;32m    781\u001B[0m \u001B[38;5;28;01melse\u001B[39;00m:\n\u001B[1;32m    782\u001B[0m     func \u001B[38;5;241m=\u001B[39m _single_tensor_adam\n\u001B[0;32m--> 784\u001B[0m \u001B[43mfunc\u001B[49m\u001B[43m(\u001B[49m\n\u001B[1;32m    785\u001B[0m \u001B[43m    \u001B[49m\u001B[43mparams\u001B[49m\u001B[43m,\u001B[49m\n\u001B[1;32m    786\u001B[0m \u001B[43m    \u001B[49m\u001B[43mgrads\u001B[49m\u001B[43m,\u001B[49m\n\u001B[1;32m    787\u001B[0m \u001B[43m    \u001B[49m\u001B[43mexp_avgs\u001B[49m\u001B[43m,\u001B[49m\n\u001B[1;32m    788\u001B[0m \u001B[43m    \u001B[49m\u001B[43mexp_avg_sqs\u001B[49m\u001B[43m,\u001B[49m\n\u001B[1;32m    789\u001B[0m \u001B[43m    \u001B[49m\u001B[43mmax_exp_avg_sqs\u001B[49m\u001B[43m,\u001B[49m\n\u001B[1;32m    790\u001B[0m \u001B[43m    \u001B[49m\u001B[43mstate_steps\u001B[49m\u001B[43m,\u001B[49m\n\u001B[1;32m    791\u001B[0m \u001B[43m    \u001B[49m\u001B[43mamsgrad\u001B[49m\u001B[38;5;241;43m=\u001B[39;49m\u001B[43mamsgrad\u001B[49m\u001B[43m,\u001B[49m\n\u001B[1;32m    792\u001B[0m \u001B[43m    \u001B[49m\u001B[43mhas_complex\u001B[49m\u001B[38;5;241;43m=\u001B[39;49m\u001B[43mhas_complex\u001B[49m\u001B[43m,\u001B[49m\n\u001B[1;32m    793\u001B[0m \u001B[43m    \u001B[49m\u001B[43mbeta1\u001B[49m\u001B[38;5;241;43m=\u001B[39;49m\u001B[43mbeta1\u001B[49m\u001B[43m,\u001B[49m\n\u001B[1;32m    794\u001B[0m \u001B[43m    \u001B[49m\u001B[43mbeta2\u001B[49m\u001B[38;5;241;43m=\u001B[39;49m\u001B[43mbeta2\u001B[49m\u001B[43m,\u001B[49m\n\u001B[1;32m    795\u001B[0m \u001B[43m    \u001B[49m\u001B[43mlr\u001B[49m\u001B[38;5;241;43m=\u001B[39;49m\u001B[43mlr\u001B[49m\u001B[43m,\u001B[49m\n\u001B[1;32m    796\u001B[0m \u001B[43m    \u001B[49m\u001B[43mweight_decay\u001B[49m\u001B[38;5;241;43m=\u001B[39;49m\u001B[43mweight_decay\u001B[49m\u001B[43m,\u001B[49m\n\u001B[1;32m    797\u001B[0m \u001B[43m    \u001B[49m\u001B[43meps\u001B[49m\u001B[38;5;241;43m=\u001B[39;49m\u001B[43meps\u001B[49m\u001B[43m,\u001B[49m\n\u001B[1;32m    798\u001B[0m \u001B[43m    \u001B[49m\u001B[43mmaximize\u001B[49m\u001B[38;5;241;43m=\u001B[39;49m\u001B[43mmaximize\u001B[49m\u001B[43m,\u001B[49m\n\u001B[1;32m    799\u001B[0m \u001B[43m    \u001B[49m\u001B[43mcapturable\u001B[49m\u001B[38;5;241;43m=\u001B[39;49m\u001B[43mcapturable\u001B[49m\u001B[43m,\u001B[49m\n\u001B[1;32m    800\u001B[0m \u001B[43m    \u001B[49m\u001B[43mdifferentiable\u001B[49m\u001B[38;5;241;43m=\u001B[39;49m\u001B[43mdifferentiable\u001B[49m\u001B[43m,\u001B[49m\n\u001B[1;32m    801\u001B[0m \u001B[43m    \u001B[49m\u001B[43mgrad_scale\u001B[49m\u001B[38;5;241;43m=\u001B[39;49m\u001B[43mgrad_scale\u001B[49m\u001B[43m,\u001B[49m\n\u001B[1;32m    802\u001B[0m \u001B[43m    \u001B[49m\u001B[43mfound_inf\u001B[49m\u001B[38;5;241;43m=\u001B[39;49m\u001B[43mfound_inf\u001B[49m\u001B[43m,\u001B[49m\n\u001B[1;32m    803\u001B[0m \u001B[43m\u001B[49m\u001B[43m)\u001B[49m\n",
      "File \u001B[0;32m~/miniconda3/envs/music_transcription/lib/python3.10/site-packages/torch/optim/adam.py:430\u001B[0m, in \u001B[0;36m_single_tensor_adam\u001B[0;34m(params, grads, exp_avgs, exp_avg_sqs, max_exp_avg_sqs, state_steps, grad_scale, found_inf, amsgrad, has_complex, beta1, beta2, lr, weight_decay, eps, maximize, capturable, differentiable)\u001B[0m\n\u001B[1;32m    428\u001B[0m         denom \u001B[38;5;241m=\u001B[39m (max_exp_avg_sqs[i]\u001B[38;5;241m.\u001B[39msqrt() \u001B[38;5;241m/\u001B[39m bias_correction2_sqrt)\u001B[38;5;241m.\u001B[39madd_(eps)\n\u001B[1;32m    429\u001B[0m     \u001B[38;5;28;01melse\u001B[39;00m:\n\u001B[0;32m--> 430\u001B[0m         denom \u001B[38;5;241m=\u001B[39m \u001B[43m(\u001B[49m\u001B[43mexp_avg_sq\u001B[49m\u001B[38;5;241;43m.\u001B[39;49m\u001B[43msqrt\u001B[49m\u001B[43m(\u001B[49m\u001B[43m)\u001B[49m\u001B[43m \u001B[49m\u001B[38;5;241;43m/\u001B[39;49m\u001B[43m \u001B[49m\u001B[43mbias_correction2_sqrt\u001B[49m\u001B[43m)\u001B[49m\u001B[38;5;241;43m.\u001B[39;49m\u001B[43madd_\u001B[49m\u001B[43m(\u001B[49m\u001B[43meps\u001B[49m\u001B[43m)\u001B[49m\n\u001B[1;32m    432\u001B[0m     param\u001B[38;5;241m.\u001B[39maddcdiv_(exp_avg, denom, value\u001B[38;5;241m=\u001B[39m\u001B[38;5;241m-\u001B[39mstep_size)\n\u001B[1;32m    434\u001B[0m \u001B[38;5;66;03m# Lastly, switch back to complex view\u001B[39;00m\n",
      "\u001B[0;31mKeyboardInterrupt\u001B[0m: "
     ]
    }
   ],
   "execution_count": 19
  }
 ],
 "metadata": {
  "kernelspec": {
   "display_name": "Python 3",
   "language": "python",
   "name": "python3"
  },
  "language_info": {
   "codemirror_mode": {
    "name": "ipython",
    "version": 2
   },
   "file_extension": ".py",
   "mimetype": "text/x-python",
   "name": "python",
   "nbconvert_exporter": "python",
   "pygments_lexer": "ipython2",
   "version": "2.7.6"
  }
 },
 "nbformat": 4,
 "nbformat_minor": 5
}
