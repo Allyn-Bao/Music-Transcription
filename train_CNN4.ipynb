{
 "cells": [
  {
   "metadata": {
    "ExecuteTime": {
     "end_time": "2024-11-21T02:17:19.254483Z",
     "start_time": "2024-11-21T02:17:17.739583Z"
    }
   },
   "cell_type": "code",
   "source": [
    "import torch\n",
    "import torch.nn as nn\n",
    "from torch.utils.data import Dataset, DataLoader\n",
    "from torchvision import models, transforms\n",
    "\n",
    "import json\n",
    "import numpy as np\n",
    "import pandas as pd\n",
    "from tqdm import tqdm\n",
    "\n",
    "import os\n",
    "import matplotlib.pyplot as plt"
   ],
   "id": "f6c1cfa4fb718d48",
   "outputs": [],
   "execution_count": 1
  },
  {
   "metadata": {
    "ExecuteTime": {
     "end_time": "2024-11-21T02:17:19.284578Z",
     "start_time": "2024-11-21T02:17:19.261717Z"
    }
   },
   "cell_type": "code",
   "source": [
    "# Metal GPU support\n",
    "if torch.backends.mps.is_available():\n",
    "    device = torch.device(\"mps\")  # \"mps\" stands for Metal Performance Shaders (Apple's Metal API)\n",
    "    print(\"Using Apple Metal GPU.\")\n",
    "else:\n",
    "    device = torch.device(\"cpu\")  # Fallback to CPU\n",
    "    print(\"Using CPU.\")"
   ],
   "id": "ff3cff7dedf42463",
   "outputs": [
    {
     "name": "stdout",
     "output_type": "stream",
     "text": [
      "Using Apple Metal GPU.\n"
     ]
    }
   ],
   "execution_count": 2
  },
  {
   "metadata": {},
   "cell_type": "markdown",
   "source": "Dataset",
   "id": "b5f182d331c9a21b"
  },
  {
   "metadata": {
    "ExecuteTime": {
     "end_time": "2024-11-21T02:17:19.325797Z",
     "start_time": "2024-11-21T02:17:19.322307Z"
    }
   },
   "cell_type": "code",
   "source": [
    "# chord name to index mapping\n",
    "chord_to_int = {'A#:maj': 0, 'A:maj': 1, 'A:min': 2, 'Ab:maj': 3, 'Ab:min': 4, 'B:maj': 5, 'B:min': 6, 'Bb:maj': 7, 'Bb:min': 8, 'C#:maj': 9, 'C#:min': 10, 'C:maj': 11, 'C:min': 12, 'Cb:maj': 13, 'D#:maj': 14, 'D#:min': 15, 'D:maj': 16, 'D:min': 17, 'Db:maj': 18, 'Db:min': 19, 'E:maj': 20, 'E:min': 21, 'Eb:maj': 22, 'Eb:min': 23, 'F#:maj': 24, 'F#:min': 25, 'F:maj': 26, 'F:min': 27, 'Fb:maj': 28, 'G#:maj': 29, 'G#:min': 30, 'G:maj': 31, 'G:min': 32, 'Gb:maj': 33, 'Gb:min': 34, 'N': 35, 'X': 36}\n",
    "\n",
    "int_to_chord = {0: 'A#:maj', 1: 'A:maj', 2: 'A:min', 3: 'Ab:maj', 4: 'Ab:min', 5: 'B:maj', 6: 'B:min', 7: 'Bb:maj', 8: 'Bb:min', 9: 'C#:maj', 10: 'C#:min', 11: 'C:maj', 12: 'C:min', 13: 'Cb:maj', 14: 'D#:maj', 15: 'D#:min', 16: 'D:maj', 17: 'D:min', 18: 'Db:maj', 19: 'Db:min', 20: 'E:maj', 21: 'E:min', 22: 'Eb:maj', 23: 'Eb:min', 24: 'F#:maj', 25: 'F#:min', 26: 'F:maj', 27: 'F:min', 28: 'Fb:maj', 29: 'G#:maj', 30: 'G#:min', 31: 'G:maj', 32: 'G:min', 33: 'Gb:maj', 34: 'Gb:min', 35: 'N', 36: 'X'}"
   ],
   "id": "70d4c8dca439b6ef",
   "outputs": [],
   "execution_count": 3
  },
  {
   "metadata": {
    "ExecuteTime": {
     "end_time": "2024-11-21T02:17:19.336373Z",
     "start_time": "2024-11-21T02:17:19.333980Z"
    }
   },
   "cell_type": "code",
   "source": [
    "import os\n",
    "\n",
    "def get_csv_file_paths(directory_path):\n",
    "    \"\"\"\n",
    "    Given a directory path, go through each CSV file in the directory,\n",
    "    append their paths into a list, and return the list.\n",
    "\n",
    "    Args:\n",
    "        directory_path (str): Path to the directory containing CSV files.\n",
    "\n",
    "    Returns:\n",
    "        list: List of file paths to all CSV files in the directory.\n",
    "    \"\"\"\n",
    "    csv_file_paths = []\n",
    "    \n",
    "    # Check if the provided path is valid\n",
    "    if not os.path.isdir(directory_path):\n",
    "        raise ValueError(f\"The provided path '{directory_path}' is not a valid directory.\")\n",
    "    \n",
    "    # Iterate over all files in the directory\n",
    "    for filename in os.listdir(directory_path):\n",
    "        # Check if the file has a .csv extension\n",
    "        if filename.endswith(\".csv\"):\n",
    "            # Append the full path to the list\n",
    "            full_path = os.path.join(directory_path, filename)\n",
    "            csv_file_paths.append(full_path)\n",
    "    \n",
    "    return csv_file_paths"
   ],
   "id": "b568e798eca86165",
   "outputs": [],
   "execution_count": 4
  },
  {
   "metadata": {
    "ExecuteTime": {
     "end_time": "2024-11-21T02:17:19.345470Z",
     "start_time": "2024-11-21T02:17:19.341405Z"
    }
   },
   "cell_type": "code",
   "source": [
    "import torch\n",
    "from torch.utils.data import Dataset, DataLoader\n",
    "import pandas as pd\n",
    "import numpy as np\n",
    "from collections import Counter\n",
    "\n",
    "class AudioChordDataset(Dataset):\n",
    "    def __init__(self, csv_dir, csv_file_names, N, chord_to_int):\n",
    "        \"\"\"\n",
    "        Args:\n",
    "            csv_file_paths (list of str): List of paths to CSV files.\n",
    "            N (int): Number of timestamps in each block (sliding window size).\n",
    "        \"\"\"\n",
    "        self.csv_file_names = csv_file_names\n",
    "        self.N = N\n",
    "        self.data = []\n",
    "        self.labels = []\n",
    "        self.chord_to_int = chord_to_int\n",
    "\n",
    "        # Load and process each CSV file\n",
    "        for file_name in self.csv_file_names:\n",
    "            file_path = os.path.join(csv_dir, file_name)\n",
    "            df = pd.read_csv(file_path)\n",
    "            # Get frequency domain values and labels as numpy arrays\n",
    "            freq_data = df.iloc[:, 1:25].values  # Select the 25 frequency columns\n",
    "            labels = df.iloc[:, 25].values  # Select the label column\n",
    "            \n",
    "            # Append data blocks and labels using a sliding window approach\n",
    "            for i in range(len(freq_data) - N + 1):\n",
    "                block = freq_data[i:i + N]  # N x 26\n",
    "                block_labels = labels[i:i + N]  # Labels in the block\n",
    "\n",
    "                # Find the most common label in the block\n",
    "                most_common_label = Counter(block_labels).most_common(1)[0][0]\n",
    "                \n",
    "                # Map chord name to integer\n",
    "                numeric_label = self.chord_to_int.get(most_common_label, self.chord_to_int[\"X\"]) # Default to \"X\" if unknown\n",
    "                \n",
    "                self.data.append(block)\n",
    "                self.labels.append(numeric_label)\n",
    "\n",
    "    def __len__(self):\n",
    "        return len(self.data)\n",
    "\n",
    "    def __getitem__(self, idx):\n",
    "        block = torch.tensor(self.data[idx], dtype=torch.float32).unsqueeze(0)  # Shape: N x 26\n",
    "        label = torch.tensor(self.labels[idx])  # This is still a string (chord name)\n",
    "        return block, label"
   ],
   "id": "c34e3516c5d52311",
   "outputs": [],
   "execution_count": 5
  },
  {
   "metadata": {
    "ExecuteTime": {
     "end_time": "2024-11-21T02:17:19.352296Z",
     "start_time": "2024-11-21T02:17:19.350177Z"
    }
   },
   "cell_type": "code",
   "source": [
    "def read_list_from_json(file_path):\n",
    "    \"\"\"\n",
    "    Reads a JSON file and returns the original Python list.\n",
    "\n",
    "    Args:\n",
    "        file_path (str): Path to the JSON file.\n",
    "\n",
    "    Returns:\n",
    "        list: List read from the JSON file.\n",
    "\n",
    "    Raises:\n",
    "        ValueError: If the JSON file content is not a list.\n",
    "    \"\"\"\n",
    "    with open(file_path, 'r') as json_file:\n",
    "        data = json.load(json_file)\n",
    "    \n",
    "    if not isinstance(data, list):\n",
    "        raise ValueError(\"The content of the JSON file is not a list.\")\n",
    "    \n",
    "    return data"
   ],
   "id": "ae627cdd03503a8b",
   "outputs": [],
   "execution_count": 6
  },
  {
   "metadata": {
    "ExecuteTime": {
     "end_time": "2024-11-21T02:17:19.359673Z",
     "start_time": "2024-11-21T02:17:19.356565Z"
    }
   },
   "cell_type": "code",
   "source": [
    "train_csv_file_names = read_list_from_json(os.path.join(\"train_test_split\", \"train_csv_paths.json\"))\n",
    "val_csv_file_names = read_list_from_json(os.path.join(\"train_test_split\", \"val_csv_paths.json\"))\n",
    "test_csv_file_names = read_list_from_json(os.path.join(\"train_test_split\", \"test_csv_paths.json\"))\n",
    "\n",
    "csv_dir = \"processed_data\""
   ],
   "id": "68800fd26471c91c",
   "outputs": [],
   "execution_count": 7
  },
  {
   "metadata": {},
   "cell_type": "markdown",
   "source": "Model",
   "id": "ba6d486222e2267"
  },
  {
   "metadata": {
    "ExecuteTime": {
     "end_time": "2024-11-21T02:20:54.248742Z",
     "start_time": "2024-11-21T02:17:19.364722Z"
    }
   },
   "cell_type": "code",
   "source": [
    "class CNN_Model(nn.Module):\n",
    "    def __init__(self, window_size, num_classes):\n",
    "        super(CNN_Model, self).__init__()\n",
    "        self.layer1 = torch.nn.Sequential(\n",
    "            torch.nn.Conv2d(in_channels=1, out_channels=64, kernel_size=(3, 3), stride=1, padding=(1, 1)),\n",
    "            torch.nn.ReLU(),\n",
    "            torch.nn.MaxPool2d(kernel_size=(2, 2), stride=2, ceil_mode=True)\n",
    "        )\n",
    "        self.layer2 = torch.nn.Sequential(\n",
    "            torch.nn.Conv2d(in_channels=64, out_channels=128, kernel_size=(3, 3), stride=1, padding=(1, 1)),\n",
    "            torch.nn.ReLU(),\n",
    "            torch.nn.MaxPool2d(kernel_size=(2, 2), stride=2,  ceil_mode=True)\n",
    "        )\n",
    "        self.layer3 = torch.nn.Sequential(\n",
    "            torch.nn.Conv2d(in_channels=128, out_channels=128, kernel_size=(3, 3), stride=1, padding=(1, 1)),\n",
    "            torch.nn.ReLU(),\n",
    "            torch.nn.MaxPool2d(kernel_size=(2, 2), stride=2,  ceil_mode=True)\n",
    "        )\n",
    "        # Dynamically compute the flattened size\n",
    "        with torch.no_grad():\n",
    "            dummy_input = torch.zeros(1, 1, window_size, 24)  # Example input size (batch_size=1, channels=1, window_size, num_features)\n",
    "            output = self.layer3(self.layer2(self.layer1(dummy_input)))\n",
    "            self.flattened_size = output.numel()\n",
    "        \n",
    "        self.fc1 = nn.Sequential(\n",
    "            nn.Linear(self.flattened_size, 128),\n",
    "            nn.ReLU(),\n",
    "        )\n",
    "        \n",
    "        self.fc2 = nn.Sequential(\n",
    "            nn.Linear(128, 64),\n",
    "            nn.ReLU(),\n",
    "            nn.Dropout(p=0.5)  # Dropout after FC layer\n",
    "        )\n",
    "        self.fc3 = nn.Linear(64, num_classes)\n",
    "\n",
    "    def forward(self, x):\n",
    "        out = self.layer1(x)\n",
    "        out = self.layer2(out)\n",
    "        out = self.layer3(out)\n",
    "        out = out.view(out.size(0), -1) # out.size(0) gives the batch size. output will become (batch_size, flattened_size)\n",
    "        out = self.fc1(out)\n",
    "        out = self.fc2(out)\n",
    "        out = self.fc3(out)\n",
    "        return out"
   ],
   "id": "c8edfbc3b428b57c",
   "outputs": [],
   "execution_count": 8
  },
  {
   "metadata": {},
   "cell_type": "markdown",
   "source": "Learning rate finder",
   "id": "fb7405594f3681aa"
  },
  {
   "metadata": {
    "ExecuteTime": {
     "end_time": "2024-11-21T02:25:56.305925Z",
     "start_time": "2024-11-21T02:24:38.985978Z"
    }
   },
   "cell_type": "code",
   "source": [
    "from torch_lr_finder import LRFinder\n",
    "import matplotlib.pyplot as plt\n",
    "from tqdm.autonotebook import tqdm\n",
    "\n",
    "# Store the data for plotting\n",
    "lr_curves = {}\n",
    "\n",
    "window_sizes = [10, 16, 32, 48, 64, 72]\n",
    "batch_size = 128\n",
    "num_classes = 36\n",
    "\n",
    "for win_size in window_sizes:\n",
    "    step_size = win_size // 2  # Half overlapping windows\n",
    "\n",
    "    # Load datasets\n",
    "    train_dataset = AudioChordDataset(csv_dir, train_csv_file_names, win_size, chord_to_int)\n",
    "    train_dataloader = DataLoader(train_dataset, batch_size=batch_size, shuffle=False)\n",
    "\n",
    "    # Initialize model, optimizer, and criterion\n",
    "    model = CNN_Model(window_size=win_size, num_classes=num_classes)\n",
    "    optimizer = torch.optim.Adam(model.parameters(), lr=1e-7)\n",
    "    criterion = torch.nn.CrossEntropyLoss()\n",
    "\n",
    "    # Perform learning rate range test\n",
    "    lr_finder = LRFinder(model, optimizer, criterion, device=\"mps\")\n",
    "    lr_finder.range_test(train_dataloader, end_lr=1, num_iter=100)\n",
    "    \n",
    "    # Store learning rate and loss data\n",
    "    lr_curves[win_size] = (lr_finder.history[\"lr\"], lr_finder.history[\"loss\"])\n",
    "\n",
    "# Plot all curves\n",
    "plt.figure(figsize=(10, 6))\n",
    "for win_size, (lrs, losses) in lr_curves.items():\n",
    "    plt.plot(lrs, losses, label=f\"Window size = {win_size}\")\n",
    "\n",
    "plt.xscale(\"log\")\n",
    "plt.xlabel(\"Learning Rate (log scale)\")\n",
    "plt.ylabel(\"Loss\")\n",
    "plt.title(\"Learning Rate vs. Loss for Different Window Sizes\")\n",
    "plt.legend()\n",
    "plt.grid(True)\n",
    "plt.show()"
   ],
   "id": "3d4cc876acd7d6f8",
   "outputs": [
    {
     "data": {
      "text/plain": [
       "  0%|          | 0/100 [00:00<?, ?it/s]"
      ],
      "application/vnd.jupyter.widget-view+json": {
       "version_major": 2,
       "version_minor": 0,
       "model_id": "b4d5b6dc2ba64a99a346bd71735bf793"
      }
     },
     "metadata": {},
     "output_type": "display_data"
    },
    {
     "name": "stdout",
     "output_type": "stream",
     "text": [
      "Learning rate search finished. See the graph with {finder_name}.plot()\n"
     ]
    },
    {
     "data": {
      "text/plain": [
       "  0%|          | 0/100 [00:00<?, ?it/s]"
      ],
      "application/vnd.jupyter.widget-view+json": {
       "version_major": 2,
       "version_minor": 0,
       "model_id": "203fb704aa40471d8eacafd7af377f32"
      }
     },
     "metadata": {},
     "output_type": "display_data"
    },
    {
     "name": "stdout",
     "output_type": "stream",
     "text": [
      "Stopping early, the loss has diverged\n",
      "Learning rate search finished. See the graph with {finder_name}.plot()\n"
     ]
    },
    {
     "data": {
      "text/plain": [
       "  0%|          | 0/100 [00:00<?, ?it/s]"
      ],
      "application/vnd.jupyter.widget-view+json": {
       "version_major": 2,
       "version_minor": 0,
       "model_id": "5bd9b4240c3b4d0a89a274f8d91735ee"
      }
     },
     "metadata": {},
     "output_type": "display_data"
    },
    {
     "name": "stdout",
     "output_type": "stream",
     "text": [
      "Learning rate search finished. See the graph with {finder_name}.plot()\n"
     ]
    },
    {
     "data": {
      "text/plain": [
       "  0%|          | 0/100 [00:00<?, ?it/s]"
      ],
      "application/vnd.jupyter.widget-view+json": {
       "version_major": 2,
       "version_minor": 0,
       "model_id": "cda6694c583c4ebc8625c65dba495ba6"
      }
     },
     "metadata": {},
     "output_type": "display_data"
    },
    {
     "name": "stdout",
     "output_type": "stream",
     "text": [
      "Learning rate search finished. See the graph with {finder_name}.plot()\n"
     ]
    },
    {
     "data": {
      "text/plain": [
       "  0%|          | 0/100 [00:00<?, ?it/s]"
      ],
      "application/vnd.jupyter.widget-view+json": {
       "version_major": 2,
       "version_minor": 0,
       "model_id": "a5f26a9536b64730bc7e0a2a7c6e4162"
      }
     },
     "metadata": {},
     "output_type": "display_data"
    },
    {
     "name": "stdout",
     "output_type": "stream",
     "text": [
      "Learning rate search finished. See the graph with {finder_name}.plot()\n"
     ]
    },
    {
     "data": {
      "text/plain": [
       "  0%|          | 0/100 [00:00<?, ?it/s]"
      ],
      "application/vnd.jupyter.widget-view+json": {
       "version_major": 2,
       "version_minor": 0,
       "model_id": "15ee281d83984c55a992c3b9d5083678"
      }
     },
     "metadata": {},
     "output_type": "display_data"
    },
    {
     "name": "stdout",
     "output_type": "stream",
     "text": [
      "Learning rate search finished. See the graph with {finder_name}.plot()\n"
     ]
    },
    {
     "data": {
      "text/plain": [
       "<Figure size 1000x600 with 1 Axes>"
      ],
      "image/png": "[encoded data removed]"
     },
     "metadata": {},
     "output_type": "display_data"
    }
   ],
   "execution_count": 13
  },
  {
   "metadata": {},
   "cell_type": "markdown",
   "source": [
    "Conclusion: Learning rate range 10e-3, 10e-1, region of decreasing loss, the loss rapidly increases beyond 10e-1, indicating divergence. \n",
    "\n",
    "From this graph, the best performing window size seems to be 48, 64, 72, although all window_size output similar loss. "
   ],
   "id": "b8c2496078148982"
  },
  {
   "metadata": {},
   "cell_type": "markdown",
   "source": "Training Loop",
   "id": "7d7f151f07c422d4"
  },
  {
   "metadata": {
    "ExecuteTime": {
     "end_time": "2024-11-21T20:24:58.459501Z",
     "start_time": "2024-11-21T02:26:33.964947Z"
    }
   },
   "cell_type": "code",
   "source": [
    "from torch.utils.data import Subset\n",
    "\n",
    "# Hyperparameters\n",
    "win_size = 32\n",
    "num_models = 5\n",
    "batch_size = 32\n",
    "num_epochs = 20\n",
    "learning_rate = 0.001\n",
    "num_classes = 37\n",
    "\n",
    "# fraction training set\n",
    "fraction = 0.1\n",
    "\n",
    "results = {}\n",
    "\n",
    "for i in range(num_models):\n",
    "    step_size = win_size // 2   # half overlapping windows\n",
    "\n",
    "    # load datasets\n",
    "    # Load full training dataset\n",
    "    full_train_dataset = AudioChordDataset(csv_dir, train_csv_file_names, win_size, chord_to_int)\n",
    "    # Get subset indices\n",
    "    subset_size = int(fraction * len(full_train_dataset))\n",
    "    subset_indices = np.random.choice(len(full_train_dataset), subset_size, replace=False)\n",
    "    # Create subset dataset\n",
    "    train_dataset = Subset(full_train_dataset, subset_indices)\n",
    "    \n",
    "    # class weight to make up for uneven dataset labels\n",
    "    # Step 1: Compute class weights\n",
    "    all_labels = [train_dataset[idx][1].item() for idx in range(len(train_dataset))]\n",
    "    labels_counts = np.bincount(all_labels)  # Count occurrences for each label\n",
    "    class_weights = 1.0 / (labels_counts + 1e-6)  # Avoid division by zero\n",
    "    class_weights = torch.tensor(class_weights, dtype=torch.float32)  # Convert to tensor\n",
    "\n",
    "    # # training dataloader with sampler applied\n",
    "    train_dataloader = DataLoader(train_dataset, batch_size=batch_size, shuffle=False)\n",
    "\n",
    "    val_dataset = AudioChordDataset(csv_dir, val_csv_file_names, win_size, chord_to_int)\n",
    "    val_dataloader = DataLoader(val_dataset, batch_size=batch_size, shuffle=False)\n",
    "\n",
    "    test_dataset = AudioChordDataset(csv_dir, test_csv_file_names, win_size, chord_to_int)\n",
    "    test_dataloader = DataLoader(test_dataset, batch_size=batch_size, shuffle=False)\n",
    "\n",
    "    # initialize model, loss function, optimizer\n",
    "    model = CNN_Model(window_size=win_size, num_classes=num_classes).to(device)\n",
    "    criterion = torch.nn.CrossEntropyLoss(weight=class_weights).to(device)\n",
    "    optimizer = torch.optim.Adam(model.parameters(), lr=learning_rate, weight_decay=1e-4)\n",
    "    # Learning rate scheduler\n",
    "    scheduler = torch.optim.lr_scheduler.ReduceLROnPlateau(optimizer, mode='min', factor=0.1, patience=5)\n",
    "\n",
    "    # record losses\n",
    "    train_losses_cross_epoch = []\n",
    "    val_losses_cross_epoch = []\n",
    "    val_accuracy_cross_epoch = []\n",
    "\n",
    "    # train loop\n",
    "    for epoch in range(num_epochs):\n",
    "        train_loss_per_epoch = []\n",
    "        with tqdm(total=len(train_dataloader), desc=f\"Epoch {epoch+1}/{num_epochs}\", unit=\"batch\") as pbar:\n",
    "            for _, (win_chroma, win_label) in enumerate(train_dataloader):\n",
    "                X = win_chroma.to(device)\n",
    "                Y = win_label.to(device)\n",
    "                \n",
    "                # train\n",
    "                optimizer.zero_grad()\n",
    "                prediction = model(X)\n",
    "                loss = criterion(prediction, Y)\n",
    "                loss.backward()\n",
    "                optimizer.step()\n",
    "\n",
    "                # update progress bar\n",
    "                pbar.set_postfix({\"loss\": loss.item()})     # display current loss\n",
    "                pbar.update(1)      # advance progress bar by 1 batch\n",
    "\n",
    "                # train loss per batch\n",
    "                train_loss_per_epoch.append(loss.item())\n",
    "            \n",
    "        # calculate train loss for each epoch\n",
    "        mean_train_loss_per_epoch = np.mean(train_loss_per_epoch)\n",
    "        train_losses_cross_epoch.append(mean_train_loss_per_epoch)\n",
    "\n",
    "        # evaluation\n",
    "        model.eval()\n",
    "        val_losses = []\n",
    "        num_correct_per_epoch = 0\n",
    "        num_total_per_epoch = 0\n",
    "        with torch.no_grad():\n",
    "            for _, (val_win_chroma, val_win_label) in enumerate(val_dataloader):\n",
    "                val_X = val_win_chroma.to(device)\n",
    "                val_Y = val_win_label.to(device)\n",
    "\n",
    "                val_predictions = model(val_X)\n",
    "                val_loss = criterion(val_predictions, val_Y).to('cpu')\n",
    "\n",
    "                # val loss per batch\n",
    "                val_losses.append(val_loss.item())\n",
    "\n",
    "                # val accuracy per batch\n",
    "                _, predicted_class = torch.max(val_predictions, 1)\n",
    "                num_correct = (predicted_class == val_Y).sum().item()\n",
    "                num_total_per_batch = val_Y.size(0)\n",
    "                batch_accuracy = num_correct / num_total_per_batch\n",
    "\n",
    "                # accumulate correct and total predictions from each batch\n",
    "                num_correct_per_epoch += num_correct\n",
    "                num_total_per_epoch += num_total_per_batch\n",
    "\n",
    "        # calculate evaluation loss for each epoch\n",
    "        mean_val_loss_per_epoch = np.mean(val_losses)\n",
    "        mean_val_loss = np.mean(val_losses)\n",
    "        val_losses_cross_epoch.append(mean_val_loss_per_epoch)\n",
    "\n",
    "        # calculate accuracy per epoch\n",
    "        val_accuracy = 100 * num_correct_per_epoch / num_total_per_epoch\n",
    "        val_accuracy_cross_epoch.append(val_accuracy)\n",
    "\n",
    "        # display loss & accuracy in progress bar\n",
    "        print(f\"val loss={mean_val_loss_per_epoch}; val accuracy={val_accuracy}%\")\n",
    "        \n",
    "        # switch back to train mode\n",
    "        model.train()\n",
    "        \n",
    "        # learning rate scheduler\n",
    "        scheduler.step(mean_val_loss)\n",
    "    \n",
    "    # save loss and accuracy\n",
    "    results[i] = {\n",
    "        \"train_losses\": train_losses_cross_epoch,\n",
    "        \"val_losses\": val_losses_cross_epoch,\n",
    "        \"val_accuracies\": val_accuracy_cross_epoch\n",
    "    }\n",
    "\n",
    "# 1. Training Loss\n",
    "plt.figure(figsize=(10, 6))\n",
    "for i in range(num_models):\n",
    "    plt.plot(results[i][\"train_losses\"], label=f\"Model {i}\")\n",
    "plt.xlabel(\"Epoch\")\n",
    "plt.ylabel(\"Training Loss\")\n",
    "plt.title(f\"Training Loss per Epoch (Window Size={win_size}, LR={learning_rate})\")\n",
    "plt.legend()\n",
    "plt.show()\n",
    "\n",
    "# 2. Validation Loss\n",
    "plt.figure(figsize=(10, 6))\n",
    "for i in range(num_models):\n",
    "    plt.plot(results[i][\"val_losses\"], label=f\"Model {i}\")\n",
    "plt.xlabel(\"Epoch\")\n",
    "plt.ylabel(\"Validation Loss\")\n",
    "plt.title(f\"Validation Loss per Epoch (Window Size={win_size}, LR={learning_rate})\")\n",
    "plt.legend()\n",
    "plt.show()\n",
    "\n",
    "# 3. Validation Accuracy\n",
    "plt.figure(figsize=(10, 6))\n",
    "for i in range(num_models):\n",
    "    plt.plot(results[i][\"val_accuracies\"], label=f\"Model {i}\")\n",
    "plt.xlabel(\"Epoch\")\n",
    "plt.ylabel(\"Validation Accuracy (%)\")\n",
    "plt.title(f\"Validation Accuracy per Epoch (Window Size={win_size}, LR={learning_rate})\")\n",
    "plt.legend()\n",
    "plt.show()\n",
    "plt.show()"
   ],
   "id": "c0ab2f67d302491d",
   "outputs": [
    {
     "data": {
      "text/plain": [
       "Epoch 1/20:   0%|          | 0/9025 [00:00<?, ?batch/s]"
      ],
      "application/vnd.jupyter.widget-view+json": {
       "version_major": 2,
       "version_minor": 0,
       "model_id": "d055224e14774d34bfc2f544e36d3a65"
      }
     },
     "metadata": {},
     "output_type": "display_data"
    },
    {
     "name": "stdout",
     "output_type": "stream",
     "text": [
      "val loss=1.6186000422735851; val accuracy=62.716498822157696%\n"
     ]
    },
    {
     "data": {
      "text/plain": [
       "Epoch 2/20:   0%|          | 0/9025 [00:00<?, ?batch/s]"
      ],
      "application/vnd.jupyter.widget-view+json": {
       "version_major": 2,
       "version_minor": 0,
       "model_id": "dae387266ec842e79ff6691f3c03ca60"
      }
     },
     "metadata": {},
     "output_type": "display_data"
    },
    {
     "name": "stdout",
     "output_type": "stream",
     "text": [
      "val loss=1.5857040469373016; val accuracy=63.09955500214657%\n"
     ]
    },
    {
     "data": {
      "text/plain": [
       "Epoch 3/20:   0%|          | 0/9025 [00:00<?, ?batch/s]"
      ],
      "application/vnd.jupyter.widget-view+json": {
       "version_major": 2,
       "version_minor": 0,
       "model_id": "32f70207e37a4d679c2dfa8bc184fe61"
      }
     },
     "metadata": {},
     "output_type": "display_data"
    },
    {
     "name": "stdout",
     "output_type": "stream",
     "text": [
      "val loss=1.5769211049365905; val accuracy=63.003870166450426%\n"
     ]
    },
    {
     "data": {
      "text/plain": [
       "Epoch 4/20:   0%|          | 0/9025 [00:00<?, ?batch/s]"
      ],
      "application/vnd.jupyter.widget-view+json": {
       "version_major": 2,
       "version_minor": 0,
       "model_id": "e687796289e14589b6b62a556101226c"
      }
     },
     "metadata": {},
     "output_type": "display_data"
    },
    {
     "name": "stdout",
     "output_type": "stream",
     "text": [
      "val loss=1.588330992658468; val accuracy=62.98216681795643%\n"
     ]
    },
    {
     "data": {
      "text/plain": [
       "Epoch 5/20:   0%|          | 0/9025 [00:00<?, ?batch/s]"
      ],
      "application/vnd.jupyter.widget-view+json": {
       "version_major": 2,
       "version_minor": 0,
       "model_id": "f94b8a675e644698906a05b17224fc8a"
      }
     },
     "metadata": {},
     "output_type": "display_data"
    },
    {
     "name": "stdout",
     "output_type": "stream",
     "text": [
      "val loss=1.5916095277428275; val accuracy=61.102846940699166%\n"
     ]
    },
    {
     "data": {
      "text/plain": [
       "Epoch 6/20:   0%|          | 0/9025 [00:00<?, ?batch/s]"
      ],
      "application/vnd.jupyter.widget-view+json": {
       "version_major": 2,
       "version_minor": 0,
       "model_id": "c09645c03149408584a9630bdb5a3608"
      }
     },
     "metadata": {},
     "output_type": "display_data"
    },
    {
     "name": "stdout",
     "output_type": "stream",
     "text": [
      "val loss=1.5730695385959137; val accuracy=62.52560440657184%\n"
     ]
    },
    {
     "data": {
      "text/plain": [
       "Epoch 7/20:   0%|          | 0/9025 [00:00<?, ?batch/s]"
      ],
      "application/vnd.jupyter.widget-view+json": {
       "version_major": 2,
       "version_minor": 0,
       "model_id": "90ea50bea6834ce1a826524d6b241cc3"
      }
     },
     "metadata": {},
     "output_type": "display_data"
    },
    {
     "name": "stdout",
     "output_type": "stream",
     "text": [
      "val loss=1.5988148197472138; val accuracy=62.55522868517313%\n"
     ]
    },
    {
     "data": {
      "text/plain": [
       "Epoch 8/20:   0%|          | 0/9025 [00:00<?, ?batch/s]"
      ],
      "application/vnd.jupyter.widget-view+json": {
       "version_major": 2,
       "version_minor": 0,
       "model_id": "bd796e7ed6e245db99b7d514b8cf633f"
      }
     },
     "metadata": {},
     "output_type": "display_data"
    },
    {
     "name": "stdout",
     "output_type": "stream",
     "text": [
      "val loss=1.6255965474803262; val accuracy=62.77701472817744%\n"
     ]
    },
    {
     "data": {
      "text/plain": [
       "Epoch 9/20:   0%|          | 0/9025 [00:00<?, ?batch/s]"
      ],
      "application/vnd.jupyter.widget-view+json": {
       "version_major": 2,
       "version_minor": 0,
       "model_id": "f824931e3a1c47c4b15b69efcf15c268"
      }
     },
     "metadata": {},
     "output_type": "display_data"
    },
    {
     "name": "stdout",
     "output_type": "stream",
     "text": [
      "val loss=1.5790088203681032; val accuracy=63.202527093541434%\n"
     ]
    },
    {
     "data": {
      "text/plain": [
       "Epoch 10/20:   0%|          | 0/9025 [00:00<?, ?batch/s]"
      ],
      "application/vnd.jupyter.widget-view+json": {
       "version_major": 2,
       "version_minor": 0,
       "model_id": "e7b59a7363174e20bc3e1d8057db362d"
      }
     },
     "metadata": {},
     "output_type": "display_data"
    },
    {
     "name": "stdout",
     "output_type": "stream",
     "text": [
      "val loss=1.5789643532143023; val accuracy=63.13646653644658%\n"
     ]
    },
    {
     "data": {
      "text/plain": [
       "Epoch 11/20:   0%|          | 0/9025 [00:00<?, ?batch/s]"
      ],
      "application/vnd.jupyter.widget-view+json": {
       "version_major": 2,
       "version_minor": 0,
       "model_id": "9882af19e1f04d9a9b8841a3a1f2afd5"
      }
     },
     "metadata": {},
     "output_type": "display_data"
    },
    {
     "name": "stdout",
     "output_type": "stream",
     "text": [
      "val loss=1.5785715472942605; val accuracy=62.772262170113066%\n"
     ]
    },
    {
     "data": {
      "text/plain": [
       "Epoch 12/20:   0%|          | 0/9025 [00:00<?, ?batch/s]"
      ],
      "application/vnd.jupyter.widget-view+json": {
       "version_major": 2,
       "version_minor": 0,
       "model_id": "772b618e0e384884a0b741fa6c3b6f7a"
      }
     },
     "metadata": {},
     "output_type": "display_data"
    },
    {
     "name": "stdout",
     "output_type": "stream",
     "text": [
      "val loss=1.5930135734407869; val accuracy=62.69162710162078%\n"
     ]
    },
    {
     "data": {
      "text/plain": [
       "Epoch 13/20:   0%|          | 0/9025 [00:00<?, ?batch/s]"
      ],
      "application/vnd.jupyter.widget-view+json": {
       "version_major": 2,
       "version_minor": 0,
       "model_id": "d416791b9c174e588ad80172cc04888c"
      }
     },
     "metadata": {},
     "output_type": "display_data"
    },
    {
     "name": "stdout",
     "output_type": "stream",
     "text": [
      "val loss=1.5929316539136185; val accuracy=64.15050400878273%\n"
     ]
    },
    {
     "data": {
      "text/plain": [
       "Epoch 14/20:   0%|          | 0/9025 [00:00<?, ?batch/s]"
      ],
      "application/vnd.jupyter.widget-view+json": {
       "version_major": 2,
       "version_minor": 0,
       "model_id": "c19d9c605de64d3e81b7d73670c1ca64"
      }
     },
     "metadata": {},
     "output_type": "display_data"
    },
    {
     "name": "stdout",
     "output_type": "stream",
     "text": [
      "val loss=1.5868723155763098; val accuracy=64.28864502985398%\n"
     ]
    },
    {
     "data": {
      "text/plain": [
       "Epoch 15/20:   0%|          | 0/9025 [00:00<?, ?batch/s]"
      ],
      "application/vnd.jupyter.widget-view+json": {
       "version_major": 2,
       "version_minor": 0,
       "model_id": "9d47d2d029424c1d94571bc558f573c0"
      }
     },
     "metadata": {},
     "output_type": "display_data"
    },
    {
     "name": "stdout",
     "output_type": "stream",
     "text": [
      "val loss=1.5766753831056404; val accuracy=64.74710846446433%\n"
     ]
    },
    {
     "data": {
      "text/plain": [
       "Epoch 16/20:   0%|          | 0/9025 [00:00<?, ?batch/s]"
      ],
      "application/vnd.jupyter.widget-view+json": {
       "version_major": 2,
       "version_minor": 0,
       "model_id": "7a49ec50a0a548e88d52b0480d3d17ad"
      }
     },
     "metadata": {},
     "output_type": "display_data"
    },
    {
     "name": "stdout",
     "output_type": "stream",
     "text": [
      "val loss=1.5928156417153243; val accuracy=64.86893236951455%\n"
     ]
    },
    {
     "data": {
      "text/plain": [
       "Epoch 17/20:   0%|          | 0/9025 [00:00<?, ?batch/s]"
      ],
      "application/vnd.jupyter.widget-view+json": {
       "version_major": 2,
       "version_minor": 0,
       "model_id": "8c8b0badc89e4d8688708edbb84ac146"
      }
     },
     "metadata": {},
     "output_type": "display_data"
    },
    {
     "name": "stdout",
     "output_type": "stream",
     "text": [
      "val loss=1.5942839503060826; val accuracy=64.95748836811414%\n"
     ]
    },
    {
     "data": {
      "text/plain": [
       "Epoch 18/20:   0%|          | 0/9025 [00:00<?, ?batch/s]"
      ],
      "application/vnd.jupyter.widget-view+json": {
       "version_major": 2,
       "version_minor": 0,
       "model_id": "738dff789975463186f87eb379a0410d"
      }
     },
     "metadata": {},
     "output_type": "display_data"
    },
    {
     "name": "stdout",
     "output_type": "stream",
     "text": [
      "val loss=1.590372786054271; val accuracy=64.48809404995572%\n"
     ]
    },
    {
     "data": {
      "text/plain": [
       "Epoch 19/20:   0%|          | 0/9025 [00:00<?, ?batch/s]"
      ],
      "application/vnd.jupyter.widget-view+json": {
       "version_major": 2,
       "version_minor": 0,
       "model_id": "649c68f703da4df8808b6a796ba84d01"
      }
     },
     "metadata": {},
     "output_type": "display_data"
    },
    {
     "name": "stdout",
     "output_type": "stream",
     "text": [
      "val loss=1.5913902151157773; val accuracy=65.06204464553046%\n"
     ]
    },
    {
     "data": {
      "text/plain": [
       "Epoch 20/20:   0%|          | 0/9025 [00:00<?, ?batch/s]"
      ],
      "application/vnd.jupyter.widget-view+json": {
       "version_major": 2,
       "version_minor": 0,
       "model_id": "5d15629e6c4d47d8864e89215531f94f"
      }
     },
     "metadata": {},
     "output_type": "display_data"
    },
    {
     "name": "stdout",
     "output_type": "stream",
     "text": [
      "val loss=1.5918563031627502; val accuracy=64.99123153037122%\n"
     ]
    },
    {
     "data": {
      "text/plain": [
       "Epoch 1/20:   0%|          | 0/9025 [00:00<?, ?batch/s]"
      ],
      "application/vnd.jupyter.widget-view+json": {
       "version_major": 2,
       "version_minor": 0,
       "model_id": "0292f11b90d34497b66a65fc324de165"
      }
     },
     "metadata": {},
     "output_type": "display_data"
    },
    {
     "name": "stdout",
     "output_type": "stream",
     "text": [
      "val loss=1.6118277838883643; val accuracy=60.87298154898541%\n"
     ]
    },
    {
     "data": {
      "text/plain": [
       "Epoch 2/20:   0%|          | 0/9025 [00:00<?, ?batch/s]"
      ],
      "application/vnd.jupyter.widget-view+json": {
       "version_major": 2,
       "version_minor": 0,
       "model_id": "72648290af3f4ec7ba39e5522b1e64dc"
      }
     },
     "metadata": {},
     "output_type": "display_data"
    },
    {
     "name": "stdout",
     "output_type": "stream",
     "text": [
      "val loss=1.5726571222458714; val accuracy=61.2788500076833%\n"
     ]
    },
    {
     "data": {
      "text/plain": [
       "Epoch 3/20:   0%|          | 0/9025 [00:00<?, ?batch/s]"
      ],
      "application/vnd.jupyter.widget-view+json": {
       "version_major": 2,
       "version_minor": 0,
       "model_id": "0bc004dd8382463aa17f47380b63c8e2"
      }
     },
     "metadata": {},
     "output_type": "display_data"
    },
    {
     "name": "stdout",
     "output_type": "stream",
     "text": [
      "val loss=1.5722638206307427; val accuracy=61.89826674207392%\n"
     ]
    },
    {
     "data": {
      "text/plain": [
       "Epoch 4/20:   0%|          | 0/9025 [00:00<?, ?batch/s]"
      ],
      "application/vnd.jupyter.widget-view+json": {
       "version_major": 2,
       "version_minor": 0,
       "model_id": "5fda9a68ef5c41838bba030085071b4e"
      }
     },
     "metadata": {},
     "output_type": "display_data"
    },
    {
     "name": "stdout",
     "output_type": "stream",
     "text": [
      "val loss=1.5415684356115622; val accuracy=60.56834257705877%\n"
     ]
    },
    {
     "data": {
      "text/plain": [
       "Epoch 5/20:   0%|          | 0/9025 [00:00<?, ?batch/s]"
      ],
      "application/vnd.jupyter.widget-view+json": {
       "version_major": 2,
       "version_minor": 0,
       "model_id": "b6a2df908093452eb8d4ed8f446a99f2"
      }
     },
     "metadata": {},
     "output_type": "display_data"
    },
    {
     "name": "stdout",
     "output_type": "stream",
     "text": [
      "val loss=1.5379494178751725; val accuracy=61.26871121714596%\n"
     ]
    },
    {
     "data": {
      "text/plain": [
       "Epoch 6/20:   0%|          | 0/9025 [00:00<?, ?batch/s]"
      ],
      "application/vnd.jupyter.widget-view+json": {
       "version_major": 2,
       "version_minor": 0,
       "model_id": "981019856992458793a4f2b848a24d59"
      }
     },
     "metadata": {},
     "output_type": "display_data"
    },
    {
     "name": "stdout",
     "output_type": "stream",
     "text": [
      "val loss=1.5821880499442862; val accuracy=61.353940425100475%\n"
     ]
    },
    {
     "data": {
      "text/plain": [
       "Epoch 7/20:   0%|          | 0/9025 [00:00<?, ?batch/s]"
      ],
      "application/vnd.jupyter.widget-view+json": {
       "version_major": 2,
       "version_minor": 0,
       "model_id": "254a2024172047b78aa2d01440a6c3bd"
      }
     },
     "metadata": {},
     "output_type": "display_data"
    },
    {
     "name": "stdout",
     "output_type": "stream",
     "text": [
      "val loss=1.5647974429860612; val accuracy=60.68541392404462%\n"
     ]
    },
    {
     "data": {
      "text/plain": [
       "Epoch 8/20:   0%|          | 0/9025 [00:00<?, ?batch/s]"
      ],
      "application/vnd.jupyter.widget-view+json": {
       "version_major": 2,
       "version_minor": 0,
       "model_id": "00592619168f4a23b2971b7c3ff32871"
      }
     },
     "metadata": {},
     "output_type": "display_data"
    },
    {
     "name": "stdout",
     "output_type": "stream",
     "text": [
      "val loss=1.5320403837127574; val accuracy=61.75569000014258%\n"
     ]
    },
    {
     "data": {
      "text/plain": [
       "Epoch 9/20:   0%|          | 0/9025 [00:00<?, ?batch/s]"
      ],
      "application/vnd.jupyter.widget-view+json": {
       "version_major": 2,
       "version_minor": 0,
       "model_id": "bbef889a16294e0096788cd13e2cf785"
      }
     },
     "metadata": {},
     "output_type": "display_data"
    },
    {
     "name": "stdout",
     "output_type": "stream",
     "text": [
      "val loss=1.540377332816322; val accuracy=61.06894535983994%\n"
     ]
    },
    {
     "data": {
      "text/plain": [
       "Epoch 10/20:   0%|          | 0/9025 [00:00<?, ?batch/s]"
      ],
      "application/vnd.jupyter.widget-view+json": {
       "version_major": 2,
       "version_minor": 0,
       "model_id": "e9415155c9db4d03867442b4275efe41"
      }
     },
     "metadata": {},
     "output_type": "display_data"
    },
    {
     "name": "stdout",
     "output_type": "stream",
     "text": [
      "val loss=1.5611252414414385; val accuracy=61.138332707579856%\n"
     ]
    },
    {
     "data": {
      "text/plain": [
       "Epoch 11/20:   0%|          | 0/9025 [00:00<?, ?batch/s]"
      ],
      "application/vnd.jupyter.widget-view+json": {
       "version_major": 2,
       "version_minor": 0,
       "model_id": "699e8a26df2145ae9eedc34607f782f2"
      }
     },
     "metadata": {},
     "output_type": "display_data"
    },
    {
     "name": "stdout",
     "output_type": "stream",
     "text": [
      "val loss=1.5639218267259452; val accuracy=59.545116825798154%\n"
     ]
    },
    {
     "data": {
      "text/plain": [
       "Epoch 12/20:   0%|          | 0/9025 [00:00<?, ?batch/s]"
      ],
      "application/vnd.jupyter.widget-view+json": {
       "version_major": 2,
       "version_minor": 0,
       "model_id": "4248c592e4124d15949fe21786c3c1b8"
      }
     },
     "metadata": {},
     "output_type": "display_data"
    },
    {
     "name": "stdout",
     "output_type": "stream",
     "text": [
      "val loss=1.5218919041495522; val accuracy=61.907138183794096%\n"
     ]
    },
    {
     "data": {
      "text/plain": [
       "Epoch 13/20:   0%|          | 0/9025 [00:00<?, ?batch/s]"
      ],
      "application/vnd.jupyter.widget-view+json": {
       "version_major": 2,
       "version_minor": 0,
       "model_id": "89c95939a7e140f285978e36dde41167"
      }
     },
     "metadata": {},
     "output_type": "display_data"
    },
    {
     "name": "stdout",
     "output_type": "stream",
     "text": [
      "val loss=1.5493845747605537; val accuracy=60.632502110927874%\n"
     ]
    },
    {
     "data": {
      "text/plain": [
       "Epoch 14/20:   0%|          | 0/9025 [00:00<?, ?batch/s]"
      ],
      "application/vnd.jupyter.widget-view+json": {
       "version_major": 2,
       "version_minor": 0,
       "model_id": "600f0ee7c1624dd484808ffcb03662bc"
      }
     },
     "metadata": {},
     "output_type": "display_data"
    },
    {
     "name": "stdout",
     "output_type": "stream",
     "text": [
      "val loss=1.5660385857532089; val accuracy=59.995976167505496%\n"
     ]
    },
    {
     "data": {
      "text/plain": [
       "Epoch 15/20:   0%|          | 0/9025 [00:00<?, ?batch/s]"
      ],
      "application/vnd.jupyter.widget-view+json": {
       "version_major": 2,
       "version_minor": 0,
       "model_id": "236b7211ff9c4f13a2394135c427f53a"
      }
     },
     "metadata": {},
     "output_type": "display_data"
    },
    {
     "name": "stdout",
     "output_type": "stream",
     "text": [
      "val loss=1.5876894354008353; val accuracy=61.11932247532234%\n"
     ]
    },
    {
     "data": {
      "text/plain": [
       "Epoch 16/20:   0%|          | 0/9025 [00:00<?, ?batch/s]"
      ],
      "application/vnd.jupyter.widget-view+json": {
       "version_major": 2,
       "version_minor": 0,
       "model_id": "c7b9fcb6fca544e1bb4390349895f5fe"
      }
     },
     "metadata": {},
     "output_type": "display_data"
    },
    {
     "name": "stdout",
     "output_type": "stream",
     "text": [
      "val loss=1.5734131763655912; val accuracy=60.757494388021016%\n"
     ]
    },
    {
     "data": {
      "text/plain": [
       "Epoch 17/20:   0%|          | 0/9025 [00:00<?, ?batch/s]"
      ],
      "application/vnd.jupyter.widget-view+json": {
       "version_major": 2,
       "version_minor": 0,
       "model_id": "8737c6737b3c446eb3a4bc8aee6e09cb"
      }
     },
     "metadata": {},
     "output_type": "display_data"
    },
    {
     "name": "stdout",
     "output_type": "stream",
     "text": [
      "val loss=1.6106009029377648; val accuracy=61.74824432584172%\n"
     ]
    },
    {
     "data": {
      "text/plain": [
       "Epoch 18/20:   0%|          | 0/9025 [00:00<?, ?batch/s]"
      ],
      "application/vnd.jupyter.widget-view+json": {
       "version_major": 2,
       "version_minor": 0,
       "model_id": "08a6449fdceb455d99a81f6abc7f9245"
      }
     },
     "metadata": {},
     "output_type": "display_data"
    },
    {
     "name": "stdout",
     "output_type": "stream",
     "text": [
      "val loss=1.586169970214547; val accuracy=60.623155413401264%\n"
     ]
    },
    {
     "data": {
      "text/plain": [
       "Epoch 19/20:   0%|          | 0/9025 [00:00<?, ?batch/s]"
      ],
      "application/vnd.jupyter.widget-view+json": {
       "version_major": 2,
       "version_minor": 0,
       "model_id": "d813c488764b45d496cbd435fde82cac"
      }
     },
     "metadata": {},
     "output_type": "display_data"
    },
    {
     "name": "stdout",
     "output_type": "stream",
     "text": [
      "val loss=1.5384712831135303; val accuracy=64.14590986932049%\n"
     ]
    },
    {
     "data": {
      "text/plain": [
       "Epoch 20/20:   0%|          | 0/9025 [00:00<?, ?batch/s]"
      ],
      "application/vnd.jupyter.widget-view+json": {
       "version_major": 2,
       "version_minor": 0,
       "model_id": "3822088c7a7b43f588721a0d2cd5187f"
      }
     },
     "metadata": {},
     "output_type": "display_data"
    },
    {
     "name": "stdout",
     "output_type": "stream",
     "text": [
      "val loss=1.5404124086368556; val accuracy=64.10472103276255%\n"
     ]
    },
    {
     "data": {
      "text/plain": [
       "Epoch 1/20:   0%|          | 0/9025 [00:00<?, ?batch/s]"
      ],
      "application/vnd.jupyter.widget-view+json": {
       "version_major": 2,
       "version_minor": 0,
       "model_id": "9a299a8681d94c1a840bf7e830c882a5"
      }
     },
     "metadata": {},
     "output_type": "display_data"
    },
    {
     "name": "stdout",
     "output_type": "stream",
     "text": [
      "val loss=1.5992187721421411; val accuracy=62.31585817733062%\n"
     ]
    },
    {
     "data": {
      "text/plain": [
       "Epoch 2/20:   0%|          | 0/9025 [00:00<?, ?batch/s]"
      ],
      "application/vnd.jupyter.widget-view+json": {
       "version_major": 2,
       "version_minor": 0,
       "model_id": "1730f45fd18a4aa88b075347661f0fa7"
      }
     },
     "metadata": {},
     "output_type": "display_data"
    },
    {
     "name": "stdout",
     "output_type": "stream",
     "text": [
      "val loss=1.5636568232512134; val accuracy=60.61697708791757%\n"
     ]
    },
    {
     "data": {
      "text/plain": [
       "Epoch 3/20:   0%|          | 0/9025 [00:00<?, ?batch/s]"
      ],
      "application/vnd.jupyter.widget-view+json": {
       "version_major": 2,
       "version_minor": 0,
       "model_id": "5097fa6a23ea46b1a492fa966eb0e214"
      }
     },
     "metadata": {},
     "output_type": "display_data"
    },
    {
     "name": "stdout",
     "output_type": "stream",
     "text": [
      "val loss=1.5423744345559414; val accuracy=62.554436592162396%\n"
     ]
    },
    {
     "data": {
      "text/plain": [
       "Epoch 4/20:   0%|          | 0/9025 [00:00<?, ?batch/s]"
      ],
      "application/vnd.jupyter.widget-view+json": {
       "version_major": 2,
       "version_minor": 0,
       "model_id": "e9d8da73e2d64f508d2397900fc1467e"
      }
     },
     "metadata": {},
     "output_type": "display_data"
    },
    {
     "name": "stdout",
     "output_type": "stream",
     "text": [
      "val loss=1.5720827739210617; val accuracy=60.83274322404034%\n"
     ]
    },
    {
     "data": {
      "text/plain": [
       "Epoch 5/20:   0%|          | 0/9025 [00:00<?, ?batch/s]"
      ],
      "application/vnd.jupyter.widget-view+json": {
       "version_major": 2,
       "version_minor": 0,
       "model_id": "9ce745e9b72048e6adb0448303d83b0a"
      }
     },
     "metadata": {},
     "output_type": "display_data"
    },
    {
     "name": "stdout",
     "output_type": "stream",
     "text": [
      "val loss=1.5795570715171627; val accuracy=60.72723643501114%\n"
     ]
    },
    {
     "data": {
      "text/plain": [
       "Epoch 6/20:   0%|          | 0/9025 [00:00<?, ?batch/s]"
      ],
      "application/vnd.jupyter.widget-view+json": {
       "version_major": 2,
       "version_minor": 0,
       "model_id": "e62b12876c734d0da3790e5986240bed"
      }
     },
     "metadata": {},
     "output_type": "display_data"
    },
    {
     "name": "stdout",
     "output_type": "stream",
     "text": [
      "val loss=1.5533449082195747; val accuracy=61.78277958110953%\n"
     ]
    },
    {
     "data": {
      "text/plain": [
       "Epoch 7/20:   0%|          | 0/9025 [00:00<?, ?batch/s]"
      ],
      "application/vnd.jupyter.widget-view+json": {
       "version_major": 2,
       "version_minor": 0,
       "model_id": "86ca3d37cde248bd975d814799f6566c"
      }
     },
     "metadata": {},
     "output_type": "display_data"
    },
    {
     "name": "stdout",
     "output_type": "stream",
     "text": [
      "val loss=1.526360107305062; val accuracy=62.682121985492024%\n"
     ]
    },
    {
     "data": {
      "text/plain": [
       "Epoch 8/20:   0%|          | 0/9025 [00:00<?, ?batch/s]"
      ],
      "application/vnd.jupyter.widget-view+json": {
       "version_major": 2,
       "version_minor": 0,
       "model_id": "74c0f364cc9e4669b881465fcf5ab9a1"
      }
     },
     "metadata": {},
     "output_type": "display_data"
    },
    {
     "name": "stdout",
     "output_type": "stream",
     "text": [
      "val loss=1.543206993487405; val accuracy=61.33762330907945%\n"
     ]
    },
    {
     "data": {
      "text/plain": [
       "Epoch 9/20:   0%|          | 0/9025 [00:00<?, ?batch/s]"
      ],
      "application/vnd.jupyter.widget-view+json": {
       "version_major": 2,
       "version_minor": 0,
       "model_id": "8f0f604c47eb4ae2bce118d02b914d0f"
      }
     },
     "metadata": {},
     "output_type": "display_data"
    },
    {
     "name": "stdout",
     "output_type": "stream",
     "text": [
      "val loss=1.5819841410093578; val accuracy=61.64606432745759%\n"
     ]
    },
    {
     "data": {
      "text/plain": [
       "Epoch 10/20:   0%|          | 0/9025 [00:00<?, ?batch/s]"
      ],
      "application/vnd.jupyter.widget-view+json": {
       "version_major": 2,
       "version_minor": 0,
       "model_id": "9f8ee3d49ef74eb0b3f893e9bf929765"
      }
     },
     "metadata": {},
     "output_type": "display_data"
    },
    {
     "name": "stdout",
     "output_type": "stream",
     "text": [
      "val loss=1.5579493291479396; val accuracy=61.8385429290649%\n"
     ]
    },
    {
     "data": {
      "text/plain": [
       "Epoch 11/20:   0%|          | 0/9025 [00:00<?, ?batch/s]"
      ],
      "application/vnd.jupyter.widget-view+json": {
       "version_major": 2,
       "version_minor": 0,
       "model_id": "c1d51e2fd41042789bf8e8ec92ff1b7f"
      }
     },
     "metadata": {},
     "output_type": "display_data"
    },
    {
     "name": "stdout",
     "output_type": "stream",
     "text": [
      "val loss=1.5356145865285102; val accuracy=62.877135284733676%\n"
     ]
    },
    {
     "data": {
      "text/plain": [
       "Epoch 12/20:   0%|          | 0/9025 [00:00<?, ?batch/s]"
      ],
      "application/vnd.jupyter.widget-view+json": {
       "version_major": 2,
       "version_minor": 0,
       "model_id": "77eb9a12b7e34bc2a0c1df484946764d"
      }
     },
     "metadata": {},
     "output_type": "display_data"
    },
    {
     "name": "stdout",
     "output_type": "stream",
     "text": [
      "val loss=1.5377445623594357; val accuracy=62.5954670101182%\n"
     ]
    },
    {
     "data": {
      "text/plain": [
       "Epoch 13/20:   0%|          | 0/9025 [00:00<?, ?batch/s]"
      ],
      "application/vnd.jupyter.widget-view+json": {
       "version_major": 2,
       "version_minor": 0,
       "model_id": "4de24b1f6be74dbda9fb9c426c1c895a"
      }
     },
     "metadata": {},
     "output_type": "display_data"
    },
    {
     "name": "stdout",
     "output_type": "stream",
     "text": [
      "val loss=1.54031280365409; val accuracy=61.68820367562841%\n"
     ]
    },
    {
     "data": {
      "text/plain": [
       "Epoch 14/20:   0%|          | 0/9025 [00:00<?, ?batch/s]"
      ],
      "application/vnd.jupyter.widget-view+json": {
       "version_major": 2,
       "version_minor": 0,
       "model_id": "24407949d4ec43b6b808fd4bbfaffffb"
      }
     },
     "metadata": {},
     "output_type": "display_data"
    },
    {
     "name": "stdout",
     "output_type": "stream",
     "text": [
      "val loss=1.526719189712142; val accuracy=64.19486121738359%\n"
     ]
    },
    {
     "data": {
      "text/plain": [
       "Epoch 15/20:   0%|          | 0/9025 [00:00<?, ?batch/s]"
      ],
      "application/vnd.jupyter.widget-view+json": {
       "version_major": 2,
       "version_minor": 0,
       "model_id": "081e2672a3e34a7b985c2eccbde8f772"
      }
     },
     "metadata": {},
     "output_type": "display_data"
    },
    {
     "name": "stdout",
     "output_type": "stream",
     "text": [
      "val loss=1.5242680551164407; val accuracy=64.3897160980231%\n"
     ]
    },
    {
     "data": {
      "text/plain": [
       "Epoch 16/20:   0%|          | 0/9025 [00:00<?, ?batch/s]"
      ],
      "application/vnd.jupyter.widget-view+json": {
       "version_major": 2,
       "version_minor": 0,
       "model_id": "c9c581fa55ba4d818213be609bd122b3"
      }
     },
     "metadata": {},
     "output_type": "display_data"
    },
    {
     "name": "stdout",
     "output_type": "stream",
     "text": [
      "val loss=1.5389838484109712; val accuracy=64.4576776783437%\n"
     ]
    },
    {
     "data": {
      "text/plain": [
       "Epoch 17/20:   0%|          | 0/9025 [00:00<?, ?batch/s]"
      ],
      "application/vnd.jupyter.widget-view+json": {
       "version_major": 2,
       "version_minor": 0,
       "model_id": "2ebe68c8f36b477086f4b0d67f50874f"
      }
     },
     "metadata": {},
     "output_type": "display_data"
    },
    {
     "name": "stdout",
     "output_type": "stream",
     "text": [
      "val loss=1.5317523575302596; val accuracy=64.47193535253683%\n"
     ]
    },
    {
     "data": {
      "text/plain": [
       "Epoch 18/20:   0%|          | 0/9025 [00:00<?, ?batch/s]"
      ],
      "application/vnd.jupyter.widget-view+json": {
       "version_major": 2,
       "version_minor": 0,
       "model_id": "6ea783e26b8b4300bb4ec0748cd3b80f"
      }
     },
     "metadata": {},
     "output_type": "display_data"
    },
    {
     "name": "stdout",
     "output_type": "stream",
     "text": [
      "val loss=1.5309659954436945; val accuracy=64.76279190607679%\n"
     ]
    },
    {
     "data": {
      "text/plain": [
       "Epoch 19/20:   0%|          | 0/9025 [00:00<?, ?batch/s]"
      ],
      "application/vnd.jupyter.widget-view+json": {
       "version_major": 2,
       "version_minor": 0,
       "model_id": "2b394c707c00414fa31bcd7cd989dd45"
      }
     },
     "metadata": {},
     "output_type": "display_data"
    },
    {
     "name": "stdout",
     "output_type": "stream",
     "text": [
      "val loss=1.542382319117043; val accuracy=64.65158204737033%\n"
     ]
    },
    {
     "data": {
      "text/plain": [
       "Epoch 20/20:   0%|          | 0/9025 [00:00<?, ?batch/s]"
      ],
      "application/vnd.jupyter.widget-view+json": {
       "version_major": 2,
       "version_minor": 0,
       "model_id": "594dc7e9ba02415f98170f620e379540"
      }
     },
     "metadata": {},
     "output_type": "display_data"
    },
    {
     "name": "stdout",
     "output_type": "stream",
     "text": [
      "val loss=1.5500329005392282; val accuracy=64.86417981145019%\n"
     ]
    },
    {
     "data": {
      "text/plain": [
       "Epoch 1/20:   0%|          | 0/9025 [00:00<?, ?batch/s]"
      ],
      "application/vnd.jupyter.widget-view+json": {
       "version_major": 2,
       "version_minor": 0,
       "model_id": "db3b0625e10c49c58ba0578df3917252"
      }
     },
     "metadata": {},
     "output_type": "display_data"
    },
    {
     "name": "stdout",
     "output_type": "stream",
     "text": [
      "val loss=1.6582033189306118; val accuracy=59.63763328945138%\n"
     ]
    },
    {
     "data": {
      "text/plain": [
       "Epoch 2/20:   0%|          | 0/9025 [00:00<?, ?batch/s]"
      ],
      "application/vnd.jupyter.widget-view+json": {
       "version_major": 2,
       "version_minor": 0,
       "model_id": "78b3d97dabb54e14b496a3051a3c5997"
      }
     },
     "metadata": {},
     "output_type": "display_data"
    },
    {
     "name": "stdout",
     "output_type": "stream",
     "text": [
      "val loss=1.612680145807222; val accuracy=60.498004717705975%\n"
     ]
    },
    {
     "data": {
      "text/plain": [
       "Epoch 3/20:   0%|          | 0/9025 [00:00<?, ?batch/s]"
      ],
      "application/vnd.jupyter.widget-view+json": {
       "version_major": 2,
       "version_minor": 0,
       "model_id": "180d7642b27946de9b3fc8cd76a75571"
      }
     },
     "metadata": {},
     "output_type": "display_data"
    },
    {
     "name": "stdout",
     "output_type": "stream",
     "text": [
      "val loss=1.6372742310170774; val accuracy=60.16817718803813%\n"
     ]
    },
    {
     "data": {
      "text/plain": [
       "Epoch 4/20:   0%|          | 0/9025 [00:00<?, ?batch/s]"
      ],
      "application/vnd.jupyter.widget-view+json": {
       "version_major": 2,
       "version_minor": 0,
       "model_id": "ca1ddc3fd3a34774978cd2d9285dd281"
      }
     },
     "metadata": {},
     "output_type": "display_data"
    },
    {
     "name": "stdout",
     "output_type": "stream",
     "text": [
      "val loss=1.577139954041276; val accuracy=61.693589908101366%\n"
     ]
    },
    {
     "data": {
      "text/plain": [
       "Epoch 5/20:   0%|          | 0/9025 [00:00<?, ?batch/s]"
      ],
      "application/vnd.jupyter.widget-view+json": {
       "version_major": 2,
       "version_minor": 0,
       "model_id": "75d542d46e4947f28e479c8251104742"
      }
     },
     "metadata": {},
     "output_type": "display_data"
    },
    {
     "name": "stdout",
     "output_type": "stream",
     "text": [
      "val loss=1.5673624299425277; val accuracy=60.79519801533175%\n"
     ]
    },
    {
     "data": {
      "text/plain": [
       "Epoch 6/20:   0%|          | 0/9025 [00:00<?, ?batch/s]"
      ],
      "application/vnd.jupyter.widget-view+json": {
       "version_major": 2,
       "version_minor": 0,
       "model_id": "ab053e5779fe4e1e891c5ced3e1ddfcd"
      }
     },
     "metadata": {},
     "output_type": "display_data"
    },
    {
     "name": "stdout",
     "output_type": "stream",
     "text": [
      "val loss=1.558494637778527; val accuracy=60.85761494457725%\n"
     ]
    },
    {
     "data": {
      "text/plain": [
       "Epoch 7/20:   0%|          | 0/9025 [00:00<?, ?batch/s]"
      ],
      "application/vnd.jupyter.widget-view+json": {
       "version_major": 2,
       "version_minor": 0,
       "model_id": "433b37cdbeb1463bbc786c4e05952b54"
      }
     },
     "metadata": {},
     "output_type": "display_data"
    },
    {
     "name": "stdout",
     "output_type": "stream",
     "text": [
      "val loss=1.576343096417076; val accuracy=62.44227622184307%\n"
     ]
    },
    {
     "data": {
      "text/plain": [
       "Epoch 8/20:   0%|          | 0/9025 [00:00<?, ?batch/s]"
      ],
      "application/vnd.jupyter.widget-view+json": {
       "version_major": 2,
       "version_minor": 0,
       "model_id": "b96e0657b4394f2bb2983229653bb170"
      }
     },
     "metadata": {},
     "output_type": "display_data"
    },
    {
     "name": "stdout",
     "output_type": "stream",
     "text": [
      "val loss=1.553157964246384; val accuracy=61.83204776637692%\n"
     ]
    },
    {
     "data": {
      "text/plain": [
       "Epoch 9/20:   0%|          | 0/9025 [00:00<?, ?batch/s]"
      ],
      "application/vnd.jupyter.widget-view+json": {
       "version_major": 2,
       "version_minor": 0,
       "model_id": "0f3d461b474d479d83d70556bf9c0fad"
      }
     },
     "metadata": {},
     "output_type": "display_data"
    },
    {
     "name": "stdout",
     "output_type": "stream",
     "text": [
      "val loss=1.5595331326995467; val accuracy=60.808822015116306%\n"
     ]
    },
    {
     "data": {
      "text/plain": [
       "Epoch 10/20:   0%|          | 0/9025 [00:00<?, ?batch/s]"
      ],
      "application/vnd.jupyter.widget-view+json": {
       "version_major": 2,
       "version_minor": 0,
       "model_id": "85fe31f7cfab4f7db4b700999614bf1a"
      }
     },
     "metadata": {},
     "output_type": "display_data"
    },
    {
     "name": "stdout",
     "output_type": "stream",
     "text": [
      "val loss=1.541499205149124; val accuracy=61.13152070768758%\n"
     ]
    },
    {
     "data": {
      "text/plain": [
       "Epoch 11/20:   0%|          | 0/9025 [00:00<?, ?batch/s]"
      ],
      "application/vnd.jupyter.widget-view+json": {
       "version_major": 2,
       "version_minor": 0,
       "model_id": "6c9134b91ed04c2c8ae1b718dd0ca811"
      }
     },
     "metadata": {},
     "output_type": "display_data"
    },
    {
     "name": "stdout",
     "output_type": "stream",
     "text": [
      "val loss=1.5490939894202786; val accuracy=61.00526108177726%\n"
     ]
    },
    {
     "data": {
      "text/plain": [
       "Epoch 12/20:   0%|          | 0/9025 [00:00<?, ?batch/s]"
      ],
      "application/vnd.jupyter.widget-view+json": {
       "version_major": 2,
       "version_minor": 0,
       "model_id": "67c736b45e4b4b879b8379a38c4c331e"
      }
     },
     "metadata": {},
     "output_type": "display_data"
    },
    {
     "name": "stdout",
     "output_type": "stream",
     "text": [
      "val loss=1.5835833382104554; val accuracy=61.39940656391636%\n"
     ]
    },
    {
     "data": {
      "text/plain": [
       "Epoch 13/20:   0%|          | 0/9025 [00:00<?, ?batch/s]"
      ],
      "application/vnd.jupyter.widget-view+json": {
       "version_major": 2,
       "version_minor": 0,
       "model_id": "0f8523d0b8714a979f196bdd8f8812f3"
      }
     },
     "metadata": {},
     "output_type": "display_data"
    },
    {
     "name": "stdout",
     "output_type": "stream",
     "text": [
      "val loss=1.5560300136408216; val accuracy=62.099775204003556%\n"
     ]
    },
    {
     "data": {
      "text/plain": [
       "Epoch 14/20:   0%|          | 0/9025 [00:00<?, ?batch/s]"
      ],
      "application/vnd.jupyter.widget-view+json": {
       "version_major": 2,
       "version_minor": 0,
       "model_id": "abd6f951ce244cc08570e99dc8854431"
      }
     },
     "metadata": {},
     "output_type": "display_data"
    },
    {
     "name": "stdout",
     "output_type": "stream",
     "text": [
      "val loss=1.579036073882707; val accuracy=60.82292127070729%\n"
     ]
    },
    {
     "data": {
      "text/plain": [
       "Epoch 15/20:   0%|          | 0/9025 [00:00<?, ?batch/s]"
      ],
      "application/vnd.jupyter.widget-view+json": {
       "version_major": 2,
       "version_minor": 0,
       "model_id": "f804c3a7505548d9874a0f8bb408b8fd"
      }
     },
     "metadata": {},
     "output_type": "display_data"
    },
    {
     "name": "stdout",
     "output_type": "stream",
     "text": [
      "val loss=1.61545468012933; val accuracy=59.508046872896%\n"
     ]
    },
    {
     "data": {
      "text/plain": [
       "Epoch 16/20:   0%|          | 0/9025 [00:00<?, ?batch/s]"
      ],
      "application/vnd.jupyter.widget-view+json": {
       "version_major": 2,
       "version_minor": 0,
       "model_id": "fb487f7e75c34ef9b92b3c0f7ed497c1"
      }
     },
     "metadata": {},
     "output_type": "display_data"
    },
    {
     "name": "stdout",
     "output_type": "stream",
     "text": [
      "val loss=1.5743535941981666; val accuracy=61.19853177639531%\n"
     ]
    },
    {
     "data": {
      "text/plain": [
       "Epoch 17/20:   0%|          | 0/9025 [00:00<?, ?batch/s]"
      ],
      "application/vnd.jupyter.widget-view+json": {
       "version_major": 2,
       "version_minor": 0,
       "model_id": "472f8d72da00430eb67916c6da9fb0e8"
      }
     },
     "metadata": {},
     "output_type": "display_data"
    },
    {
     "name": "stdout",
     "output_type": "stream",
     "text": [
      "val loss=1.5274806254280038; val accuracy=63.45362057794274%\n"
     ]
    },
    {
     "data": {
      "text/plain": [
       "Epoch 18/20:   0%|          | 0/9025 [00:00<?, ?batch/s]"
      ],
      "application/vnd.jupyter.widget-view+json": {
       "version_major": 2,
       "version_minor": 0,
       "model_id": "89e4eb357a004d2c81a63563a15c1c16"
      }
     },
     "metadata": {},
     "output_type": "display_data"
    },
    {
     "name": "stdout",
     "output_type": "stream",
     "text": [
      "val loss=1.544542761531134; val accuracy=63.473581321813136%\n"
     ]
    },
    {
     "data": {
      "text/plain": [
       "Epoch 19/20:   0%|          | 0/9025 [00:00<?, ?batch/s]"
      ],
      "application/vnd.jupyter.widget-view+json": {
       "version_major": 2,
       "version_minor": 0,
       "model_id": "32f668e32994452dacaa641765b06bb0"
      }
     },
     "metadata": {},
     "output_type": "display_data"
    },
    {
     "name": "stdout",
     "output_type": "stream",
     "text": [
      "val loss=1.5364746744829636; val accuracy=63.870736757393%\n"
     ]
    },
    {
     "data": {
      "text/plain": [
       "Epoch 20/20:   0%|          | 0/9025 [00:00<?, ?batch/s]"
      ],
      "application/vnd.jupyter.widget-view+json": {
       "version_major": 2,
       "version_minor": 0,
       "model_id": "8f3372ea5f5444c8ba660d36089ec1f6"
      }
     },
     "metadata": {},
     "output_type": "display_data"
    },
    {
     "name": "stdout",
     "output_type": "stream",
     "text": [
      "val loss=1.5261289410897365; val accuracy=63.919688105456096%\n"
     ]
    },
    {
     "data": {
      "text/plain": [
       "Epoch 1/20:   0%|          | 0/9025 [00:00<?, ?batch/s]"
      ],
      "application/vnd.jupyter.widget-view+json": {
       "version_major": 2,
       "version_minor": 0,
       "model_id": "983f56c6fa46410eab9e798597dfe214"
      }
     },
     "metadata": {},
     "output_type": "display_data"
    },
    {
     "name": "stdout",
     "output_type": "stream",
     "text": [
      "val loss=1.67872617303829; val accuracy=59.45687766440287%\n"
     ]
    },
    {
     "data": {
      "text/plain": [
       "Epoch 2/20:   0%|          | 0/9025 [00:00<?, ?batch/s]"
      ],
      "application/vnd.jupyter.widget-view+json": {
       "version_major": 2,
       "version_minor": 0,
       "model_id": "ee6b060bb2e5482fab4cab438904484b"
      }
     },
     "metadata": {},
     "output_type": "display_data"
    },
    {
     "name": "stdout",
     "output_type": "stream",
     "text": [
      "val loss=1.6549864287112221; val accuracy=60.57467932114461%\n"
     ]
    },
    {
     "data": {
      "text/plain": [
       "Epoch 3/20:   0%|          | 0/9025 [00:00<?, ?batch/s]"
      ],
      "application/vnd.jupyter.widget-view+json": {
       "version_major": 2,
       "version_minor": 0,
       "model_id": "b0e48ada9fe946bb9516beb6df2bcca4"
      }
     },
     "metadata": {},
     "output_type": "display_data"
    },
    {
     "name": "stdout",
     "output_type": "stream",
     "text": [
      "val loss=1.5865389268852241; val accuracy=61.50380442273053%\n"
     ]
    },
    {
     "data": {
      "text/plain": [
       "Epoch 4/20:   0%|          | 0/9025 [00:00<?, ?batch/s]"
      ],
      "application/vnd.jupyter.widget-view+json": {
       "version_major": 2,
       "version_minor": 0,
       "model_id": "7ee0e94f16e944609cdcfa55c29efa44"
      }
     },
     "metadata": {},
     "output_type": "display_data"
    },
    {
     "name": "stdout",
     "output_type": "stream",
     "text": [
      "val loss=1.5812174676889659; val accuracy=62.56441696409759%\n"
     ]
    },
    {
     "data": {
      "text/plain": [
       "Epoch 5/20:   0%|          | 0/9025 [00:00<?, ?batch/s]"
      ],
      "application/vnd.jupyter.widget-view+json": {
       "version_major": 2,
       "version_minor": 0,
       "model_id": "15f117c6ce554767a5ef7522dc805cf9"
      }
     },
     "metadata": {},
     "output_type": "display_data"
    },
    {
     "name": "stdout",
     "output_type": "stream",
     "text": [
      "val loss=1.535904396929732; val accuracy=62.91325472602295%\n"
     ]
    },
    {
     "data": {
      "text/plain": [
       "Epoch 6/20:   0%|          | 0/9025 [00:00<?, ?batch/s]"
      ],
      "application/vnd.jupyter.widget-view+json": {
       "version_major": 2,
       "version_minor": 0,
       "model_id": "fa4b7ef4e22b4968a19cf518df2fe571"
      }
     },
     "metadata": {},
     "output_type": "display_data"
    },
    {
     "name": "stdout",
     "output_type": "stream",
     "text": [
      "val loss=1.5794642510382877; val accuracy=62.50833677893793%\n"
     ]
    },
    {
     "data": {
      "text/plain": [
       "Epoch 7/20:   0%|          | 0/9025 [00:00<?, ?batch/s]"
      ],
      "application/vnd.jupyter.widget-view+json": {
       "version_major": 2,
       "version_minor": 0,
       "model_id": "871345603b5a49ebb7261d0967198d5e"
      }
     },
     "metadata": {},
     "output_type": "display_data"
    },
    {
     "name": "stdout",
     "output_type": "stream",
     "text": [
      "val loss=1.5567449760031722; val accuracy=62.42928589646711%\n"
     ]
    },
    {
     "data": {
      "text/plain": [
       "Epoch 8/20:   0%|          | 0/9025 [00:00<?, ?batch/s]"
      ],
      "application/vnd.jupyter.widget-view+json": {
       "version_major": 2,
       "version_minor": 0,
       "model_id": "47d92fa7d92b45ad885b331c1552b288"
      }
     },
     "metadata": {},
     "output_type": "display_data"
    },
    {
     "name": "stdout",
     "output_type": "stream",
     "text": [
      "val loss=1.5868461107417735; val accuracy=62.5661595687212%\n"
     ]
    },
    {
     "data": {
      "text/plain": [
       "Epoch 9/20:   0%|          | 0/9025 [00:00<?, ?batch/s]"
      ],
      "application/vnd.jupyter.widget-view+json": {
       "version_major": 2,
       "version_minor": 0,
       "model_id": "81df85c0f2034abcbc8d545f2d91a7e0"
      }
     },
     "metadata": {},
     "output_type": "display_data"
    },
    {
     "name": "stdout",
     "output_type": "stream",
     "text": [
      "val loss=1.5666216609572146; val accuracy=63.23928020923929%\n"
     ]
    },
    {
     "data": {
      "text/plain": [
       "Epoch 10/20:   0%|          | 0/9025 [00:00<?, ?batch/s]"
      ],
      "application/vnd.jupyter.widget-view+json": {
       "version_major": 2,
       "version_minor": 0,
       "model_id": "12784fb73e4349bdadd87dd87fc1a7f0"
      }
     },
     "metadata": {},
     "output_type": "display_data"
    },
    {
     "name": "stdout",
     "output_type": "stream",
     "text": [
      "val loss=1.5839307477243227; val accuracy=62.771470077102336%\n"
     ]
    },
    {
     "data": {
      "text/plain": [
       "Epoch 11/20:   0%|          | 0/9025 [00:00<?, ?batch/s]"
      ],
      "application/vnd.jupyter.widget-view+json": {
       "version_major": 2,
       "version_minor": 0,
       "model_id": "9ec514956c3c4ec18f606a0f9f7d333a"
      }
     },
     "metadata": {},
     "output_type": "display_data"
    },
    {
     "name": "stdout",
     "output_type": "stream",
     "text": [
      "val loss=1.5569274085453377; val accuracy=63.17321965214443%\n"
     ]
    },
    {
     "data": {
      "text/plain": [
       "Epoch 12/20:   0%|          | 0/9025 [00:00<?, ?batch/s]"
      ],
      "application/vnd.jupyter.widget-view+json": {
       "version_major": 2,
       "version_minor": 0,
       "model_id": "741ddb14c25340458ad08bb7e56a3cb9"
      }
     },
     "metadata": {},
     "output_type": "display_data"
    },
    {
     "name": "stdout",
     "output_type": "stream",
     "text": [
      "val loss=1.5220975864157693; val accuracy=63.934896291262106%\n"
     ]
    },
    {
     "data": {
      "text/plain": [
       "Epoch 13/20:   0%|          | 0/9025 [00:00<?, ?batch/s]"
      ],
      "application/vnd.jupyter.widget-view+json": {
       "version_major": 2,
       "version_minor": 0,
       "model_id": "329968465294426b83710d631f85129d"
      }
     },
     "metadata": {},
     "output_type": "display_data"
    },
    {
     "name": "stdout",
     "output_type": "stream",
     "text": [
      "val loss=1.5171552442596636; val accuracy=64.00190735996983%\n"
     ]
    },
    {
     "data": {
      "text/plain": [
       "Epoch 14/20:   0%|          | 0/9025 [00:00<?, ?batch/s]"
      ],
      "application/vnd.jupyter.widget-view+json": {
       "version_major": 2,
       "version_minor": 0,
       "model_id": "cd1dc22add06413a9d687ebeb6825f6e"
      }
     },
     "metadata": {},
     "output_type": "display_data"
    },
    {
     "name": "stdout",
     "output_type": "stream",
     "text": [
      "val loss=1.5248254478459236; val accuracy=64.19850484523295%\n"
     ]
    },
    {
     "data": {
      "text/plain": [
       "Epoch 15/20:   0%|          | 0/9025 [00:00<?, ?batch/s]"
      ],
      "application/vnd.jupyter.widget-view+json": {
       "version_major": 2,
       "version_minor": 0,
       "model_id": "054ab5e0024a424d9506315cbae1eae9"
      }
     },
     "metadata": {},
     "output_type": "display_data"
    },
    {
     "name": "stdout",
     "output_type": "stream",
     "text": [
      "val loss=1.5340114571742818; val accuracy=64.18931656630848%\n"
     ]
    },
    {
     "data": {
      "text/plain": [
       "Epoch 16/20:   0%|          | 0/9025 [00:00<?, ?batch/s]"
      ],
      "application/vnd.jupyter.widget-view+json": {
       "version_major": 2,
       "version_minor": 0,
       "model_id": "4eccb54e35694ee4a1ba9c7317a45b5d"
      }
     },
     "metadata": {},
     "output_type": "display_data"
    },
    {
     "name": "stdout",
     "output_type": "stream",
     "text": [
      "val loss=1.53359577306536; val accuracy=64.22068344953338%\n"
     ]
    },
    {
     "data": {
      "text/plain": [
       "Epoch 17/20:   0%|          | 0/9025 [00:00<?, ?batch/s]"
      ],
      "application/vnd.jupyter.widget-view+json": {
       "version_major": 2,
       "version_minor": 0,
       "model_id": "0012d49999d94d4da93ff78d387f5bee"
      }
     },
     "metadata": {},
     "output_type": "display_data"
    },
    {
     "name": "stdout",
     "output_type": "stream",
     "text": [
      "val loss=1.5378889795616781; val accuracy=64.76770288274331%\n"
     ]
    },
    {
     "data": {
      "text/plain": [
       "Epoch 18/20:   0%|          | 0/9025 [00:00<?, ?batch/s]"
      ],
      "application/vnd.jupyter.widget-view+json": {
       "version_major": 2,
       "version_minor": 0,
       "model_id": "a65693f045834779aede29f21d01ec8e"
      }
     },
     "metadata": {},
     "output_type": "display_data"
    },
    {
     "name": "stdout",
     "output_type": "stream",
     "text": [
      "val loss=1.5331590082448516; val accuracy=64.43565749264542%\n"
     ]
    },
    {
     "data": {
      "text/plain": [
       "Epoch 19/20:   0%|          | 0/9025 [00:00<?, ?batch/s]"
      ],
      "application/vnd.jupyter.widget-view+json": {
       "version_major": 2,
       "version_minor": 0,
       "model_id": "e46419bebede43beba0a61b6e6d923c8"
      }
     },
     "metadata": {},
     "output_type": "display_data"
    },
    {
     "name": "stdout",
     "output_type": "stream",
     "text": [
      "val loss=1.5501527562898159; val accuracy=64.5432237235025%\n"
     ]
    },
    {
     "data": {
      "text/plain": [
       "Epoch 20/20:   0%|          | 0/9025 [00:00<?, ?batch/s]"
      ],
      "application/vnd.jupyter.widget-view+json": {
       "version_major": 2,
       "version_minor": 0,
       "model_id": "50e5fe00a77f4181bc9a828a32467461"
      }
     },
     "metadata": {},
     "output_type": "display_data"
    },
    {
     "name": "stdout",
     "output_type": "stream",
     "text": [
      "val loss=1.5437076272999704; val accuracy=64.7269893019918%\n"
     ]
    },
    {
     "data": {
      "text/plain": [
       "<Figure size 1000x600 with 1 Axes>"
      ],
      "image/png": "[encoded data removed]"
     },
     "metadata": {},
     "output_type": "display_data"
    },
    {
     "data": {
      "text/plain": [
       "<Figure size 1000x600 with 1 Axes>"
      ],
      "image/png": "[encoded data removed]"
     },
     "metadata": {},
     "output_type": "display_data"
    },
    {
     "data": {
      "text/plain": [
       "<Figure size 1000x600 with 1 Axes>"
      ],
      "image/png": "[encoded data removed]"
     },
     "metadata": {},
     "output_type": "display_data"
    }
   ],
   "execution_count": 14
  }
 ],
 "metadata": {
  "kernelspec": {
   "display_name": "Python 3",
   "language": "python",
   "name": "python3"
  },
  "language_info": {
   "codemirror_mode": {
    "name": "ipython",
    "version": 2
   },
   "file_extension": ".py",
   "mimetype": "text/x-python",
   "name": "python",
   "nbconvert_exporter": "python",
   "pygments_lexer": "ipython2",
   "version": "2.7.6"
  }
 },
 "nbformat": 4,
 "nbformat_minor": 5
}
