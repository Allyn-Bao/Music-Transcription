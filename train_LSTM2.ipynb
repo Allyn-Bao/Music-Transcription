{
 "cells": [
  {
   "cell_type": "code",
   "id": "initial_id",
   "metadata": {
    "collapsed": true,
    "ExecuteTime": {
     "end_time": "2024-11-24T05:11:50.717641Z",
     "start_time": "2024-11-24T05:11:49.290363Z"
    }
   },
   "source": [
    "import torch\n",
    "import torch.nn as nn\n",
    "from torch.utils.data import Dataset, DataLoader\n",
    "from torchvision import models, transforms\n",
    "\n",
    "import json\n",
    "import numpy as np\n",
    "import pandas as pd\n",
    "from tqdm import tqdm\n",
    "from tqdm.autonotebook import tqdm\n",
    "\n",
    "import os\n",
    "import matplotlib.pyplot as plt"
   ],
   "outputs": [
    {
     "name": "stderr",
     "output_type": "stream",
     "text": [
      "/var/folders/3n/5hzgdltx5ygd3tpjprz4hxxm0000gn/T/ipykernel_44531/1640555182.py:10: TqdmExperimentalWarning: Using `tqdm.autonotebook.tqdm` in notebook mode. Use `tqdm.tqdm` instead to force console mode (e.g. in jupyter console)\n",
      "  from tqdm.autonotebook import tqdm\n"
     ]
    }
   ],
   "execution_count": 1
  },
  {
   "metadata": {
    "ExecuteTime": {
     "end_time": "2024-11-24T05:11:50.750884Z",
     "start_time": "2024-11-24T05:11:50.730012Z"
    }
   },
   "cell_type": "code",
   "source": [
    "# Metal GPU support\n",
    "if torch.backends.mps.is_available():\n",
    "    device = torch.device(\"mps\")  # \"mps\" stands for Metal Performance Shaders (Apple's Metal API)\n",
    "    print(\"Using Apple Metal GPU.\")\n",
    "else:\n",
    "    device = torch.device(\"cpu\")  # Fallback to CPU\n",
    "    print(\"Using CPU.\")"
   ],
   "id": "e95cda82a2d2da4a",
   "outputs": [
    {
     "name": "stdout",
     "output_type": "stream",
     "text": [
      "Using Apple Metal GPU.\n"
     ]
    }
   ],
   "execution_count": 2
  },
  {
   "metadata": {
    "ExecuteTime": {
     "end_time": "2024-11-24T05:11:50.854583Z",
     "start_time": "2024-11-24T05:11:50.850630Z"
    }
   },
   "cell_type": "code",
   "source": [
    "# chord name to index mapping\n",
    "chord_to_int = {'A#:maj': 0, 'A:maj': 1, 'A:min': 2, 'Ab:maj': 3, 'Ab:min': 4, 'B:maj': 5, 'B:min': 6, 'Bb:maj': 7, 'Bb:min': 8, 'C#:maj': 9, 'C#:min': 10, 'C:maj': 11, 'C:min': 12, 'Cb:maj': 13, 'D#:maj': 14, 'D#:min': 15, 'D:maj': 16, 'D:min': 17, 'Db:maj': 18, 'Db:min': 19, 'E:maj': 20, 'E:min': 21, 'Eb:maj': 22, 'Eb:min': 23, 'F#:maj': 24, 'F#:min': 25, 'F:maj': 26, 'F:min': 27, 'Fb:maj': 28, 'G#:maj': 29, 'G#:min': 30, 'G:maj': 31, 'G:min': 32, 'Gb:maj': 33, 'Gb:min': 34, 'N': 35, 'X': 36}\n",
    "\n",
    "int_to_chord = {0: 'A#:maj', 1: 'A:maj', 2: 'A:min', 3: 'Ab:maj', 4: 'Ab:min', 5: 'B:maj', 6: 'B:min', 7: 'Bb:maj', 8: 'Bb:min', 9: 'C#:maj', 10: 'C#:min', 11: 'C:maj', 12: 'C:min', 13: 'Cb:maj', 14: 'D#:maj', 15: 'D#:min', 16: 'D:maj', 17: 'D:min', 18: 'Db:maj', 19: 'Db:min', 20: 'E:maj', 21: 'E:min', 22: 'Eb:maj', 23: 'Eb:min', 24: 'F#:maj', 25: 'F#:min', 26: 'F:maj', 27: 'F:min', 28: 'Fb:maj', 29: 'G#:maj', 30: 'G#:min', 31: 'G:maj', 32: 'G:min', 33: 'Gb:maj', 34: 'Gb:min', 35: 'N', 36: 'X'}"
   ],
   "id": "b9dabc2da22cdf39",
   "outputs": [],
   "execution_count": 3
  },
  {
   "metadata": {
    "ExecuteTime": {
     "end_time": "2024-11-24T05:11:50.866747Z",
     "start_time": "2024-11-24T05:11:50.864619Z"
    }
   },
   "cell_type": "code",
   "source": [
    "import os\n",
    "\n",
    "def get_csv_file_paths(directory_path):\n",
    "    \"\"\"\n",
    "    Given a directory path, go through each CSV file in the directory,\n",
    "    append their paths into a list, and return the list.\n",
    "\n",
    "    Args:\n",
    "        directory_path (str): Path to the directory containing CSV files.\n",
    "\n",
    "    Returns:\n",
    "        list: List of file paths to all CSV files in the directory.\n",
    "    \"\"\"\n",
    "    csv_file_paths = []\n",
    "    \n",
    "    # Check if the provided path is valid\n",
    "    if not os.path.isdir(directory_path):\n",
    "        raise ValueError(f\"The provided path '{directory_path}' is not a valid directory.\")\n",
    "    \n",
    "    # Iterate over all files in the directory\n",
    "    for filename in os.listdir(directory_path):\n",
    "        # Check if the file has a .csv extension\n",
    "        if filename.endswith(\".csv\"):\n",
    "            # Append the full path to the list\n",
    "            full_path = os.path.join(directory_path, filename)\n",
    "            csv_file_paths.append(full_path)\n",
    "    \n",
    "    return csv_file_paths"
   ],
   "id": "3f39fa5c1d0f7863",
   "outputs": [],
   "execution_count": 4
  },
  {
   "metadata": {
    "ExecuteTime": {
     "end_time": "2024-11-24T05:11:50.886015Z",
     "start_time": "2024-11-24T05:11:50.881902Z"
    }
   },
   "cell_type": "code",
   "source": [
    "import torch\n",
    "from torch.utils.data import Dataset\n",
    "import pandas as pd\n",
    "import numpy as np\n",
    "import os\n",
    "\n",
    "class AudioChordDataset(Dataset):\n",
    "    def __init__(self, csv_dir, csv_file_names, N, chord_to_int):\n",
    "        \"\"\"\n",
    "        Args:\n",
    "            csv_dir (str): Directory containing the CSV files.\n",
    "            csv_file_names (list of str): List of CSV file names.\n",
    "            N (int): Number of timestamps in each block (sliding window size).\n",
    "            chord_to_int (dict): Mapping of chord names to integers.\n",
    "        \"\"\"\n",
    "        self.csv_file_names = csv_file_names\n",
    "        self.N = N\n",
    "        self.data = []\n",
    "        self.labels = []\n",
    "        self.chord_to_int = chord_to_int\n",
    "\n",
    "        # Load and process each CSV file\n",
    "        for file_name in self.csv_file_names:\n",
    "            file_path = os.path.join(csv_dir, file_name)\n",
    "            df = pd.read_csv(file_path)\n",
    "            \n",
    "            # Get frequency domain values and labels as numpy arrays\n",
    "            freq_data = df.iloc[:, 1:25].values  # Select the 25 frequency columns\n",
    "            chord_labels = df.iloc[:, 25].values  # Select the label column\n",
    "            \n",
    "            # Append data blocks and labels using a sliding window approach\n",
    "            for i in range(len(freq_data) - N + 1):\n",
    "                block = freq_data[i:i + N]  # N x 26\n",
    "                block_labels = chord_labels[i:i + N]  # Labels in the block\n",
    "                \n",
    "                # Map all chord labels in the block to integers\n",
    "                numeric_labels = [\n",
    "                    self.chord_to_int.get(label, self.chord_to_int[\"X\"])  # Default to \"X\" if unknown\n",
    "                    for label in block_labels\n",
    "                ]\n",
    "                \n",
    "                self.data.append(block)\n",
    "                self.labels.append(numeric_labels)\n",
    "\n",
    "    def __len__(self):\n",
    "        return len(self.data)\n",
    "\n",
    "    def __getitem__(self, idx):\n",
    "        block = torch.tensor(self.data[idx], dtype=torch.float32)  # Shape: 1 x N x 25\n",
    "        label = torch.tensor(self.labels[idx], dtype=torch.long)  # Shape: N\n",
    "        return block, label"
   ],
   "id": "31406612bc1ed076",
   "outputs": [],
   "execution_count": 5
  },
  {
   "metadata": {
    "ExecuteTime": {
     "end_time": "2024-11-24T05:11:50.906752Z",
     "start_time": "2024-11-24T05:11:50.904227Z"
    }
   },
   "cell_type": "code",
   "source": [
    "import torch.nn as nn\n",
    " \n",
    "class LSTM_Model(nn.Module):\n",
    "    def __init__(self, input_size=24, hidden_size=50, output_size=37):  # Assuming 10 possible chords\n",
    "        super().__init__()\n",
    "        self.lstm = nn.LSTM(input_size=input_size, hidden_size=hidden_size, num_layers=1, batch_first=True)\n",
    "        self.linear = nn.Linear(hidden_size, output_size)\n",
    "\n",
    "    def forward(self, x):\n",
    "        x, _ = self.lstm(x)  # LSTM output shape: (batch_size, seq_len, hidden_size)\n",
    "        x = self.linear(x)  # Linear output shape: (batch_size, seq_len, output_size)\n",
    "        return x"
   ],
   "id": "746ffaf3856175b3",
   "outputs": [],
   "execution_count": 6
  },
  {
   "metadata": {
    "ExecuteTime": {
     "end_time": "2024-11-24T05:11:50.919679Z",
     "start_time": "2024-11-24T05:11:50.917363Z"
    }
   },
   "cell_type": "code",
   "source": [
    "def read_list_from_json(file_path):\n",
    "    \"\"\"\n",
    "    Reads a JSON file and returns the original Python list.\n",
    "\n",
    "    Args:\n",
    "        file_path (str): Path to the JSON file.\n",
    "\n",
    "    Returns:\n",
    "        list: List read from the JSON file.\n",
    "\n",
    "    Raises:\n",
    "        ValueError: If the JSON file content is not a list.\n",
    "    \"\"\"\n",
    "    with open(file_path, 'r') as json_file:\n",
    "        data = json.load(json_file)\n",
    "    \n",
    "    if not isinstance(data, list):\n",
    "        raise ValueError(\"The content of the JSON file is not a list.\")\n",
    "    \n",
    "    return data"
   ],
   "id": "4fd67417d2858819",
   "outputs": [],
   "execution_count": 7
  },
  {
   "metadata": {
    "ExecuteTime": {
     "end_time": "2024-11-24T05:11:50.936427Z",
     "start_time": "2024-11-24T05:11:50.933416Z"
    }
   },
   "cell_type": "code",
   "source": [
    "train_csv_file_names = read_list_from_json(os.path.join(\"train_test_split\", \"train_csv_paths.json\"))\n",
    "val_csv_file_names = read_list_from_json(os.path.join(\"train_test_split\", \"val_csv_paths.json\"))\n",
    "test_csv_file_names = read_list_from_json(os.path.join(\"train_test_split\", \"test_csv_paths.json\"))\n",
    "\n",
    "csv_dir = \"processed_data\""
   ],
   "id": "f0750afe9602d3b3",
   "outputs": [],
   "execution_count": 8
  },
  {
   "metadata": {
    "ExecuteTime": {
     "end_time": "2024-11-24T08:36:45.125898Z",
     "start_time": "2024-11-24T05:11:50.950928Z"
    }
   },
   "cell_type": "code",
   "source": [
    "from torch.utils.data import Subset\n",
    "\n",
    "# Hyperparameters\n",
    "win_size = 32\n",
    "num_models = 5\n",
    "batch_size = 32\n",
    "num_epochs = 20\n",
    "learning_rate = 0.001\n",
    "num_classes = 37\n",
    "\n",
    "hidden_size = 128\n",
    "\n",
    "# fraction training set\n",
    "fraction = 0.1\n",
    "\n",
    "results = {}\n",
    "\n",
    "for i in range(num_models):\n",
    "    step_size = win_size // 2   # half overlapping windows\n",
    "\n",
    "    # load datasets\n",
    "    # Load full training dataset\n",
    "    full_train_dataset = AudioChordDataset(csv_dir, train_csv_file_names, win_size, chord_to_int)\n",
    "    # Get subset indices\n",
    "    subset_size = int(fraction * len(full_train_dataset))\n",
    "    subset_indices = np.random.choice(len(full_train_dataset), subset_size, replace=False)\n",
    "    # Create subset dataset\n",
    "    train_dataset = Subset(full_train_dataset, subset_indices)\n",
    "    \n",
    "    # class weight to make up for uneven dataset labels\n",
    "    # Step 1: Compute class weights\n",
    "    # Flatten all labels across the dataset\n",
    "    all_labels = [label for idx in range(len(train_dataset)) for label in train_dataset[idx][1].tolist()]\n",
    "    labels_counts = np.bincount(all_labels)  # Count occurrences for each label\n",
    "    class_weights = 1.0 / (labels_counts + 1e-6)  # Avoid division by zero\n",
    "    class_weights = torch.tensor(class_weights, dtype=torch.float32)  # Convert to tensor\n",
    "\n",
    "    # # training dataloader with sampler applied\n",
    "    train_dataloader = DataLoader(train_dataset, batch_size=batch_size, shuffle=False)\n",
    "\n",
    "    val_dataset = AudioChordDataset(csv_dir, val_csv_file_names, win_size, chord_to_int)\n",
    "    val_dataloader = DataLoader(val_dataset, batch_size=batch_size, shuffle=False)\n",
    "\n",
    "    test_dataset = AudioChordDataset(csv_dir, test_csv_file_names, win_size, chord_to_int)\n",
    "    test_dataloader = DataLoader(test_dataset, batch_size=batch_size, shuffle=False)\n",
    "\n",
    "    # initialize model, loss function, optimizer\n",
    "    model = LSTM_Model(hidden_size=hidden_size).to(device)\n",
    "    criterion = torch.nn.CrossEntropyLoss(weight=class_weights).to(device)\n",
    "    optimizer = torch.optim.Adam(model.parameters(), lr=learning_rate)\n",
    "    # Learning rate scheduler\n",
    "    # scheduler = torch.optim.lr_scheduler.ReduceLROnPlateau(optimizer, mode='min', factor=0.1, patience=5)\n",
    "\n",
    "    # record losses\n",
    "    train_losses_cross_epoch = []\n",
    "    val_losses_cross_epoch = []\n",
    "    val_accuracy_cross_epoch = []\n",
    "\n",
    "    # train loop\n",
    "    for epoch in range(num_epochs):\n",
    "        train_loss_per_epoch = []\n",
    "        with tqdm(total=len(train_dataloader), desc=f\"Epoch {epoch+1}/{num_epochs}\", unit=\"batch\") as pbar:\n",
    "            for _, (win_chroma, win_label) in enumerate(train_dataloader):\n",
    "                X = win_chroma.to(device)\n",
    "                Y = win_label.to(device)\n",
    "                \n",
    "                # train\n",
    "                optimizer.zero_grad()\n",
    "                prediction = model(X)\n",
    "                prediction = prediction.view(-1, prediction.shape[-1])  # Shape: (batch_size * seq_len, num_classes)\n",
    "                Y = Y.view(-1)  # Shape: (batch_size * seq_len)\n",
    "\n",
    "                loss = criterion(prediction, Y)\n",
    "                loss.backward()\n",
    "                optimizer.step()\n",
    "\n",
    "                # update progress bar\n",
    "                pbar.set_postfix({\"loss\": loss.item()})     # display current loss\n",
    "                pbar.update(1)      # advance progress bar by 1 batch\n",
    "\n",
    "                # train loss per batch\n",
    "                train_loss_per_epoch.append(loss.item())\n",
    "            \n",
    "        # calculate train loss for each epoch\n",
    "        mean_train_loss_per_epoch = np.mean(train_loss_per_epoch)\n",
    "        train_losses_cross_epoch.append(mean_train_loss_per_epoch)\n",
    "\n",
    "        # evaluation\n",
    "        model.eval()\n",
    "        val_losses = []\n",
    "        num_correct_per_epoch = 0\n",
    "        num_total_per_epoch = 0\n",
    "        with torch.no_grad():\n",
    "            for _, (val_win_chroma, val_win_label) in enumerate(val_dataloader):\n",
    "                val_X = val_win_chroma.to(device)\n",
    "                val_Y = val_win_label.to(device)\n",
    "\n",
    "                val_predictions = model(val_X)\n",
    "                val_predictions = val_predictions.view(-1, val_predictions.shape[-1])  # Shape: (batch_size * seq_len, num_classes)\n",
    "                val_Y = val_Y.view(-1)  # Shape: (batch_size * seq_len)\n",
    "                val_loss = criterion(val_predictions, val_Y).to('cpu')\n",
    "\n",
    "                # val loss per batch\n",
    "                val_losses.append(val_loss.item())\n",
    "\n",
    "                # val accuracy per batch\n",
    "                _, predicted_class = torch.max(val_predictions, 1)\n",
    "                num_correct = (predicted_class == val_Y).sum().item()\n",
    "                num_total_per_batch = val_Y.size(0)\n",
    "                batch_accuracy = num_correct / num_total_per_batch\n",
    "\n",
    "                # accumulate correct and total predictions from each batch\n",
    "                num_correct_per_epoch += num_correct\n",
    "                num_total_per_epoch += num_total_per_batch\n",
    "\n",
    "        # calculate evaluation loss for each epoch\n",
    "        mean_val_loss_per_epoch = np.mean(val_losses)\n",
    "        mean_val_loss = np.mean(val_losses)\n",
    "        val_losses_cross_epoch.append(mean_val_loss_per_epoch)\n",
    "\n",
    "        # calculate accuracy per epoch\n",
    "        val_accuracy = 100 * num_correct_per_epoch / num_total_per_epoch\n",
    "        val_accuracy_cross_epoch.append(val_accuracy)\n",
    "\n",
    "        # display loss & accuracy in progress bar\n",
    "        print(f\"val loss={mean_val_loss_per_epoch}; val accuracy={val_accuracy}%\")\n",
    "        \n",
    "        # switch back to train mode\n",
    "        model.train()\n",
    "        \n",
    "        # learning rate scheduler\n",
    "        # scheduler.step(mean_val_loss)\n",
    "    \n",
    "    print(i)\n",
    "    # save loss and accuracy\n",
    "    results[i] = {\n",
    "        \"train_losses\": train_losses_cross_epoch,\n",
    "        \"val_losses\": val_losses_cross_epoch,\n",
    "        \"val_accuracies\": val_accuracy_cross_epoch\n",
    "    }\n",
    "    \n",
    "print(results)\n",
    "\n",
    "# 1. Training Loss\n",
    "plt.figure(figsize=(10, 6))\n",
    "for i in range(num_models):\n",
    "    plt.plot(results[i][\"train_losses\"], label=f\"Model {i}\")\n",
    "plt.xlabel(\"Epoch\")\n",
    "plt.ylabel(\"Training Loss\")\n",
    "plt.title(f\"Training Loss per Epoch\")\n",
    "plt.legend()\n",
    "plt.show()\n",
    "\n",
    "# 2. Validation Loss\n",
    "plt.figure(figsize=(10, 6))\n",
    "for i in range(num_models):\n",
    "    plt.plot(results[i][\"val_losses\"], label=f\"Model {i}\")\n",
    "plt.xlabel(\"Epoch\")\n",
    "plt.ylabel(\"Validation Loss\")\n",
    "plt.title(f\"Validation Loss per Epoch\")\n",
    "plt.legend()\n",
    "plt.show()\n",
    "\n",
    "# 3. Validation Accuracy\n",
    "plt.figure(figsize=(10, 6))\n",
    "for i in range(num_models):\n",
    "    plt.plot(results[i][\"val_accuracies\"], label=f\"Model {i}\")\n",
    "plt.xlabel(\"Epoch\")\n",
    "plt.ylabel(\"Validation Accuracy (%)\")\n",
    "plt.title(f\"Validation Accuracy per Epoch\")\n",
    "plt.legend()\n",
    "plt.show()\n",
    "plt.show()"
   ],
   "id": "74738d88b4d8d9aa",
   "outputs": [
    {
     "data": {
      "text/plain": [
       "Epoch 1/20:   0%|          | 0/9025 [00:00<?, ?batch/s]"
      ],
      "application/vnd.jupyter.widget-view+json": {
       "version_major": 2,
       "version_minor": 0,
       "model_id": "8411eed9bd0a40249d854618ae6ed0e1"
      }
     },
     "metadata": {},
     "output_type": "display_data"
    },
    {
     "name": "stdout",
     "output_type": "stream",
     "text": [
      "val loss=1.5693647776586697; val accuracy=58.60546678833215%\n"
     ]
    },
    {
     "data": {
      "text/plain": [
       "Epoch 2/20:   0%|          | 0/9025 [00:00<?, ?batch/s]"
      ],
      "application/vnd.jupyter.widget-view+json": {
       "version_major": 2,
       "version_minor": 0,
       "model_id": "e0d19720868f4edbbd2d273127ea2e35"
      }
     },
     "metadata": {},
     "output_type": "display_data"
    },
    {
     "name": "stdout",
     "output_type": "stream",
     "text": [
      "val loss=1.5498988156212996; val accuracy=59.07983644071422%\n"
     ]
    },
    {
     "data": {
      "text/plain": [
       "Epoch 3/20:   0%|          | 0/9025 [00:00<?, ?batch/s]"
      ],
      "application/vnd.jupyter.widget-view+json": {
       "version_major": 2,
       "version_minor": 0,
       "model_id": "63d55a0d35e942c090f6c902ec17321e"
      }
     },
     "metadata": {},
     "output_type": "display_data"
    },
    {
     "name": "stdout",
     "output_type": "stream",
     "text": [
      "val loss=1.546585099139611; val accuracy=59.521616416286065%\n"
     ]
    },
    {
     "data": {
      "text/plain": [
       "Epoch 4/20:   0%|          | 0/9025 [00:00<?, ?batch/s]"
      ],
      "application/vnd.jupyter.widget-view+json": {
       "version_major": 2,
       "version_minor": 0,
       "model_id": "df35ff4abdb9437ebfe7ebcddd31c394"
      }
     },
     "metadata": {},
     "output_type": "display_data"
    },
    {
     "name": "stdout",
     "output_type": "stream",
     "text": [
      "val loss=1.557543895642438; val accuracy=59.58931561579687%\n"
     ]
    },
    {
     "data": {
      "text/plain": [
       "Epoch 5/20:   0%|          | 0/9025 [00:00<?, ?batch/s]"
      ],
      "application/vnd.jupyter.widget-view+json": {
       "version_major": 2,
       "version_minor": 0,
       "model_id": "268d4e94426d47ad9fc217e1d0f1a8d6"
      }
     },
     "metadata": {},
     "output_type": "display_data"
    },
    {
     "name": "stdout",
     "output_type": "stream",
     "text": [
      "val loss=1.559651610471768; val accuracy=59.93097503481249%\n"
     ]
    },
    {
     "data": {
      "text/plain": [
       "Epoch 6/20:   0%|          | 0/9025 [00:00<?, ?batch/s]"
      ],
      "application/vnd.jupyter.widget-view+json": {
       "version_major": 2,
       "version_minor": 0,
       "model_id": "8dadcf9c0aae485da3e1624ef1c09fe4"
      }
     },
     "metadata": {},
     "output_type": "display_data"
    },
    {
     "name": "stdout",
     "output_type": "stream",
     "text": [
      "val loss=1.5625875962652358; val accuracy=60.08179944521805%\n"
     ]
    },
    {
     "data": {
      "text/plain": [
       "Epoch 7/20:   0%|          | 0/9025 [00:00<?, ?batch/s]"
      ],
      "application/vnd.jupyter.widget-view+json": {
       "version_major": 2,
       "version_minor": 0,
       "model_id": "3c03c1174c934c32b7b21dfb62c1bce7"
      }
     },
     "metadata": {},
     "output_type": "display_data"
    },
    {
     "name": "stdout",
     "output_type": "stream",
     "text": [
      "val loss=1.5743198998256556; val accuracy=60.17663773150898%\n"
     ]
    },
    {
     "data": {
      "text/plain": [
       "Epoch 8/20:   0%|          | 0/9025 [00:00<?, ?batch/s]"
      ],
      "application/vnd.jupyter.widget-view+json": {
       "version_major": 2,
       "version_minor": 0,
       "model_id": "ec427bec35054bdcbaccd373318853ab"
      }
     },
     "metadata": {},
     "output_type": "display_data"
    },
    {
     "name": "stdout",
     "output_type": "stream",
     "text": [
      "val loss=1.5868682108052596; val accuracy=60.23230206783801%\n"
     ]
    },
    {
     "data": {
      "text/plain": [
       "Epoch 9/20:   0%|          | 0/9025 [00:00<?, ?batch/s]"
      ],
      "application/vnd.jupyter.widget-view+json": {
       "version_major": 2,
       "version_minor": 0,
       "model_id": "0302d961f7434a4d8c72ac59aab6c2a7"
      }
     },
     "metadata": {},
     "output_type": "display_data"
    },
    {
     "name": "stdout",
     "output_type": "stream",
     "text": [
      "val loss=1.5922809945235403; val accuracy=60.25788172150327%\n"
     ]
    },
    {
     "data": {
      "text/plain": [
       "Epoch 10/20:   0%|          | 0/9025 [00:00<?, ?batch/s]"
      ],
      "application/vnd.jupyter.widget-view+json": {
       "version_major": 2,
       "version_minor": 0,
       "model_id": "71b6601d4e4a4fcb9dadcc9619e9f4c4"
      }
     },
     "metadata": {},
     "output_type": "display_data"
    },
    {
     "name": "stdout",
     "output_type": "stream",
     "text": [
      "val loss=1.5984320793839635; val accuracy=60.24035171305955%\n"
     ]
    },
    {
     "data": {
      "text/plain": [
       "Epoch 11/20:   0%|          | 0/9025 [00:00<?, ?batch/s]"
      ],
      "application/vnd.jupyter.widget-view+json": {
       "version_major": 2,
       "version_minor": 0,
       "model_id": "38c7e4de7efa4611ad80061aabcbea03"
      }
     },
     "metadata": {},
     "output_type": "display_data"
    },
    {
     "name": "stdout",
     "output_type": "stream",
     "text": [
      "val loss=1.612437389188794; val accuracy=60.13658257807265%\n"
     ]
    },
    {
     "data": {
      "text/plain": [
       "Epoch 12/20:   0%|          | 0/9025 [00:00<?, ?batch/s]"
      ],
      "application/vnd.jupyter.widget-view+json": {
       "version_major": 2,
       "version_minor": 0,
       "model_id": "84a7b8ca938348a78b8bc65772de39da"
      }
     },
     "metadata": {},
     "output_type": "display_data"
    },
    {
     "name": "stdout",
     "output_type": "stream",
     "text": [
      "val loss=1.6160161370417085; val accuracy=60.20723232404842%\n"
     ]
    },
    {
     "data": {
      "text/plain": [
       "Epoch 13/20:   0%|          | 0/9025 [00:00<?, ?batch/s]"
      ],
      "application/vnd.jupyter.widget-view+json": {
       "version_major": 2,
       "version_minor": 0,
       "model_id": "cee7860011ae4f569e955efcad49b77e"
      }
     },
     "metadata": {},
     "output_type": "display_data"
    },
    {
     "name": "stdout",
     "output_type": "stream",
     "text": [
      "val loss=1.6205682096570038; val accuracy=60.34471986838582%\n"
     ]
    },
    {
     "data": {
      "text/plain": [
       "Epoch 14/20:   0%|          | 0/9025 [00:00<?, ?batch/s]"
      ],
      "application/vnd.jupyter.widget-view+json": {
       "version_major": 2,
       "version_minor": 0,
       "model_id": "20e73d6485ff44ca9dcf0f0b20241b10"
      }
     },
     "metadata": {},
     "output_type": "display_data"
    },
    {
     "name": "stdout",
     "output_type": "stream",
     "text": [
      "val loss=1.6288815560863166; val accuracy=60.25324302680918%\n"
     ]
    },
    {
     "data": {
      "text/plain": [
       "Epoch 15/20:   0%|          | 0/9025 [00:00<?, ?batch/s]"
      ],
      "application/vnd.jupyter.widget-view+json": {
       "version_major": 2,
       "version_minor": 0,
       "model_id": "13d02c9870b3448595b80f92f5da0d1f"
      }
     },
     "metadata": {},
     "output_type": "display_data"
    },
    {
     "name": "stdout",
     "output_type": "stream",
     "text": [
      "val loss=1.6318706502288063; val accuracy=60.33318996449839%\n"
     ]
    },
    {
     "data": {
      "text/plain": [
       "Epoch 16/20:   0%|          | 0/9025 [00:00<?, ?batch/s]"
      ],
      "application/vnd.jupyter.widget-view+json": {
       "version_major": 2,
       "version_minor": 0,
       "model_id": "bb1ffff4157848aeb5ee53c45f56482a"
      }
     },
     "metadata": {},
     "output_type": "display_data"
    },
    {
     "name": "stdout",
     "output_type": "stream",
     "text": [
      "val loss=1.6480809403402592; val accuracy=60.14073611579766%\n"
     ]
    },
    {
     "data": {
      "text/plain": [
       "Epoch 17/20:   0%|          | 0/9025 [00:00<?, ?batch/s]"
      ],
      "application/vnd.jupyter.widget-view+json": {
       "version_major": 2,
       "version_minor": 0,
       "model_id": "a2b623c02332455d85f6ac5659a2e375"
      }
     },
     "metadata": {},
     "output_type": "display_data"
    },
    {
     "name": "stdout",
     "output_type": "stream",
     "text": [
      "val loss=1.6489534370359271; val accuracy=60.181469498874435%\n"
     ]
    },
    {
     "data": {
      "text/plain": [
       "Epoch 18/20:   0%|          | 0/9025 [00:00<?, ?batch/s]"
      ],
      "application/vnd.jupyter.widget-view+json": {
       "version_major": 2,
       "version_minor": 0,
       "model_id": "11356a417bda45aa85663bf1a760148f"
      }
     },
     "metadata": {},
     "output_type": "display_data"
    },
    {
     "name": "stdout",
     "output_type": "stream",
     "text": [
      "val loss=1.6559485408013452; val accuracy=60.06672492510761%\n"
     ]
    },
    {
     "data": {
      "text/plain": [
       "Epoch 19/20:   0%|          | 0/9025 [00:00<?, ?batch/s]"
      ],
      "application/vnd.jupyter.widget-view+json": {
       "version_major": 2,
       "version_minor": 0,
       "model_id": "d3be8436c80945659c78e137572942d5"
      }
     },
     "metadata": {},
     "output_type": "display_data"
    },
    {
     "name": "stdout",
     "output_type": "stream",
     "text": [
      "val loss=1.6578601597524425; val accuracy=60.18692008890452%\n"
     ]
    },
    {
     "data": {
      "text/plain": [
       "Epoch 20/20:   0%|          | 0/9025 [00:00<?, ?batch/s]"
      ],
      "application/vnd.jupyter.widget-view+json": {
       "version_major": 2,
       "version_minor": 0,
       "model_id": "96c62e08a9be4170919a21d77f828f7a"
      }
     },
     "metadata": {},
     "output_type": "display_data"
    },
    {
     "name": "stdout",
     "output_type": "stream",
     "text": [
      "val loss=1.6594111527393083; val accuracy=60.32477892684071%\n",
      "0\n"
     ]
    },
    {
     "data": {
      "text/plain": [
       "Epoch 1/20:   0%|          | 0/9025 [00:00<?, ?batch/s]"
      ],
      "application/vnd.jupyter.widget-view+json": {
       "version_major": 2,
       "version_minor": 0,
       "model_id": "ca9da5bbc9c14138b58e374622203cc0"
      }
     },
     "metadata": {},
     "output_type": "display_data"
    },
    {
     "name": "stdout",
     "output_type": "stream",
     "text": [
      "val loss=1.5955170887430008; val accuracy=57.81250742587198%\n"
     ]
    },
    {
     "data": {
      "text/plain": [
       "Epoch 2/20:   0%|          | 0/9025 [00:00<?, ?batch/s]"
      ],
      "application/vnd.jupyter.widget-view+json": {
       "version_major": 2,
       "version_minor": 0,
       "model_id": "244b6d4379694db4adba5f9ea3e8c405"
      }
     },
     "metadata": {},
     "output_type": "display_data"
    },
    {
     "name": "stdout",
     "output_type": "stream",
     "text": [
      "val loss=1.571011881792379; val accuracy=58.5121879351561%\n"
     ]
    },
    {
     "data": {
      "text/plain": [
       "Epoch 3/20:   0%|          | 0/9025 [00:00<?, ?batch/s]"
      ],
      "application/vnd.jupyter.widget-view+json": {
       "version_major": 2,
       "version_minor": 0,
       "model_id": "375286fed14d4252b69ab5ab76690220"
      }
     },
     "metadata": {},
     "output_type": "display_data"
    },
    {
     "name": "stdout",
     "output_type": "stream",
     "text": [
      "val loss=1.5648331275183252; val accuracy=59.08837124290483%\n"
     ]
    },
    {
     "data": {
      "text/plain": [
       "Epoch 4/20:   0%|          | 0/9025 [00:00<?, ?batch/s]"
      ],
      "application/vnd.jupyter.widget-view+json": {
       "version_major": 2,
       "version_minor": 0,
       "model_id": "93c043cf6ac9448380dab2c1ad46c80c"
      }
     },
     "metadata": {},
     "output_type": "display_data"
    },
    {
     "name": "stdout",
     "output_type": "stream",
     "text": [
      "val loss=1.5701261981221262; val accuracy=59.1906502529153%\n"
     ]
    },
    {
     "data": {
      "text/plain": [
       "Epoch 5/20:   0%|          | 0/9025 [00:00<?, ?batch/s]"
      ],
      "application/vnd.jupyter.widget-view+json": {
       "version_major": 2,
       "version_minor": 0,
       "model_id": "736785a34be14cbc85e471876c10ef52"
      }
     },
     "metadata": {},
     "output_type": "display_data"
    },
    {
     "name": "stdout",
     "output_type": "stream",
     "text": [
      "val loss=1.5729123225758346; val accuracy=59.65286127758266%\n"
     ]
    },
    {
     "data": {
      "text/plain": [
       "Epoch 6/20:   0%|          | 0/9025 [00:00<?, ?batch/s]"
      ],
      "application/vnd.jupyter.widget-view+json": {
       "version_major": 2,
       "version_minor": 0,
       "model_id": "7eea888a3928452dad8b01d424cd399b"
      }
     },
     "metadata": {},
     "output_type": "display_data"
    },
    {
     "name": "stdout",
     "output_type": "stream",
     "text": [
      "val loss=1.5855823515393128; val accuracy=59.65980199258918%\n"
     ]
    },
    {
     "data": {
      "text/plain": [
       "Epoch 7/20:   0%|          | 0/9025 [00:00<?, ?batch/s]"
      ],
      "application/vnd.jupyter.widget-view+json": {
       "version_major": 2,
       "version_minor": 0,
       "model_id": "9c1888d51af043babee450916514cee5"
      }
     },
     "metadata": {},
     "output_type": "display_data"
    },
    {
     "name": "stdout",
     "output_type": "stream",
     "text": [
      "val loss=1.5831225682641066; val accuracy=59.94486141540684%\n"
     ]
    },
    {
     "data": {
      "text/plain": [
       "Epoch 8/20:   0%|          | 0/9025 [00:00<?, ?batch/s]"
      ],
      "application/vnd.jupyter.widget-view+json": {
       "version_major": 2,
       "version_minor": 0,
       "model_id": "d7743b8263d54ac88e8219216902cc86"
      }
     },
     "metadata": {},
     "output_type": "display_data"
    },
    {
     "name": "stdout",
     "output_type": "stream",
     "text": [
      "val loss=1.6008003599545728; val accuracy=59.866355096880895%\n"
     ]
    },
    {
     "data": {
      "text/plain": [
       "Epoch 9/20:   0%|          | 0/9025 [00:00<?, ?batch/s]"
      ],
      "application/vnd.jupyter.widget-view+json": {
       "version_major": 2,
       "version_minor": 0,
       "model_id": "07d59594060b4c2a94c54e77d16b885f"
      }
     },
     "metadata": {},
     "output_type": "display_data"
    },
    {
     "name": "stdout",
     "output_type": "stream",
     "text": [
      "val loss=1.6113068716671448; val accuracy=59.90681619798523%\n"
     ]
    },
    {
     "data": {
      "text/plain": [
       "Epoch 10/20:   0%|          | 0/9025 [00:00<?, ?batch/s]"
      ],
      "application/vnd.jupyter.widget-view+json": {
       "version_major": 2,
       "version_minor": 0,
       "model_id": "d727a70ce75c4ead88aa8fbff432a245"
      }
     },
     "metadata": {},
     "output_type": "display_data"
    },
    {
     "name": "stdout",
     "output_type": "stream",
     "text": [
      "val loss=1.605125215391854; val accuracy=60.17534067920391%\n"
     ]
    },
    {
     "data": {
      "text/plain": [
       "Epoch 11/20:   0%|          | 0/9025 [00:00<?, ?batch/s]"
      ],
      "application/vnd.jupyter.widget-view+json": {
       "version_major": 2,
       "version_minor": 0,
       "model_id": "3ded8886fb644428857a853016f35729"
      }
     },
     "metadata": {},
     "output_type": "display_data"
    },
    {
     "name": "stdout",
     "output_type": "stream",
     "text": [
      "val loss=1.6360393603412928; val accuracy=59.76373944734087%\n"
     ]
    },
    {
     "data": {
      "text/plain": [
       "Epoch 12/20:   0%|          | 0/9025 [00:00<?, ?batch/s]"
      ],
      "application/vnd.jupyter.widget-view+json": {
       "version_major": 2,
       "version_minor": 0,
       "model_id": "88dc315f81404ea0ab13778d5e9426c0"
      }
     },
     "metadata": {},
     "output_type": "display_data"
    },
    {
     "name": "stdout",
     "output_type": "stream",
     "text": [
      "val loss=1.635252350957163; val accuracy=59.89714771267301%\n"
     ]
    },
    {
     "data": {
      "text/plain": [
       "Epoch 13/20:   0%|          | 0/9025 [00:00<?, ?batch/s]"
      ],
      "application/vnd.jupyter.widget-view+json": {
       "version_major": 2,
       "version_minor": 0,
       "model_id": "6803e73d05e74d588b489e673186e893"
      }
     },
     "metadata": {},
     "output_type": "display_data"
    },
    {
     "name": "stdout",
     "output_type": "stream",
     "text": [
      "val loss=1.6311345056276072; val accuracy=60.130696336886665%\n"
     ]
    },
    {
     "data": {
      "text/plain": [
       "Epoch 14/20:   0%|          | 0/9025 [00:00<?, ?batch/s]"
      ],
      "application/vnd.jupyter.widget-view+json": {
       "version_major": 2,
       "version_minor": 0,
       "model_id": "695ae662b84147c7ba2f2124f6b86ca0"
      }
     },
     "metadata": {},
     "output_type": "display_data"
    },
    {
     "name": "stdout",
     "output_type": "stream",
     "text": [
      "val loss=1.6325565927651615; val accuracy=60.22436628598677%\n"
     ]
    },
    {
     "data": {
      "text/plain": [
       "Epoch 15/20:   0%|          | 0/9025 [00:00<?, ?batch/s]"
      ],
      "application/vnd.jupyter.widget-view+json": {
       "version_major": 2,
       "version_minor": 0,
       "model_id": "89dbfe0a18cd40f0af75dec258316d0e"
      }
     },
     "metadata": {},
     "output_type": "display_data"
    },
    {
     "name": "stdout",
     "output_type": "stream",
     "text": [
      "val loss=1.6371893380431184; val accuracy=60.242322044423744%\n"
     ]
    },
    {
     "data": {
      "text/plain": [
       "Epoch 16/20:   0%|          | 0/9025 [00:00<?, ?batch/s]"
      ],
      "application/vnd.jupyter.widget-view+json": {
       "version_major": 2,
       "version_minor": 0,
       "model_id": "9b286012291c4a268041403004f118a0"
      }
     },
     "metadata": {},
     "output_type": "display_data"
    },
    {
     "name": "stdout",
     "output_type": "stream",
     "text": [
      "val loss=1.6420723080396942; val accuracy=60.34675950788846%\n"
     ]
    },
    {
     "data": {
      "text/plain": [
       "Epoch 17/20:   0%|          | 0/9025 [00:00<?, ?batch/s]"
      ],
      "application/vnd.jupyter.widget-view+json": {
       "version_major": 2,
       "version_minor": 0,
       "model_id": "d8983a0a1f05424c9696d9f060bc119a"
      }
     },
     "metadata": {},
     "output_type": "display_data"
    },
    {
     "name": "stdout",
     "output_type": "stream",
     "text": [
      "val loss=1.6531158103924142; val accuracy=60.404968443014454%\n"
     ]
    },
    {
     "data": {
      "text/plain": [
       "Epoch 18/20:   0%|          | 0/9025 [00:00<?, ?batch/s]"
      ],
      "application/vnd.jupyter.widget-view+json": {
       "version_major": 2,
       "version_minor": 0,
       "model_id": "984c28d6170e4703a2fb2407ee4511db"
      }
     },
     "metadata": {},
     "output_type": "display_data"
    },
    {
     "name": "stdout",
     "output_type": "stream",
     "text": [
      "val loss=1.653674607321708; val accuracy=60.40396347500709%\n"
     ]
    },
    {
     "data": {
      "text/plain": [
       "Epoch 19/20:   0%|          | 0/9025 [00:00<?, ?batch/s]"
      ],
      "application/vnd.jupyter.widget-view+json": {
       "version_major": 2,
       "version_minor": 0,
       "model_id": "9e9e988bf36a4eb6acab3fa7a3b1df58"
      }
     },
     "metadata": {},
     "output_type": "display_data"
    },
    {
     "name": "stdout",
     "output_type": "stream",
     "text": [
      "val loss=1.650971242788088; val accuracy=60.459108000297825%\n"
     ]
    },
    {
     "data": {
      "text/plain": [
       "Epoch 20/20:   0%|          | 0/9025 [00:00<?, ?batch/s]"
      ],
      "application/vnd.jupyter.widget-view+json": {
       "version_major": 2,
       "version_minor": 0,
       "model_id": "f6d2e5e819cd4194b20f4b7465e855c9"
      }
     },
     "metadata": {},
     "output_type": "display_data"
    },
    {
     "name": "stdout",
     "output_type": "stream",
     "text": [
      "val loss=1.6606999591645188; val accuracy=60.41484980332331%\n",
      "1\n"
     ]
    },
    {
     "data": {
      "text/plain": [
       "Epoch 1/20:   0%|          | 0/9025 [00:00<?, ?batch/s]"
      ],
      "application/vnd.jupyter.widget-view+json": {
       "version_major": 2,
       "version_minor": 0,
       "model_id": "578ae79b346b427a94086634a74dacb6"
      }
     },
     "metadata": {},
     "output_type": "display_data"
    },
    {
     "name": "stdout",
     "output_type": "stream",
     "text": [
      "val loss=1.5919285896084794; val accuracy=57.60801376340815%\n"
     ]
    },
    {
     "data": {
      "text/plain": [
       "Epoch 2/20:   0%|          | 0/9025 [00:00<?, ?batch/s]"
      ],
      "application/vnd.jupyter.widget-view+json": {
       "version_major": 2,
       "version_minor": 0,
       "model_id": "0c0f5700795143a0bf792034160315d6"
      }
     },
     "metadata": {},
     "output_type": "display_data"
    },
    {
     "name": "stdout",
     "output_type": "stream",
     "text": [
      "val loss=1.578827978411921; val accuracy=58.09354202607887%\n"
     ]
    },
    {
     "data": {
      "text/plain": [
       "Epoch 3/20:   0%|          | 0/9025 [00:00<?, ?batch/s]"
      ],
      "application/vnd.jupyter.widget-view+json": {
       "version_major": 2,
       "version_minor": 0,
       "model_id": "83d378d97c6c4bd1aeb15c790ee9f1e6"
      }
     },
     "metadata": {},
     "output_type": "display_data"
    },
    {
     "name": "stdout",
     "output_type": "stream",
     "text": [
      "val loss=1.5820262507236107; val accuracy=58.4535730523621%\n"
     ]
    },
    {
     "data": {
      "text/plain": [
       "Epoch 4/20:   0%|          | 0/9025 [00:00<?, ?batch/s]"
      ],
      "application/vnd.jupyter.widget-view+json": {
       "version_major": 2,
       "version_minor": 0,
       "model_id": "572189e01fd44793be90b340db7e2439"
      }
     },
     "metadata": {},
     "output_type": "display_data"
    },
    {
     "name": "stdout",
     "output_type": "stream",
     "text": [
      "val loss=1.5829999175511373; val accuracy=58.6328732065034%\n"
     ]
    },
    {
     "data": {
      "text/plain": [
       "Epoch 5/20:   0%|          | 0/9025 [00:00<?, ?batch/s]"
      ],
      "application/vnd.jupyter.widget-view+json": {
       "version_major": 2,
       "version_minor": 0,
       "model_id": "b759bd86c94c49938348b5d32e343af9"
      }
     },
     "metadata": {},
     "output_type": "display_data"
    },
    {
     "name": "stdout",
     "output_type": "stream",
     "text": [
      "val loss=1.5661794418795674; val accuracy=59.513363797230525%\n"
     ]
    },
    {
     "data": {
      "text/plain": [
       "Epoch 6/20:   0%|          | 0/9025 [00:00<?, ?batch/s]"
      ],
      "application/vnd.jupyter.widget-view+json": {
       "version_major": 2,
       "version_minor": 0,
       "model_id": "d697fd15f9764d8eb8245cff46b15a92"
      }
     },
     "metadata": {},
     "output_type": "display_data"
    },
    {
     "name": "stdout",
     "output_type": "stream",
     "text": [
      "val loss=1.5773782702657393; val accuracy=59.466724370642496%\n"
     ]
    },
    {
     "data": {
      "text/plain": [
       "Epoch 7/20:   0%|          | 0/9025 [00:00<?, ?batch/s]"
      ],
      "application/vnd.jupyter.widget-view+json": {
       "version_major": 2,
       "version_minor": 0,
       "model_id": "512ecff594144cfd870f89a2ba13507b"
      }
     },
     "metadata": {},
     "output_type": "display_data"
    },
    {
     "name": "stdout",
     "output_type": "stream",
     "text": [
      "val loss=1.5713721407508374; val accuracy=59.83564169038985%\n"
     ]
    },
    {
     "data": {
      "text/plain": [
       "Epoch 8/20:   0%|          | 0/9025 [00:00<?, ?batch/s]"
      ],
      "application/vnd.jupyter.widget-view+json": {
       "version_major": 2,
       "version_minor": 0,
       "model_id": "65fa84df144a41afb882fd8d52ec53f9"
      }
     },
     "metadata": {},
     "output_type": "display_data"
    },
    {
     "name": "stdout",
     "output_type": "stream",
     "text": [
      "val loss=1.5828215041057716; val accuracy=59.825195963810856%\n"
     ]
    },
    {
     "data": {
      "text/plain": [
       "Epoch 9/20:   0%|          | 0/9025 [00:00<?, ?batch/s]"
      ],
      "application/vnd.jupyter.widget-view+json": {
       "version_major": 2,
       "version_minor": 0,
       "model_id": "3fbc061f326a4ac3aed5311563c2f7a5"
      }
     },
     "metadata": {},
     "output_type": "display_data"
    },
    {
     "name": "stdout",
     "output_type": "stream",
     "text": [
      "val loss=1.582325603646799; val accuracy=59.97101533650488%\n"
     ]
    },
    {
     "data": {
      "text/plain": [
       "Epoch 10/20:   0%|          | 0/9025 [00:00<?, ?batch/s]"
      ],
      "application/vnd.jupyter.widget-view+json": {
       "version_major": 2,
       "version_minor": 0,
       "model_id": "68cb8d347b75428c99bdf63708e1ca07"
      }
     },
     "metadata": {},
     "output_type": "display_data"
    },
    {
     "name": "stdout",
     "output_type": "stream",
     "text": [
      "val loss=1.592661417402503; val accuracy=60.01918449271987%\n"
     ]
    },
    {
     "data": {
      "text/plain": [
       "Epoch 11/20:   0%|          | 0/9025 [00:00<?, ?batch/s]"
      ],
      "application/vnd.jupyter.widget-view+json": {
       "version_major": 2,
       "version_minor": 0,
       "model_id": "c35ed6bab49d4879b9c08e13d6b7971b"
      }
     },
     "metadata": {},
     "output_type": "display_data"
    },
    {
     "name": "stdout",
     "output_type": "stream",
     "text": [
      "val loss=1.6028848797143425; val accuracy=59.87388493106415%\n"
     ]
    },
    {
     "data": {
      "text/plain": [
       "Epoch 12/20:   0%|          | 0/9025 [00:00<?, ?batch/s]"
      ],
      "application/vnd.jupyter.widget-view+json": {
       "version_major": 2,
       "version_minor": 0,
       "model_id": "af34b5a9cdb443498cc424cfa9e3ae1e"
      }
     },
     "metadata": {},
     "output_type": "display_data"
    },
    {
     "name": "stdout",
     "output_type": "stream",
     "text": [
      "val loss=1.6114186639671624; val accuracy=59.960970607012555%\n"
     ]
    },
    {
     "data": {
      "text/plain": [
       "Epoch 13/20:   0%|          | 0/9025 [00:00<?, ?batch/s]"
      ],
      "application/vnd.jupyter.widget-view+json": {
       "version_major": 2,
       "version_minor": 0,
       "model_id": "e838b2b306d641d3ad2aac7fcd7996c0"
      }
     },
     "metadata": {},
     "output_type": "display_data"
    },
    {
     "name": "stdout",
     "output_type": "stream",
     "text": [
      "val loss=1.6180262653162403; val accuracy=59.87444434675297%\n"
     ]
    },
    {
     "data": {
      "text/plain": [
       "Epoch 14/20:   0%|          | 0/9025 [00:00<?, ?batch/s]"
      ],
      "application/vnd.jupyter.widget-view+json": {
       "version_major": 2,
       "version_minor": 0,
       "model_id": "80a6298db0834d7288f2aba9d1cf466e"
      }
     },
     "metadata": {},
     "output_type": "display_data"
    },
    {
     "name": "stdout",
     "output_type": "stream",
     "text": [
      "val loss=1.6253543059348832; val accuracy=59.93419291266858%\n"
     ]
    },
    {
     "data": {
      "text/plain": [
       "Epoch 15/20:   0%|          | 0/9025 [00:00<?, ?batch/s]"
      ],
      "application/vnd.jupyter.widget-view+json": {
       "version_major": 2,
       "version_minor": 0,
       "model_id": "ee712f8efc9a4b5b99c65e0ad2c9d831"
      }
     },
     "metadata": {},
     "output_type": "display_data"
    },
    {
     "name": "stdout",
     "output_type": "stream",
     "text": [
      "val loss=1.6309419888654153; val accuracy=59.7905914004046%\n"
     ]
    },
    {
     "data": {
      "text/plain": [
       "Epoch 16/20:   0%|          | 0/9025 [00:00<?, ?batch/s]"
      ],
      "application/vnd.jupyter.widget-view+json": {
       "version_major": 2,
       "version_minor": 0,
       "model_id": "6aaf992faf0d4474975ba32d01e511e1"
      }
     },
     "metadata": {},
     "output_type": "display_data"
    },
    {
     "name": "stdout",
     "output_type": "stream",
     "text": [
      "val loss=1.6305817948361967; val accuracy=60.15598390625421%\n"
     ]
    },
    {
     "data": {
      "text/plain": [
       "Epoch 17/20:   0%|          | 0/9025 [00:00<?, ?batch/s]"
      ],
      "application/vnd.jupyter.widget-view+json": {
       "version_major": 2,
       "version_minor": 0,
       "model_id": "c0f3fe5b01354c68971b496d5138e8a1"
      }
     },
     "metadata": {},
     "output_type": "display_data"
    },
    {
     "name": "stdout",
     "output_type": "stream",
     "text": [
      "val loss=1.6354979577067765; val accuracy=60.024719242632344%\n"
     ]
    },
    {
     "data": {
      "text/plain": [
       "Epoch 18/20:   0%|          | 0/9025 [00:00<?, ?batch/s]"
      ],
      "application/vnd.jupyter.widget-view+json": {
       "version_major": 2,
       "version_minor": 0,
       "model_id": "0d4d67ef6bf949fab61a1e820414048f"
      }
     },
     "metadata": {},
     "output_type": "display_data"
    },
    {
     "name": "stdout",
     "output_type": "stream",
     "text": [
      "val loss=1.6316445978458851; val accuracy=60.23629718696088%\n"
     ]
    },
    {
     "data": {
      "text/plain": [
       "Epoch 19/20:   0%|          | 0/9025 [00:00<?, ?batch/s]"
      ],
      "application/vnd.jupyter.widget-view+json": {
       "version_major": 2,
       "version_minor": 0,
       "model_id": "7880f110fa5e4f7da884e52b6f41d8bd"
      }
     },
     "metadata": {},
     "output_type": "display_data"
    },
    {
     "name": "stdout",
     "output_type": "stream",
     "text": [
      "val loss=1.6422032728045215; val accuracy=60.14644908663755%\n"
     ]
    },
    {
     "data": {
      "text/plain": [
       "Epoch 20/20:   0%|          | 0/9025 [00:00<?, ?batch/s]"
      ],
      "application/vnd.jupyter.widget-view+json": {
       "version_major": 2,
       "version_minor": 0,
       "model_id": "b7296a6eb359415baa3f4bc69c58d654"
      }
     },
     "metadata": {},
     "output_type": "display_data"
    },
    {
     "name": "stdout",
     "output_type": "stream",
     "text": [
      "val loss=1.6352247914582916; val accuracy=60.289570392513774%\n",
      "2\n"
     ]
    },
    {
     "data": {
      "text/plain": [
       "Epoch 1/20:   0%|          | 0/9025 [00:00<?, ?batch/s]"
      ],
      "application/vnd.jupyter.widget-view+json": {
       "version_major": 2,
       "version_minor": 0,
       "model_id": "119c8e3e8a6145768558cc4b4124ed70"
      }
     },
     "metadata": {},
     "output_type": "display_data"
    },
    {
     "name": "stdout",
     "output_type": "stream",
     "text": [
      "val loss=1.554327623977288; val accuracy=59.11718857675144%\n"
     ]
    },
    {
     "data": {
      "text/plain": [
       "Epoch 2/20:   0%|          | 0/9025 [00:00<?, ?batch/s]"
      ],
      "application/vnd.jupyter.widget-view+json": {
       "version_major": 2,
       "version_minor": 0,
       "model_id": "39a2a74cb81c4a8f867d244e0e230edf"
      }
     },
     "metadata": {},
     "output_type": "display_data"
    },
    {
     "name": "stdout",
     "output_type": "stream",
     "text": [
      "val loss=1.5318743021188188; val accuracy=59.72318923577282%\n"
     ]
    },
    {
     "data": {
      "text/plain": [
       "Epoch 3/20:   0%|          | 0/9025 [00:00<?, ?batch/s]"
      ],
      "application/vnd.jupyter.widget-view+json": {
       "version_major": 2,
       "version_minor": 0,
       "model_id": "e13792bc709b4adeacce52c2f30e3998"
      }
     },
     "metadata": {},
     "output_type": "display_data"
    },
    {
     "name": "stdout",
     "output_type": "stream",
     "text": [
      "val loss=1.5277406981772625; val accuracy=60.20212332412921%\n"
     ]
    },
    {
     "data": {
      "text/plain": [
       "Epoch 4/20:   0%|          | 0/9025 [00:00<?, ?batch/s]"
      ],
      "application/vnd.jupyter.widget-view+json": {
       "version_major": 2,
       "version_minor": 0,
       "model_id": "f226c64a397b4a6c9a4f9e7d898afc7c"
      }
     },
     "metadata": {},
     "output_type": "display_data"
    },
    {
     "name": "stdout",
     "output_type": "stream",
     "text": [
      "val loss=1.535237702036703; val accuracy=60.34971995551606%\n"
     ]
    },
    {
     "data": {
      "text/plain": [
       "Epoch 5/20:   0%|          | 0/9025 [00:00<?, ?batch/s]"
      ],
      "application/vnd.jupyter.widget-view+json": {
       "version_major": 2,
       "version_minor": 0,
       "model_id": "75b9b548594646fcb60932b1b5f4f7a2"
      }
     },
     "metadata": {},
     "output_type": "display_data"
    },
    {
     "name": "stdout",
     "output_type": "stream",
     "text": [
      "val loss=1.5333882056276937; val accuracy=60.64853209323252%\n"
     ]
    },
    {
     "data": {
      "text/plain": [
       "Epoch 6/20:   0%|          | 0/9025 [00:00<?, ?batch/s]"
      ],
      "application/vnd.jupyter.widget-view+json": {
       "version_major": 2,
       "version_minor": 0,
       "model_id": "b91d352e9b574dc194012d4d0be35621"
      }
     },
     "metadata": {},
     "output_type": "display_data"
    },
    {
     "name": "stdout",
     "output_type": "stream",
     "text": [
      "val loss=1.5426045175272212; val accuracy=60.60269466081785%\n"
     ]
    },
    {
     "data": {
      "text/plain": [
       "Epoch 7/20:   0%|          | 0/9025 [00:00<?, ?batch/s]"
      ],
      "application/vnd.jupyter.widget-view+json": {
       "version_major": 2,
       "version_minor": 0,
       "model_id": "7e787907b06b453ca631804b13515b8c"
      }
     },
     "metadata": {},
     "output_type": "display_data"
    },
    {
     "name": "stdout",
     "output_type": "stream",
     "text": [
      "val loss=1.5576120517483598; val accuracy=60.62892779121695%\n"
     ]
    },
    {
     "data": {
      "text/plain": [
       "Epoch 8/20:   0%|          | 0/9025 [00:00<?, ?batch/s]"
      ],
      "application/vnd.jupyter.widget-view+json": {
       "version_major": 2,
       "version_minor": 0,
       "model_id": "9a47fec200da4e429802b951777fc94f"
      }
     },
     "metadata": {},
     "output_type": "display_data"
    },
    {
     "name": "stdout",
     "output_type": "stream",
     "text": [
      "val loss=1.5608976227083318; val accuracy=60.78964841367533%\n"
     ]
    },
    {
     "data": {
      "text/plain": [
       "Epoch 9/20:   0%|          | 0/9025 [00:00<?, ?batch/s]"
      ],
      "application/vnd.jupyter.widget-view+json": {
       "version_major": 2,
       "version_minor": 0,
       "model_id": "2711b3e749cd41918940841355f47daa"
      }
     },
     "metadata": {},
     "output_type": "display_data"
    },
    {
     "name": "stdout",
     "output_type": "stream",
     "text": [
      "val loss=1.5682547514078025; val accuracy=60.79244549211947%\n"
     ]
    },
    {
     "data": {
      "text/plain": [
       "Epoch 10/20:   0%|          | 0/9025 [00:00<?, ?batch/s]"
      ],
      "application/vnd.jupyter.widget-view+json": {
       "version_major": 2,
       "version_minor": 0,
       "model_id": "ac71a178d9e94044beabaacea313de61"
      }
     },
     "metadata": {},
     "output_type": "display_data"
    },
    {
     "name": "stdout",
     "output_type": "stream",
     "text": [
      "val loss=1.5737330991387293; val accuracy=60.73342466165747%\n"
     ]
    },
    {
     "data": {
      "text/plain": [
       "Epoch 11/20:   0%|          | 0/9025 [00:00<?, ?batch/s]"
      ],
      "application/vnd.jupyter.widget-view+json": {
       "version_major": 2,
       "version_minor": 0,
       "model_id": "81c960dfdf664484ad470ca27ec66083"
      }
     },
     "metadata": {},
     "output_type": "display_data"
    },
    {
     "name": "stdout",
     "output_type": "stream",
     "text": [
      "val loss=1.579869798409959; val accuracy=60.725617594920465%\n"
     ]
    },
    {
     "data": {
      "text/plain": [
       "Epoch 12/20:   0%|          | 0/9025 [00:00<?, ?batch/s]"
      ],
      "application/vnd.jupyter.widget-view+json": {
       "version_major": 2,
       "version_minor": 0,
       "model_id": "f12a6bc39bb64a9f97eb5af601c430e9"
      }
     },
     "metadata": {},
     "output_type": "display_data"
    },
    {
     "name": "stdout",
     "output_type": "stream",
     "text": [
      "val loss=1.5857129779308123; val accuracy=60.823743067205925%\n"
     ]
    },
    {
     "data": {
      "text/plain": [
       "Epoch 13/20:   0%|          | 0/9025 [00:00<?, ?batch/s]"
      ],
      "application/vnd.jupyter.widget-view+json": {
       "version_major": 2,
       "version_minor": 0,
       "model_id": "cf7fb77f07364fb3a89562c460d36f4f"
      }
     },
     "metadata": {},
     "output_type": "display_data"
    },
    {
     "name": "stdout",
     "output_type": "stream",
     "text": [
      "val loss=1.5966769033567922; val accuracy=60.70194391506228%\n"
     ]
    },
    {
     "data": {
      "text/plain": [
       "Epoch 14/20:   0%|          | 0/9025 [00:00<?, ?batch/s]"
      ],
      "application/vnd.jupyter.widget-view+json": {
       "version_major": 2,
       "version_minor": 0,
       "model_id": "c3faf20340324a419de86d9d3d5e5c00"
      }
     },
     "metadata": {},
     "output_type": "display_data"
    },
    {
     "name": "stdout",
     "output_type": "stream",
     "text": [
      "val loss=1.594996959144003; val accuracy=60.824332186382655%\n"
     ]
    },
    {
     "data": {
      "text/plain": [
       "Epoch 15/20:   0%|          | 0/9025 [00:00<?, ?batch/s]"
      ],
      "application/vnd.jupyter.widget-view+json": {
       "version_major": 2,
       "version_minor": 0,
       "model_id": "0e5ac755705144e4b685ef225d19e22b"
      }
     },
     "metadata": {},
     "output_type": "display_data"
    },
    {
     "name": "stdout",
     "output_type": "stream",
     "text": [
      "val loss=1.6032136944113407; val accuracy=60.78544537013714%\n"
     ]
    },
    {
     "data": {
      "text/plain": [
       "Epoch 16/20:   0%|          | 0/9025 [00:00<?, ?batch/s]"
      ],
      "application/vnd.jupyter.widget-view+json": {
       "version_major": 2,
       "version_minor": 0,
       "model_id": "9a6790728d464ebba72f5f0b88855566"
      }
     },
     "metadata": {},
     "output_type": "display_data"
    },
    {
     "name": "stdout",
     "output_type": "stream",
     "text": [
      "val loss=1.61727390590662; val accuracy=60.63450709636128%\n"
     ]
    },
    {
     "data": {
      "text/plain": [
       "Epoch 17/20:   0%|          | 0/9025 [00:00<?, ?batch/s]"
      ],
      "application/vnd.jupyter.widget-view+json": {
       "version_major": 2,
       "version_minor": 0,
       "model_id": "dddf2fb664e947f7ae34417f54d31cd9"
      }
     },
     "metadata": {},
     "output_type": "display_data"
    },
    {
     "name": "stdout",
     "output_type": "stream",
     "text": [
      "val loss=1.6137709807734002; val accuracy=60.709642069010314%\n"
     ]
    },
    {
     "data": {
      "text/plain": [
       "Epoch 18/20:   0%|          | 0/9025 [00:00<?, ?batch/s]"
      ],
      "application/vnd.jupyter.widget-view+json": {
       "version_major": 2,
       "version_minor": 0,
       "model_id": "518de6cae3f043ecb035a5f9141f5e45"
      }
     },
     "metadata": {},
     "output_type": "display_data"
    },
    {
     "name": "stdout",
     "output_type": "stream",
     "text": [
      "val loss=1.621945873321911; val accuracy=60.71727586540122%\n"
     ]
    },
    {
     "data": {
      "text/plain": [
       "Epoch 19/20:   0%|          | 0/9025 [00:00<?, ?batch/s]"
      ],
      "application/vnd.jupyter.widget-view+json": {
       "version_major": 2,
       "version_minor": 0,
       "model_id": "ddc39c359c004eafbe3928a41abe73ec"
      }
     },
     "metadata": {},
     "output_type": "display_data"
    },
    {
     "name": "stdout",
     "output_type": "stream",
     "text": [
      "val loss=1.6239149689013619; val accuracy=60.75064773405953%\n"
     ]
    },
    {
     "data": {
      "text/plain": [
       "Epoch 20/20:   0%|          | 0/9025 [00:00<?, ?batch/s]"
      ],
      "application/vnd.jupyter.widget-view+json": {
       "version_major": 2,
       "version_minor": 0,
       "model_id": "dadb133a8bd84cceb435c451f32be39d"
      }
     },
     "metadata": {},
     "output_type": "display_data"
    },
    {
     "name": "stdout",
     "output_type": "stream",
     "text": [
      "val loss=1.6267824282071555; val accuracy=60.6697700870827%\n",
      "3\n"
     ]
    },
    {
     "data": {
      "text/plain": [
       "Epoch 1/20:   0%|          | 0/9025 [00:00<?, ?batch/s]"
      ],
      "application/vnd.jupyter.widget-view+json": {
       "version_major": 2,
       "version_minor": 0,
       "model_id": "7130fcbfa4104d3dadf384fae86c10a2"
      }
     },
     "metadata": {},
     "output_type": "display_data"
    },
    {
     "name": "stdout",
     "output_type": "stream",
     "text": [
      "val loss=1.5931934824997742; val accuracy=57.91683597654771%\n"
     ]
    },
    {
     "data": {
      "text/plain": [
       "Epoch 2/20:   0%|          | 0/9025 [00:00<?, ?batch/s]"
      ],
      "application/vnd.jupyter.widget-view+json": {
       "version_major": 2,
       "version_minor": 0,
       "model_id": "5b41110b85ae405986900fb29c1b9fc2"
      }
     },
     "metadata": {},
     "output_type": "display_data"
    },
    {
     "name": "stdout",
     "output_type": "stream",
     "text": [
      "val loss=1.5858419353438673; val accuracy=58.2910157642351%\n"
     ]
    },
    {
     "data": {
      "text/plain": [
       "Epoch 3/20:   0%|          | 0/9025 [00:00<?, ?batch/s]"
      ],
      "application/vnd.jupyter.widget-view+json": {
       "version_major": 2,
       "version_minor": 0,
       "model_id": "ab619a721bd84e419425891471d9aae1"
      }
     },
     "metadata": {},
     "output_type": "display_data"
    },
    {
     "name": "stdout",
     "output_type": "stream",
     "text": [
      "val loss=1.5794304656180673; val accuracy=59.07493536521032%\n"
     ]
    },
    {
     "data": {
      "text/plain": [
       "Epoch 4/20:   0%|          | 0/9025 [00:00<?, ?batch/s]"
      ],
      "application/vnd.jupyter.widget-view+json": {
       "version_major": 2,
       "version_minor": 0,
       "model_id": "72f47c8cfc844efb98e833f341dc3e4d"
      }
     },
     "metadata": {},
     "output_type": "display_data"
    },
    {
     "name": "stdout",
     "output_type": "stream",
     "text": [
      "val loss=1.5907033928520096; val accuracy=59.07035112691073%\n"
     ]
    },
    {
     "data": {
      "text/plain": [
       "Epoch 5/20:   0%|          | 0/9025 [00:00<?, ?batch/s]"
      ],
      "application/vnd.jupyter.widget-view+json": {
       "version_major": 2,
       "version_minor": 0,
       "model_id": "a3c93afd9b4d458e93799006c924dedc"
      }
     },
     "metadata": {},
     "output_type": "display_data"
    },
    {
     "name": "stdout",
     "output_type": "stream",
     "text": [
      "val loss=1.5810011496790346; val accuracy=59.613276429371446%\n"
     ]
    },
    {
     "data": {
      "text/plain": [
       "Epoch 6/20:   0%|          | 0/9025 [00:00<?, ?batch/s]"
      ],
      "application/vnd.jupyter.widget-view+json": {
       "version_major": 2,
       "version_minor": 0,
       "model_id": "a119f197351e4fd89c8ab2e0ed0f9446"
      }
     },
     "metadata": {},
     "output_type": "display_data"
    },
    {
     "name": "stdout",
     "output_type": "stream",
     "text": [
      "val loss=1.5767237956840974; val accuracy=59.9451683514485%\n"
     ]
    },
    {
     "data": {
      "text/plain": [
       "Epoch 7/20:   0%|          | 0/9025 [00:00<?, ?batch/s]"
      ],
      "application/vnd.jupyter.widget-view+json": {
       "version_major": 2,
       "version_minor": 0,
       "model_id": "8ef0e352964a406f8ddc3d87b68ec24a"
      }
     },
     "metadata": {},
     "output_type": "display_data"
    },
    {
     "name": "stdout",
     "output_type": "stream",
     "text": [
      "val loss=1.5801735882058479; val accuracy=60.26412440454408%\n"
     ]
    },
    {
     "data": {
      "text/plain": [
       "Epoch 8/20:   0%|          | 0/9025 [00:00<?, ?batch/s]"
      ],
      "application/vnd.jupyter.widget-view+json": {
       "version_major": 2,
       "version_minor": 0,
       "model_id": "2bd4c8f74c1e4beabb5ab60d62f613e7"
      }
     },
     "metadata": {},
     "output_type": "display_data"
    },
    {
     "name": "stdout",
     "output_type": "stream",
     "text": [
      "val loss=1.5939872041672283; val accuracy=59.84937460296338%\n"
     ]
    },
    {
     "data": {
      "text/plain": [
       "Epoch 9/20:   0%|          | 0/9025 [00:00<?, ?batch/s]"
      ],
      "application/vnd.jupyter.widget-view+json": {
       "version_major": 2,
       "version_minor": 0,
       "model_id": "8d5043f34dff40288c8104550df4c02c"
      }
     },
     "metadata": {},
     "output_type": "display_data"
    },
    {
     "name": "stdout",
     "output_type": "stream",
     "text": [
      "val loss=1.5983219392691719; val accuracy=60.21895530060722%\n"
     ]
    },
    {
     "data": {
      "text/plain": [
       "Epoch 10/20:   0%|          | 0/9025 [00:00<?, ?batch/s]"
      ],
      "application/vnd.jupyter.widget-view+json": {
       "version_major": 2,
       "version_minor": 0,
       "model_id": "5ab277f92c784d6c97825498b82d781b"
      }
     },
     "metadata": {},
     "output_type": "display_data"
    },
    {
     "name": "stdout",
     "output_type": "stream",
     "text": [
      "val loss=1.6139770138427316; val accuracy=59.977233266639104%\n"
     ]
    },
    {
     "data": {
      "text/plain": [
       "Epoch 11/20:   0%|          | 0/9025 [00:00<?, ?batch/s]"
      ],
      "application/vnd.jupyter.widget-view+json": {
       "version_major": 2,
       "version_minor": 0,
       "model_id": "b141da426a2c416692ab13342ce8aee2"
      }
     },
     "metadata": {},
     "output_type": "display_data"
    },
    {
     "name": "stdout",
     "output_type": "stream",
     "text": [
      "val loss=1.6174037297968085; val accuracy=60.068220000665356%\n"
     ]
    },
    {
     "data": {
      "text/plain": [
       "Epoch 12/20:   0%|          | 0/9025 [00:00<?, ?batch/s]"
      ],
      "application/vnd.jupyter.widget-view+json": {
       "version_major": 2,
       "version_minor": 0,
       "model_id": "050ca40f9ee34559b9454bd77077e3c9"
      }
     },
     "metadata": {},
     "output_type": "display_data"
    },
    {
     "name": "stdout",
     "output_type": "stream",
     "text": [
      "val loss=1.62502224966455; val accuracy=60.02921437046824%\n"
     ]
    },
    {
     "data": {
      "text/plain": [
       "Epoch 13/20:   0%|          | 0/9025 [00:00<?, ?batch/s]"
      ],
      "application/vnd.jupyter.widget-view+json": {
       "version_major": 2,
       "version_minor": 0,
       "model_id": "7edcc6d8df5444e8b52f57f20608ae0b"
      }
     },
     "metadata": {},
     "output_type": "display_data"
    },
    {
     "name": "stdout",
     "output_type": "stream",
     "text": [
      "val loss=1.629654566648183; val accuracy=60.03242729774301%\n"
     ]
    },
    {
     "data": {
      "text/plain": [
       "Epoch 14/20:   0%|          | 0/9025 [00:00<?, ?batch/s]"
      ],
      "application/vnd.jupyter.widget-view+json": {
       "version_major": 2,
       "version_minor": 0,
       "model_id": "7d587e64bb8e4451abdb821dc861feef"
      }
     },
     "metadata": {},
     "output_type": "display_data"
    },
    {
     "name": "stdout",
     "output_type": "stream",
     "text": [
      "val loss=1.6389955270628667; val accuracy=60.12693884566701%\n"
     ]
    },
    {
     "data": {
      "text/plain": [
       "Epoch 15/20:   0%|          | 0/9025 [00:00<?, ?batch/s]"
      ],
      "application/vnd.jupyter.widget-view+json": {
       "version_major": 2,
       "version_minor": 0,
       "model_id": "3231104191144945a227ae0c01a06600"
      }
     },
     "metadata": {},
     "output_type": "display_data"
    },
    {
     "name": "stdout",
     "output_type": "stream",
     "text": [
      "val loss=1.6442341844622506; val accuracy=59.9856195513902%\n"
     ]
    },
    {
     "data": {
      "text/plain": [
       "Epoch 16/20:   0%|          | 0/9025 [00:00<?, ?batch/s]"
      ],
      "application/vnd.jupyter.widget-view+json": {
       "version_major": 2,
       "version_minor": 0,
       "model_id": "a30324a693dd4ec89a5c454b0d67c92f"
      }
     },
     "metadata": {},
     "output_type": "display_data"
    },
    {
     "name": "stdout",
     "output_type": "stream",
     "text": [
      "val loss=1.648237147410933; val accuracy=60.12202291841917%\n"
     ]
    },
    {
     "data": {
      "text/plain": [
       "Epoch 17/20:   0%|          | 0/9025 [00:00<?, ?batch/s]"
      ],
      "application/vnd.jupyter.widget-view+json": {
       "version_major": 2,
       "version_minor": 0,
       "model_id": "9745c3b7e0fb47508086b8cbf91ae45e"
      }
     },
     "metadata": {},
     "output_type": "display_data"
    },
    {
     "name": "stdout",
     "output_type": "stream",
     "text": [
      "val loss=1.6494455991120525; val accuracy=60.14471143259526%\n"
     ]
    },
    {
     "data": {
      "text/plain": [
       "Epoch 18/20:   0%|          | 0/9025 [00:00<?, ?batch/s]"
      ],
      "application/vnd.jupyter.widget-view+json": {
       "version_major": 2,
       "version_minor": 0,
       "model_id": "36e53dedd6f243f0b5b14da11a98daaa"
      }
     },
     "metadata": {},
     "output_type": "display_data"
    },
    {
     "name": "stdout",
     "output_type": "stream",
     "text": [
      "val loss=1.6453279722461194; val accuracy=60.323169987912664%\n"
     ]
    },
    {
     "data": {
      "text/plain": [
       "Epoch 19/20:   0%|          | 0/9025 [00:00<?, ?batch/s]"
      ],
      "application/vnd.jupyter.widget-view+json": {
       "version_major": 2,
       "version_minor": 0,
       "model_id": "75c887c150f140508d85d78385f2adc1"
      }
     },
     "metadata": {},
     "output_type": "display_data"
    },
    {
     "name": "stdout",
     "output_type": "stream",
     "text": [
      "val loss=1.6601666595649711; val accuracy=60.02440735600937%\n"
     ]
    },
    {
     "data": {
      "text/plain": [
       "Epoch 20/20:   0%|          | 0/9025 [00:00<?, ?batch/s]"
      ],
      "application/vnd.jupyter.widget-view+json": {
       "version_major": 2,
       "version_minor": 0,
       "model_id": "852e811f662747cc85a2f4fbee0acdab"
      }
     },
     "metadata": {},
     "output_type": "display_data"
    },
    {
     "name": "stdout",
     "output_type": "stream",
     "text": [
      "val loss=1.6586643383064597; val accuracy=60.357987426315546%\n",
      "4\n",
      "{0: {'train_losses': [1.4667497191006458, 1.1958790545623719, 1.0748308090968806, 0.9968702540771618, 0.9420267120156427, 0.9012528908036009, 0.869505131883428, 0.8451534985835533, 0.8253095199483501, 0.8077447559108695, 0.7922805467305751, 0.7810471695630586, 0.7708121831209458, 0.7615849753417632, 0.7545964203805887, 0.748219481136784, 0.7416897735478475, 0.7350733206755484, 0.731242197283087, 0.7244130684107212], 'val_losses': [1.5693647776586697, 1.5498988156212996, 1.546585099139611, 1.557543895642438, 1.559651610471768, 1.5625875962652358, 1.5743198998256556, 1.5868682108052596, 1.5922809945235403, 1.5984320793839635, 1.612437389188794, 1.6160161370417085, 1.6205682096570038, 1.6288815560863166, 1.6318706502288063, 1.6480809403402592, 1.6489534370359271, 1.6559485408013452, 1.6578601597524425, 1.6594111527393083], 'val_accuracies': [58.60546678833215, 59.07983644071422, 59.521616416286065, 59.58931561579687, 59.93097503481249, 60.08179944521805, 60.17663773150898, 60.23230206783801, 60.25788172150327, 60.24035171305955, 60.13658257807265, 60.20723232404842, 60.34471986838582, 60.25324302680918, 60.33318996449839, 60.14073611579766, 60.181469498874435, 60.06672492510761, 60.18692008890452, 60.32477892684071]}, 1: {'train_losses': [1.4676525573585173, 1.199907984859065, 1.0845774517280573, 1.0070847195477697, 0.9511476405901922, 0.9107109924424388, 0.8769960190880002, 0.8499919502532053, 0.8305656348721968, 0.8129700700422734, 0.7985146708018727, 0.7873452344755552, 0.7744240036561384, 0.7655100103480086, 0.7575319054627848, 0.7495972293904284, 0.7444048962420126, 0.7389938661191933, 0.7329950865688334, 0.7282418515122498], 'val_losses': [1.5955170887430008, 1.571011881792379, 1.5648331275183252, 1.5701261981221262, 1.5729123225758346, 1.5855823515393128, 1.5831225682641066, 1.6008003599545728, 1.6113068716671448, 1.605125215391854, 1.6360393603412928, 1.635252350957163, 1.6311345056276072, 1.6325565927651615, 1.6371893380431184, 1.6420723080396942, 1.6531158103924142, 1.653674607321708, 1.650971242788088, 1.6606999591645188], 'val_accuracies': [57.81250742587198, 58.5121879351561, 59.08837124290483, 59.1906502529153, 59.65286127758266, 59.65980199258918, 59.94486141540684, 59.866355096880895, 59.90681619798523, 60.17534067920391, 59.76373944734087, 59.89714771267301, 60.130696336886665, 60.22436628598677, 60.242322044423744, 60.34675950788846, 60.404968443014454, 60.40396347500709, 60.459108000297825, 60.41484980332331]}, 2: {'train_losses': [1.4592238449488981, 1.1939184413284807, 1.078280497422839, 1.0017846965930137, 0.9484160879741416, 0.9061417025207978, 0.874072291936488, 0.8485945990204894, 0.8283756318341662, 0.8117562350098281, 0.796529622546441, 0.7863015686493584, 0.7718788169774322, 0.7635234339287572, 0.7570050956015771, 0.75082759279314, 0.7432555643987128, 0.7405459753013218, 0.7311023162796557, 0.7273560043411985], 'val_losses': [1.5919285896084794, 1.578827978411921, 1.5820262507236107, 1.5829999175511373, 1.5661794418795674, 1.5773782702657393, 1.5713721407508374, 1.5828215041057716, 1.582325603646799, 1.592661417402503, 1.6028848797143425, 1.6114186639671624, 1.6180262653162403, 1.6253543059348832, 1.6309419888654153, 1.6305817948361967, 1.6354979577067765, 1.6316445978458851, 1.6422032728045215, 1.6352247914582916], 'val_accuracies': [57.60801376340815, 58.09354202607887, 58.4535730523621, 58.6328732065034, 59.513363797230525, 59.466724370642496, 59.83564169038985, 59.825195963810856, 59.97101533650488, 60.01918449271987, 59.87388493106415, 59.960970607012555, 59.87444434675297, 59.93419291266858, 59.7905914004046, 60.15598390625421, 60.024719242632344, 60.23629718696088, 60.14644908663755, 60.289570392513774]}, 3: {'train_losses': [1.4601996789579577, 1.1936644277925967, 1.0779468566071955, 1.0024076403714612, 0.948525284377244, 0.9053606269762456, 0.8746345999944243, 0.8509051092423066, 0.8297707868670823, 0.8128913026494993, 0.7989574433887929, 0.7846921274941053, 0.7740001621252117, 0.7704715536324271, 0.7583351432657969, 0.7502556177030557, 0.7478353772937756, 0.7384157561547952, 0.7320792272433102, 0.7297720603209371], 'val_losses': [1.554327623977288, 1.5318743021188188, 1.5277406981772625, 1.535237702036703, 1.5333882056276937, 1.5426045175272212, 1.5576120517483598, 1.5608976227083318, 1.5682547514078025, 1.5737330991387293, 1.579869798409959, 1.5857129779308123, 1.5966769033567922, 1.594996959144003, 1.6032136944113407, 1.61727390590662, 1.6137709807734002, 1.621945873321911, 1.6239149689013619, 1.6267824282071555], 'val_accuracies': [59.11718857675144, 59.72318923577282, 60.20212332412921, 60.34971995551606, 60.64853209323252, 60.60269466081785, 60.62892779121695, 60.78964841367533, 60.79244549211947, 60.73342466165747, 60.725617594920465, 60.823743067205925, 60.70194391506228, 60.824332186382655, 60.78544537013714, 60.63450709636128, 60.709642069010314, 60.71727586540122, 60.75064773405953, 60.6697700870827]}, 4: {'train_losses': [1.464918677331338, 1.1964964597294536, 1.0787413175119258, 1.0017977814723085, 0.9461972269874035, 0.9062994638027577, 0.8756176557658122, 0.8496266281949434, 0.8295765099792104, 0.8118169520844878, 0.7976929182666573, 0.7880138329719902, 0.7756648286219449, 0.7647227285705362, 0.7606088930376679, 0.7513869122071114, 0.7450969670712948, 0.7420547899368563, 0.7357683063911434, 0.7309605116828491], 'val_losses': [1.5931934824997742, 1.5858419353438673, 1.5794304656180673, 1.5907033928520096, 1.5810011496790346, 1.5767237956840974, 1.5801735882058479, 1.5939872041672283, 1.5983219392691719, 1.6139770138427316, 1.6174037297968085, 1.62502224966455, 1.629654566648183, 1.6389955270628667, 1.6442341844622506, 1.648237147410933, 1.6494455991120525, 1.6453279722461194, 1.6601666595649711, 1.6586643383064597], 'val_accuracies': [57.91683597654771, 58.2910157642351, 59.07493536521032, 59.07035112691073, 59.613276429371446, 59.9451683514485, 60.26412440454408, 59.84937460296338, 60.21895530060722, 59.977233266639104, 60.068220000665356, 60.02921437046824, 60.03242729774301, 60.12693884566701, 59.9856195513902, 60.12202291841917, 60.14471143259526, 60.323169987912664, 60.02440735600937, 60.357987426315546]}}\n"
     ]
    },
    {
     "data": {
      "text/plain": [
       "<Figure size 1000x600 with 1 Axes>"
      ],
      "image/png": "[encoded data removed]"
     },
     "metadata": {},
     "output_type": "display_data"
    },
    {
     "data": {
      "text/plain": [
       "<Figure size 1000x600 with 1 Axes>"
      ],
      "image/png": "[encoded data removed]"
     },
     "metadata": {},
     "output_type": "display_data"
    },
    {
     "data": {
      "text/plain": [
       "<Figure size 1000x600 with 1 Axes>"
      ],
      "image/png": "[encoded data removed]"
     },
     "metadata": {},
     "output_type": "display_data"
    }
   ],
   "execution_count": 9
  }
 ],
 "metadata": {
  "kernelspec": {
   "display_name": "Python 3",
   "language": "python",
   "name": "python3"
  },
  "language_info": {
   "codemirror_mode": {
    "name": "ipython",
    "version": 2
   },
   "file_extension": ".py",
   "mimetype": "text/x-python",
   "name": "python",
   "nbconvert_exporter": "python",
   "pygments_lexer": "ipython2",
   "version": "2.7.6"
  }
 },
 "nbformat": 4,
 "nbformat_minor": 5
}
