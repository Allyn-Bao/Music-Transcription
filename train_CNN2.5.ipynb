{
 "cells": [
  {
   "metadata": {
    "ExecuteTime": {
     "end_time": "2024-11-20T09:52:26.321614Z",
     "start_time": "2024-11-20T09:52:24.621906Z"
    }
   },
   "cell_type": "code",
   "source": [
    "import torch\n",
    "import torch.nn as nn\n",
    "from torch.utils.data import Dataset, DataLoader\n",
    "from torchvision import models, transforms\n",
    "\n",
    "import json\n",
    "import numpy as np\n",
    "import pandas as pd\n",
    "from tqdm import tqdm\n",
    "\n",
    "import os\n",
    "import matplotlib.pyplot as plt"
   ],
   "id": "f6c1cfa4fb718d48",
   "outputs": [],
   "execution_count": 1
  },
  {
   "metadata": {
    "ExecuteTime": {
     "end_time": "2024-11-20T09:52:26.351397Z",
     "start_time": "2024-11-20T09:52:26.329529Z"
    }
   },
   "cell_type": "code",
   "source": [
    "# Metal GPU support\n",
    "if torch.backends.mps.is_available():\n",
    "    device = torch.device(\"mps\")  # \"mps\" stands for Metal Performance Shaders (Apple's Metal API)\n",
    "    print(\"Using Apple Metal GPU.\")\n",
    "else:\n",
    "    device = torch.device(\"cpu\")  # Fallback to CPU\n",
    "    print(\"Using CPU.\")"
   ],
   "id": "ff3cff7dedf42463",
   "outputs": [
    {
     "name": "stdout",
     "output_type": "stream",
     "text": [
      "Using Apple Metal GPU.\n"
     ]
    }
   ],
   "execution_count": 2
  },
  {
   "metadata": {},
   "cell_type": "markdown",
   "source": "Dataset",
   "id": "b5f182d331c9a21b"
  },
  {
   "metadata": {
    "ExecuteTime": {
     "end_time": "2024-11-20T09:52:26.394870Z",
     "start_time": "2024-11-20T09:52:26.391102Z"
    }
   },
   "cell_type": "code",
   "source": [
    "# chord name to index mapping\n",
    "chord_to_int = {'A#:maj': 0, 'A:maj': 1, 'A:min': 2, 'Ab:maj': 3, 'Ab:min': 4, 'B:maj': 5, 'B:min': 6, 'Bb:maj': 7, 'Bb:min': 8, 'C#:maj': 9, 'C#:min': 10, 'C:maj': 11, 'C:min': 12, 'Cb:maj': 13, 'D#:maj': 14, 'D#:min': 15, 'D:maj': 16, 'D:min': 17, 'Db:maj': 18, 'Db:min': 19, 'E:maj': 20, 'E:min': 21, 'Eb:maj': 22, 'Eb:min': 23, 'F#:maj': 24, 'F#:min': 25, 'F:maj': 26, 'F:min': 27, 'Fb:maj': 28, 'G#:maj': 29, 'G#:min': 30, 'G:maj': 31, 'G:min': 32, 'Gb:maj': 33, 'Gb:min': 34, 'N': 35, 'X': 36}\n",
    "\n",
    "int_to_chord = {0: 'A#:maj', 1: 'A:maj', 2: 'A:min', 3: 'Ab:maj', 4: 'Ab:min', 5: 'B:maj', 6: 'B:min', 7: 'Bb:maj', 8: 'Bb:min', 9: 'C#:maj', 10: 'C#:min', 11: 'C:maj', 12: 'C:min', 13: 'Cb:maj', 14: 'D#:maj', 15: 'D#:min', 16: 'D:maj', 17: 'D:min', 18: 'Db:maj', 19: 'Db:min', 20: 'E:maj', 21: 'E:min', 22: 'Eb:maj', 23: 'Eb:min', 24: 'F#:maj', 25: 'F#:min', 26: 'F:maj', 27: 'F:min', 28: 'Fb:maj', 29: 'G#:maj', 30: 'G#:min', 31: 'G:maj', 32: 'G:min', 33: 'Gb:maj', 34: 'Gb:min', 35: 'N', 36: 'X'}"
   ],
   "id": "70d4c8dca439b6ef",
   "outputs": [],
   "execution_count": 3
  },
  {
   "metadata": {
    "ExecuteTime": {
     "end_time": "2024-11-20T09:52:26.401751Z",
     "start_time": "2024-11-20T09:52:26.399457Z"
    }
   },
   "cell_type": "code",
   "source": [
    "import os\n",
    "\n",
    "def get_csv_file_paths(directory_path):\n",
    "    \"\"\"\n",
    "    Given a directory path, go through each CSV file in the directory,\n",
    "    append their paths into a list, and return the list.\n",
    "\n",
    "    Args:\n",
    "        directory_path (str): Path to the directory containing CSV files.\n",
    "\n",
    "    Returns:\n",
    "        list: List of file paths to all CSV files in the directory.\n",
    "    \"\"\"\n",
    "    csv_file_paths = []\n",
    "    \n",
    "    # Check if the provided path is valid\n",
    "    if not os.path.isdir(directory_path):\n",
    "        raise ValueError(f\"The provided path '{directory_path}' is not a valid directory.\")\n",
    "    \n",
    "    # Iterate over all files in the directory\n",
    "    for filename in os.listdir(directory_path):\n",
    "        # Check if the file has a .csv extension\n",
    "        if filename.endswith(\".csv\"):\n",
    "            # Append the full path to the list\n",
    "            full_path = os.path.join(directory_path, filename)\n",
    "            csv_file_paths.append(full_path)\n",
    "    \n",
    "    return csv_file_paths"
   ],
   "id": "b568e798eca86165",
   "outputs": [],
   "execution_count": 4
  },
  {
   "metadata": {
    "ExecuteTime": {
     "end_time": "2024-11-20T09:52:26.410412Z",
     "start_time": "2024-11-20T09:52:26.406462Z"
    }
   },
   "cell_type": "code",
   "source": [
    "import torch\n",
    "from torch.utils.data import Dataset, DataLoader\n",
    "import pandas as pd\n",
    "import numpy as np\n",
    "from collections import Counter\n",
    "\n",
    "class AudioChordDataset(Dataset):\n",
    "    def __init__(self, csv_dir, csv_file_names, N, chord_to_int):\n",
    "        \"\"\"\n",
    "        Args:\n",
    "            csv_file_paths (list of str): List of paths to CSV files.\n",
    "            N (int): Number of timestamps in each block (sliding window size).\n",
    "        \"\"\"\n",
    "        self.csv_file_names = csv_file_names\n",
    "        self.N = N\n",
    "        self.data = []\n",
    "        self.labels = []\n",
    "        self.chord_to_int = chord_to_int\n",
    "\n",
    "        # Load and process each CSV file\n",
    "        for file_name in self.csv_file_names:\n",
    "            file_path = os.path.join(csv_dir, file_name)\n",
    "            df = pd.read_csv(file_path)\n",
    "            # Get frequency domain values and labels as numpy arrays\n",
    "            freq_data = df.iloc[:, 1:25].values  # Select the 25 frequency columns\n",
    "            labels = df.iloc[:, 25].values  # Select the label column\n",
    "            \n",
    "            # Append data blocks and labels using a sliding window approach\n",
    "            for i in range(len(freq_data) - N + 1):\n",
    "                block = freq_data[i:i + N]  # N x 26\n",
    "                block_labels = labels[i:i + N]  # Labels in the block\n",
    "\n",
    "                # Find the most common label in the block\n",
    "                most_common_label = Counter(block_labels).most_common(1)[0][0]\n",
    "                \n",
    "                # Map chord name to integer\n",
    "                numeric_label = self.chord_to_int.get(most_common_label, self.chord_to_int[\"X\"]) # Default to \"X\" if unknown\n",
    "                \n",
    "                self.data.append(block)\n",
    "                self.labels.append(numeric_label)\n",
    "\n",
    "    def __len__(self):\n",
    "        return len(self.data)\n",
    "\n",
    "    def __getitem__(self, idx):\n",
    "        block = torch.tensor(self.data[idx], dtype=torch.float32).unsqueeze(0)  # Shape: N x 26\n",
    "        label = torch.tensor(self.labels[idx])  # This is still a string (chord name)\n",
    "        return block, label"
   ],
   "id": "c34e3516c5d52311",
   "outputs": [],
   "execution_count": 5
  },
  {
   "metadata": {
    "ExecuteTime": {
     "end_time": "2024-11-20T09:52:26.417763Z",
     "start_time": "2024-11-20T09:52:26.415487Z"
    }
   },
   "cell_type": "code",
   "source": [
    "def read_list_from_json(file_path):\n",
    "    \"\"\"\n",
    "    Reads a JSON file and returns the original Python list.\n",
    "\n",
    "    Args:\n",
    "        file_path (str): Path to the JSON file.\n",
    "\n",
    "    Returns:\n",
    "        list: List read from the JSON file.\n",
    "\n",
    "    Raises:\n",
    "        ValueError: If the JSON file content is not a list.\n",
    "    \"\"\"\n",
    "    with open(file_path, 'r') as json_file:\n",
    "        data = json.load(json_file)\n",
    "    \n",
    "    if not isinstance(data, list):\n",
    "        raise ValueError(\"The content of the JSON file is not a list.\")\n",
    "    \n",
    "    return data"
   ],
   "id": "ae627cdd03503a8b",
   "outputs": [],
   "execution_count": 6
  },
  {
   "metadata": {
    "ExecuteTime": {
     "end_time": "2024-11-20T09:52:26.426078Z",
     "start_time": "2024-11-20T09:52:26.423097Z"
    }
   },
   "cell_type": "code",
   "source": [
    "train_csv_file_names = read_list_from_json(os.path.join(\"train_test_split\", \"train_csv_paths.json\"))\n",
    "val_csv_file_names = read_list_from_json(os.path.join(\"train_test_split\", \"val_csv_paths.json\"))\n",
    "test_csv_file_names = read_list_from_json(os.path.join(\"train_test_split\", \"test_csv_paths.json\"))\n",
    "\n",
    "csv_dir = \"processed_data\""
   ],
   "id": "68800fd26471c91c",
   "outputs": [],
   "execution_count": 7
  },
  {
   "metadata": {},
   "cell_type": "markdown",
   "source": "Model",
   "id": "ba6d486222e2267"
  },
  {
   "metadata": {
    "ExecuteTime": {
     "end_time": "2024-11-20T09:52:26.435607Z",
     "start_time": "2024-11-20T09:52:26.431955Z"
    }
   },
   "cell_type": "code",
   "source": [
    "class CNN_Model(nn.Module):\n",
    "    def __init__(self, window_size, num_classes):\n",
    "        super(CNN_Model, self).__init__()\n",
    "        self.layer1 = torch.nn.Sequential(\n",
    "            torch.nn.Conv2d(in_channels=1, out_channels=64, kernel_size=(3, 3), stride=1, padding=(1, 1)),\n",
    "            torch.nn.ReLU(),\n",
    "            torch.nn.MaxPool2d(kernel_size=(2, 2), stride=2, ceil_mode=True)\n",
    "        )\n",
    "        self.layer2 = torch.nn.Sequential(\n",
    "            torch.nn.Conv2d(in_channels=64, out_channels=128, kernel_size=(3, 3), stride=1, padding=(1, 1)),\n",
    "            torch.nn.ReLU(),\n",
    "            torch.nn.MaxPool2d(kernel_size=(2, 2), stride=2,  ceil_mode=True)\n",
    "        )\n",
    "        # Dynamically compute the flattened size\n",
    "        with torch.no_grad():\n",
    "            dummy_input = torch.zeros(1, 1, window_size, 24)  # Example input size (batch_size=1, channels=1, window_size, num_features)\n",
    "            output = self.layer2(self.layer1(dummy_input))\n",
    "            self.flattened_size = output.numel()\n",
    "            \n",
    "        self.fc1 = nn.Linear(self.flattened_size, 128)\n",
    "        self.fc2 = nn.Linear(128, num_classes)\n",
    "\n",
    "    def forward(self, x):\n",
    "        out = self.layer1(x)\n",
    "        out = self.layer2(out)\n",
    "        out = out.view(out.size(0), -1) # out.size(0) gives the batch size. output will become (batch_size, flattened_size)\n",
    "        out = self.fc1(out)\n",
    "        out = self.fc2(out)\n",
    "        return out"
   ],
   "id": "c8edfbc3b428b57c",
   "outputs": [],
   "execution_count": 8
  },
  {
   "metadata": {},
   "cell_type": "markdown",
   "source": "Learning rate finder",
   "id": "fb7405594f3681aa"
  },
  {
   "metadata": {
    "ExecuteTime": {
     "end_time": "2024-11-20T09:53:46.046930Z",
     "start_time": "2024-11-20T09:52:26.445978Z"
    }
   },
   "cell_type": "code",
   "source": [
    "from torch_lr_finder import LRFinder\n",
    "import matplotlib.pyplot as plt\n",
    "from tqdm.autonotebook import tqdm\n",
    "\n",
    "# Store the data for plotting\n",
    "lr_curves = {}\n",
    "\n",
    "window_sizes = [10, 16, 32, 48, 64, 72]\n",
    "batch_size = 128\n",
    "num_classes = 36\n",
    "\n",
    "for win_size in window_sizes:\n",
    "    step_size = win_size // 2  # Half overlapping windows\n",
    "\n",
    "    # Load datasets\n",
    "    train_dataset = AudioChordDataset(csv_dir, train_csv_file_names, win_size, chord_to_int)\n",
    "    train_dataloader = DataLoader(train_dataset, batch_size=batch_size, shuffle=False)\n",
    "\n",
    "    # Initialize model, optimizer, and criterion\n",
    "    model = CNN_Model(window_size=win_size, num_classes=num_classes)\n",
    "    optimizer = torch.optim.Adam(model.parameters(), lr=1e-7)\n",
    "    criterion = torch.nn.CrossEntropyLoss()\n",
    "\n",
    "    # Perform learning rate range test\n",
    "    lr_finder = LRFinder(model, optimizer, criterion, device=\"mps\")\n",
    "    lr_finder.range_test(train_dataloader, end_lr=1, num_iter=100)\n",
    "    \n",
    "    # Store learning rate and loss data\n",
    "    lr_curves[win_size] = (lr_finder.history[\"lr\"], lr_finder.history[\"loss\"])\n",
    "\n",
    "# Plot all curves\n",
    "plt.figure(figsize=(10, 6))\n",
    "for win_size, (lrs, losses) in lr_curves.items():\n",
    "    plt.plot(lrs, losses, label=f\"Window size = {win_size}\")\n",
    "\n",
    "plt.xscale(\"log\")\n",
    "plt.xlabel(\"Learning Rate (log scale)\")\n",
    "plt.ylabel(\"Loss\")\n",
    "plt.title(\"Learning Rate vs. Loss for Different Window Sizes\")\n",
    "plt.legend()\n",
    "plt.grid(True)\n",
    "plt.show()"
   ],
   "id": "3d4cc876acd7d6f8",
   "outputs": [
    {
     "name": "stderr",
     "output_type": "stream",
     "text": [
      "/Users/allynbao/miniconda3/envs/music_transcription/lib/python3.10/site-packages/torch_lr_finder/lr_finder.py:5: TqdmExperimentalWarning: Using `tqdm.autonotebook.tqdm` in notebook mode. Use `tqdm.tqdm` instead to force console mode (e.g. in jupyter console)\n",
      "  from tqdm.autonotebook import tqdm\n"
     ]
    },
    {
     "data": {
      "text/plain": [
       "  0%|          | 0/100 [00:00<?, ?it/s]"
      ],
      "application/vnd.jupyter.widget-view+json": {
       "version_major": 2,
       "version_minor": 0,
       "model_id": "f6b08e82024b4848b3a83dee6db90161"
      }
     },
     "metadata": {},
     "output_type": "display_data"
    },
    {
     "name": "stdout",
     "output_type": "stream",
     "text": [
      "Stopping early, the loss has diverged\n",
      "Learning rate search finished. See the graph with {finder_name}.plot()\n"
     ]
    },
    {
     "data": {
      "text/plain": [
       "  0%|          | 0/100 [00:00<?, ?it/s]"
      ],
      "application/vnd.jupyter.widget-view+json": {
       "version_major": 2,
       "version_minor": 0,
       "model_id": "a2f5b50e3fd14e3ca2d5a926774b6e3c"
      }
     },
     "metadata": {},
     "output_type": "display_data"
    },
    {
     "name": "stdout",
     "output_type": "stream",
     "text": [
      "Stopping early, the loss has diverged\n",
      "Learning rate search finished. See the graph with {finder_name}.plot()\n"
     ]
    },
    {
     "data": {
      "text/plain": [
       "  0%|          | 0/100 [00:00<?, ?it/s]"
      ],
      "application/vnd.jupyter.widget-view+json": {
       "version_major": 2,
       "version_minor": 0,
       "model_id": "3efd545153234cb987f2c749acf668ff"
      }
     },
     "metadata": {},
     "output_type": "display_data"
    },
    {
     "name": "stdout",
     "output_type": "stream",
     "text": [
      "Stopping early, the loss has diverged\n",
      "Learning rate search finished. See the graph with {finder_name}.plot()\n"
     ]
    },
    {
     "data": {
      "text/plain": [
       "  0%|          | 0/100 [00:00<?, ?it/s]"
      ],
      "application/vnd.jupyter.widget-view+json": {
       "version_major": 2,
       "version_minor": 0,
       "model_id": "41b1b2b571ea41d6ada87e3a2ff91e4d"
      }
     },
     "metadata": {},
     "output_type": "display_data"
    },
    {
     "name": "stdout",
     "output_type": "stream",
     "text": [
      "Stopping early, the loss has diverged\n",
      "Learning rate search finished. See the graph with {finder_name}.plot()\n"
     ]
    },
    {
     "data": {
      "text/plain": [
       "  0%|          | 0/100 [00:00<?, ?it/s]"
      ],
      "application/vnd.jupyter.widget-view+json": {
       "version_major": 2,
       "version_minor": 0,
       "model_id": "b0207ce853b04b26bfa495fe856849f9"
      }
     },
     "metadata": {},
     "output_type": "display_data"
    },
    {
     "name": "stdout",
     "output_type": "stream",
     "text": [
      "Learning rate search finished. See the graph with {finder_name}.plot()\n"
     ]
    },
    {
     "data": {
      "text/plain": [
       "  0%|          | 0/100 [00:00<?, ?it/s]"
      ],
      "application/vnd.jupyter.widget-view+json": {
       "version_major": 2,
       "version_minor": 0,
       "model_id": "fef13e73a5f348ea9ceb8a48f88b8243"
      }
     },
     "metadata": {},
     "output_type": "display_data"
    },
    {
     "name": "stdout",
     "output_type": "stream",
     "text": [
      "Stopping early, the loss has diverged\n",
      "Learning rate search finished. See the graph with {finder_name}.plot()\n"
     ]
    },
    {
     "data": {
      "text/plain": [
       "<Figure size 1000x600 with 1 Axes>"
      ],
      "image/png": "[encoded data removed]"
     },
     "metadata": {},
     "output_type": "display_data"
    }
   ],
   "execution_count": 9
  },
  {
   "metadata": {},
   "cell_type": "markdown",
   "source": [
    "Conclusion: Learning rate range 10e-3, 10e-1, region of decreasing loss, the loss rapidly increases beyond 10e-1, indicating divergence. \n",
    "\n",
    "From this graph, the best performing window size seems to be 48, 64, 72, although all window_size output similar loss. "
   ],
   "id": "b8c2496078148982"
  },
  {
   "metadata": {
    "ExecuteTime": {
     "end_time": "2024-11-20T09:54:59.653413Z",
     "start_time": "2024-11-20T09:53:46.057791Z"
    }
   },
   "cell_type": "code",
   "source": [
    "import matplotlib.pyplot as plt\n",
    "\n",
    "# Store the data for plotting\n",
    "lr_curves = {}\n",
    "\n",
    "window_sizes = [1, 4, 8, 100, 200]\n",
    "batch_size = 128\n",
    "num_classes = 36\n",
    "\n",
    "for win_size in window_sizes:\n",
    "    step_size = win_size // 2  # Half overlapping windows\n",
    "\n",
    "    # Load datasets\n",
    "    train_dataset = AudioChordDataset(csv_dir, train_csv_file_names, win_size, chord_to_int)\n",
    "    train_dataloader = DataLoader(train_dataset, batch_size=batch_size, shuffle=False)\n",
    "\n",
    "    # Initialize model, optimizer, and criterion\n",
    "    model = CNN_Model(window_size=win_size, num_classes=num_classes)\n",
    "    optimizer = torch.optim.Adam(model.parameters(), lr=1e-7)\n",
    "    criterion = torch.nn.CrossEntropyLoss()\n",
    "\n",
    "    # Perform learning rate range test\n",
    "    lr_finder = LRFinder(model, optimizer, criterion, device=\"mps\")\n",
    "    lr_finder.range_test(train_dataloader, end_lr=1, num_iter=100)\n",
    "    \n",
    "    # Store learning rate and loss data\n",
    "    lr_curves[win_size] = (lr_finder.history[\"lr\"], lr_finder.history[\"loss\"])\n",
    "\n",
    "# Plot all curves\n",
    "plt.figure(figsize=(10, 6))\n",
    "for win_size, (lrs, losses) in lr_curves.items():\n",
    "    plt.plot(lrs, losses, label=f\"Window size = {win_size}\")\n",
    "\n",
    "plt.xscale(\"log\")\n",
    "plt.xlabel(\"Learning Rate (log scale)\")\n",
    "plt.ylabel(\"Loss\")\n",
    "plt.title(\"Learning Rate vs. Loss for Different Window Sizes\")\n",
    "plt.legend()\n",
    "plt.grid(True)\n",
    "plt.show()"
   ],
   "id": "b4e904418c00587b",
   "outputs": [
    {
     "data": {
      "text/plain": [
       "  0%|          | 0/100 [00:00<?, ?it/s]"
      ],
      "application/vnd.jupyter.widget-view+json": {
       "version_major": 2,
       "version_minor": 0,
       "model_id": "016f18e75c7f4b1fa3ab5f5f85fc715e"
      }
     },
     "metadata": {},
     "output_type": "display_data"
    },
    {
     "name": "stdout",
     "output_type": "stream",
     "text": [
      "Learning rate search finished. See the graph with {finder_name}.plot()\n"
     ]
    },
    {
     "data": {
      "text/plain": [
       "  0%|          | 0/100 [00:00<?, ?it/s]"
      ],
      "application/vnd.jupyter.widget-view+json": {
       "version_major": 2,
       "version_minor": 0,
       "model_id": "c8721900217a4303b3f06f87a1dd6d94"
      }
     },
     "metadata": {},
     "output_type": "display_data"
    },
    {
     "name": "stdout",
     "output_type": "stream",
     "text": [
      "Stopping early, the loss has diverged\n",
      "Learning rate search finished. See the graph with {finder_name}.plot()\n"
     ]
    },
    {
     "data": {
      "text/plain": [
       "  0%|          | 0/100 [00:00<?, ?it/s]"
      ],
      "application/vnd.jupyter.widget-view+json": {
       "version_major": 2,
       "version_minor": 0,
       "model_id": "6208d445fdf2439dac6944459321ea45"
      }
     },
     "metadata": {},
     "output_type": "display_data"
    },
    {
     "name": "stdout",
     "output_type": "stream",
     "text": [
      "Stopping early, the loss has diverged\n",
      "Learning rate search finished. See the graph with {finder_name}.plot()\n"
     ]
    },
    {
     "data": {
      "text/plain": [
       "  0%|          | 0/100 [00:00<?, ?it/s]"
      ],
      "application/vnd.jupyter.widget-view+json": {
       "version_major": 2,
       "version_minor": 0,
       "model_id": "4984e884914446f092abd40dd52a075a"
      }
     },
     "metadata": {},
     "output_type": "display_data"
    },
    {
     "name": "stdout",
     "output_type": "stream",
     "text": [
      "Stopping early, the loss has diverged\n",
      "Learning rate search finished. See the graph with {finder_name}.plot()\n"
     ]
    },
    {
     "data": {
      "text/plain": [
       "  0%|          | 0/100 [00:00<?, ?it/s]"
      ],
      "application/vnd.jupyter.widget-view+json": {
       "version_major": 2,
       "version_minor": 0,
       "model_id": "4540a026244a426c8efd24c8aff88d80"
      }
     },
     "metadata": {},
     "output_type": "display_data"
    },
    {
     "name": "stdout",
     "output_type": "stream",
     "text": [
      "Stopping early, the loss has diverged\n",
      "Learning rate search finished. See the graph with {finder_name}.plot()\n"
     ]
    },
    {
     "data": {
      "text/plain": [
       "<Figure size 1000x600 with 1 Axes>"
      ],
      "image/png": "[encoded data removed]"
     },
     "metadata": {},
     "output_type": "display_data"
    }
   ],
   "execution_count": 10
  },
  {
   "metadata": {},
   "cell_type": "markdown",
   "source": "Training Loop",
   "id": "7d7f151f07c422d4"
  },
  {
   "metadata": {
    "ExecuteTime": {
     "end_time": "2024-11-20T13:06:46.355638Z",
     "start_time": "2024-11-20T09:54:59.723043Z"
    }
   },
   "cell_type": "code",
   "source": [
    "from torch.utils.data import Subset\n",
    "\n",
    "# Hyperparameters\n",
    "win_size = 32\n",
    "num_models = 5\n",
    "batch_size = 32\n",
    "num_epochs = 20\n",
    "learning_rate = 0.001\n",
    "num_classes = 37\n",
    "\n",
    "# fraction training set\n",
    "fraction = 0.1\n",
    "\n",
    "results = {}\n",
    "\n",
    "for i in range(num_models):\n",
    "    step_size = win_size // 2   # half overlapping windows\n",
    "\n",
    "    # load datasets\n",
    "    # Load full training dataset\n",
    "    full_train_dataset = AudioChordDataset(csv_dir, train_csv_file_names, win_size, chord_to_int)\n",
    "    # Get subset indices\n",
    "    subset_size = int(fraction * len(full_train_dataset))\n",
    "    subset_indices = np.random.choice(len(full_train_dataset), subset_size, replace=False)\n",
    "    # Create subset dataset\n",
    "    train_dataset = Subset(full_train_dataset, subset_indices)\n",
    "    \n",
    "    # class weight to make up for uneven dataset labels\n",
    "    # Step 1: Compute class weights\n",
    "    all_labels = [train_dataset[idx][1].item() for idx in range(len(train_dataset))]\n",
    "    labels_counts = np.bincount(all_labels)  # Count occurrences for each label\n",
    "    class_weights = 1.0 / (labels_counts + 1e-6)  # Avoid division by zero\n",
    "    class_weights = torch.tensor(class_weights, dtype=torch.float32)  # Convert to tensor\n",
    "\n",
    "    # # training dataloader with sampler applied\n",
    "    train_dataloader = DataLoader(train_dataset, batch_size=batch_size, shuffle=False)\n",
    "\n",
    "    val_dataset = AudioChordDataset(csv_dir, val_csv_file_names, win_size, chord_to_int)\n",
    "    val_dataloader = DataLoader(val_dataset, batch_size=batch_size, shuffle=False)\n",
    "\n",
    "    test_dataset = AudioChordDataset(csv_dir, test_csv_file_names, win_size, chord_to_int)\n",
    "    test_dataloader = DataLoader(test_dataset, batch_size=batch_size, shuffle=False)\n",
    "\n",
    "    # initialize model, loss function, optimizer\n",
    "    model = CNN_Model(window_size=win_size, num_classes=num_classes).to(device)\n",
    "    criterion = torch.nn.CrossEntropyLoss(weight=class_weights).to(device)\n",
    "    optimizer = torch.optim.Adam(model.parameters(), lr=learning_rate, weight_decay=1e-5)\n",
    "    # Learning rate scheduler\n",
    "    scheduler = torch.optim.lr_scheduler.ReduceLROnPlateau(optimizer, mode='min', factor=0.1, patience=5)\n",
    "\n",
    "    # record losses\n",
    "    train_losses_cross_epoch = []\n",
    "    val_losses_cross_epoch = []\n",
    "    val_accuracy_cross_epoch = []\n",
    "\n",
    "    # train loop\n",
    "    for epoch in range(num_epochs):\n",
    "        train_loss_per_epoch = []\n",
    "        with tqdm(total=len(train_dataloader), desc=f\"Epoch {epoch+1}/{num_epochs}\", unit=\"batch\") as pbar:\n",
    "            for _, (win_chroma, win_label) in enumerate(train_dataloader):\n",
    "                X = win_chroma.to(device)\n",
    "                Y = win_label.to(device)\n",
    "                \n",
    "                # train\n",
    "                optimizer.zero_grad()\n",
    "                prediction = model(X)\n",
    "                loss = criterion(prediction, Y)\n",
    "                loss.backward()\n",
    "                optimizer.step()\n",
    "\n",
    "                # update progress bar\n",
    "                pbar.set_postfix({\"loss\": loss.item()})     # display current loss\n",
    "                pbar.update(1)      # advance progress bar by 1 batch\n",
    "\n",
    "                # train loss per batch\n",
    "                train_loss_per_epoch.append(loss.item())\n",
    "            \n",
    "        # calculate train loss for each epoch\n",
    "        mean_train_loss_per_epoch = np.mean(train_loss_per_epoch)\n",
    "        train_losses_cross_epoch.append(mean_train_loss_per_epoch)\n",
    "\n",
    "        # evaluation\n",
    "        model.eval()\n",
    "        val_losses = []\n",
    "        num_correct_per_epoch = 0\n",
    "        num_total_per_epoch = 0\n",
    "        with torch.no_grad():\n",
    "            for _, (val_win_chroma, val_win_label) in enumerate(val_dataloader):\n",
    "                val_X = val_win_chroma.to(device)\n",
    "                val_Y = val_win_label.to(device)\n",
    "\n",
    "                val_predictions = model(val_X)\n",
    "                val_loss = criterion(val_predictions, val_Y).to('cpu')\n",
    "\n",
    "                # val loss per batch\n",
    "                val_losses.append(val_loss.item())\n",
    "\n",
    "                # val accuracy per batch\n",
    "                _, predicted_class = torch.max(val_predictions, 1)\n",
    "                num_correct = (predicted_class == val_Y).sum().item()\n",
    "                num_total_per_batch = val_Y.size(0)\n",
    "                batch_accuracy = num_correct / num_total_per_batch\n",
    "\n",
    "                # accumulate correct and total predictions from each batch\n",
    "                num_correct_per_epoch += num_correct\n",
    "                num_total_per_epoch += num_total_per_batch\n",
    "\n",
    "        # calculate evaluation loss for each epoch\n",
    "        mean_val_loss_per_epoch = np.mean(val_losses)\n",
    "        mean_val_loss = np.mean(val_losses)\n",
    "        val_losses_cross_epoch.append(mean_val_loss_per_epoch)\n",
    "\n",
    "        # calculate accuracy per epoch\n",
    "        val_accuracy = 100 * num_correct_per_epoch / num_total_per_epoch\n",
    "        val_accuracy_cross_epoch.append(val_accuracy)\n",
    "\n",
    "        # display loss & accuracy in progress bar\n",
    "        print(f\"val loss={mean_val_loss_per_epoch}; val accuracy={val_accuracy}%\")\n",
    "        \n",
    "        # switch back to train mode\n",
    "        model.train()\n",
    "        \n",
    "        # learning rate scheduler\n",
    "        scheduler.step(mean_val_loss)\n",
    "    \n",
    "    print(i)\n",
    "    # save loss and accuracy\n",
    "    results[i] = {\n",
    "        \"train_losses\": train_losses_cross_epoch,\n",
    "        \"val_losses\": val_losses_cross_epoch,\n",
    "        \"val_accuracies\": val_accuracy_cross_epoch\n",
    "    }\n",
    "    \n",
    "print(results)\n",
    "\n",
    "# 1. Training Loss\n",
    "plt.figure(figsize=(10, 6))\n",
    "for i in range(num_models):\n",
    "    plt.plot(results[i][\"train_losses\"], label=f\"Model {i}\")\n",
    "plt.xlabel(\"Epoch\")\n",
    "plt.ylabel(\"Training Loss\")\n",
    "plt.title(f\"Training Loss per Epoch (Window Size={win_size}, LR={learning_rate})\")\n",
    "plt.legend()\n",
    "plt.show()\n",
    "\n",
    "# 2. Validation Loss\n",
    "plt.figure(figsize=(10, 6))\n",
    "for i in range(num_models):\n",
    "    plt.plot(results[i][\"val_losses\"], label=f\"Model {i}\")\n",
    "plt.xlabel(\"Epoch\")\n",
    "plt.ylabel(\"Validation Loss\")\n",
    "plt.title(f\"Validation Loss per Epoch (Window Size={win_size}, LR={learning_rate})\")\n",
    "plt.legend()\n",
    "plt.show()\n",
    "\n",
    "# 3. Validation Accuracy\n",
    "plt.figure(figsize=(10, 6))\n",
    "for i in range(num_models):\n",
    "    plt.plot(results[i][\"val_accuracies\"], label=f\"Model {i}\")\n",
    "plt.xlabel(\"Epoch\")\n",
    "plt.ylabel(\"Validation Accuracy (%)\")\n",
    "plt.title(f\"Validation Accuracy per Epoch (Window Size={win_size}, LR={learning_rate})\")\n",
    "plt.legend()\n",
    "plt.show()\n",
    "plt.show()"
   ],
   "id": "c0ab2f67d302491d",
   "outputs": [
    {
     "data": {
      "text/plain": [
       "Epoch 1/20:   0%|          | 0/9025 [00:00<?, ?batch/s]"
      ],
      "application/vnd.jupyter.widget-view+json": {
       "version_major": 2,
       "version_minor": 0,
       "model_id": "bd2fab81edb64bc1a6b601cbf3d8d082"
      }
     },
     "metadata": {},
     "output_type": "display_data"
    },
    {
     "name": "stdout",
     "output_type": "stream",
     "text": [
      "val loss=1.614814631163087; val accuracy=59.96682714471064%\n"
     ]
    },
    {
     "data": {
      "text/plain": [
       "Epoch 2/20:   0%|          | 0/9025 [00:00<?, ?batch/s]"
      ],
      "application/vnd.jupyter.widget-view+json": {
       "version_major": 2,
       "version_minor": 0,
       "model_id": "ed822716a6084ee096765f206f6b1484"
      }
     },
     "metadata": {},
     "output_type": "display_data"
    },
    {
     "name": "stdout",
     "output_type": "stream",
     "text": [
      "val loss=1.5546520980287337; val accuracy=61.84931539401082%\n"
     ]
    },
    {
     "data": {
      "text/plain": [
       "Epoch 3/20:   0%|          | 0/9025 [00:00<?, ?batch/s]"
      ],
      "application/vnd.jupyter.widget-view+json": {
       "version_major": 2,
       "version_minor": 0,
       "model_id": "1372151999f84c7eb2125f7ae1e77c45"
      }
     },
     "metadata": {},
     "output_type": "display_data"
    },
    {
     "name": "stdout",
     "output_type": "stream",
     "text": [
      "val loss=1.576614332176897; val accuracy=61.319246751230516%\n"
     ]
    },
    {
     "data": {
      "text/plain": [
       "Epoch 4/20:   0%|          | 0/9025 [00:00<?, ?batch/s]"
      ],
      "application/vnd.jupyter.widget-view+json": {
       "version_major": 2,
       "version_minor": 0,
       "model_id": "8f7fd64808864274a5903a2e086bb18c"
      }
     },
     "metadata": {},
     "output_type": "display_data"
    },
    {
     "name": "stdout",
     "output_type": "stream",
     "text": [
      "val loss=1.6190830277461596; val accuracy=61.09587652220474%\n"
     ]
    },
    {
     "data": {
      "text/plain": [
       "Epoch 5/20:   0%|          | 0/9025 [00:00<?, ?batch/s]"
      ],
      "application/vnd.jupyter.widget-view+json": {
       "version_major": 2,
       "version_minor": 0,
       "model_id": "b1b3c061982c4d818dbd513c05bd180c"
      }
     },
     "metadata": {},
     "output_type": "display_data"
    },
    {
     "name": "stdout",
     "output_type": "stream",
     "text": [
      "val loss=1.643435313336627; val accuracy=60.43828090469695%\n"
     ]
    },
    {
     "data": {
      "text/plain": [
       "Epoch 6/20:   0%|          | 0/9025 [00:00<?, ?batch/s]"
      ],
      "application/vnd.jupyter.widget-view+json": {
       "version_major": 2,
       "version_minor": 0,
       "model_id": "dd132ac595124938bcb934a149239aae"
      }
     },
     "metadata": {},
     "output_type": "display_data"
    },
    {
     "name": "stdout",
     "output_type": "stream",
     "text": [
      "val loss=1.6383085904346948; val accuracy=60.09023523578232%\n"
     ]
    },
    {
     "data": {
      "text/plain": [
       "Epoch 7/20:   0%|          | 0/9025 [00:00<?, ?batch/s]"
      ],
      "application/vnd.jupyter.widget-view+json": {
       "version_major": 2,
       "version_minor": 0,
       "model_id": "3e34860ebaf04f75b9a17aca2d8dfc17"
      }
     },
     "metadata": {},
     "output_type": "display_data"
    },
    {
     "name": "stdout",
     "output_type": "stream",
     "text": [
      "val loss=1.678382903833104; val accuracy=59.966668726108495%\n"
     ]
    },
    {
     "data": {
      "text/plain": [
       "Epoch 8/20:   0%|          | 0/9025 [00:00<?, ?batch/s]"
      ],
      "application/vnd.jupyter.widget-view+json": {
       "version_major": 2,
       "version_minor": 0,
       "model_id": "6cf52a82e0db488c870eef0a34a4acfc"
      }
     },
     "metadata": {},
     "output_type": "display_data"
    },
    {
     "name": "stdout",
     "output_type": "stream",
     "text": [
      "val loss=1.6216233740687427; val accuracy=60.29839727900209%\n"
     ]
    },
    {
     "data": {
      "text/plain": [
       "Epoch 9/20:   0%|          | 0/9025 [00:00<?, ?batch/s]"
      ],
      "application/vnd.jupyter.widget-view+json": {
       "version_major": 2,
       "version_minor": 0,
       "model_id": "fcf3b976f7cc4e18a2272d53bf28bb23"
      }
     },
     "metadata": {},
     "output_type": "display_data"
    },
    {
     "name": "stdout",
     "output_type": "stream",
     "text": [
      "val loss=1.5667952291173333; val accuracy=63.86440001330716%\n"
     ]
    },
    {
     "data": {
      "text/plain": [
       "Epoch 10/20:   0%|          | 0/9025 [00:00<?, ?batch/s]"
      ],
      "application/vnd.jupyter.widget-view+json": {
       "version_major": 2,
       "version_minor": 0,
       "model_id": "345f1b3e3273442fa773e655dd941086"
      }
     },
     "metadata": {},
     "output_type": "display_data"
    },
    {
     "name": "stdout",
     "output_type": "stream",
     "text": [
      "val loss=1.5661851045062716; val accuracy=63.85473647857626%\n"
     ]
    },
    {
     "data": {
      "text/plain": [
       "Epoch 11/20:   0%|          | 0/9025 [00:00<?, ?batch/s]"
      ],
      "application/vnd.jupyter.widget-view+json": {
       "version_major": 2,
       "version_minor": 0,
       "model_id": "8ae8ecd58f35490aa526851f3362c2cf"
      }
     },
     "metadata": {},
     "output_type": "display_data"
    },
    {
     "name": "stdout",
     "output_type": "stream",
     "text": [
      "val loss=1.5707694596318695; val accuracy=63.775368758901145%\n"
     ]
    },
    {
     "data": {
      "text/plain": [
       "Epoch 12/20:   0%|          | 0/9025 [00:00<?, ?batch/s]"
      ],
      "application/vnd.jupyter.widget-view+json": {
       "version_major": 2,
       "version_minor": 0,
       "model_id": "ebe6df0f9aa04d70bc6129cf6e6ea6c4"
      }
     },
     "metadata": {},
     "output_type": "display_data"
    },
    {
     "name": "stdout",
     "output_type": "stream",
     "text": [
      "val loss=1.5801750753367683; val accuracy=63.6952089462153%\n"
     ]
    },
    {
     "data": {
      "text/plain": [
       "Epoch 13/20:   0%|          | 0/9025 [00:00<?, ?batch/s]"
      ],
      "application/vnd.jupyter.widget-view+json": {
       "version_major": 2,
       "version_minor": 0,
       "model_id": "04c2152247234fa09207a5054646a743"
      }
     },
     "metadata": {},
     "output_type": "display_data"
    },
    {
     "name": "stdout",
     "output_type": "stream",
     "text": [
      "val loss=1.5867468613451858; val accuracy=63.68095127202216%\n"
     ]
    },
    {
     "data": {
      "text/plain": [
       "Epoch 14/20:   0%|          | 0/9025 [00:00<?, ?batch/s]"
      ],
      "application/vnd.jupyter.widget-view+json": {
       "version_major": 2,
       "version_minor": 0,
       "model_id": "0d30f1be1dfc480fbb671a43dddf2e5a"
      }
     },
     "metadata": {},
     "output_type": "display_data"
    },
    {
     "name": "stdout",
     "output_type": "stream",
     "text": [
      "val loss=1.5939403485933947; val accuracy=63.68285229524792%\n"
     ]
    },
    {
     "data": {
      "text/plain": [
       "Epoch 15/20:   0%|          | 0/9025 [00:00<?, ?batch/s]"
      ],
      "application/vnd.jupyter.widget-view+json": {
       "version_major": 2,
       "version_minor": 0,
       "model_id": "9e46b4b0a0024af59660f137d08337c6"
      }
     },
     "metadata": {},
     "output_type": "display_data"
    },
    {
     "name": "stdout",
     "output_type": "stream",
     "text": [
      "val loss=1.569635189452441; val accuracy=64.12864224168659%\n"
     ]
    },
    {
     "data": {
      "text/plain": [
       "Epoch 16/20:   0%|          | 0/9025 [00:00<?, ?batch/s]"
      ],
      "application/vnd.jupyter.widget-view+json": {
       "version_major": 2,
       "version_minor": 0,
       "model_id": "1050e5a854b64b79992480857819bbe7"
      }
     },
     "metadata": {},
     "output_type": "display_data"
    },
    {
     "name": "stdout",
     "output_type": "stream",
     "text": [
      "val loss=1.5703855575339345; val accuracy=64.12785014867586%\n"
     ]
    },
    {
     "data": {
      "text/plain": [
       "Epoch 17/20:   0%|          | 0/9025 [00:00<?, ?batch/s]"
      ],
      "application/vnd.jupyter.widget-view+json": {
       "version_major": 2,
       "version_minor": 0,
       "model_id": "1c4b876545d54e4db7bfbc71f676d7e9"
      }
     },
     "metadata": {},
     "output_type": "display_data"
    },
    {
     "name": "stdout",
     "output_type": "stream",
     "text": [
      "val loss=1.5712677650308151; val accuracy=64.12848382308444%\n"
     ]
    },
    {
     "data": {
      "text/plain": [
       "Epoch 18/20:   0%|          | 0/9025 [00:00<?, ?batch/s]"
      ],
      "application/vnd.jupyter.widget-view+json": {
       "version_major": 2,
       "version_minor": 0,
       "model_id": "51926cab0a56444d8d3099e13ac9589f"
      }
     },
     "metadata": {},
     "output_type": "display_data"
    },
    {
     "name": "stdout",
     "output_type": "stream",
     "text": [
      "val loss=1.5720977890738204; val accuracy=64.1400483810411%\n"
     ]
    },
    {
     "data": {
      "text/plain": [
       "Epoch 19/20:   0%|          | 0/9025 [00:00<?, ?batch/s]"
      ],
      "application/vnd.jupyter.widget-view+json": {
       "version_major": 2,
       "version_minor": 0,
       "model_id": "3b58ba37f4534eaca329904e29f8eee0"
      }
     },
     "metadata": {},
     "output_type": "display_data"
    },
    {
     "name": "stdout",
     "output_type": "stream",
     "text": [
      "val loss=1.5727549611581744; val accuracy=64.13371163695525%\n"
     ]
    },
    {
     "data": {
      "text/plain": [
       "Epoch 20/20:   0%|          | 0/9025 [00:00<?, ?batch/s]"
      ],
      "application/vnd.jupyter.widget-view+json": {
       "version_major": 2,
       "version_minor": 0,
       "model_id": "40854d0a090a444fb5be4027b04944f7"
      }
     },
     "metadata": {},
     "output_type": "display_data"
    },
    {
     "name": "stdout",
     "output_type": "stream",
     "text": [
      "val loss=1.5734939897978815; val accuracy=64.13482056717028%\n",
      "0\n"
     ]
    },
    {
     "data": {
      "text/plain": [
       "Epoch 1/20:   0%|          | 0/9025 [00:00<?, ?batch/s]"
      ],
      "application/vnd.jupyter.widget-view+json": {
       "version_major": 2,
       "version_minor": 0,
       "model_id": "8bba2ae00a8146ed932b0e4501f694a8"
      }
     },
     "metadata": {},
     "output_type": "display_data"
    },
    {
     "name": "stdout",
     "output_type": "stream",
     "text": [
      "val loss=1.516719509316131; val accuracy=62.33534366539457%\n"
     ]
    },
    {
     "data": {
      "text/plain": [
       "Epoch 2/20:   0%|          | 0/9025 [00:00<?, ?batch/s]"
      ],
      "application/vnd.jupyter.widget-view+json": {
       "version_major": 2,
       "version_minor": 0,
       "model_id": "d7527b5120b445958f014dcc0d5aa64f"
      }
     },
     "metadata": {},
     "output_type": "display_data"
    },
    {
     "name": "stdout",
     "output_type": "stream",
     "text": [
      "val loss=1.5309829486692728; val accuracy=62.15332069152888%\n"
     ]
    },
    {
     "data": {
      "text/plain": [
       "Epoch 3/20:   0%|          | 0/9025 [00:00<?, ?batch/s]"
      ],
      "application/vnd.jupyter.widget-view+json": {
       "version_major": 2,
       "version_minor": 0,
       "model_id": "498952f13e4d47dca134eac2b8094f8b"
      }
     },
     "metadata": {},
     "output_type": "display_data"
    },
    {
     "name": "stdout",
     "output_type": "stream",
     "text": [
      "val loss=1.5386931720334829; val accuracy=62.42564226861775%\n"
     ]
    },
    {
     "data": {
      "text/plain": [
       "Epoch 4/20:   0%|          | 0/9025 [00:00<?, ?batch/s]"
      ],
      "application/vnd.jupyter.widget-view+json": {
       "version_major": 2,
       "version_minor": 0,
       "model_id": "0c1384faaef340d4a43e458ece9a2475"
      }
     },
     "metadata": {},
     "output_type": "display_data"
    },
    {
     "name": "stdout",
     "output_type": "stream",
     "text": [
      "val loss=1.576862571551985; val accuracy=61.81636432476447%\n"
     ]
    },
    {
     "data": {
      "text/plain": [
       "Epoch 5/20:   0%|          | 0/9025 [00:00<?, ?batch/s]"
      ],
      "application/vnd.jupyter.widget-view+json": {
       "version_major": 2,
       "version_minor": 0,
       "model_id": "11393d40df434f6b99832abe2275f015"
      }
     },
     "metadata": {},
     "output_type": "display_data"
    },
    {
     "name": "stdout",
     "output_type": "stream",
     "text": [
      "val loss=1.5697564733644587; val accuracy=62.32520487485723%\n"
     ]
    },
    {
     "data": {
      "text/plain": [
       "Epoch 6/20:   0%|          | 0/9025 [00:00<?, ?batch/s]"
      ],
      "application/vnd.jupyter.widget-view+json": {
       "version_major": 2,
       "version_minor": 0,
       "model_id": "327062848d8e4f4681cb6748191bc1cb"
      }
     },
     "metadata": {},
     "output_type": "display_data"
    },
    {
     "name": "stdout",
     "output_type": "stream",
     "text": [
      "val loss=1.6040902033774567; val accuracy=63.004187003654714%\n"
     ]
    },
    {
     "data": {
      "text/plain": [
       "Epoch 7/20:   0%|          | 0/9025 [00:00<?, ?batch/s]"
      ],
      "application/vnd.jupyter.widget-view+json": {
       "version_major": 2,
       "version_minor": 0,
       "model_id": "7363a1ddcb3e4097ab79f2fc6ffe0bd3"
      }
     },
     "metadata": {},
     "output_type": "display_data"
    },
    {
     "name": "stdout",
     "output_type": "stream",
     "text": [
      "val loss=1.6073719592542346; val accuracy=62.516574546249515%\n"
     ]
    },
    {
     "data": {
      "text/plain": [
       "Epoch 8/20:   0%|          | 0/9025 [00:00<?, ?batch/s]"
      ],
      "application/vnd.jupyter.widget-view+json": {
       "version_major": 2,
       "version_minor": 0,
       "model_id": "f9328b2a2da44eb2b6e047d29a573218"
      }
     },
     "metadata": {},
     "output_type": "display_data"
    },
    {
     "name": "stdout",
     "output_type": "stream",
     "text": [
      "val loss=1.575465018573103; val accuracy=64.03644261523765%\n"
     ]
    },
    {
     "data": {
      "text/plain": [
       "Epoch 9/20:   0%|          | 0/9025 [00:00<?, ?batch/s]"
      ],
      "application/vnd.jupyter.widget-view+json": {
       "version_major": 2,
       "version_minor": 0,
       "model_id": "3472c44c5cad4feeb65923b6e4b2f305"
      }
     },
     "metadata": {},
     "output_type": "display_data"
    },
    {
     "name": "stdout",
     "output_type": "stream",
     "text": [
      "val loss=1.5827754438460422; val accuracy=64.00713517384065%\n"
     ]
    },
    {
     "data": {
      "text/plain": [
       "Epoch 10/20:   0%|          | 0/9025 [00:00<?, ?batch/s]"
      ],
      "application/vnd.jupyter.widget-view+json": {
       "version_major": 2,
       "version_minor": 0,
       "model_id": "4e13e5c5f1de42d0989a674d2cdc4ddd"
      }
     },
     "metadata": {},
     "output_type": "display_data"
    },
    {
     "name": "stdout",
     "output_type": "stream",
     "text": [
      "val loss=1.5897285816251072; val accuracy=64.00016475534623%\n"
     ]
    },
    {
     "data": {
      "text/plain": [
       "Epoch 11/20:   0%|          | 0/9025 [00:00<?, ?batch/s]"
      ],
      "application/vnd.jupyter.widget-view+json": {
       "version_major": 2,
       "version_minor": 0,
       "model_id": "ca58ecaf360a4b1c94a8fc686cc9be20"
      }
     },
     "metadata": {},
     "output_type": "display_data"
    },
    {
     "name": "stdout",
     "output_type": "stream",
     "text": [
      "val loss=1.594873290647424; val accuracy=63.99541219728185%\n"
     ]
    },
    {
     "data": {
      "text/plain": [
       "Epoch 12/20:   0%|          | 0/9025 [00:00<?, ?batch/s]"
      ],
      "application/vnd.jupyter.widget-view+json": {
       "version_major": 2,
       "version_minor": 0,
       "model_id": "2ad5d560e3ab46c2951cee02ba8a436f"
      }
     },
     "metadata": {},
     "output_type": "display_data"
    },
    {
     "name": "stdout",
     "output_type": "stream",
     "text": [
      "val loss=1.6004320252871582; val accuracy=64.03786838265697%\n"
     ]
    },
    {
     "data": {
      "text/plain": [
       "Epoch 13/20:   0%|          | 0/9025 [00:00<?, ?batch/s]"
      ],
      "application/vnd.jupyter.widget-view+json": {
       "version_major": 2,
       "version_minor": 0,
       "model_id": "e6f73df5fb894c9190e897aced7c56e1"
      }
     },
     "metadata": {},
     "output_type": "display_data"
    },
    {
     "name": "stdout",
     "output_type": "stream",
     "text": [
      "val loss=1.6087084892324583; val accuracy=64.08919600975224%\n"
     ]
    },
    {
     "data": {
      "text/plain": [
       "Epoch 14/20:   0%|          | 0/9025 [00:00<?, ?batch/s]"
      ],
      "application/vnd.jupyter.widget-view+json": {
       "version_major": 2,
       "version_minor": 0,
       "model_id": "151c8632f38d4b5188d4553100f35f70"
      }
     },
     "metadata": {},
     "output_type": "display_data"
    },
    {
     "name": "stdout",
     "output_type": "stream",
     "text": [
      "val loss=1.6070807872359967; val accuracy=64.21688140308187%\n"
     ]
    },
    {
     "data": {
      "text/plain": [
       "Epoch 15/20:   0%|          | 0/9025 [00:00<?, ?batch/s]"
      ],
      "application/vnd.jupyter.widget-view+json": {
       "version_major": 2,
       "version_minor": 0,
       "model_id": "6ae96583724d469a92889175a7d8ec85"
      }
     },
     "metadata": {},
     "output_type": "display_data"
    },
    {
     "name": "stdout",
     "output_type": "stream",
     "text": [
      "val loss=1.6090344928006526; val accuracy=64.22892121684497%\n"
     ]
    },
    {
     "data": {
      "text/plain": [
       "Epoch 16/20:   0%|          | 0/9025 [00:00<?, ?batch/s]"
      ],
      "application/vnd.jupyter.widget-view+json": {
       "version_major": 2,
       "version_minor": 0,
       "model_id": "ea79392de2544f1f865e014ce4a3a7ee"
      }
     },
     "metadata": {},
     "output_type": "display_data"
    },
    {
     "name": "stdout",
     "output_type": "stream",
     "text": [
      "val loss=1.6106398018103831; val accuracy=64.24919879791965%\n"
     ]
    },
    {
     "data": {
      "text/plain": [
       "Epoch 17/20:   0%|          | 0/9025 [00:00<?, ?batch/s]"
      ],
      "application/vnd.jupyter.widget-view+json": {
       "version_major": 2,
       "version_minor": 0,
       "model_id": "77ed86a1fc45437cb56617151fefac17"
      }
     },
     "metadata": {},
     "output_type": "display_data"
    },
    {
     "name": "stdout",
     "output_type": "stream",
     "text": [
      "val loss=1.6121251999818313; val accuracy=64.25125823974754%\n"
     ]
    },
    {
     "data": {
      "text/plain": [
       "Epoch 18/20:   0%|          | 0/9025 [00:00<?, ?batch/s]"
      ],
      "application/vnd.jupyter.widget-view+json": {
       "version_major": 2,
       "version_minor": 0,
       "model_id": "7f979fd1805640909a2ed7d69b96bfa5"
      }
     },
     "metadata": {},
     "output_type": "display_data"
    },
    {
     "name": "stdout",
     "output_type": "stream",
     "text": [
      "val loss=1.6135091262011718; val accuracy=64.25379293738187%\n"
     ]
    },
    {
     "data": {
      "text/plain": [
       "Epoch 19/20:   0%|          | 0/9025 [00:00<?, ?batch/s]"
      ],
      "application/vnd.jupyter.widget-view+json": {
       "version_major": 2,
       "version_minor": 0,
       "model_id": "9aaa2d5c77ad4b3ea1cdf720e3f0b760"
      }
     },
     "metadata": {},
     "output_type": "display_data"
    },
    {
     "name": "stdout",
     "output_type": "stream",
     "text": [
      "val loss=1.6149647081598468; val accuracy=64.25632763501622%\n"
     ]
    },
    {
     "data": {
      "text/plain": [
       "Epoch 20/20:   0%|          | 0/9025 [00:00<?, ?batch/s]"
      ],
      "application/vnd.jupyter.widget-view+json": {
       "version_major": 2,
       "version_minor": 0,
       "model_id": "e7cc89ae7dce4978905b438279cffbdf"
      }
     },
     "metadata": {},
     "output_type": "display_data"
    },
    {
     "name": "stdout",
     "output_type": "stream",
     "text": [
      "val loss=1.6097625946595249; val accuracy=64.23003014705999%\n",
      "1\n"
     ]
    },
    {
     "data": {
      "text/plain": [
       "Epoch 1/20:   0%|          | 0/9025 [00:00<?, ?batch/s]"
      ],
      "application/vnd.jupyter.widget-view+json": {
       "version_major": 2,
       "version_minor": 0,
       "model_id": "6970b5d7f45546409124ac0995780daf"
      }
     },
     "metadata": {},
     "output_type": "display_data"
    },
    {
     "name": "stdout",
     "output_type": "stream",
     "text": [
      "val loss=1.484688053929777; val accuracy=62.61827928882721%\n"
     ]
    },
    {
     "data": {
      "text/plain": [
       "Epoch 2/20:   0%|          | 0/9025 [00:00<?, ?batch/s]"
      ],
      "application/vnd.jupyter.widget-view+json": {
       "version_major": 2,
       "version_minor": 0,
       "model_id": "55618518e77446f28ba2ba75f79b8c4c"
      }
     },
     "metadata": {},
     "output_type": "display_data"
    },
    {
     "name": "stdout",
     "output_type": "stream",
     "text": [
      "val loss=1.4936712038360844; val accuracy=62.11244869217523%\n"
     ]
    },
    {
     "data": {
      "text/plain": [
       "Epoch 3/20:   0%|          | 0/9025 [00:00<?, ?batch/s]"
      ],
      "application/vnd.jupyter.widget-view+json": {
       "version_major": 2,
       "version_minor": 0,
       "model_id": "a60ff2499870412393917315e4ba3e60"
      }
     },
     "metadata": {},
     "output_type": "display_data"
    },
    {
     "name": "stdout",
     "output_type": "stream",
     "text": [
      "val loss=1.5194610393405812; val accuracy=61.587924700470026%\n"
     ]
    },
    {
     "data": {
      "text/plain": [
       "Epoch 4/20:   0%|          | 0/9025 [00:00<?, ?batch/s]"
      ],
      "application/vnd.jupyter.widget-view+json": {
       "version_major": 2,
       "version_minor": 0,
       "model_id": "bc9e5f0a30f2479da4d3df65ea15f2c2"
      }
     },
     "metadata": {},
     "output_type": "display_data"
    },
    {
     "name": "stdout",
     "output_type": "stream",
     "text": [
      "val loss=1.5440196648399; val accuracy=61.33493019284296%\n"
     ]
    },
    {
     "data": {
      "text/plain": [
       "Epoch 5/20:   0%|          | 0/9025 [00:00<?, ?batch/s]"
      ],
      "application/vnd.jupyter.widget-view+json": {
       "version_major": 2,
       "version_minor": 0,
       "model_id": "83aeb68965f745f7b73c2edc870bb072"
      }
     },
     "metadata": {},
     "output_type": "display_data"
    },
    {
     "name": "stdout",
     "output_type": "stream",
     "text": [
      "val loss=1.5574837990004404; val accuracy=60.98910238435838%\n"
     ]
    },
    {
     "data": {
      "text/plain": [
       "Epoch 6/20:   0%|          | 0/9025 [00:00<?, ?batch/s]"
      ],
      "application/vnd.jupyter.widget-view+json": {
       "version_major": 2,
       "version_minor": 0,
       "model_id": "bb58db1e5bb04117bc8a8c8c58cf7992"
      }
     },
     "metadata": {},
     "output_type": "display_data"
    },
    {
     "name": "stdout",
     "output_type": "stream",
     "text": [
      "val loss=1.552910558826901; val accuracy=61.93391092755676%\n"
     ]
    },
    {
     "data": {
      "text/plain": [
       "Epoch 7/20:   0%|          | 0/9025 [00:00<?, ?batch/s]"
      ],
      "application/vnd.jupyter.widget-view+json": {
       "version_major": 2,
       "version_minor": 0,
       "model_id": "99533820fe254601b6fff1a50cd08a4f"
      }
     },
     "metadata": {},
     "output_type": "display_data"
    },
    {
     "name": "stdout",
     "output_type": "stream",
     "text": [
      "val loss=1.577379533677327; val accuracy=61.03868740683006%\n"
     ]
    },
    {
     "data": {
      "text/plain": [
       "Epoch 8/20:   0%|          | 0/9025 [00:00<?, ?batch/s]"
      ],
      "application/vnd.jupyter.widget-view+json": {
       "version_major": 2,
       "version_minor": 0,
       "model_id": "2da04d88ee0a4a688d13fc5b276cb82c"
      }
     },
     "metadata": {},
     "output_type": "display_data"
    },
    {
     "name": "stdout",
     "output_type": "stream",
     "text": [
      "val loss=1.5536091981606288; val accuracy=63.82717164180287%\n"
     ]
    },
    {
     "data": {
      "text/plain": [
       "Epoch 9/20:   0%|          | 0/9025 [00:00<?, ?batch/s]"
      ],
      "application/vnd.jupyter.widget-view+json": {
       "version_major": 2,
       "version_minor": 0,
       "model_id": "056a5a856a504bc0ab97c949d19ebd77"
      }
     },
     "metadata": {},
     "output_type": "display_data"
    },
    {
     "name": "stdout",
     "output_type": "stream",
     "text": [
      "val loss=1.5573551423742709; val accuracy=63.775368758901145%\n"
     ]
    },
    {
     "data": {
      "text/plain": [
       "Epoch 10/20:   0%|          | 0/9025 [00:00<?, ?batch/s]"
      ],
      "application/vnd.jupyter.widget-view+json": {
       "version_major": 2,
       "version_minor": 0,
       "model_id": "58015c1d69c441c9aed7419d58d81bd9"
      }
     },
     "metadata": {},
     "output_type": "display_data"
    },
    {
     "name": "stdout",
     "output_type": "stream",
     "text": [
      "val loss=1.5568450280491366; val accuracy=63.800715735244495%\n"
     ]
    },
    {
     "data": {
      "text/plain": [
       "Epoch 11/20:   0%|          | 0/9025 [00:00<?, ?batch/s]"
      ],
      "application/vnd.jupyter.widget-view+json": {
       "version_major": 2,
       "version_minor": 0,
       "model_id": "5564323020cc4529855fc143828ce0eb"
      }
     },
     "metadata": {},
     "output_type": "display_data"
    },
    {
     "name": "stdout",
     "output_type": "stream",
     "text": [
      "val loss=1.5625772049810487; val accuracy=63.80134940965308%\n"
     ]
    },
    {
     "data": {
      "text/plain": [
       "Epoch 12/20:   0%|          | 0/9025 [00:00<?, ?batch/s]"
      ],
      "application/vnd.jupyter.widget-view+json": {
       "version_major": 2,
       "version_minor": 0,
       "model_id": "d6e24c433d0d45f28866f2b4b54830b9"
      }
     },
     "metadata": {},
     "output_type": "display_data"
    },
    {
     "name": "stdout",
     "output_type": "stream",
     "text": [
      "val loss=1.5657032404352405; val accuracy=63.824161688362096%\n"
     ]
    },
    {
     "data": {
      "text/plain": [
       "Epoch 13/20:   0%|          | 0/9025 [00:00<?, ?batch/s]"
      ],
      "application/vnd.jupyter.widget-view+json": {
       "version_major": 2,
       "version_minor": 0,
       "model_id": "883bfe60e7e54545a936a0a9670c3155"
      }
     },
     "metadata": {},
     "output_type": "display_data"
    },
    {
     "name": "stdout",
     "output_type": "stream",
     "text": [
      "val loss=1.570075507638956; val accuracy=63.88673703620974%\n"
     ]
    },
    {
     "data": {
      "text/plain": [
       "Epoch 14/20:   0%|          | 0/9025 [00:00<?, ?batch/s]"
      ],
      "application/vnd.jupyter.widget-view+json": {
       "version_major": 2,
       "version_minor": 0,
       "model_id": "cf3224e042184d6eb00e3639cee483a6"
      }
     },
     "metadata": {},
     "output_type": "display_data"
    },
    {
     "name": "stdout",
     "output_type": "stream",
     "text": [
      "val loss=1.5705574696495896; val accuracy=64.00634308082992%\n"
     ]
    },
    {
     "data": {
      "text/plain": [
       "Epoch 15/20:   0%|          | 0/9025 [00:00<?, ?batch/s]"
      ],
      "application/vnd.jupyter.widget-view+json": {
       "version_major": 2,
       "version_minor": 0,
       "model_id": "2e882c841c2f43babcf1af8c85517c23"
      }
     },
     "metadata": {},
     "output_type": "display_data"
    },
    {
     "name": "stdout",
     "output_type": "stream",
     "text": [
      "val loss=1.5714945666956366; val accuracy=64.00761042964709%\n"
     ]
    },
    {
     "data": {
      "text/plain": [
       "Epoch 16/20:   0%|          | 0/9025 [00:00<?, ?batch/s]"
      ],
      "application/vnd.jupyter.widget-view+json": {
       "version_major": 2,
       "version_minor": 0,
       "model_id": "f25787518dfe4d97a011c701c4f36d62"
      }
     },
     "metadata": {},
     "output_type": "display_data"
    },
    {
     "name": "stdout",
     "output_type": "stream",
     "text": [
      "val loss=1.572331530566448; val accuracy=64.00776884824924%\n"
     ]
    },
    {
     "data": {
      "text/plain": [
       "Epoch 17/20:   0%|          | 0/9025 [00:00<?, ?batch/s]"
      ],
      "application/vnd.jupyter.widget-view+json": {
       "version_major": 2,
       "version_minor": 0,
       "model_id": "5f9369ccab5c4da591a6a9a62eb6508f"
      }
     },
     "metadata": {},
     "output_type": "display_data"
    },
    {
     "name": "stdout",
     "output_type": "stream",
     "text": [
      "val loss=1.5731837132522213; val accuracy=64.00428363900203%\n"
     ]
    },
    {
     "data": {
      "text/plain": [
       "Epoch 18/20:   0%|          | 0/9025 [00:00<?, ?batch/s]"
      ],
      "application/vnd.jupyter.widget-view+json": {
       "version_major": 2,
       "version_minor": 0,
       "model_id": "35917f0df6894e108ca4105d6c514ea0"
      }
     },
     "metadata": {},
     "output_type": "display_data"
    },
    {
     "name": "stdout",
     "output_type": "stream",
     "text": [
      "val loss=1.5740636841913644; val accuracy=64.00364996459344%\n"
     ]
    },
    {
     "data": {
      "text/plain": [
       "Epoch 19/20:   0%|          | 0/9025 [00:00<?, ?batch/s]"
      ],
      "application/vnd.jupyter.widget-view+json": {
       "version_major": 2,
       "version_minor": 0,
       "model_id": "787282511eaa4c67aa7f9e117da78957"
      }
     },
     "metadata": {},
     "output_type": "display_data"
    },
    {
     "name": "stdout",
     "output_type": "stream",
     "text": [
      "val loss=1.5750068080131387; val accuracy=64.00602624362563%\n"
     ]
    },
    {
     "data": {
      "text/plain": [
       "Epoch 20/20:   0%|          | 0/9025 [00:00<?, ?batch/s]"
      ],
      "application/vnd.jupyter.widget-view+json": {
       "version_major": 2,
       "version_minor": 0,
       "model_id": "6bd0fdba76ad49e9bf2f3ed62ce8db89"
      }
     },
     "metadata": {},
     "output_type": "display_data"
    },
    {
     "name": "stdout",
     "output_type": "stream",
     "text": [
      "val loss=1.5729896412208544; val accuracy=63.94630243061661%\n",
      "2\n"
     ]
    },
    {
     "data": {
      "text/plain": [
       "Epoch 1/20:   0%|          | 0/9025 [00:00<?, ?batch/s]"
      ],
      "application/vnd.jupyter.widget-view+json": {
       "version_major": 2,
       "version_minor": 0,
       "model_id": "7656dedf06f149e99048813c90e84c2a"
      }
     },
     "metadata": {},
     "output_type": "display_data"
    },
    {
     "name": "stdout",
     "output_type": "stream",
     "text": [
      "val loss=1.5611809396064582; val accuracy=60.798841643181106%\n"
     ]
    },
    {
     "data": {
      "text/plain": [
       "Epoch 2/20:   0%|          | 0/9025 [00:00<?, ?batch/s]"
      ],
      "application/vnd.jupyter.widget-view+json": {
       "version_major": 2,
       "version_minor": 0,
       "model_id": "58afbb28f29644fe8154abeea5a4e22c"
      }
     },
     "metadata": {},
     "output_type": "display_data"
    },
    {
     "name": "stdout",
     "output_type": "stream",
     "text": [
      "val loss=1.5530017820703361; val accuracy=62.21415343475292%\n"
     ]
    },
    {
     "data": {
      "text/plain": [
       "Epoch 3/20:   0%|          | 0/9025 [00:00<?, ?batch/s]"
      ],
      "application/vnd.jupyter.widget-view+json": {
       "version_major": 2,
       "version_minor": 0,
       "model_id": "5117591a2b97415bb69835f197f1d379"
      }
     },
     "metadata": {},
     "output_type": "display_data"
    },
    {
     "name": "stdout",
     "output_type": "stream",
     "text": [
      "val loss=1.576767956534047; val accuracy=61.856761068311684%\n"
     ]
    },
    {
     "data": {
      "text/plain": [
       "Epoch 4/20:   0%|          | 0/9025 [00:00<?, ?batch/s]"
      ],
      "application/vnd.jupyter.widget-view+json": {
       "version_major": 2,
       "version_minor": 0,
       "model_id": "0a5ca5ffe7bd47f2a743f9edd8b8211b"
      }
     },
     "metadata": {},
     "output_type": "display_data"
    },
    {
     "name": "stdout",
     "output_type": "stream",
     "text": [
      "val loss=1.5908826130858125; val accuracy=62.28227343367568%\n"
     ]
    },
    {
     "data": {
      "text/plain": [
       "Epoch 5/20:   0%|          | 0/9025 [00:00<?, ?batch/s]"
      ],
      "application/vnd.jupyter.widget-view+json": {
       "version_major": 2,
       "version_minor": 0,
       "model_id": "4021e1b2a0a14161b4e806093200d7e7"
      }
     },
     "metadata": {},
     "output_type": "display_data"
    },
    {
     "name": "stdout",
     "output_type": "stream",
     "text": [
      "val loss=1.5859781111703204; val accuracy=63.010048491934114%\n"
     ]
    },
    {
     "data": {
      "text/plain": [
       "Epoch 6/20:   0%|          | 0/9025 [00:00<?, ?batch/s]"
      ],
      "application/vnd.jupyter.widget-view+json": {
       "version_major": 2,
       "version_minor": 0,
       "model_id": "b7a648877fef4224adbaa4e1429bd6ed"
      }
     },
     "metadata": {},
     "output_type": "display_data"
    },
    {
     "name": "stdout",
     "output_type": "stream",
     "text": [
      "val loss=1.5756883019275232; val accuracy=63.11872365300623%\n"
     ]
    },
    {
     "data": {
      "text/plain": [
       "Epoch 7/20:   0%|          | 0/9025 [00:00<?, ?batch/s]"
      ],
      "application/vnd.jupyter.widget-view+json": {
       "version_major": 2,
       "version_minor": 0,
       "model_id": "0cb7b22e5c28474fabdb5e442e5002fe"
      }
     },
     "metadata": {},
     "output_type": "display_data"
    },
    {
     "name": "stdout",
     "output_type": "stream",
     "text": [
      "val loss=1.5713048337029247; val accuracy=63.030326073008794%\n"
     ]
    },
    {
     "data": {
      "text/plain": [
       "Epoch 8/20:   0%|          | 0/9025 [00:00<?, ?batch/s]"
      ],
      "application/vnd.jupyter.widget-view+json": {
       "version_major": 2,
       "version_minor": 0,
       "model_id": "ce5a442f2deb423a895577ac180406fa"
      }
     },
     "metadata": {},
     "output_type": "display_data"
    },
    {
     "name": "stdout",
     "output_type": "stream",
     "text": [
      "val loss=1.5957414165330057; val accuracy=62.996424492149565%\n"
     ]
    },
    {
     "data": {
      "text/plain": [
       "Epoch 9/20:   0%|          | 0/9025 [00:00<?, ?batch/s]"
      ],
      "application/vnd.jupyter.widget-view+json": {
       "version_major": 2,
       "version_minor": 0,
       "model_id": "d8f73509b97a45a3abc6c4d92e9e97ae"
      }
     },
     "metadata": {},
     "output_type": "display_data"
    },
    {
     "name": "stdout",
     "output_type": "stream",
     "text": [
      "val loss=1.5715829328480548; val accuracy=63.83984512997454%\n"
     ]
    },
    {
     "data": {
      "text/plain": [
       "Epoch 10/20:   0%|          | 0/9025 [00:00<?, ?batch/s]"
      ],
      "application/vnd.jupyter.widget-view+json": {
       "version_major": 2,
       "version_minor": 0,
       "model_id": "78ec5216dcb04283b9d8e6070100bf5a"
      }
     },
     "metadata": {},
     "output_type": "display_data"
    },
    {
     "name": "stdout",
     "output_type": "stream",
     "text": [
      "val loss=1.5744037228524284; val accuracy=63.880083454919614%\n"
     ]
    },
    {
     "data": {
      "text/plain": [
       "Epoch 11/20:   0%|          | 0/9025 [00:00<?, ?batch/s]"
      ],
      "application/vnd.jupyter.widget-view+json": {
       "version_major": 2,
       "version_minor": 0,
       "model_id": "ca4b63ce53ed438792eef4d74451b914"
      }
     },
     "metadata": {},
     "output_type": "display_data"
    },
    {
     "name": "stdout",
     "output_type": "stream",
     "text": [
      "val loss=1.5781049436149064; val accuracy=63.90669778008013%\n"
     ]
    },
    {
     "data": {
      "text/plain": [
       "Epoch 12/20:   0%|          | 0/9025 [00:00<?, ?batch/s]"
      ],
      "application/vnd.jupyter.widget-view+json": {
       "version_major": 2,
       "version_minor": 0,
       "model_id": "dca59c758d3449f6883123a51e49dfec"
      }
     },
     "metadata": {},
     "output_type": "display_data"
    },
    {
     "name": "stdout",
     "output_type": "stream",
     "text": [
      "val loss=1.5808616069604944; val accuracy=63.909707733520904%\n"
     ]
    },
    {
     "data": {
      "text/plain": [
       "Epoch 13/20:   0%|          | 0/9025 [00:00<?, ?batch/s]"
      ],
      "application/vnd.jupyter.widget-view+json": {
       "version_major": 2,
       "version_minor": 0,
       "model_id": "db2914e1acfe42f5b4f6eaa2dbac2769"
      }
     },
     "metadata": {},
     "output_type": "display_data"
    },
    {
     "name": "stdout",
     "output_type": "stream",
     "text": [
      "val loss=1.5835351219516802; val accuracy=63.977352476637215%\n"
     ]
    },
    {
     "data": {
      "text/plain": [
       "Epoch 14/20:   0%|          | 0/9025 [00:00<?, ?batch/s]"
      ],
      "application/vnd.jupyter.widget-view+json": {
       "version_major": 2,
       "version_minor": 0,
       "model_id": "7918f32c14854462888b4526a9e42fc8"
      }
     },
     "metadata": {},
     "output_type": "display_data"
    },
    {
     "name": "stdout",
     "output_type": "stream",
     "text": [
      "val loss=1.5861846751651894; val accuracy=64.02091759222735%\n"
     ]
    },
    {
     "data": {
      "text/plain": [
       "Epoch 15/20:   0%|          | 0/9025 [00:00<?, ?batch/s]"
      ],
      "application/vnd.jupyter.widget-view+json": {
       "version_major": 2,
       "version_minor": 0,
       "model_id": "999c83e7fdb947c295025bc2d970f1a1"
      }
     },
     "metadata": {},
     "output_type": "display_data"
    },
    {
     "name": "stdout",
     "output_type": "stream",
     "text": [
      "val loss=1.565842980480397; val accuracy=63.987966522981%\n"
     ]
    },
    {
     "data": {
      "text/plain": [
       "Epoch 16/20:   0%|          | 0/9025 [00:00<?, ?batch/s]"
      ],
      "application/vnd.jupyter.widget-view+json": {
       "version_major": 2,
       "version_minor": 0,
       "model_id": "562ae38196f34756a490c1f7571d503a"
      }
     },
     "metadata": {},
     "output_type": "display_data"
    },
    {
     "name": "stdout",
     "output_type": "stream",
     "text": [
      "val loss=1.5672388992925295; val accuracy=63.99018438341104%\n"
     ]
    },
    {
     "data": {
      "text/plain": [
       "Epoch 17/20:   0%|          | 0/9025 [00:00<?, ?batch/s]"
      ],
      "application/vnd.jupyter.widget-view+json": {
       "version_major": 2,
       "version_minor": 0,
       "model_id": "5482abf2cf334532b24799b57d506a92"
      }
     },
     "metadata": {},
     "output_type": "display_data"
    },
    {
     "name": "stdout",
     "output_type": "stream",
     "text": [
      "val loss=1.568308166041945; val accuracy=63.986540755561684%\n"
     ]
    },
    {
     "data": {
      "text/plain": [
       "Epoch 18/20:   0%|          | 0/9025 [00:00<?, ?batch/s]"
      ],
      "application/vnd.jupyter.widget-view+json": {
       "version_major": 2,
       "version_minor": 0,
       "model_id": "def7536085684c1bb3a5642905e05a55"
      }
     },
     "metadata": {},
     "output_type": "display_data"
    },
    {
     "name": "stdout",
     "output_type": "stream",
     "text": [
      "val loss=1.5693964069756372; val accuracy=63.9817881974973%\n"
     ]
    },
    {
     "data": {
      "text/plain": [
       "Epoch 19/20:   0%|          | 0/9025 [00:00<?, ?batch/s]"
      ],
      "application/vnd.jupyter.widget-view+json": {
       "version_major": 2,
       "version_minor": 0,
       "model_id": "80222317a656427488effa08c7712623"
      }
     },
     "metadata": {},
     "output_type": "display_data"
    },
    {
     "name": "stdout",
     "output_type": "stream",
     "text": [
      "val loss=1.5699719938558645; val accuracy=63.99224382523894%\n"
     ]
    },
    {
     "data": {
      "text/plain": [
       "Epoch 20/20:   0%|          | 0/9025 [00:00<?, ?batch/s]"
      ],
      "application/vnd.jupyter.widget-view+json": {
       "version_major": 2,
       "version_minor": 0,
       "model_id": "f93555bf9dd8463ba970cf4a7f714bc8"
      }
     },
     "metadata": {},
     "output_type": "display_data"
    },
    {
     "name": "stdout",
     "output_type": "stream",
     "text": [
      "val loss=1.5708114264754802; val accuracy=63.99858056932477%\n",
      "3\n"
     ]
    },
    {
     "data": {
      "text/plain": [
       "Epoch 1/20:   0%|          | 0/9025 [00:00<?, ?batch/s]"
      ],
      "application/vnd.jupyter.widget-view+json": {
       "version_major": 2,
       "version_minor": 0,
       "model_id": "11cfa20c01ec46709687b7be29b4ba81"
      }
     },
     "metadata": {},
     "output_type": "display_data"
    },
    {
     "name": "stdout",
     "output_type": "stream",
     "text": [
      "val loss=1.6369329149696934; val accuracy=58.848867069366754%\n"
     ]
    },
    {
     "data": {
      "text/plain": [
       "Epoch 2/20:   0%|          | 0/9025 [00:00<?, ?batch/s]"
      ],
      "application/vnd.jupyter.widget-view+json": {
       "version_major": 2,
       "version_minor": 0,
       "model_id": "8e8bdb71f50842f6a05c01fb3fd03a6b"
      }
     },
     "metadata": {},
     "output_type": "display_data"
    },
    {
     "name": "stdout",
     "output_type": "stream",
     "text": [
      "val loss=1.591084326930638; val accuracy=59.58868194138829%\n"
     ]
    },
    {
     "data": {
      "text/plain": [
       "Epoch 3/20:   0%|          | 0/9025 [00:00<?, ?batch/s]"
      ],
      "application/vnd.jupyter.widget-view+json": {
       "version_major": 2,
       "version_minor": 0,
       "model_id": "9c9b5fa18bb545f6a1d55341e33133f8"
      }
     },
     "metadata": {},
     "output_type": "display_data"
    },
    {
     "name": "stdout",
     "output_type": "stream",
     "text": [
      "val loss=1.6190690046009; val accuracy=59.267725853440616%\n"
     ]
    },
    {
     "data": {
      "text/plain": [
       "Epoch 4/20:   0%|          | 0/9025 [00:00<?, ?batch/s]"
      ],
      "application/vnd.jupyter.widget-view+json": {
       "version_major": 2,
       "version_minor": 0,
       "model_id": "805e3c5fdf3d409fabe23ce1cbdb129e"
      }
     },
     "metadata": {},
     "output_type": "display_data"
    },
    {
     "name": "stdout",
     "output_type": "stream",
     "text": [
      "val loss=1.6274013261933828; val accuracy=59.906628075895185%\n"
     ]
    },
    {
     "data": {
      "text/plain": [
       "Epoch 5/20:   0%|          | 0/9025 [00:00<?, ?batch/s]"
      ],
      "application/vnd.jupyter.widget-view+json": {
       "version_major": 2,
       "version_minor": 0,
       "model_id": "3d66dba1b4144a6e9223c2f3b5c877c1"
      }
     },
     "metadata": {},
     "output_type": "display_data"
    },
    {
     "name": "stdout",
     "output_type": "stream",
     "text": [
      "val loss=1.626475088191914; val accuracy=60.19510835040294%\n"
     ]
    },
    {
     "data": {
      "text/plain": [
       "Epoch 6/20:   0%|          | 0/9025 [00:00<?, ?batch/s]"
      ],
      "application/vnd.jupyter.widget-view+json": {
       "version_major": 2,
       "version_minor": 0,
       "model_id": "3384b4777fbb4a279d77e2890ba0d1af"
      }
     },
     "metadata": {},
     "output_type": "display_data"
    },
    {
     "name": "stdout",
     "output_type": "stream",
     "text": [
      "val loss=1.6318513253785056; val accuracy=60.03558081804198%\n"
     ]
    },
    {
     "data": {
      "text/plain": [
       "Epoch 7/20:   0%|          | 0/9025 [00:00<?, ?batch/s]"
      ],
      "application/vnd.jupyter.widget-view+json": {
       "version_major": 2,
       "version_minor": 0,
       "model_id": "53ff569bf3a745668d8ef296f7d46498"
      }
     },
     "metadata": {},
     "output_type": "display_data"
    },
    {
     "name": "stdout",
     "output_type": "stream",
     "text": [
      "val loss=1.6346606179741026; val accuracy=60.0091249114836%\n"
     ]
    },
    {
     "data": {
      "text/plain": [
       "Epoch 8/20:   0%|          | 0/9025 [00:00<?, ?batch/s]"
      ],
      "application/vnd.jupyter.widget-view+json": {
       "version_major": 2,
       "version_minor": 0,
       "model_id": "98276d7644c04fd6b80a2769e23737a8"
      }
     },
     "metadata": {},
     "output_type": "display_data"
    },
    {
     "name": "stdout",
     "output_type": "stream",
     "text": [
      "val loss=1.635629290762106; val accuracy=60.341011882979345%\n"
     ]
    },
    {
     "data": {
      "text/plain": [
       "Epoch 9/20:   0%|          | 0/9025 [00:00<?, ?batch/s]"
      ],
      "application/vnd.jupyter.widget-view+json": {
       "version_major": 2,
       "version_minor": 0,
       "model_id": "2ea91b5161354b22ab036fe897be0ed3"
      }
     },
     "metadata": {},
     "output_type": "display_data"
    },
    {
     "name": "stdout",
     "output_type": "stream",
     "text": [
      "val loss=1.5769633721269003; val accuracy=62.65027984646069%\n"
     ]
    },
    {
     "data": {
      "text/plain": [
       "Epoch 10/20:   0%|          | 0/9025 [00:00<?, ?batch/s]"
      ],
      "application/vnd.jupyter.widget-view+json": {
       "version_major": 2,
       "version_minor": 0,
       "model_id": "d27c50da3a914781b4cbfb7259629a02"
      }
     },
     "metadata": {},
     "output_type": "display_data"
    },
    {
     "name": "stdout",
     "output_type": "stream",
     "text": [
      "val loss=1.5741338182629698; val accuracy=62.698914357319495%\n"
     ]
    },
    {
     "data": {
      "text/plain": [
       "Epoch 11/20:   0%|          | 0/9025 [00:00<?, ?batch/s]"
      ],
      "application/vnd.jupyter.widget-view+json": {
       "version_major": 2,
       "version_minor": 0,
       "model_id": "41cafd5891ce405c9e1661df1b1abbd3"
      }
     },
     "metadata": {},
     "output_type": "display_data"
    },
    {
     "name": "stdout",
     "output_type": "stream",
     "text": [
      "val loss=1.570259534159071; val accuracy=62.86018449430406%\n"
     ]
    },
    {
     "data": {
      "text/plain": [
       "Epoch 12/20:   0%|          | 0/9025 [00:00<?, ?batch/s]"
      ],
      "application/vnd.jupyter.widget-view+json": {
       "version_major": 2,
       "version_minor": 0,
       "model_id": "d56ca0621d254bcc968134d90b1874ad"
      }
     },
     "metadata": {},
     "output_type": "display_data"
    },
    {
     "name": "stdout",
     "output_type": "stream",
     "text": [
      "val loss=1.5678605946700441; val accuracy=62.989770910859434%\n"
     ]
    },
    {
     "data": {
      "text/plain": [
       "Epoch 13/20:   0%|          | 0/9025 [00:00<?, ?batch/s]"
      ],
      "application/vnd.jupyter.widget-view+json": {
       "version_major": 2,
       "version_minor": 0,
       "model_id": "fc280acbb17144c4b6c7a777136359a6"
      }
     },
     "metadata": {},
     "output_type": "display_data"
    },
    {
     "name": "stdout",
     "output_type": "stream",
     "text": [
      "val loss=1.5688292004920115; val accuracy=62.940661144194195%\n"
     ]
    },
    {
     "data": {
      "text/plain": [
       "Epoch 14/20:   0%|          | 0/9025 [00:00<?, ?batch/s]"
      ],
      "application/vnd.jupyter.widget-view+json": {
       "version_major": 2,
       "version_minor": 0,
       "model_id": "b2fd817fd9b444cca2ec15ea5e79bdb5"
      }
     },
     "metadata": {},
     "output_type": "display_data"
    },
    {
     "name": "stdout",
     "output_type": "stream",
     "text": [
      "val loss=1.565782066979281; val accuracy=63.18019007063886%\n"
     ]
    },
    {
     "data": {
      "text/plain": [
       "Epoch 15/20:   0%|          | 0/9025 [00:00<?, ?batch/s]"
      ],
      "application/vnd.jupyter.widget-view+json": {
       "version_major": 2,
       "version_minor": 0,
       "model_id": "a462262f54484379a3f2e5f03adff3c1"
      }
     },
     "metadata": {},
     "output_type": "display_data"
    },
    {
     "name": "stdout",
     "output_type": "stream",
     "text": [
      "val loss=1.5687966037861771; val accuracy=63.22914141870195%\n"
     ]
    },
    {
     "data": {
      "text/plain": [
       "Epoch 16/20:   0%|          | 0/9025 [00:00<?, ?batch/s]"
      ],
      "application/vnd.jupyter.widget-view+json": {
       "version_major": 2,
       "version_minor": 0,
       "model_id": "b2e322ba78484d4cab023a5f764dc5fc"
      }
     },
     "metadata": {},
     "output_type": "display_data"
    },
    {
     "name": "stdout",
     "output_type": "stream",
     "text": [
      "val loss=1.5722014995866984; val accuracy=63.28205323181869%\n"
     ]
    },
    {
     "data": {
      "text/plain": [
       "Epoch 17/20:   0%|          | 0/9025 [00:00<?, ?batch/s]"
      ],
      "application/vnd.jupyter.widget-view+json": {
       "version_major": 2,
       "version_minor": 0,
       "model_id": "46e14fa14b534a3ca54ae405df5c13ee"
      }
     },
     "metadata": {},
     "output_type": "display_data"
    },
    {
     "name": "stdout",
     "output_type": "stream",
     "text": [
      "val loss=1.5776068431027104; val accuracy=63.27745909235646%\n"
     ]
    },
    {
     "data": {
      "text/plain": [
       "Epoch 18/20:   0%|          | 0/9025 [00:00<?, ?batch/s]"
      ],
      "application/vnd.jupyter.widget-view+json": {
       "version_major": 2,
       "version_minor": 0,
       "model_id": "3b2a4d7820a546fd8ff92abe5e08adc2"
      }
     },
     "metadata": {},
     "output_type": "display_data"
    },
    {
     "name": "stdout",
     "output_type": "stream",
     "text": [
      "val loss=1.5840593683770043; val accuracy=63.27666699934573%\n"
     ]
    },
    {
     "data": {
      "text/plain": [
       "Epoch 19/20:   0%|          | 0/9025 [00:00<?, ?batch/s]"
      ],
      "application/vnd.jupyter.widget-view+json": {
       "version_major": 2,
       "version_minor": 0,
       "model_id": "717a64c313aa4876a08e797d900cabf6"
      }
     },
     "metadata": {},
     "output_type": "display_data"
    },
    {
     "name": "stdout",
     "output_type": "stream",
     "text": [
      "val loss=1.592421129598246; val accuracy=63.25512206945388%\n"
     ]
    },
    {
     "data": {
      "text/plain": [
       "Epoch 20/20:   0%|          | 0/9025 [00:00<?, ?batch/s]"
      ],
      "application/vnd.jupyter.widget-view+json": {
       "version_major": 2,
       "version_minor": 0,
       "model_id": "e849e9dbbd1f40cabc8b2d1e1ad708ae"
      }
     },
     "metadata": {},
     "output_type": "display_data"
    },
    {
     "name": "stdout",
     "output_type": "stream",
     "text": [
      "val loss=1.601301241690527; val accuracy=63.21393323289594%\n",
      "4\n",
      "{0: {'train_losses': [1.3336207929476476, 1.1085748948664547, 1.0186744670045673, 0.9618541017017866, 0.9236438925035938, 0.8969884491536426, 0.8801129306392574, 0.8637547474779663, 0.7536586554566207, 0.7219944615014042, 0.7076388235198247, 0.6959577731753073, 0.6849299738970985, 0.6736794769148913, 0.6537168793155298, 0.6499724018485015, 0.647869347780943, 0.6460754661274418, 0.6444222262509972, 0.642830927193041], 'val_losses': [1.614814631163087, 1.5546520980287337, 1.576614332176897, 1.6190830277461596, 1.643435313336627, 1.6383085904346948, 1.678382903833104, 1.6216233740687427, 1.5667952291173333, 1.5661851045062716, 1.5707694596318695, 1.5801750753367683, 1.5867468613451858, 1.5939403485933947, 1.569635189452441, 1.5703855575339345, 1.5712677650308151, 1.5720977890738204, 1.5727549611581744, 1.5734939897978815], 'val_accuracies': [59.96682714471064, 61.84931539401082, 61.319246751230516, 61.09587652220474, 60.43828090469695, 60.09023523578232, 59.966668726108495, 60.29839727900209, 63.86440001330716, 63.85473647857626, 63.775368758901145, 63.6952089462153, 63.68095127202216, 63.68285229524792, 64.12864224168659, 64.12785014867586, 64.12848382308444, 64.1400483810411, 64.13371163695525, 64.13482056717028]}, 1: {'train_losses': [1.3011605614786994, 1.0560810169065757, 0.9675362706027533, 0.9127688316934822, 0.8774473537841084, 0.8520203415322998, 0.8290735238813215, 0.7169943849051015, 0.6855312028560282, 0.670773837275576, 0.6570330087107882, 0.6418494025892333, 0.6251680748020183, 0.5999778320642389, 0.5956154805555981, 0.5928550237037469, 0.5904678327012343, 0.5882409848811472, 0.5860992913631273, 0.5830465857353361], 'val_losses': [1.516719509316131, 1.5309829486692728, 1.5386931720334829, 1.576862571551985, 1.5697564733644587, 1.6040902033774567, 1.6073719592542346, 1.575465018573103, 1.5827754438460422, 1.5897285816251072, 1.594873290647424, 1.6004320252871582, 1.6087084892324583, 1.6070807872359967, 1.6090344928006526, 1.6106398018103831, 1.6121251999818313, 1.6135091262011718, 1.6149647081598468, 1.6097625946595249], 'val_accuracies': [62.33534366539457, 62.15332069152888, 62.42564226861775, 61.81636432476447, 62.32520487485723, 63.004187003654714, 62.516574546249515, 64.03644261523765, 64.00713517384065, 64.00016475534623, 63.99541219728185, 64.03786838265697, 64.08919600975224, 64.21688140308187, 64.22892121684497, 64.24919879791965, 64.25125823974754, 64.25379293738187, 64.25632763501622, 64.23003014705999]}, 2: {'train_losses': [1.3266956074416143, 1.1002418854229998, 1.0105652021668294, 0.9574934309976914, 0.9241156145624837, 0.9027333689899986, 0.8843916740584241, 0.7724713204791537, 0.7445318338786796, 0.7314766762461359, 0.719564469161126, 0.7069686352149932, 0.6932831273812006, 0.669615893940186, 0.665577898182367, 0.6629997802754849, 0.6607606334212414, 0.6586409160189352, 0.6565901737720022, 0.6536874734917836], 'val_losses': [1.484688053929777, 1.4936712038360844, 1.5194610393405812, 1.5440196648399, 1.5574837990004404, 1.552910558826901, 1.577379533677327, 1.5536091981606288, 1.5573551423742709, 1.5568450280491366, 1.5625772049810487, 1.5657032404352405, 1.570075507638956, 1.5705574696495896, 1.5714945666956366, 1.572331530566448, 1.5731837132522213, 1.5740636841913644, 1.5750068080131387, 1.5729896412208544], 'val_accuracies': [62.61827928882721, 62.11244869217523, 61.587924700470026, 61.33493019284296, 60.98910238435838, 61.93391092755676, 61.03868740683006, 63.82717164180287, 63.775368758901145, 63.800715735244495, 63.80134940965308, 63.824161688362096, 63.88673703620974, 64.00634308082992, 64.00761042964709, 64.00776884824924, 64.00428363900203, 64.00364996459344, 64.00602624362563, 63.94630243061661]}, 3: {'train_losses': [1.3642428106326516, 1.1214502008180869, 1.038431761193391, 0.9860852969555478, 0.9513565060622227, 0.927411524179776, 0.9107532702852814, 0.8940974975005824, 0.7833374614340777, 0.7547970324206756, 0.7396889085315395, 0.7262868179130133, 0.7131137007017752, 0.6993892843129728, 0.676655992149605, 0.6721500308656874, 0.66960478182686, 0.6673728572145888, 0.665274174735982, 0.6632076827783416], 'val_losses': [1.5611809396064582, 1.5530017820703361, 1.576767956534047, 1.5908826130858125, 1.5859781111703204, 1.5756883019275232, 1.5713048337029247, 1.5957414165330057, 1.5715829328480548, 1.5744037228524284, 1.5781049436149064, 1.5808616069604944, 1.5835351219516802, 1.5861846751651894, 1.565842980480397, 1.5672388992925295, 1.568308166041945, 1.5693964069756372, 1.5699719938558645, 1.5708114264754802], 'val_accuracies': [60.798841643181106, 62.21415343475292, 61.856761068311684, 62.28227343367568, 63.010048491934114, 63.11872365300623, 63.030326073008794, 62.996424492149565, 63.83984512997454, 63.880083454919614, 63.90669778008013, 63.909707733520904, 63.977352476637215, 64.02091759222735, 63.987966522981, 63.99018438341104, 63.986540755561684, 63.9817881974973, 63.99224382523894, 63.99858056932477]}, 4: {'train_losses': [1.362362537803412, 1.1724530523784273, 1.1117720919451224, 1.0752603810612844, 1.0476562329986419, 1.0245956176164408, 1.0049651697158317, 0.9884810446677446, 0.8725487680558807, 0.8467227909330103, 0.8316990086027625, 0.8136945603697089, 0.7944098710770257, 0.7755509968589053, 0.7572222724313386, 0.7399940140772394, 0.72398590692853, 0.7092572047237379, 0.6956490142804433, 0.6831359836314689], 'val_losses': [1.6369329149696934, 1.591084326930638, 1.6190690046009, 1.6274013261933828, 1.626475088191914, 1.6318513253785056, 1.6346606179741026, 1.635629290762106, 1.5769633721269003, 1.5741338182629698, 1.570259534159071, 1.5678605946700441, 1.5688292004920115, 1.565782066979281, 1.5687966037861771, 1.5722014995866984, 1.5776068431027104, 1.5840593683770043, 1.592421129598246, 1.601301241690527], 'val_accuracies': [58.848867069366754, 59.58868194138829, 59.267725853440616, 59.906628075895185, 60.19510835040294, 60.03558081804198, 60.0091249114836, 60.341011882979345, 62.65027984646069, 62.698914357319495, 62.86018449430406, 62.989770910859434, 62.940661144194195, 63.18019007063886, 63.22914141870195, 63.28205323181869, 63.27745909235646, 63.27666699934573, 63.25512206945388, 63.21393323289594]}}\n"
     ]
    },
    {
     "data": {
      "text/plain": [
       "<Figure size 1000x600 with 1 Axes>"
      ],
      "image/png": "[encoded data removed]"
     },
     "metadata": {},
     "output_type": "display_data"
    },
    {
     "data": {
      "text/plain": [
       "<Figure size 1000x600 with 1 Axes>"
      ],
      "image/png": "[encoded data removed]"
     },
     "metadata": {},
     "output_type": "display_data"
    },
    {
     "data": {
      "text/plain": [
       "<Figure size 1000x600 with 1 Axes>"
      ],
      "image/png": "[encoded data removed]"
     },
     "metadata": {},
     "output_type": "display_data"
    }
   ],
   "execution_count": 11
  }
 ],
 "metadata": {
  "kernelspec": {
   "display_name": "Python 3",
   "language": "python",
   "name": "python3"
  },
  "language_info": {
   "codemirror_mode": {
    "name": "ipython",
    "version": 2
   },
   "file_extension": ".py",
   "mimetype": "text/x-python",
   "name": "python",
   "nbconvert_exporter": "python",
   "pygments_lexer": "ipython2",
   "version": "2.7.6"
  }
 },
 "nbformat": 4,
 "nbformat_minor": 5
}
