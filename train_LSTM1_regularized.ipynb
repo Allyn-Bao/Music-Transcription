{
 "cells": [
  {
   "cell_type": "code",
   "id": "initial_id",
   "metadata": {
    "collapsed": true,
    "ExecuteTime": {
     "end_time": "2024-11-24T16:39:07.060165Z",
     "start_time": "2024-11-24T16:39:05.507373Z"
    }
   },
   "source": [
    "import torch\n",
    "import torch.nn as nn\n",
    "from torch.utils.data import Dataset, DataLoader\n",
    "from torchvision import models, transforms\n",
    "\n",
    "import json\n",
    "import numpy as np\n",
    "import pandas as pd\n",
    "from tqdm import tqdm\n",
    "from tqdm.autonotebook import tqdm\n",
    "\n",
    "import os\n",
    "import matplotlib.pyplot as plt"
   ],
   "outputs": [
    {
     "name": "stderr",
     "output_type": "stream",
     "text": [
      "/var/folders/3n/5hzgdltx5ygd3tpjprz4hxxm0000gn/T/ipykernel_50054/1640555182.py:10: TqdmExperimentalWarning: Using `tqdm.autonotebook.tqdm` in notebook mode. Use `tqdm.tqdm` instead to force console mode (e.g. in jupyter console)\n",
      "  from tqdm.autonotebook import tqdm\n"
     ]
    }
   ],
   "execution_count": 1
  },
  {
   "metadata": {
    "ExecuteTime": {
     "end_time": "2024-11-24T16:39:07.088921Z",
     "start_time": "2024-11-24T16:39:07.069302Z"
    }
   },
   "cell_type": "code",
   "source": [
    "# Metal GPU support\n",
    "if torch.backends.mps.is_available():\n",
    "    device = torch.device(\"mps\")  # \"mps\" stands for Metal Performance Shaders (Apple's Metal API)\n",
    "    print(\"Using Apple Metal GPU.\")\n",
    "else:\n",
    "    device = torch.device(\"cpu\")  # Fallback to CPU\n",
    "    print(\"Using CPU.\")"
   ],
   "id": "e95cda82a2d2da4a",
   "outputs": [
    {
     "name": "stdout",
     "output_type": "stream",
     "text": [
      "Using Apple Metal GPU.\n"
     ]
    }
   ],
   "execution_count": 2
  },
  {
   "metadata": {
    "ExecuteTime": {
     "end_time": "2024-11-24T16:39:07.189472Z",
     "start_time": "2024-11-24T16:39:07.186017Z"
    }
   },
   "cell_type": "code",
   "source": [
    "# chord name to index mapping\n",
    "chord_to_int = {'A#:maj': 0, 'A:maj': 1, 'A:min': 2, 'Ab:maj': 3, 'Ab:min': 4, 'B:maj': 5, 'B:min': 6, 'Bb:maj': 7, 'Bb:min': 8, 'C#:maj': 9, 'C#:min': 10, 'C:maj': 11, 'C:min': 12, 'Cb:maj': 13, 'D#:maj': 14, 'D#:min': 15, 'D:maj': 16, 'D:min': 17, 'Db:maj': 18, 'Db:min': 19, 'E:maj': 20, 'E:min': 21, 'Eb:maj': 22, 'Eb:min': 23, 'F#:maj': 24, 'F#:min': 25, 'F:maj': 26, 'F:min': 27, 'Fb:maj': 28, 'G#:maj': 29, 'G#:min': 30, 'G:maj': 31, 'G:min': 32, 'Gb:maj': 33, 'Gb:min': 34, 'N': 35, 'X': 36}\n",
    "\n",
    "int_to_chord = {0: 'A#:maj', 1: 'A:maj', 2: 'A:min', 3: 'Ab:maj', 4: 'Ab:min', 5: 'B:maj', 6: 'B:min', 7: 'Bb:maj', 8: 'Bb:min', 9: 'C#:maj', 10: 'C#:min', 11: 'C:maj', 12: 'C:min', 13: 'Cb:maj', 14: 'D#:maj', 15: 'D#:min', 16: 'D:maj', 17: 'D:min', 18: 'Db:maj', 19: 'Db:min', 20: 'E:maj', 21: 'E:min', 22: 'Eb:maj', 23: 'Eb:min', 24: 'F#:maj', 25: 'F#:min', 26: 'F:maj', 27: 'F:min', 28: 'Fb:maj', 29: 'G#:maj', 30: 'G#:min', 31: 'G:maj', 32: 'G:min', 33: 'Gb:maj', 34: 'Gb:min', 35: 'N', 36: 'X'}"
   ],
   "id": "b9dabc2da22cdf39",
   "outputs": [],
   "execution_count": 3
  },
  {
   "metadata": {
    "ExecuteTime": {
     "end_time": "2024-11-24T16:39:07.211297Z",
     "start_time": "2024-11-24T16:39:07.208796Z"
    }
   },
   "cell_type": "code",
   "source": [
    "import os\n",
    "\n",
    "def get_csv_file_paths(directory_path):\n",
    "    \"\"\"\n",
    "    Given a directory path, go through each CSV file in the directory,\n",
    "    append their paths into a list, and return the list.\n",
    "\n",
    "    Args:\n",
    "        directory_path (str): Path to the directory containing CSV files.\n",
    "\n",
    "    Returns:\n",
    "        list: List of file paths to all CSV files in the directory.\n",
    "    \"\"\"\n",
    "    csv_file_paths = []\n",
    "    \n",
    "    # Check if the provided path is valid\n",
    "    if not os.path.isdir(directory_path):\n",
    "        raise ValueError(f\"The provided path '{directory_path}' is not a valid directory.\")\n",
    "    \n",
    "    # Iterate over all files in the directory\n",
    "    for filename in os.listdir(directory_path):\n",
    "        # Check if the file has a .csv extension\n",
    "        if filename.endswith(\".csv\"):\n",
    "            # Append the full path to the list\n",
    "            full_path = os.path.join(directory_path, filename)\n",
    "            csv_file_paths.append(full_path)\n",
    "    \n",
    "    return csv_file_paths"
   ],
   "id": "3f39fa5c1d0f7863",
   "outputs": [],
   "execution_count": 4
  },
  {
   "metadata": {
    "ExecuteTime": {
     "end_time": "2024-11-24T16:39:07.224771Z",
     "start_time": "2024-11-24T16:39:07.221005Z"
    }
   },
   "cell_type": "code",
   "source": [
    "import torch\n",
    "from torch.utils.data import Dataset\n",
    "import pandas as pd\n",
    "import numpy as np\n",
    "import os\n",
    "\n",
    "class AudioChordDataset(Dataset):\n",
    "    def __init__(self, csv_dir, csv_file_names, N, chord_to_int):\n",
    "        \"\"\"\n",
    "        Args:\n",
    "            csv_dir (str): Directory containing the CSV files.\n",
    "            csv_file_names (list of str): List of CSV file names.\n",
    "            N (int): Number of timestamps in each block (sliding window size).\n",
    "            chord_to_int (dict): Mapping of chord names to integers.\n",
    "        \"\"\"\n",
    "        self.csv_file_names = csv_file_names\n",
    "        self.N = N\n",
    "        self.data = []\n",
    "        self.labels = []\n",
    "        self.chord_to_int = chord_to_int\n",
    "\n",
    "        # Load and process each CSV file\n",
    "        for file_name in self.csv_file_names:\n",
    "            file_path = os.path.join(csv_dir, file_name)\n",
    "            df = pd.read_csv(file_path)\n",
    "            \n",
    "            # Get frequency domain values and labels as numpy arrays\n",
    "            freq_data = df.iloc[:, 1:25].values  # Select the 25 frequency columns\n",
    "            chord_labels = df.iloc[:, 25].values  # Select the label column\n",
    "            \n",
    "            # Append data blocks and labels using a sliding window approach\n",
    "            for i in range(len(freq_data) - N + 1):\n",
    "                block = freq_data[i:i + N]  # N x 26\n",
    "                block_labels = chord_labels[i:i + N]  # Labels in the block\n",
    "                \n",
    "                # Map all chord labels in the block to integers\n",
    "                numeric_labels = [\n",
    "                    self.chord_to_int.get(label, self.chord_to_int[\"X\"])  # Default to \"X\" if unknown\n",
    "                    for label in block_labels\n",
    "                ]\n",
    "                \n",
    "                self.data.append(block)\n",
    "                self.labels.append(numeric_labels)\n",
    "\n",
    "    def __len__(self):\n",
    "        return len(self.data)\n",
    "\n",
    "    def __getitem__(self, idx):\n",
    "        block = torch.tensor(self.data[idx], dtype=torch.float32)  # Shape: 1 x N x 25\n",
    "        label = torch.tensor(self.labels[idx], dtype=torch.long)  # Shape: N\n",
    "        return block, label"
   ],
   "id": "31406612bc1ed076",
   "outputs": [],
   "execution_count": 5
  },
  {
   "metadata": {
    "ExecuteTime": {
     "end_time": "2024-11-24T16:39:07.236634Z",
     "start_time": "2024-11-24T16:39:07.234363Z"
    }
   },
   "cell_type": "code",
   "source": [
    "import torch.nn as nn\n",
    " \n",
    "class LSTM_Model(nn.Module):\n",
    "    def __init__(self, input_size=24, hidden_size=50, output_size=37):  # Assuming 10 possible chords\n",
    "        super().__init__()\n",
    "        self.lstm = nn.LSTM(input_size=input_size, hidden_size=hidden_size, num_layers=1, dropout=0.5, batch_first=True)\n",
    "        self.linear = nn.Linear(hidden_size, output_size)\n",
    "\n",
    "    def forward(self, x):\n",
    "        x, _ = self.lstm(x)  # LSTM output shape: (batch_size, seq_len, hidden_size)\n",
    "        x = self.linear(x)  # Linear output shape: (batch_size, seq_len, output_size)\n",
    "        return x"
   ],
   "id": "746ffaf3856175b3",
   "outputs": [],
   "execution_count": 6
  },
  {
   "metadata": {
    "ExecuteTime": {
     "end_time": "2024-11-24T16:39:07.248424Z",
     "start_time": "2024-11-24T16:39:07.246412Z"
    }
   },
   "cell_type": "code",
   "source": [
    "def read_list_from_json(file_path):\n",
    "    \"\"\"\n",
    "    Reads a JSON file and returns the original Python list.\n",
    "\n",
    "    Args:\n",
    "        file_path (str): Path to the JSON file.\n",
    "\n",
    "    Returns:\n",
    "        list: List read from the JSON file.\n",
    "\n",
    "    Raises:\n",
    "        ValueError: If the JSON file content is not a list.\n",
    "    \"\"\"\n",
    "    with open(file_path, 'r') as json_file:\n",
    "        data = json.load(json_file)\n",
    "    \n",
    "    if not isinstance(data, list):\n",
    "        raise ValueError(\"The content of the JSON file is not a list.\")\n",
    "    \n",
    "    return data"
   ],
   "id": "4fd67417d2858819",
   "outputs": [],
   "execution_count": 7
  },
  {
   "metadata": {
    "ExecuteTime": {
     "end_time": "2024-11-24T16:39:07.273715Z",
     "start_time": "2024-11-24T16:39:07.270905Z"
    }
   },
   "cell_type": "code",
   "source": [
    "train_csv_file_names = read_list_from_json(os.path.join(\"train_test_split\", \"train_csv_paths.json\"))\n",
    "val_csv_file_names = read_list_from_json(os.path.join(\"train_test_split\", \"val_csv_paths.json\"))\n",
    "test_csv_file_names = read_list_from_json(os.path.join(\"train_test_split\", \"test_csv_paths.json\"))\n",
    "\n",
    "csv_dir = \"processed_data\""
   ],
   "id": "f0750afe9602d3b3",
   "outputs": [],
   "execution_count": 8
  },
  {
   "metadata": {
    "ExecuteTime": {
     "end_time": "2024-11-24T19:45:37.772743Z",
     "start_time": "2024-11-24T16:39:07.289862Z"
    }
   },
   "cell_type": "code",
   "source": [
    "from torch.utils.data import Subset\n",
    "\n",
    "# Hyperparameters\n",
    "win_size = 32\n",
    "num_models = 5\n",
    "batch_size = 32\n",
    "num_epochs = 20\n",
    "learning_rate = 0.001\n",
    "num_classes = 37\n",
    "\n",
    "# fraction training set\n",
    "fraction = 0.1\n",
    "\n",
    "results = {}\n",
    "\n",
    "for i in range(num_models):\n",
    "    step_size = win_size // 2   # half overlapping windows\n",
    "\n",
    "    # load datasets\n",
    "    # Load full training dataset\n",
    "    full_train_dataset = AudioChordDataset(csv_dir, train_csv_file_names, win_size, chord_to_int)\n",
    "    # Get subset indices\n",
    "    subset_size = int(fraction * len(full_train_dataset))\n",
    "    subset_indices = np.random.choice(len(full_train_dataset), subset_size, replace=False)\n",
    "    # Create subset dataset\n",
    "    train_dataset = Subset(full_train_dataset, subset_indices)\n",
    "    \n",
    "    # class weight to make up for uneven dataset labels\n",
    "    # Step 1: Compute class weights\n",
    "    # Flatten all labels across the dataset\n",
    "    all_labels = [label for idx in range(len(train_dataset)) for label in train_dataset[idx][1].tolist()]\n",
    "    labels_counts = np.bincount(all_labels)  # Count occurrences for each label\n",
    "    class_weights = 1.0 / (labels_counts + 1e-6)  # Avoid division by zero\n",
    "    class_weights = torch.tensor(class_weights, dtype=torch.float32)  # Convert to tensor\n",
    "\n",
    "    # # training dataloader with sampler applied\n",
    "    train_dataloader = DataLoader(train_dataset, batch_size=batch_size, shuffle=False)\n",
    "\n",
    "    val_dataset = AudioChordDataset(csv_dir, val_csv_file_names, win_size, chord_to_int)\n",
    "    val_dataloader = DataLoader(val_dataset, batch_size=batch_size, shuffle=False)\n",
    "\n",
    "    test_dataset = AudioChordDataset(csv_dir, test_csv_file_names, win_size, chord_to_int)\n",
    "    test_dataloader = DataLoader(test_dataset, batch_size=batch_size, shuffle=False)\n",
    "\n",
    "    # initialize model, loss function, optimizer\n",
    "    model = LSTM_Model().to(device)\n",
    "    criterion = torch.nn.CrossEntropyLoss(weight=class_weights).to(device)\n",
    "    optimizer = torch.optim.Adam(model.parameters(), lr=learning_rate, weight_decay=1e-4)\n",
    "    # Learning rate scheduler\n",
    "    # scheduler = torch.optim.lr_scheduler.ReduceLROnPlateau(optimizer, mode='min', factor=0.1, patience=5)\n",
    "\n",
    "    # record losses\n",
    "    train_losses_cross_epoch = []\n",
    "    val_losses_cross_epoch = []\n",
    "    val_accuracy_cross_epoch = []\n",
    "\n",
    "    # train loop\n",
    "    for epoch in range(num_epochs):\n",
    "        train_loss_per_epoch = []\n",
    "        with tqdm(total=len(train_dataloader), desc=f\"Epoch {epoch+1}/{num_epochs}\", unit=\"batch\") as pbar:\n",
    "            for _, (win_chroma, win_label) in enumerate(train_dataloader):\n",
    "                X = win_chroma.to(device)\n",
    "                Y = win_label.to(device)\n",
    "                \n",
    "                # train\n",
    "                optimizer.zero_grad()\n",
    "                prediction = model(X)\n",
    "                prediction = prediction.view(-1, prediction.shape[-1])  # Shape: (batch_size * seq_len, num_classes)\n",
    "                Y = Y.view(-1)  # Shape: (batch_size * seq_len)\n",
    "\n",
    "                loss = criterion(prediction, Y)\n",
    "                loss.backward()\n",
    "                optimizer.step()\n",
    "\n",
    "                # update progress bar\n",
    "                pbar.set_postfix({\"loss\": loss.item()})     # display current loss\n",
    "                pbar.update(1)      # advance progress bar by 1 batch\n",
    "\n",
    "                # train loss per batch\n",
    "                train_loss_per_epoch.append(loss.item())\n",
    "            \n",
    "        # calculate train loss for each epoch\n",
    "        mean_train_loss_per_epoch = np.mean(train_loss_per_epoch)\n",
    "        train_losses_cross_epoch.append(mean_train_loss_per_epoch)\n",
    "\n",
    "        # evaluation\n",
    "        model.eval()\n",
    "        val_losses = []\n",
    "        num_correct_per_epoch = 0\n",
    "        num_total_per_epoch = 0\n",
    "        with torch.no_grad():\n",
    "            for _, (val_win_chroma, val_win_label) in enumerate(val_dataloader):\n",
    "                val_X = val_win_chroma.to(device)\n",
    "                val_Y = val_win_label.to(device)\n",
    "\n",
    "                val_predictions = model(val_X)\n",
    "                val_predictions = val_predictions.view(-1, val_predictions.shape[-1])  # Shape: (batch_size * seq_len, num_classes)\n",
    "                val_Y = val_Y.view(-1)  # Shape: (batch_size * seq_len)\n",
    "                val_loss = criterion(val_predictions, val_Y).to('cpu')\n",
    "\n",
    "                # val loss per batch\n",
    "                val_losses.append(val_loss.item())\n",
    "\n",
    "                # val accuracy per batch\n",
    "                _, predicted_class = torch.max(val_predictions, 1)\n",
    "                num_correct = (predicted_class == val_Y).sum().item()\n",
    "                num_total_per_batch = val_Y.size(0)\n",
    "                batch_accuracy = num_correct / num_total_per_batch\n",
    "\n",
    "                # accumulate correct and total predictions from each batch\n",
    "                num_correct_per_epoch += num_correct\n",
    "                num_total_per_epoch += num_total_per_batch\n",
    "\n",
    "        # calculate evaluation loss for each epoch\n",
    "        mean_val_loss_per_epoch = np.mean(val_losses)\n",
    "        mean_val_loss = np.mean(val_losses)\n",
    "        val_losses_cross_epoch.append(mean_val_loss_per_epoch)\n",
    "\n",
    "        # calculate accuracy per epoch\n",
    "        val_accuracy = 100 * num_correct_per_epoch / num_total_per_epoch\n",
    "        val_accuracy_cross_epoch.append(val_accuracy)\n",
    "\n",
    "        # display loss & accuracy in progress bar\n",
    "        print(f\"val loss={mean_val_loss_per_epoch}; val accuracy={val_accuracy}%\")\n",
    "        \n",
    "        # switch back to train mode\n",
    "        model.train()\n",
    "        \n",
    "        # learning rate scheduler\n",
    "        # scheduler.step(mean_val_loss)\n",
    "    \n",
    "    print(i)\n",
    "    # save loss and accuracy\n",
    "    results[i] = {\n",
    "        \"train_losses\": train_losses_cross_epoch,\n",
    "        \"val_losses\": val_losses_cross_epoch,\n",
    "        \"val_accuracies\": val_accuracy_cross_epoch\n",
    "    }\n",
    "    \n",
    "print(results)\n",
    "\n",
    "# 1. Training Loss\n",
    "plt.figure(figsize=(10, 6))\n",
    "for i in range(num_models):\n",
    "    plt.plot(results[i][\"train_losses\"], label=f\"Model {i}\")\n",
    "plt.xlabel(\"Epoch\")\n",
    "plt.ylabel(\"Training Loss\")\n",
    "plt.title(f\"Training Loss per Epoch\")\n",
    "plt.legend()\n",
    "plt.show()\n",
    "\n",
    "# 2. Validation Loss\n",
    "plt.figure(figsize=(10, 6))\n",
    "for i in range(num_models):\n",
    "    plt.plot(results[i][\"val_losses\"], label=f\"Model {i}\")\n",
    "plt.xlabel(\"Epoch\")\n",
    "plt.ylabel(\"Validation Loss\")\n",
    "plt.title(f\"Validation Loss per Epoch\")\n",
    "plt.legend()\n",
    "plt.show()\n",
    "\n",
    "# 3. Validation Accuracy\n",
    "plt.figure(figsize=(10, 6))\n",
    "for i in range(num_models):\n",
    "    plt.plot(results[i][\"val_accuracies\"], label=f\"Model {i}\")\n",
    "plt.xlabel(\"Epoch\")\n",
    "plt.ylabel(\"Validation Accuracy (%)\")\n",
    "plt.title(f\"Validation Accuracy per Epoch\")\n",
    "plt.legend()\n",
    "plt.show()\n",
    "plt.show()"
   ],
   "id": "74738d88b4d8d9aa",
   "outputs": [
    {
     "name": "stderr",
     "output_type": "stream",
     "text": [
      "/Users/allynbao/miniconda3/envs/music_transcription/lib/python3.10/site-packages/torch/nn/modules/rnn.py:123: UserWarning: dropout option adds dropout after all but last recurrent layer, so non-zero dropout expects num_layers greater than 1, but got dropout=0.5 and num_layers=1\n",
      "  warnings.warn(\n"
     ]
    },
    {
     "data": {
      "text/plain": [
       "Epoch 1/20:   0%|          | 0/9025 [00:00<?, ?batch/s]"
      ],
      "application/vnd.jupyter.widget-view+json": {
       "version_major": 2,
       "version_minor": 0,
       "model_id": "149e1eff08774ce5b30e9d6ca37b7302"
      }
     },
     "metadata": {},
     "output_type": "display_data"
    },
    {
     "name": "stdout",
     "output_type": "stream",
     "text": [
      "val loss=1.598340374889378; val accuracy=58.54887174271552%\n"
     ]
    },
    {
     "data": {
      "text/plain": [
       "Epoch 2/20:   0%|          | 0/9025 [00:00<?, ?batch/s]"
      ],
      "application/vnd.jupyter.widget-view+json": {
       "version_major": 2,
       "version_minor": 0,
       "model_id": "220d9d09d7b34f8ca66d081d61cc4590"
      }
     },
     "metadata": {},
     "output_type": "display_data"
    },
    {
     "name": "stdout",
     "output_type": "stream",
     "text": [
      "val loss=1.5840194158464913; val accuracy=58.71789944062392%\n"
     ]
    },
    {
     "data": {
      "text/plain": [
       "Epoch 3/20:   0%|          | 0/9025 [00:00<?, ?batch/s]"
      ],
      "application/vnd.jupyter.widget-view+json": {
       "version_major": 2,
       "version_minor": 0,
       "model_id": "73692de1840945b686578a4527805c14"
      }
     },
     "metadata": {},
     "output_type": "display_data"
    },
    {
     "name": "stdout",
     "output_type": "stream",
     "text": [
      "val loss=1.582412518364396; val accuracy=58.78636598023886%\n"
     ]
    },
    {
     "data": {
      "text/plain": [
       "Epoch 4/20:   0%|          | 0/9025 [00:00<?, ?batch/s]"
      ],
      "application/vnd.jupyter.widget-view+json": {
       "version_major": 2,
       "version_minor": 0,
       "model_id": "3baa2fa5da144852a3a6744df039b9a0"
      }
     },
     "metadata": {},
     "output_type": "display_data"
    },
    {
     "name": "stdout",
     "output_type": "stream",
     "text": [
      "val loss=1.5841560449893854; val accuracy=58.76823695145579%\n"
     ]
    },
    {
     "data": {
      "text/plain": [
       "Epoch 5/20:   0%|          | 0/9025 [00:00<?, ?batch/s]"
      ],
      "application/vnd.jupyter.widget-view+json": {
       "version_major": 2,
       "version_minor": 0,
       "model_id": "ceb1d6eb0a1f47858b5a07c39c7e1fc4"
      }
     },
     "metadata": {},
     "output_type": "display_data"
    },
    {
     "name": "stdout",
     "output_type": "stream",
     "text": [
      "val loss=1.583514234585154; val accuracy=58.91073943466738%\n"
     ]
    },
    {
     "data": {
      "text/plain": [
       "Epoch 6/20:   0%|          | 0/9025 [00:00<?, ?batch/s]"
      ],
      "application/vnd.jupyter.widget-view+json": {
       "version_major": 2,
       "version_minor": 0,
       "model_id": "abbb5418d3a940459e3909f9c1fa5ced"
      }
     },
     "metadata": {},
     "output_type": "display_data"
    },
    {
     "name": "stdout",
     "output_type": "stream",
     "text": [
      "val loss=1.578232245466787; val accuracy=59.06661838859766%\n"
     ]
    },
    {
     "data": {
      "text/plain": [
       "Epoch 7/20:   0%|          | 0/9025 [00:00<?, ?batch/s]"
      ],
      "application/vnd.jupyter.widget-view+json": {
       "version_major": 2,
       "version_minor": 0,
       "model_id": "60adf6b7992540b8ba5fe261bd40d0a1"
      }
     },
     "metadata": {},
     "output_type": "display_data"
    },
    {
     "name": "stdout",
     "output_type": "stream",
     "text": [
      "val loss=1.579088949175035; val accuracy=59.03794957219056%\n"
     ]
    },
    {
     "data": {
      "text/plain": [
       "Epoch 8/20:   0%|          | 0/9025 [00:00<?, ?batch/s]"
      ],
      "application/vnd.jupyter.widget-view+json": {
       "version_major": 2,
       "version_minor": 0,
       "model_id": "1bfbe69a3ec74b288525e9a9ad54ec59"
      }
     },
     "metadata": {},
     "output_type": "display_data"
    },
    {
     "name": "stdout",
     "output_type": "stream",
     "text": [
      "val loss=1.581396382377677; val accuracy=58.97053750639615%\n"
     ]
    },
    {
     "data": {
      "text/plain": [
       "Epoch 9/20:   0%|          | 0/9025 [00:00<?, ?batch/s]"
      ],
      "application/vnd.jupyter.widget-view+json": {
       "version_major": 2,
       "version_minor": 0,
       "model_id": "23b3e83b373040b59ff25ff66b1e29a5"
      }
     },
     "metadata": {},
     "output_type": "display_data"
    },
    {
     "name": "stdout",
     "output_type": "stream",
     "text": [
      "val loss=1.5804613822429152; val accuracy=58.98100798588173%\n"
     ]
    },
    {
     "data": {
      "text/plain": [
       "Epoch 10/20:   0%|          | 0/9025 [00:00<?, ?batch/s]"
      ],
      "application/vnd.jupyter.widget-view+json": {
       "version_major": 2,
       "version_minor": 0,
       "model_id": "54d96114afda46028c9e59b5ef434a93"
      }
     },
     "metadata": {},
     "output_type": "display_data"
    },
    {
     "name": "stdout",
     "output_type": "stream",
     "text": [
      "val loss=1.5847574697624538; val accuracy=58.94412615506963%\n"
     ]
    },
    {
     "data": {
      "text/plain": [
       "Epoch 11/20:   0%|          | 0/9025 [00:00<?, ?batch/s]"
      ],
      "application/vnd.jupyter.widget-view+json": {
       "version_major": 2,
       "version_minor": 0,
       "model_id": "496097b4e14f4e72af5072f09be1cb00"
      }
     },
     "metadata": {},
     "output_type": "display_data"
    },
    {
     "name": "stdout",
     "output_type": "stream",
     "text": [
      "val loss=1.5866303122540792; val accuracy=58.86542181329101%\n"
     ]
    },
    {
     "data": {
      "text/plain": [
       "Epoch 12/20:   0%|          | 0/9025 [00:00<?, ?batch/s]"
      ],
      "application/vnd.jupyter.widget-view+json": {
       "version_major": 2,
       "version_minor": 0,
       "model_id": "e73e4bc972ab459090a1cf2575c2d7f2"
      }
     },
     "metadata": {},
     "output_type": "display_data"
    },
    {
     "name": "stdout",
     "output_type": "stream",
     "text": [
      "val loss=1.5807491499420179; val accuracy=58.97979509345905%\n"
     ]
    },
    {
     "data": {
      "text/plain": [
       "Epoch 13/20:   0%|          | 0/9025 [00:00<?, ?batch/s]"
      ],
      "application/vnd.jupyter.widget-view+json": {
       "version_major": 2,
       "version_minor": 0,
       "model_id": "d7812fcfe6aa4bdbb1564c9b6159119c"
      }
     },
     "metadata": {},
     "output_type": "display_data"
    },
    {
     "name": "stdout",
     "output_type": "stream",
     "text": [
      "val loss=1.5781121395069242; val accuracy=59.09383668467886%\n"
     ]
    },
    {
     "data": {
      "text/plain": [
       "Epoch 14/20:   0%|          | 0/9025 [00:00<?, ?batch/s]"
      ],
      "application/vnd.jupyter.widget-view+json": {
       "version_major": 2,
       "version_minor": 0,
       "model_id": "21e36a8ca7d5473c866ca5ebf989f71b"
      }
     },
     "metadata": {},
     "output_type": "display_data"
    },
    {
     "name": "stdout",
     "output_type": "stream",
     "text": [
      "val loss=1.5856675268042517; val accuracy=58.92350203330276%\n"
     ]
    },
    {
     "data": {
      "text/plain": [
       "Epoch 15/20:   0%|          | 0/9025 [00:00<?, ?batch/s]"
      ],
      "application/vnd.jupyter.widget-view+json": {
       "version_major": 2,
       "version_minor": 0,
       "model_id": "ce41e2a1584d4861aa100e87a1d45fc1"
      }
     },
     "metadata": {},
     "output_type": "display_data"
    },
    {
     "name": "stdout",
     "output_type": "stream",
     "text": [
      "val loss=1.5854316758867288; val accuracy=58.97232466625161%\n"
     ]
    },
    {
     "data": {
      "text/plain": [
       "Epoch 16/20:   0%|          | 0/9025 [00:00<?, ?batch/s]"
      ],
      "application/vnd.jupyter.widget-view+json": {
       "version_major": 2,
       "version_minor": 0,
       "model_id": "bc8d0e6a24334c849dba243e8cb481f3"
      }
     },
     "metadata": {},
     "output_type": "display_data"
    },
    {
     "name": "stdout",
     "output_type": "stream",
     "text": [
      "val loss=1.583949057109238; val accuracy=58.98932496249439%\n"
     ]
    },
    {
     "data": {
      "text/plain": [
       "Epoch 17/20:   0%|          | 0/9025 [00:00<?, ?batch/s]"
      ],
      "application/vnd.jupyter.widget-view+json": {
       "version_major": 2,
       "version_minor": 0,
       "model_id": "852e71bc46a04b529ef5717884dd1ebd"
      }
     },
     "metadata": {},
     "output_type": "display_data"
    },
    {
     "name": "stdout",
     "output_type": "stream",
     "text": [
      "val loss=1.5891243565758493; val accuracy=58.900937283659594%\n"
     ]
    },
    {
     "data": {
      "text/plain": [
       "Epoch 18/20:   0%|          | 0/9025 [00:00<?, ?batch/s]"
      ],
      "application/vnd.jupyter.widget-view+json": {
       "version_major": 2,
       "version_minor": 0,
       "model_id": "79fdfe0c83764458ab4e045a54cdfc2e"
      }
     },
     "metadata": {},
     "output_type": "display_data"
    },
    {
     "name": "stdout",
     "output_type": "stream",
     "text": [
      "val loss=1.585695252609094; val accuracy=58.956700631614964%\n"
     ]
    },
    {
     "data": {
      "text/plain": [
       "Epoch 19/20:   0%|          | 0/9025 [00:00<?, ?batch/s]"
      ],
      "application/vnd.jupyter.widget-view+json": {
       "version_major": 2,
       "version_minor": 0,
       "model_id": "75d6522569104d2e85efcfe2c3408230"
      }
     },
     "metadata": {},
     "output_type": "display_data"
    },
    {
     "name": "stdout",
     "output_type": "stream",
     "text": [
      "val loss=1.5829257540643304; val accuracy=59.088999966732096%\n"
     ]
    },
    {
     "data": {
      "text/plain": [
       "Epoch 20/20:   0%|          | 0/9025 [00:00<?, ?batch/s]"
      ],
      "application/vnd.jupyter.widget-view+json": {
       "version_major": 2,
       "version_minor": 0,
       "model_id": "48b610debdb04938a954c7f899f474cc"
      }
     },
     "metadata": {},
     "output_type": "display_data"
    },
    {
     "name": "stdout",
     "output_type": "stream",
     "text": [
      "val loss=1.5857046856234975; val accuracy=59.00507276166397%\n",
      "0\n"
     ]
    },
    {
     "name": "stderr",
     "output_type": "stream",
     "text": [
      "/Users/allynbao/miniconda3/envs/music_transcription/lib/python3.10/site-packages/torch/nn/modules/rnn.py:123: UserWarning: dropout option adds dropout after all but last recurrent layer, so non-zero dropout expects num_layers greater than 1, but got dropout=0.5 and num_layers=1\n",
      "  warnings.warn(\n"
     ]
    },
    {
     "data": {
      "text/plain": [
       "Epoch 1/20:   0%|          | 0/9025 [00:00<?, ?batch/s]"
      ],
      "application/vnd.jupyter.widget-view+json": {
       "version_major": 2,
       "version_minor": 0,
       "model_id": "14a65739ac4a49799134d5552cbdc6ea"
      }
     },
     "metadata": {},
     "output_type": "display_data"
    },
    {
     "name": "stdout",
     "output_type": "stream",
     "text": [
      "val loss=1.633607945611493; val accuracy=57.342365569934685%\n"
     ]
    },
    {
     "data": {
      "text/plain": [
       "Epoch 2/20:   0%|          | 0/9025 [00:00<?, ?batch/s]"
      ],
      "application/vnd.jupyter.widget-view+json": {
       "version_major": 2,
       "version_minor": 0,
       "model_id": "2dd670e49091409e8942804acd45637b"
      }
     },
     "metadata": {},
     "output_type": "display_data"
    },
    {
     "name": "stdout",
     "output_type": "stream",
     "text": [
      "val loss=1.6172987233781095; val accuracy=57.471125239410114%\n"
     ]
    },
    {
     "data": {
      "text/plain": [
       "Epoch 3/20:   0%|          | 0/9025 [00:00<?, ?batch/s]"
      ],
      "application/vnd.jupyter.widget-view+json": {
       "version_major": 2,
       "version_minor": 0,
       "model_id": "2132faccbf004a1781fe63c440b09500"
      }
     },
     "metadata": {},
     "output_type": "display_data"
    },
    {
     "name": "stdout",
     "output_type": "stream",
     "text": [
      "val loss=1.6037545772422803; val accuracy=57.90568726742169%\n"
     ]
    },
    {
     "data": {
      "text/plain": [
       "Epoch 4/20:   0%|          | 0/9025 [00:00<?, ?batch/s]"
      ],
      "application/vnd.jupyter.widget-view+json": {
       "version_major": 2,
       "version_minor": 0,
       "model_id": "ede5d46e5bda4e39a3c42298aedc6ca1"
      }
     },
     "metadata": {},
     "output_type": "display_data"
    },
    {
     "name": "stdout",
     "output_type": "stream",
     "text": [
      "val loss=1.5908978332887629; val accuracy=58.25516365433695%\n"
     ]
    },
    {
     "data": {
      "text/plain": [
       "Epoch 5/20:   0%|          | 0/9025 [00:00<?, ?batch/s]"
      ],
      "application/vnd.jupyter.widget-view+json": {
       "version_major": 2,
       "version_minor": 0,
       "model_id": "48246cfaede34322be4a80b2d3ebc9ef"
      }
     },
     "metadata": {},
     "output_type": "display_data"
    },
    {
     "name": "stdout",
     "output_type": "stream",
     "text": [
      "val loss=1.587847696412163; val accuracy=58.388710535945975%\n"
     ]
    },
    {
     "data": {
      "text/plain": [
       "Epoch 6/20:   0%|          | 0/9025 [00:00<?, ?batch/s]"
      ],
      "application/vnd.jupyter.widget-view+json": {
       "version_major": 2,
       "version_minor": 0,
       "model_id": "162af069c32c42d2ae80e5da68b5e2b1"
      }
     },
     "metadata": {},
     "output_type": "display_data"
    },
    {
     "name": "stdout",
     "output_type": "stream",
     "text": [
      "val loss=1.5893749817401366; val accuracy=58.37977968724999%\n"
     ]
    },
    {
     "data": {
      "text/plain": [
       "Epoch 7/20:   0%|          | 0/9025 [00:00<?, ?batch/s]"
      ],
      "application/vnd.jupyter.widget-view+json": {
       "version_major": 2,
       "version_minor": 0,
       "model_id": "ac261a04d55e431f818d54425321228e"
      }
     },
     "metadata": {},
     "output_type": "display_data"
    },
    {
     "name": "stdout",
     "output_type": "stream",
     "text": [
      "val loss=1.5916924296169694; val accuracy=58.39542352421191%\n"
     ]
    },
    {
     "data": {
      "text/plain": [
       "Epoch 8/20:   0%|          | 0/9025 [00:00<?, ?batch/s]"
      ],
      "application/vnd.jupyter.widget-view+json": {
       "version_major": 2,
       "version_minor": 0,
       "model_id": "9608be77c22843128d23813edbaa34de"
      }
     },
     "metadata": {},
     "output_type": "display_data"
    },
    {
     "name": "stdout",
     "output_type": "stream",
     "text": [
      "val loss=1.5930589296954978; val accuracy=58.428290433575874%\n"
     ]
    },
    {
     "data": {
      "text/plain": [
       "Epoch 9/20:   0%|          | 0/9025 [00:00<?, ?batch/s]"
      ],
      "application/vnd.jupyter.widget-view+json": {
       "version_major": 2,
       "version_minor": 0,
       "model_id": "2e5f047f0fdc480a8f64d157d9d2e0df"
      }
     },
     "metadata": {},
     "output_type": "display_data"
    },
    {
     "name": "stdout",
     "output_type": "stream",
     "text": [
      "val loss=1.5959679650709033; val accuracy=58.38099753025399%\n"
     ]
    },
    {
     "data": {
      "text/plain": [
       "Epoch 10/20:   0%|          | 0/9025 [00:00<?, ?batch/s]"
      ],
      "application/vnd.jupyter.widget-view+json": {
       "version_major": 2,
       "version_minor": 0,
       "model_id": "a02de1c89c0e4786aba87c64bfe531c1"
      }
     },
     "metadata": {},
     "output_type": "display_data"
    },
    {
     "name": "stdout",
     "output_type": "stream",
     "text": [
      "val loss=1.5910159703918187; val accuracy=58.59001107346029%\n"
     ]
    },
    {
     "data": {
      "text/plain": [
       "Epoch 11/20:   0%|          | 0/9025 [00:00<?, ?batch/s]"
      ],
      "application/vnd.jupyter.widget-view+json": {
       "version_major": 2,
       "version_minor": 0,
       "model_id": "b944f3e98e67415f85fe61de252ef066"
      }
     },
     "metadata": {},
     "output_type": "display_data"
    },
    {
     "name": "stdout",
     "output_type": "stream",
     "text": [
      "val loss=1.5901794432652372; val accuracy=58.64887348532014%\n"
     ]
    },
    {
     "data": {
      "text/plain": [
       "Epoch 12/20:   0%|          | 0/9025 [00:00<?, ?batch/s]"
      ],
      "application/vnd.jupyter.widget-view+json": {
       "version_major": 2,
       "version_minor": 0,
       "model_id": "cae3236c93b34a86b09f0f35ab4fc1a5"
      }
     },
     "metadata": {},
     "output_type": "display_data"
    },
    {
     "name": "stdout",
     "output_type": "stream",
     "text": [
      "val loss=1.5932662054601194; val accuracy=58.559000632090225%\n"
     ]
    },
    {
     "data": {
      "text/plain": [
       "Epoch 13/20:   0%|          | 0/9025 [00:00<?, ?batch/s]"
      ],
      "application/vnd.jupyter.widget-view+json": {
       "version_major": 2,
       "version_minor": 0,
       "model_id": "341d496ffe0b496081a630dbf21b9ca9"
      }
     },
     "metadata": {},
     "output_type": "display_data"
    },
    {
     "name": "stdout",
     "output_type": "stream",
     "text": [
      "val loss=1.5978767708951955; val accuracy=58.49617280459541%\n"
     ]
    },
    {
     "data": {
      "text/plain": [
       "Epoch 14/20:   0%|          | 0/9025 [00:00<?, ?batch/s]"
      ],
      "application/vnd.jupyter.widget-view+json": {
       "version_major": 2,
       "version_minor": 0,
       "model_id": "dba82a5cb66d4378b6a702d1cc12f8e0"
      }
     },
     "metadata": {},
     "output_type": "display_data"
    },
    {
     "name": "stdout",
     "output_type": "stream",
     "text": [
      "val loss=1.5944813935014088; val accuracy=58.55705505363262%\n"
     ]
    },
    {
     "data": {
      "text/plain": [
       "Epoch 15/20:   0%|          | 0/9025 [00:00<?, ?batch/s]"
      ],
      "application/vnd.jupyter.widget-view+json": {
       "version_major": 2,
       "version_minor": 0,
       "model_id": "21acd33693ae49f89807df1540c4b24f"
      }
     },
     "metadata": {},
     "output_type": "display_data"
    },
    {
     "name": "stdout",
     "output_type": "stream",
     "text": [
      "val loss=1.5947338601181227; val accuracy=58.64598234583098%\n"
     ]
    },
    {
     "data": {
      "text/plain": [
       "Epoch 16/20:   0%|          | 0/9025 [00:00<?, ?batch/s]"
      ],
      "application/vnd.jupyter.widget-view+json": {
       "version_major": 2,
       "version_minor": 0,
       "model_id": "203763c1f9b0417aadb0176b8d1469b1"
      }
     },
     "metadata": {},
     "output_type": "display_data"
    },
    {
     "name": "stdout",
     "output_type": "stream",
     "text": [
      "val loss=1.5944071445887353; val accuracy=58.663769784503174%\n"
     ]
    },
    {
     "data": {
      "text/plain": [
       "Epoch 17/20:   0%|          | 0/9025 [00:00<?, ?batch/s]"
      ],
      "application/vnd.jupyter.widget-view+json": {
       "version_major": 2,
       "version_minor": 0,
       "model_id": "8821af13d6c14110bda2602bf91d4146"
      }
     },
     "metadata": {},
     "output_type": "display_data"
    },
    {
     "name": "stdout",
     "output_type": "stream",
     "text": [
      "val loss=1.5901349004239649; val accuracy=58.77530638157655%\n"
     ]
    },
    {
     "data": {
      "text/plain": [
       "Epoch 18/20:   0%|          | 0/9025 [00:00<?, ?batch/s]"
      ],
      "application/vnd.jupyter.widget-view+json": {
       "version_major": 2,
       "version_minor": 0,
       "model_id": "96d404f2e2854f808a3947c4d4245982"
      }
     },
     "metadata": {},
     "output_type": "display_data"
    },
    {
     "name": "stdout",
     "output_type": "stream",
     "text": [
      "val loss=1.5920758195453322; val accuracy=58.768509233428226%\n"
     ]
    },
    {
     "data": {
      "text/plain": [
       "Epoch 19/20:   0%|          | 0/9025 [00:00<?, ?batch/s]"
      ],
      "application/vnd.jupyter.widget-view+json": {
       "version_major": 2,
       "version_minor": 0,
       "model_id": "9bcc99d48ed4435cbca3337bb36cbecd"
      }
     },
     "metadata": {},
     "output_type": "display_data"
    },
    {
     "name": "stdout",
     "output_type": "stream",
     "text": [
      "val loss=1.5908708368611841; val accuracy=58.791034378420854%\n"
     ]
    },
    {
     "data": {
      "text/plain": [
       "Epoch 20/20:   0%|          | 0/9025 [00:00<?, ?batch/s]"
      ],
      "application/vnd.jupyter.widget-view+json": {
       "version_major": 2,
       "version_minor": 0,
       "model_id": "02d726d5f49245cdbe55d1bfe93d23d3"
      }
     },
     "metadata": {},
     "output_type": "display_data"
    },
    {
     "name": "stdout",
     "output_type": "stream",
     "text": [
      "val loss=1.5927455351756565; val accuracy=58.79761370099123%\n",
      "1\n"
     ]
    },
    {
     "name": "stderr",
     "output_type": "stream",
     "text": [
      "/Users/allynbao/miniconda3/envs/music_transcription/lib/python3.10/site-packages/torch/nn/modules/rnn.py:123: UserWarning: dropout option adds dropout after all but last recurrent layer, so non-zero dropout expects num_layers greater than 1, but got dropout=0.5 and num_layers=1\n",
      "  warnings.warn(\n"
     ]
    },
    {
     "data": {
      "text/plain": [
       "Epoch 1/20:   0%|          | 0/9025 [00:00<?, ?batch/s]"
      ],
      "application/vnd.jupyter.widget-view+json": {
       "version_major": 2,
       "version_minor": 0,
       "model_id": "e7bd87824a6c40b884375eb46e4d7a80"
      }
     },
     "metadata": {},
     "output_type": "display_data"
    },
    {
     "name": "stdout",
     "output_type": "stream",
     "text": [
      "val loss=1.6316439081592415; val accuracy=56.962809450936966%\n"
     ]
    },
    {
     "data": {
      "text/plain": [
       "Epoch 2/20:   0%|          | 0/9025 [00:00<?, ?batch/s]"
      ],
      "application/vnd.jupyter.widget-view+json": {
       "version_major": 2,
       "version_minor": 0,
       "model_id": "62b4c476707649d9845b6ee4d879623f"
      }
     },
     "metadata": {},
     "output_type": "display_data"
    },
    {
     "name": "stdout",
     "output_type": "stream",
     "text": [
      "val loss=1.603114201991454; val accuracy=57.51182891899899%\n"
     ]
    },
    {
     "data": {
      "text/plain": [
       "Epoch 3/20:   0%|          | 0/9025 [00:00<?, ?batch/s]"
      ],
      "application/vnd.jupyter.widget-view+json": {
       "version_major": 2,
       "version_minor": 0,
       "model_id": "374bf3fbf5364d3aa441f4ea46f1bc2b"
      }
     },
     "metadata": {},
     "output_type": "display_data"
    },
    {
     "name": "stdout",
     "output_type": "stream",
     "text": [
      "val loss=1.578994182683216; val accuracy=58.1819099025884%\n"
     ]
    },
    {
     "data": {
      "text/plain": [
       "Epoch 4/20:   0%|          | 0/9025 [00:00<?, ?batch/s]"
      ],
      "application/vnd.jupyter.widget-view+json": {
       "version_major": 2,
       "version_minor": 0,
       "model_id": "1c4547a687df409c9278782990307209"
      }
     },
     "metadata": {},
     "output_type": "display_data"
    },
    {
     "name": "stdout",
     "output_type": "stream",
     "text": [
      "val loss=1.5697194353699095; val accuracy=58.62990780829448%\n"
     ]
    },
    {
     "data": {
      "text/plain": [
       "Epoch 5/20:   0%|          | 0/9025 [00:00<?, ?batch/s]"
      ],
      "application/vnd.jupyter.widget-view+json": {
       "version_major": 2,
       "version_minor": 0,
       "model_id": "bfd2871cef0942a080f6be4064606a20"
      }
     },
     "metadata": {},
     "output_type": "display_data"
    },
    {
     "name": "stdout",
     "output_type": "stream",
     "text": [
      "val loss=1.5674496012542827; val accuracy=58.80081672710336%\n"
     ]
    },
    {
     "data": {
      "text/plain": [
       "Epoch 6/20:   0%|          | 0/9025 [00:00<?, ?batch/s]"
      ],
      "application/vnd.jupyter.widget-view+json": {
       "version_major": 2,
       "version_minor": 0,
       "model_id": "fdf6e27afd1e46d0888281dcd02a4c26"
      }
     },
     "metadata": {},
     "output_type": "display_data"
    },
    {
     "name": "stdout",
     "output_type": "stream",
     "text": [
      "val loss=1.5737819727557425; val accuracy=58.71511226334241%\n"
     ]
    },
    {
     "data": {
      "text/plain": [
       "Epoch 7/20:   0%|          | 0/9025 [00:00<?, ?batch/s]"
      ],
      "application/vnd.jupyter.widget-view+json": {
       "version_major": 2,
       "version_minor": 0,
       "model_id": "1531a63b2afd410082bffb24fb815301"
      }
     },
     "metadata": {},
     "output_type": "display_data"
    },
    {
     "name": "stdout",
     "output_type": "stream",
     "text": [
      "val loss=1.5774025399230884; val accuracy=58.702889278070586%\n"
     ]
    },
    {
     "data": {
      "text/plain": [
       "Epoch 8/20:   0%|          | 0/9025 [00:00<?, ?batch/s]"
      ],
      "application/vnd.jupyter.widget-view+json": {
       "version_major": 2,
       "version_minor": 0,
       "model_id": "b03dddae17e44e55ae3906f60fce04b1"
      }
     },
     "metadata": {},
     "output_type": "display_data"
    },
    {
     "name": "stdout",
     "output_type": "stream",
     "text": [
      "val loss=1.582396851810802; val accuracy=58.67430462154588%\n"
     ]
    },
    {
     "data": {
      "text/plain": [
       "Epoch 9/20:   0%|          | 0/9025 [00:00<?, ?batch/s]"
      ],
      "application/vnd.jupyter.widget-view+json": {
       "version_major": 2,
       "version_minor": 0,
       "model_id": "7ebe3d0776864c69902d96eef42adafe"
      }
     },
     "metadata": {},
     "output_type": "display_data"
    },
    {
     "name": "stdout",
     "output_type": "stream",
     "text": [
      "val loss=1.5836693019517276; val accuracy=58.735335388022605%\n"
     ]
    },
    {
     "data": {
      "text/plain": [
       "Epoch 10/20:   0%|          | 0/9025 [00:00<?, ?batch/s]"
      ],
      "application/vnd.jupyter.widget-view+json": {
       "version_major": 2,
       "version_minor": 0,
       "model_id": "e82fe855c95145578d0e091e1e7fae38"
      }
     },
     "metadata": {},
     "output_type": "display_data"
    },
    {
     "name": "stdout",
     "output_type": "stream",
     "text": [
      "val loss=1.5841402174963388; val accuracy=58.77436082054499%\n"
     ]
    },
    {
     "data": {
      "text/plain": [
       "Epoch 11/20:   0%|          | 0/9025 [00:00<?, ?batch/s]"
      ],
      "application/vnd.jupyter.widget-view+json": {
       "version_major": 2,
       "version_minor": 0,
       "model_id": "4a0739dae6c346b6a9959d41f10500e8"
      }
     },
     "metadata": {},
     "output_type": "display_data"
    },
    {
     "name": "stdout",
     "output_type": "stream",
     "text": [
      "val loss=1.5831753410861247; val accuracy=58.80553958167984%\n"
     ]
    },
    {
     "data": {
      "text/plain": [
       "Epoch 12/20:   0%|          | 0/9025 [00:00<?, ?batch/s]"
      ],
      "application/vnd.jupyter.widget-view+json": {
       "version_major": 2,
       "version_minor": 0,
       "model_id": "a9f11b6e0f8b44dfaf49b8996d91ca96"
      }
     },
     "metadata": {},
     "output_type": "display_data"
    },
    {
     "name": "stdout",
     "output_type": "stream",
     "text": [
      "val loss=1.584361705737838; val accuracy=58.78668281744316%\n"
     ]
    },
    {
     "data": {
      "text/plain": [
       "Epoch 13/20:   0%|          | 0/9025 [00:00<?, ?batch/s]"
      ],
      "application/vnd.jupyter.widget-view+json": {
       "version_major": 2,
       "version_minor": 0,
       "model_id": "19dabcd368234fd88a99223f81938ff2"
      }
     },
     "metadata": {},
     "output_type": "display_data"
    },
    {
     "name": "stdout",
     "output_type": "stream",
     "text": [
      "val loss=1.5907099214004077; val accuracy=58.69813176942489%\n"
     ]
    },
    {
     "data": {
      "text/plain": [
       "Epoch 14/20:   0%|          | 0/9025 [00:00<?, ?batch/s]"
      ],
      "application/vnd.jupyter.widget-view+json": {
       "version_major": 2,
       "version_minor": 0,
       "model_id": "281c646f9fd24e74bb04ea5fb99612a2"
      }
     },
     "metadata": {},
     "output_type": "display_data"
    },
    {
     "name": "stdout",
     "output_type": "stream",
     "text": [
      "val loss=1.5874725700817645; val accuracy=58.76262299224224%\n"
     ]
    },
    {
     "data": {
      "text/plain": [
       "Epoch 15/20:   0%|          | 0/9025 [00:00<?, ?batch/s]"
      ],
      "application/vnd.jupyter.widget-view+json": {
       "version_major": 2,
       "version_minor": 0,
       "model_id": "e3ebe46b91fd45128bd4369a2468a8e9"
      }
     },
     "metadata": {},
     "output_type": "display_data"
    },
    {
     "name": "stdout",
     "output_type": "stream",
     "text": [
      "val loss=1.5879401514991123; val accuracy=58.77168750663378%\n"
     ]
    },
    {
     "data": {
      "text/plain": [
       "Epoch 16/20:   0%|          | 0/9025 [00:00<?, ?batch/s]"
      ],
      "application/vnd.jupyter.widget-view+json": {
       "version_major": 2,
       "version_minor": 0,
       "model_id": "be617cc5ffff4811ba12adea7b53acb5"
      }
     },
     "metadata": {},
     "output_type": "display_data"
    },
    {
     "name": "stdout",
     "output_type": "stream",
     "text": [
      "val loss=1.5849502796506718; val accuracy=58.84600068278417%\n"
     ]
    },
    {
     "data": {
      "text/plain": [
       "Epoch 17/20:   0%|          | 0/9025 [00:00<?, ?batch/s]"
      ],
      "application/vnd.jupyter.widget-view+json": {
       "version_major": 2,
       "version_minor": 0,
       "model_id": "fe44da4ce6d94b3f934285c03b9daeb6"
      }
     },
     "metadata": {},
     "output_type": "display_data"
    },
    {
     "name": "stdout",
     "output_type": "stream",
     "text": [
      "val loss=1.5875888355511594; val accuracy=58.80599503516101%\n"
     ]
    },
    {
     "data": {
      "text/plain": [
       "Epoch 18/20:   0%|          | 0/9025 [00:00<?, ?batch/s]"
      ],
      "application/vnd.jupyter.widget-view+json": {
       "version_major": 2,
       "version_minor": 0,
       "model_id": "60b270f69baa43b994e1059224e057b1"
      }
     },
     "metadata": {},
     "output_type": "display_data"
    },
    {
     "name": "stdout",
     "output_type": "stream",
     "text": [
      "val loss=1.5857800351098046; val accuracy=58.84167387471307%\n"
     ]
    },
    {
     "data": {
      "text/plain": [
       "Epoch 19/20:   0%|          | 0/9025 [00:00<?, ?batch/s]"
      ],
      "application/vnd.jupyter.widget-view+json": {
       "version_major": 2,
       "version_minor": 0,
       "model_id": "3e1f2ad5c28042c584b1fbf0338ee566"
      }
     },
     "metadata": {},
     "output_type": "display_data"
    },
    {
     "name": "stdout",
     "output_type": "stream",
     "text": [
      "val loss=1.5869204349877786; val accuracy=58.77184097465461%\n"
     ]
    },
    {
     "data": {
      "text/plain": [
       "Epoch 20/20:   0%|          | 0/9025 [00:00<?, ?batch/s]"
      ],
      "application/vnd.jupyter.widget-view+json": {
       "version_major": 2,
       "version_minor": 0,
       "model_id": "960524d7fde74fa7aec37400761b21f0"
      }
     },
     "metadata": {},
     "output_type": "display_data"
    },
    {
     "name": "stdout",
     "output_type": "stream",
     "text": [
      "val loss=1.5851400219539096; val accuracy=58.81146542751636%\n",
      "2\n"
     ]
    },
    {
     "name": "stderr",
     "output_type": "stream",
     "text": [
      "/Users/allynbao/miniconda3/envs/music_transcription/lib/python3.10/site-packages/torch/nn/modules/rnn.py:123: UserWarning: dropout option adds dropout after all but last recurrent layer, so non-zero dropout expects num_layers greater than 1, but got dropout=0.5 and num_layers=1\n",
      "  warnings.warn(\n"
     ]
    },
    {
     "data": {
      "text/plain": [
       "Epoch 1/20:   0%|          | 0/9025 [00:00<?, ?batch/s]"
      ],
      "application/vnd.jupyter.widget-view+json": {
       "version_major": 2,
       "version_minor": 0,
       "model_id": "a7006d197bdb4be4bcf1b9f4d87776f7"
      }
     },
     "metadata": {},
     "output_type": "display_data"
    },
    {
     "name": "stdout",
     "output_type": "stream",
     "text": [
      "val loss=1.616952239264713; val accuracy=58.56080759427095%\n"
     ]
    },
    {
     "data": {
      "text/plain": [
       "Epoch 2/20:   0%|          | 0/9025 [00:00<?, ?batch/s]"
      ],
      "application/vnd.jupyter.widget-view+json": {
       "version_major": 2,
       "version_minor": 0,
       "model_id": "b264f52816bf4f6cb52bf3fe5b482cfe"
      }
     },
     "metadata": {},
     "output_type": "display_data"
    },
    {
     "name": "stdout",
     "output_type": "stream",
     "text": [
      "val loss=1.58626665623518; val accuracy=59.03198412170351%\n"
     ]
    },
    {
     "data": {
      "text/plain": [
       "Epoch 3/20:   0%|          | 0/9025 [00:00<?, ?batch/s]"
      ],
      "application/vnd.jupyter.widget-view+json": {
       "version_major": 2,
       "version_minor": 0,
       "model_id": "a6d5f9508e754f8c8caae2fbe7d2432c"
      }
     },
     "metadata": {},
     "output_type": "display_data"
    },
    {
     "name": "stdout",
     "output_type": "stream",
     "text": [
      "val loss=1.5829082832282169; val accuracy=58.937215143551015%\n"
     ]
    },
    {
     "data": {
      "text/plain": [
       "Epoch 4/20:   0%|          | 0/9025 [00:00<?, ?batch/s]"
      ],
      "application/vnd.jupyter.widget-view+json": {
       "version_major": 2,
       "version_minor": 0,
       "model_id": "94221006e4ff492db27bf99b4793b90e"
      }
     },
     "metadata": {},
     "output_type": "display_data"
    },
    {
     "name": "stdout",
     "output_type": "stream",
     "text": [
      "val loss=1.5758231593059973; val accuracy=59.108886451882725%\n"
     ]
    },
    {
     "data": {
      "text/plain": [
       "Epoch 5/20:   0%|          | 0/9025 [00:00<?, ?batch/s]"
      ],
      "application/vnd.jupyter.widget-view+json": {
       "version_major": 2,
       "version_minor": 0,
       "model_id": "cffae7e3134a488bbbfd729499ce2eb6"
      }
     },
     "metadata": {},
     "output_type": "display_data"
    },
    {
     "name": "stdout",
     "output_type": "stream",
     "text": [
      "val loss=1.5766737006340104; val accuracy=58.998335020491446%\n"
     ]
    },
    {
     "data": {
      "text/plain": [
       "Epoch 6/20:   0%|          | 0/9025 [00:00<?, ?batch/s]"
      ],
      "application/vnd.jupyter.widget-view+json": {
       "version_major": 2,
       "version_minor": 0,
       "model_id": "8b8e75ac17fd4785bbee9099fb5f0ba4"
      }
     },
     "metadata": {},
     "output_type": "display_data"
    },
    {
     "name": "stdout",
     "output_type": "stream",
     "text": [
      "val loss=1.5770488904760103; val accuracy=58.93132890236503%\n"
     ]
    },
    {
     "data": {
      "text/plain": [
       "Epoch 7/20:   0%|          | 0/9025 [00:00<?, ?batch/s]"
      ],
      "application/vnd.jupyter.widget-view+json": {
       "version_major": 2,
       "version_minor": 0,
       "model_id": "4a2d6fe785074d5781c1c13a0a4665f7"
      }
     },
     "metadata": {},
     "output_type": "display_data"
    },
    {
     "name": "stdout",
     "output_type": "stream",
     "text": [
      "val loss=1.5751112573379065; val accuracy=58.95505208803639%\n"
     ]
    },
    {
     "data": {
      "text/plain": [
       "Epoch 8/20:   0%|          | 0/9025 [00:00<?, ?batch/s]"
      ],
      "application/vnd.jupyter.widget-view+json": {
       "version_major": 2,
       "version_minor": 0,
       "model_id": "64ab32eb193b433f8b589a58eb6bc33e"
      }
     },
     "metadata": {},
     "output_type": "display_data"
    },
    {
     "name": "stdout",
     "output_type": "stream",
     "text": [
      "val loss=1.5758212364569126; val accuracy=58.928596181478014%\n"
     ]
    },
    {
     "data": {
      "text/plain": [
       "Epoch 9/20:   0%|          | 0/9025 [00:00<?, ?batch/s]"
      ],
      "application/vnd.jupyter.widget-view+json": {
       "version_major": 2,
       "version_minor": 0,
       "model_id": "1f5d9041a44641759128a82564300414"
      }
     },
     "metadata": {},
     "output_type": "display_data"
    },
    {
     "name": "stdout",
     "output_type": "stream",
     "text": [
      "val loss=1.5769194400451354; val accuracy=58.909680010265525%\n"
     ]
    },
    {
     "data": {
      "text/plain": [
       "Epoch 10/20:   0%|          | 0/9025 [00:00<?, ?batch/s]"
      ],
      "application/vnd.jupyter.widget-view+json": {
       "version_major": 2,
       "version_minor": 0,
       "model_id": "32e9ccc90d664dc6bc58385497c09c8d"
      }
     },
     "metadata": {},
     "output_type": "display_data"
    },
    {
     "name": "stdout",
     "output_type": "stream",
     "text": [
      "val loss=1.5790885587565104; val accuracy=58.82786670341978%\n"
     ]
    },
    {
     "data": {
      "text/plain": [
       "Epoch 11/20:   0%|          | 0/9025 [00:00<?, ?batch/s]"
      ],
      "application/vnd.jupyter.widget-view+json": {
       "version_major": 2,
       "version_minor": 0,
       "model_id": "802a3c5417f14f40aa7f30921fc01276"
      }
     },
     "metadata": {},
     "output_type": "display_data"
    },
    {
     "name": "stdout",
     "output_type": "stream",
     "text": [
      "val loss=1.578892506112427; val accuracy=58.86441684528364%\n"
     ]
    },
    {
     "data": {
      "text/plain": [
       "Epoch 12/20:   0%|          | 0/9025 [00:00<?, ?batch/s]"
      ],
      "application/vnd.jupyter.widget-view+json": {
       "version_major": 2,
       "version_minor": 0,
       "model_id": "da2cd5d4623f4118b7c6947cf64fdd06"
      }
     },
     "metadata": {},
     "output_type": "display_data"
    },
    {
     "name": "stdout",
     "output_type": "stream",
     "text": [
      "val loss=1.580845426896666; val accuracy=58.79485622719762%\n"
     ]
    },
    {
     "data": {
      "text/plain": [
       "Epoch 13/20:   0%|          | 0/9025 [00:00<?, ?batch/s]"
      ],
      "application/vnd.jupyter.widget-view+json": {
       "version_major": 2,
       "version_minor": 0,
       "model_id": "7c784afcbdb84ffa9dd8a456c43e83df"
      }
     },
     "metadata": {},
     "output_type": "display_data"
    },
    {
     "name": "stdout",
     "output_type": "stream",
     "text": [
      "val loss=1.5787865796748708; val accuracy=58.871842717259234%\n"
     ]
    },
    {
     "data": {
      "text/plain": [
       "Epoch 14/20:   0%|          | 0/9025 [00:00<?, ?batch/s]"
      ],
      "application/vnd.jupyter.widget-view+json": {
       "version_major": 2,
       "version_minor": 0,
       "model_id": "63ba376be8a447ae8897bc782d0b4590"
      }
     },
     "metadata": {},
     "output_type": "display_data"
    },
    {
     "name": "stdout",
     "output_type": "stream",
     "text": [
      "val loss=1.5809428989879684; val accuracy=58.85818901398678%\n"
     ]
    },
    {
     "data": {
      "text/plain": [
       "Epoch 15/20:   0%|          | 0/9025 [00:00<?, ?batch/s]"
      ],
      "application/vnd.jupyter.widget-view+json": {
       "version_major": 2,
       "version_minor": 0,
       "model_id": "7edfab8ec6a343ccaacbd3c92f3b8996"
      }
     },
     "metadata": {},
     "output_type": "display_data"
    },
    {
     "name": "stdout",
     "output_type": "stream",
     "text": [
      "val loss=1.5818922198021346; val accuracy=58.81529222687445%\n"
     ]
    },
    {
     "data": {
      "text/plain": [
       "Epoch 16/20:   0%|          | 0/9025 [00:00<?, ?batch/s]"
      ],
      "application/vnd.jupyter.widget-view+json": {
       "version_major": 2,
       "version_minor": 0,
       "model_id": "88e8efdcfb6a413ba23b2e4c06c21670"
      }
     },
     "metadata": {},
     "output_type": "display_data"
    },
    {
     "name": "stdout",
     "output_type": "stream",
     "text": [
      "val loss=1.580558678160864; val accuracy=58.9233980710951%\n"
     ]
    },
    {
     "data": {
      "text/plain": [
       "Epoch 17/20:   0%|          | 0/9025 [00:00<?, ?batch/s]"
      ],
      "application/vnd.jupyter.widget-view+json": {
       "version_major": 2,
       "version_minor": 0,
       "model_id": "79841f0ab2904f45a7892e296d4a08f8"
      }
     },
     "metadata": {},
     "output_type": "display_data"
    },
    {
     "name": "stdout",
     "output_type": "stream",
     "text": [
      "val loss=1.5846472764892408; val accuracy=58.81780712218352%\n"
     ]
    },
    {
     "data": {
      "text/plain": [
       "Epoch 18/20:   0%|          | 0/9025 [00:00<?, ?batch/s]"
      ],
      "application/vnd.jupyter.widget-view+json": {
       "version_major": 2,
       "version_minor": 0,
       "model_id": "20802d02acb649578ebc28503f8bb4f3"
      }
     },
     "metadata": {},
     "output_type": "display_data"
    },
    {
     "name": "stdout",
     "output_type": "stream",
     "text": [
      "val loss=1.581949587728568; val accuracy=58.863649505179495%\n"
     ]
    },
    {
     "data": {
      "text/plain": [
       "Epoch 19/20:   0%|          | 0/9025 [00:00<?, ?batch/s]"
      ],
      "application/vnd.jupyter.widget-view+json": {
       "version_major": 2,
       "version_minor": 0,
       "model_id": "10a80fc0712846249a63ed1f18d84961"
      }
     },
     "metadata": {},
     "output_type": "display_data"
    },
    {
     "name": "stdout",
     "output_type": "stream",
     "text": [
      "val loss=1.5840704137194168; val accuracy=58.876362598001705%\n"
     ]
    },
    {
     "data": {
      "text/plain": [
       "Epoch 20/20:   0%|          | 0/9025 [00:00<?, ?batch/s]"
      ],
      "application/vnd.jupyter.widget-view+json": {
       "version_major": 2,
       "version_minor": 0,
       "model_id": "1543f0cd167f46989c4b5acb5b774952"
      }
     },
     "metadata": {},
     "output_type": "display_data"
    },
    {
     "name": "stdout",
     "output_type": "stream",
     "text": [
      "val loss=1.5838747911341988; val accuracy=58.82199036339643%\n",
      "3\n"
     ]
    },
    {
     "name": "stderr",
     "output_type": "stream",
     "text": [
      "/Users/allynbao/miniconda3/envs/music_transcription/lib/python3.10/site-packages/torch/nn/modules/rnn.py:123: UserWarning: dropout option adds dropout after all but last recurrent layer, so non-zero dropout expects num_layers greater than 1, but got dropout=0.5 and num_layers=1\n",
      "  warnings.warn(\n"
     ]
    },
    {
     "data": {
      "text/plain": [
       "Epoch 1/20:   0%|          | 0/9025 [00:00<?, ?batch/s]"
      ],
      "application/vnd.jupyter.widget-view+json": {
       "version_major": 2,
       "version_minor": 0,
       "model_id": "d38a5310b4c640c888c1afdff0b314bd"
      }
     },
     "metadata": {},
     "output_type": "display_data"
    },
    {
     "name": "stdout",
     "output_type": "stream",
     "text": [
      "val loss=1.5819719129329295; val accuracy=58.43038948005431%\n"
     ]
    },
    {
     "data": {
      "text/plain": [
       "Epoch 2/20:   0%|          | 0/9025 [00:00<?, ?batch/s]"
      ],
      "application/vnd.jupyter.widget-view+json": {
       "version_major": 2,
       "version_minor": 0,
       "model_id": "0162b3f19fa9475d95439e1449e5e2ea"
      }
     },
     "metadata": {},
     "output_type": "display_data"
    },
    {
     "name": "stdout",
     "output_type": "stream",
     "text": [
      "val loss=1.5597852455335852; val accuracy=59.004597505857525%\n"
     ]
    },
    {
     "data": {
      "text/plain": [
       "Epoch 3/20:   0%|          | 0/9025 [00:00<?, ?batch/s]"
      ],
      "application/vnd.jupyter.widget-view+json": {
       "version_major": 2,
       "version_minor": 0,
       "model_id": "cd741f3f77cf4816a6b54ad420f39397"
      }
     },
     "metadata": {},
     "output_type": "display_data"
    },
    {
     "name": "stdout",
     "output_type": "stream",
     "text": [
      "val loss=1.546080107950556; val accuracy=59.37389106978498%\n"
     ]
    },
    {
     "data": {
      "text/plain": [
       "Epoch 4/20:   0%|          | 0/9025 [00:00<?, ?batch/s]"
      ],
      "application/vnd.jupyter.widget-view+json": {
       "version_major": 2,
       "version_minor": 0,
       "model_id": "e67d575329944b9581a6031ea8600dc8"
      }
     },
     "metadata": {},
     "output_type": "display_data"
    },
    {
     "name": "stdout",
     "output_type": "stream",
     "text": [
      "val loss=1.5367596000206358; val accuracy=59.558315075589434%\n"
     ]
    },
    {
     "data": {
      "text/plain": [
       "Epoch 5/20:   0%|          | 0/9025 [00:00<?, ?batch/s]"
      ],
      "application/vnd.jupyter.widget-view+json": {
       "version_major": 2,
       "version_minor": 0,
       "model_id": "7cbe19e1e0cb41ccaa4a036fb16c37df"
      }
     },
     "metadata": {},
     "output_type": "display_data"
    },
    {
     "name": "stdout",
     "output_type": "stream",
     "text": [
      "val loss=1.536920837816088; val accuracy=59.59104336867652%\n"
     ]
    },
    {
     "data": {
      "text/plain": [
       "Epoch 6/20:   0%|          | 0/9025 [00:00<?, ?batch/s]"
      ],
      "application/vnd.jupyter.widget-view+json": {
       "version_major": 2,
       "version_minor": 0,
       "model_id": "414bed3c0aae45af9c0a7659b67d82d0"
      }
     },
     "metadata": {},
     "output_type": "display_data"
    },
    {
     "name": "stdout",
     "output_type": "stream",
     "text": [
      "val loss=1.5373892762001453; val accuracy=59.584434342618245%\n"
     ]
    },
    {
     "data": {
      "text/plain": [
       "Epoch 7/20:   0%|          | 0/9025 [00:00<?, ?batch/s]"
      ],
      "application/vnd.jupyter.widget-view+json": {
       "version_major": 2,
       "version_minor": 0,
       "model_id": "a5a99346c159418c9dfe760281123951"
      }
     },
     "metadata": {},
     "output_type": "display_data"
    },
    {
     "name": "stdout",
     "output_type": "stream",
     "text": [
      "val loss=1.5379786302487626; val accuracy=59.57616687181876%\n"
     ]
    },
    {
     "data": {
      "text/plain": [
       "Epoch 8/20:   0%|          | 0/9025 [00:00<?, ?batch/s]"
      ],
      "application/vnd.jupyter.widget-view+json": {
       "version_major": 2,
       "version_minor": 0,
       "model_id": "afc34885ec3f42e7a686b41e4befdd2d"
      }
     },
     "metadata": {},
     "output_type": "display_data"
    },
    {
     "name": "stdout",
     "output_type": "stream",
     "text": [
      "val loss=1.540861844400854; val accuracy=59.55778536338851%\n"
     ]
    },
    {
     "data": {
      "text/plain": [
       "Epoch 9/20:   0%|          | 0/9025 [00:00<?, ?batch/s]"
      ],
      "application/vnd.jupyter.widget-view+json": {
       "version_major": 2,
       "version_minor": 0,
       "model_id": "54524666cb9e4b7d8ded997c11fa6ac7"
      }
     },
     "metadata": {},
     "output_type": "display_data"
    },
    {
     "name": "stdout",
     "output_type": "stream",
     "text": [
      "val loss=1.5424980479641694; val accuracy=59.514457875701595%\n"
     ]
    },
    {
     "data": {
      "text/plain": [
       "Epoch 10/20:   0%|          | 0/9025 [00:00<?, ?batch/s]"
      ],
      "application/vnd.jupyter.widget-view+json": {
       "version_major": 2,
       "version_minor": 0,
       "model_id": "a8c824d4edea434cafe470cb5dddbc65"
      }
     },
     "metadata": {},
     "output_type": "display_data"
    },
    {
     "name": "stdout",
     "output_type": "stream",
     "text": [
      "val loss=1.5475947840093287; val accuracy=59.463481739879825%\n"
     ]
    },
    {
     "data": {
      "text/plain": [
       "Epoch 11/20:   0%|          | 0/9025 [00:00<?, ?batch/s]"
      ],
      "application/vnd.jupyter.widget-view+json": {
       "version_major": 2,
       "version_minor": 0,
       "model_id": "cc5353679aad41e0baed8419f3bb2496"
      }
     },
     "metadata": {},
     "output_type": "display_data"
    },
    {
     "name": "stdout",
     "output_type": "stream",
     "text": [
      "val loss=1.538294476597958; val accuracy=59.71507028241284%\n"
     ]
    },
    {
     "data": {
      "text/plain": [
       "Epoch 12/20:   0%|          | 0/9025 [00:00<?, ?batch/s]"
      ],
      "application/vnd.jupyter.widget-view+json": {
       "version_major": 2,
       "version_minor": 0,
       "model_id": "5d8fe8d793844922ad22cb55b324c627"
      }
     },
     "metadata": {},
     "output_type": "display_data"
    },
    {
     "name": "stdout",
     "output_type": "stream",
     "text": [
      "val loss=1.5440673997819556; val accuracy=59.744872781941545%\n"
     ]
    },
    {
     "data": {
      "text/plain": [
       "Epoch 13/20:   0%|          | 0/9025 [00:00<?, ?batch/s]"
      ],
      "application/vnd.jupyter.widget-view+json": {
       "version_major": 2,
       "version_minor": 0,
       "model_id": "e30706399f8849ff860f5fe9233b9599"
      }
     },
     "metadata": {},
     "output_type": "display_data"
    },
    {
     "name": "stdout",
     "output_type": "stream",
     "text": [
      "val loss=1.5440893486846918; val accuracy=59.732768610621335%\n"
     ]
    },
    {
     "data": {
      "text/plain": [
       "Epoch 14/20:   0%|          | 0/9025 [00:00<?, ?batch/s]"
      ],
      "application/vnd.jupyter.widget-view+json": {
       "version_major": 2,
       "version_minor": 0,
       "model_id": "d9530e275f334df096218b358b25df0a"
      }
     },
     "metadata": {},
     "output_type": "display_data"
    },
    {
     "name": "stdout",
     "output_type": "stream",
     "text": [
      "val loss=1.541619589543502; val accuracy=59.82542369055144%\n"
     ]
    },
    {
     "data": {
      "text/plain": [
       "Epoch 15/20:   0%|          | 0/9025 [00:00<?, ?batch/s]"
      ],
      "application/vnd.jupyter.widget-view+json": {
       "version_major": 2,
       "version_minor": 0,
       "model_id": "48f091e2a6a840178ea0d774ca04b9df"
      }
     },
     "metadata": {},
     "output_type": "display_data"
    },
    {
     "name": "stdout",
     "output_type": "stream",
     "text": [
      "val loss=1.5446354677481349; val accuracy=59.77008609258934%\n"
     ]
    },
    {
     "data": {
      "text/plain": [
       "Epoch 16/20:   0%|          | 0/9025 [00:00<?, ?batch/s]"
      ],
      "application/vnd.jupyter.widget-view+json": {
       "version_major": 2,
       "version_minor": 0,
       "model_id": "1045fe7288d342e893123b8442d126ea"
      }
     },
     "metadata": {},
     "output_type": "display_data"
    },
    {
     "name": "stdout",
     "output_type": "stream",
     "text": [
      "val loss=1.548602943628503; val accuracy=59.71225835222475%\n"
     ]
    },
    {
     "data": {
      "text/plain": [
       "Epoch 17/20:   0%|          | 0/9025 [00:00<?, ?batch/s]"
      ],
      "application/vnd.jupyter.widget-view+json": {
       "version_major": 2,
       "version_minor": 0,
       "model_id": "8e66cd5572504a7ba3a16fd8155d9fd4"
      }
     },
     "metadata": {},
     "output_type": "display_data"
    },
    {
     "name": "stdout",
     "output_type": "stream",
     "text": [
      "val loss=1.5417185753426037; val accuracy=59.88595939889645%\n"
     ]
    },
    {
     "data": {
      "text/plain": [
       "Epoch 18/20:   0%|          | 0/9025 [00:00<?, ?batch/s]"
      ],
      "application/vnd.jupyter.widget-view+json": {
       "version_major": 2,
       "version_minor": 0,
       "model_id": "1a6e0425edca494d847af5ae8f3bf174"
      }
     },
     "metadata": {},
     "output_type": "display_data"
    },
    {
     "name": "stdout",
     "output_type": "stream",
     "text": [
      "val loss=1.543331393208078; val accuracy=59.85599848076561%\n"
     ]
    },
    {
     "data": {
      "text/plain": [
       "Epoch 19/20:   0%|          | 0/9025 [00:00<?, ?batch/s]"
      ],
      "application/vnd.jupyter.widget-view+json": {
       "version_major": 2,
       "version_minor": 0,
       "model_id": "14015cdf5f8546be809a41e140c36920"
      }
     },
     "metadata": {},
     "output_type": "display_data"
    },
    {
     "name": "stdout",
     "output_type": "stream",
     "text": [
      "val loss=1.5441046969560694; val accuracy=59.88728615468943%\n"
     ]
    },
    {
     "data": {
      "text/plain": [
       "Epoch 20/20:   0%|          | 0/9025 [00:00<?, ?batch/s]"
      ],
      "application/vnd.jupyter.widget-view+json": {
       "version_major": 2,
       "version_minor": 0,
       "model_id": "eaff6285c1894c4689fa8a0e6c117e91"
      }
     },
     "metadata": {},
     "output_type": "display_data"
    },
    {
     "name": "stdout",
     "output_type": "stream",
     "text": [
      "val loss=1.5428818543915823; val accuracy=59.93010373250068%\n",
      "4\n",
      "{0: {'train_losses': [1.542085750674277, 1.3151158294816427, 1.2417561142629534, 1.197109610050339, 1.166739680575532, 1.1448673254697277, 1.1280261968740797, 1.1152558514913364, 1.1047866510568893, 1.0959188034742493, 1.0889048619134936, 1.082936021967938, 1.0774009365619384, 1.0721655167453508, 1.0682913677646182, 1.0643145849252342, 1.0608656792247724, 1.0594922941857097, 1.0549359234432765, 1.0535295308156356], 'val_losses': [1.598340374889378, 1.5840194158464913, 1.582412518364396, 1.5841560449893854, 1.583514234585154, 1.578232245466787, 1.579088949175035, 1.581396382377677, 1.5804613822429152, 1.5847574697624538, 1.5866303122540792, 1.5807491499420179, 1.5781121395069242, 1.5856675268042517, 1.5854316758867288, 1.583949057109238, 1.5891243565758493, 1.585695252609094, 1.5829257540643304, 1.5857046856234975], 'val_accuracies': [58.54887174271552, 58.71789944062392, 58.78636598023886, 58.76823695145579, 58.91073943466738, 59.06661838859766, 59.03794957219056, 58.97053750639615, 58.98100798588173, 58.94412615506963, 58.86542181329101, 58.97979509345905, 59.09383668467886, 58.92350203330276, 58.97232466625161, 58.98932496249439, 58.900937283659594, 58.956700631614964, 59.088999966732096, 59.00507276166397]}, 1: {'train_losses': [1.5391742239797546, 1.3087022770177625, 1.235345810783867, 1.190857389055791, 1.1612997028041745, 1.139173768625035, 1.1218382323366123, 1.1081846805160396, 1.096435034419526, 1.0873464531787875, 1.0796905377845685, 1.0730944696613627, 1.0674698852947875, 1.0623163077210456, 1.0585431794652977, 1.0546038153321788, 1.0517088186740875, 1.0482005339794873, 1.0465100029961225, 1.0433915372791382], 'val_losses': [1.633607945611493, 1.6172987233781095, 1.6037545772422803, 1.5908978332887629, 1.587847696412163, 1.5893749817401366, 1.5916924296169694, 1.5930589296954978, 1.5959679650709033, 1.5910159703918187, 1.5901794432652372, 1.5932662054601194, 1.5978767708951955, 1.5944813935014088, 1.5947338601181227, 1.5944071445887353, 1.5901349004239649, 1.5920758195453322, 1.5908708368611841, 1.5927455351756565], 'val_accuracies': [57.342365569934685, 57.471125239410114, 57.90568726742169, 58.25516365433695, 58.388710535945975, 58.37977968724999, 58.39542352421191, 58.428290433575874, 58.38099753025399, 58.59001107346029, 58.64887348532014, 58.559000632090225, 58.49617280459541, 58.55705505363262, 58.64598234583098, 58.663769784503174, 58.77530638157655, 58.768509233428226, 58.791034378420854, 58.79761370099123]}, 2: {'train_losses': [1.5426920344459714, 1.3143465489330715, 1.2414180594831292, 1.196097706757754, 1.166063102880013, 1.1434042425234892, 1.1269335526079352, 1.1133227938496175, 1.1025331927303461, 1.0936000080584158, 1.0859635541660304, 1.0792214880243893, 1.0727011731077098, 1.067225626994368, 1.0624796043555162, 1.0581614976114184, 1.0542030788045842, 1.0511501201500193, 1.0481684413477985, 1.046092915397932], 'val_losses': [1.6316439081592415, 1.603114201991454, 1.578994182683216, 1.5697194353699095, 1.5674496012542827, 1.5737819727557425, 1.5774025399230884, 1.582396851810802, 1.5836693019517276, 1.5841402174963388, 1.5831753410861247, 1.584361705737838, 1.5907099214004077, 1.5874725700817645, 1.5879401514991123, 1.5849502796506718, 1.5875888355511594, 1.5857800351098046, 1.5869204349877786, 1.5851400219539096], 'val_accuracies': [56.962809450936966, 57.51182891899899, 58.1819099025884, 58.62990780829448, 58.80081672710336, 58.71511226334241, 58.702889278070586, 58.67430462154588, 58.735335388022605, 58.77436082054499, 58.80553958167984, 58.78668281744316, 58.69813176942489, 58.76262299224224, 58.77168750663378, 58.84600068278417, 58.80599503516101, 58.84167387471307, 58.77184097465461, 58.81146542751636]}, 3: {'train_losses': [1.5522167268486233, 1.3121605221155277, 1.2346001677830134, 1.1887999689777142, 1.156595479517432, 1.1335689820774375, 1.116153348955091, 1.1026083297957343, 1.0915569915781391, 1.0824497852183446, 1.0742059605306535, 1.0680667191776874, 1.0633613490331866, 1.0577343403054738, 1.0540197184425972, 1.0502143196881313, 1.0465615352220483, 1.0440717568556028, 1.0410644541222633, 1.0390880407834648], 'val_losses': [1.616952239264713, 1.58626665623518, 1.5829082832282169, 1.5758231593059973, 1.5766737006340104, 1.5770488904760103, 1.5751112573379065, 1.5758212364569126, 1.5769194400451354, 1.5790885587565104, 1.578892506112427, 1.580845426896666, 1.5787865796748708, 1.5809428989879684, 1.5818922198021346, 1.580558678160864, 1.5846472764892408, 1.581949587728568, 1.5840704137194168, 1.5838747911341988], 'val_accuracies': [58.56080759427095, 59.03198412170351, 58.937215143551015, 59.108886451882725, 58.998335020491446, 58.93132890236503, 58.95505208803639, 58.928596181478014, 58.909680010265525, 58.82786670341978, 58.86441684528364, 58.79485622719762, 58.871842717259234, 58.85818901398678, 58.81529222687445, 58.9233980710951, 58.81780712218352, 58.863649505179495, 58.876362598001705, 58.82199036339643]}, 4: {'train_losses': [1.5317560647927493, 1.3036819867083902, 1.2303688955802337, 1.1858829499100054, 1.1561724868078311, 1.1343621568237314, 1.1173160289876019, 1.104692557132145, 1.093886478749669, 1.0850250074077512, 1.0779997495964293, 1.0718582766224474, 1.0672287423079034, 1.0622459637738992, 1.0581494157185516, 1.0542611930393446, 1.0507325303257338, 1.0476041758010923, 1.0453869257029405, 1.042414316297238], 'val_losses': [1.5819719129329295, 1.5597852455335852, 1.546080107950556, 1.5367596000206358, 1.536920837816088, 1.5373892762001453, 1.5379786302487626, 1.540861844400854, 1.5424980479641694, 1.5475947840093287, 1.538294476597958, 1.5440673997819556, 1.5440893486846918, 1.541619589543502, 1.5446354677481349, 1.548602943628503, 1.5417185753426037, 1.543331393208078, 1.5441046969560694, 1.5428818543915823], 'val_accuracies': [58.43038948005431, 59.004597505857525, 59.37389106978498, 59.558315075589434, 59.59104336867652, 59.584434342618245, 59.57616687181876, 59.55778536338851, 59.514457875701595, 59.463481739879825, 59.71507028241284, 59.744872781941545, 59.732768610621335, 59.82542369055144, 59.77008609258934, 59.71225835222475, 59.88595939889645, 59.85599848076561, 59.88728615468943, 59.93010373250068]}}\n"
     ]
    },
    {
     "data": {
      "text/plain": [
       "<Figure size 1000x600 with 1 Axes>"
      ],
      "image/png": "[encoded data removed]"
     },
     "metadata": {},
     "output_type": "display_data"
    },
    {
     "data": {
      "text/plain": [
       "<Figure size 1000x600 with 1 Axes>"
      ],
      "image/png": "[encoded data removed]"
     },
     "metadata": {},
     "output_type": "display_data"
    },
    {
     "data": {
      "text/plain": [
       "<Figure size 1000x600 with 1 Axes>"
      ],
      "image/png": "[encoded data removed]"
     },
     "metadata": {},
     "output_type": "display_data"
    }
   ],
   "execution_count": 9
  }
 ],
 "metadata": {
  "kernelspec": {
   "display_name": "Python 3",
   "language": "python",
   "name": "python3"
  },
  "language_info": {
   "codemirror_mode": {
    "name": "ipython",
    "version": 2
   },
   "file_extension": ".py",
   "mimetype": "text/x-python",
   "name": "python",
   "nbconvert_exporter": "python",
   "pygments_lexer": "ipython2",
   "version": "2.7.6"
  }
 },
 "nbformat": 4,
 "nbformat_minor": 5
}
