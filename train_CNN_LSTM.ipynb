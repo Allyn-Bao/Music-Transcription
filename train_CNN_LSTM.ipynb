{
 "cells": [
  {
   "cell_type": "code",
   "execution_count": 1,
   "metadata": {
    "collapsed": true
   },
   "outputs": [],
   "source": [
    "import torch\n",
    "import torch.nn as nn\n",
    "from torch.utils.data import Dataset, DataLoader\n",
    "from torchvision import models, transforms\n",
    "\n",
    "import json\n",
    "import numpy as np\n",
    "import pandas as pd\n",
    "from tqdm import tqdm\n",
    "\n",
    "import os"
   ]
  },
  {
   "cell_type": "code",
   "execution_count": 2,
   "outputs": [
    {
     "data": {
      "text/plain": "(2907214, 13)"
     },
     "execution_count": 2,
     "metadata": {},
     "output_type": "execute_result"
    }
   ],
   "source": [
    "df = pd.read_csv(\"train_data/train_x.csv\")\n",
    "df.shape"
   ],
   "metadata": {
    "collapsed": false
   }
  },
  {
   "cell_type": "code",
   "execution_count": null,
   "outputs": [],
   "source": [
    "# Metal GPU support\n",
    "if torch.backends.mps.is_available():\n",
    "    device = torch.device(\"mps\")  # \"mps\" stands for Metal Performance Shaders (Apple's Metal API)\n",
    "    print(\"Using Apple Metal GPU.\")\n",
    "else:\n",
    "    device = torch.device(\"cpu\")  # Fallback to CPU\n",
    "    print(\"Using CPU.\")"
   ],
   "metadata": {
    "collapsed": false
   }
  },
  {
   "cell_type": "markdown",
   "source": [
    "Dataset"
   ],
   "metadata": {
    "collapsed": false
   }
  },
  {
   "cell_type": "code",
   "execution_count": null,
   "outputs": [],
   "source": [
    "from scipy.ndimage import gaussian_filter1d\n",
    "\n",
    "\n",
    "def gaussian_smoothing(chroma_features, sigma=1):\n",
    "    \"\"\"\n",
    "    Apply Gaussian smoothing to chroma features.\n",
    "    :param chroma_features: numpy array of shape (num_samples, num_features)\n",
    "    :param sigma: standard deviation for the Gaussian kernel\n",
    "    :return: Smoothed chroma features\n",
    "    \"\"\"\n",
    "    smoothed_features = np.copy(chroma_features)\n",
    "    for i in range(chroma_features.shape[1]):  # Apply Gaussian smoothing to each chroma feature\n",
    "        smoothed_features[:, i] = gaussian_filter1d(chroma_features[:, i], sigma=sigma)\n",
    "    return smoothed_features\n",
    "\n",
    "\n",
    "class Music_Dataset(Dataset):\n",
    "    def __init__(self, csv_path, window_size, step_size):\n",
    "        \"\"\"\n",
    "        Args:\n",
    "            data_path (str): Path to the CSV file containing the chroma features and labels.\n",
    "            window_size (int): The length of each sequence (number of chroma features in a window).\n",
    "            step_size (int): The number of steps the window moves (controls overlap).\n",
    "        \"\"\"\n",
    "        self.data = pd.read_csv(csv_path)\n",
    "\n",
    "        # process csv file content\n",
    "        self.chroma_features = self.data.iloc[::-1].values\n",
    "        # apply smoothing\n",
    "        self.chroma_features = gaussian_smoothing(self.chroma_features, sigma=1)\n",
    "        self.labels = self.data.iloc[::-1].values\n",
    "\n",
    "        # parameters\n",
    "        self.window_size = window_size\n",
    "        self.step_size = step_size\n",
    "\n",
    "    def __len__(self):\n",
    "        # total number of windows spanning the dataset\n",
    "        return (len(self.chroma_features) - self.window_size) // self.step_size + 1\n",
    "\n",
    "    def __getitem(self, idx):\n",
    "        # find window start and end index\n",
    "        start_idx = idx * self.step_size\n",
    "        end_idx = start_idx + self.window_size\n",
    "        mid_idx = start_idx + (self.window_size // 2)\n",
    "\n",
    "        # get both the chroma features as well as the label\n",
    "        window_chroma = self.chroma_features[start_idx:end_idx]\n",
    "        window_label = self.labels[mid_idx]\n",
    "\n",
    "        # convert to tensors\n",
    "        window_chroma = torch.tensor(window_chroma, dtype=torch.float32)\n",
    "        window_label = torch.tensor(window_label, dtype=torch.long)\n",
    "\n",
    "        return window_chroma, window_label"
   ],
   "metadata": {
    "collapsed": false
   }
  },
  {
   "cell_type": "markdown",
   "source": [
    "Dataloader"
   ],
   "metadata": {
    "collapsed": false
   }
  },
  {
   "cell_type": "code",
   "execution_count": null,
   "outputs": [],
   "source": [],
   "metadata": {
    "collapsed": false
   }
  }
 ],
 "metadata": {
  "kernelspec": {
   "display_name": "Python 3",
   "language": "python",
   "name": "python3"
  },
  "language_info": {
   "codemirror_mode": {
    "name": "ipython",
    "version": 2
   },
   "file_extension": ".py",
   "mimetype": "text/x-python",
   "name": "python",
   "nbconvert_exporter": "python",
   "pygments_lexer": "ipython2",
   "version": "2.7.6"
  }
 },
 "nbformat": 4,
 "nbformat_minor": 0
}
